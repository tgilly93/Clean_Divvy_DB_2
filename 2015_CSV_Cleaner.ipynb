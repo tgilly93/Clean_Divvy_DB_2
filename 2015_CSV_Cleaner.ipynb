{
 "cells": [
  {
   "cell_type": "code",
   "execution_count": 1,
   "metadata": {},
   "outputs": [],
   "source": [
    "import pandas as pd\n",
    "import numpy as np"
   ]
  },
  {
   "cell_type": "code",
   "execution_count": 2,
   "metadata": {},
   "outputs": [],
   "source": [
    "df1 = pd.read_csv('/Users/terrygilmore/Desktop/Divvy_DB/Divvy_Stations_Trips_2015/Divvy_Trips_2015-Q1.csv')\n",
    "df2 = pd.read_csv('/Users/terrygilmore/Desktop/Divvy_DB/Divvy_Stations_Trips_2015/Divvy_Trips_2015-Q2.csv')\n",
    "df3 = pd.read_csv('/Users/terrygilmore/Desktop/Divvy_DB/Divvy_Stations_Trips_2015/Divvy_Trips_2015_07.csv')\n",
    "df4 = pd.read_csv('/Users/terrygilmore/Desktop/Divvy_DB/Divvy_Stations_Trips_2015/Divvy_Trips_2015_08.csv')\n",
    "df5 = pd.read_csv('/Users/terrygilmore/Desktop/Divvy_DB/Divvy_Stations_Trips_2015/Divvy_Trips_2015_09.csv')\n",
    "df6 = pd.read_csv('/Users/terrygilmore/Desktop/Divvy_DB/Divvy_Stations_Trips_2015/Divvy_Trips_2015_Q4.csv')\n",
    "df7 = pd.read_csv('/Users/terrygilmore/Desktop/Divvy_DB/Divvy_Stations_Trips_2015/Divvy_Stations_2015.csv')"
   ]
  },
  {
   "cell_type": "code",
   "execution_count": 3,
   "metadata": {},
   "outputs": [
    {
     "name": "stdout",
     "output_type": "stream",
     "text": [
      "<class 'pandas.core.frame.DataFrame'>\n",
      "RangeIndex: 202349 entries, 0 to 202348\n",
      "Data columns (total 12 columns):\n",
      " #   Column             Non-Null Count   Dtype  \n",
      "---  ------             --------------   -----  \n",
      " 0   trip_id            202349 non-null  int64  \n",
      " 1   starttime          202349 non-null  object \n",
      " 2   stoptime           202349 non-null  object \n",
      " 3   bikeid             202349 non-null  int64  \n",
      " 4   tripduration       202349 non-null  int64  \n",
      " 5   from_station_id    202349 non-null  int64  \n",
      " 6   from_station_name  202349 non-null  object \n",
      " 7   to_station_id      202349 non-null  int64  \n",
      " 8   to_station_name    202349 non-null  object \n",
      " 9   usertype           202349 non-null  object \n",
      " 10  gender             177858 non-null  object \n",
      " 11  birthyear          177858 non-null  float64\n",
      "dtypes: float64(1), int64(5), object(6)\n",
      "memory usage: 18.5+ MB\n"
     ]
    }
   ],
   "source": [
    "df1.info(verbose=True)"
   ]
  },
  {
   "cell_type": "code",
   "execution_count": 4,
   "metadata": {},
   "outputs": [],
   "source": [
    "df1[\"starttime\"] = pd.to_datetime(df1[\"starttime\"])\n",
    "df1[\"stoptime\"] = pd.to_datetime(df1[\"stoptime\"])"
   ]
  },
  {
   "cell_type": "code",
   "execution_count": 5,
   "metadata": {},
   "outputs": [],
   "source": [
    "df1.loc[df1['gender'].isnull(), 'gender'] = 'Unknown'\n",
    "df1.loc[df1['birthyear'].isnull(), 'birthyear'] = 0"
   ]
  },
  {
   "cell_type": "code",
   "execution_count": 6,
   "metadata": {},
   "outputs": [
    {
     "data": {
      "text/html": [
       "<div>\n",
       "<style scoped>\n",
       "    .dataframe tbody tr th:only-of-type {\n",
       "        vertical-align: middle;\n",
       "    }\n",
       "\n",
       "    .dataframe tbody tr th {\n",
       "        vertical-align: top;\n",
       "    }\n",
       "\n",
       "    .dataframe thead th {\n",
       "        text-align: right;\n",
       "    }\n",
       "</style>\n",
       "<table border=\"1\" class=\"dataframe\">\n",
       "  <thead>\n",
       "    <tr style=\"text-align: right;\">\n",
       "      <th></th>\n",
       "      <th>trip_id</th>\n",
       "      <th>starttime</th>\n",
       "      <th>stoptime</th>\n",
       "      <th>bikeid</th>\n",
       "      <th>tripduration</th>\n",
       "      <th>from_station_id</th>\n",
       "      <th>from_station_name</th>\n",
       "      <th>to_station_id</th>\n",
       "      <th>to_station_name</th>\n",
       "      <th>usertype</th>\n",
       "      <th>gender</th>\n",
       "      <th>birthyear</th>\n",
       "    </tr>\n",
       "  </thead>\n",
       "  <tbody>\n",
       "  </tbody>\n",
       "</table>\n",
       "</div>"
      ],
      "text/plain": [
       "Empty DataFrame\n",
       "Columns: [trip_id, starttime, stoptime, bikeid, tripduration, from_station_id, from_station_name, to_station_id, to_station_name, usertype, gender, birthyear]\n",
       "Index: []"
      ]
     },
     "execution_count": 6,
     "metadata": {},
     "output_type": "execute_result"
    }
   ],
   "source": [
    "df1.loc[df1['stoptime'].dt.year != 2015]"
   ]
  },
  {
   "cell_type": "code",
   "execution_count": 7,
   "metadata": {},
   "outputs": [
    {
     "data": {
      "text/html": [
       "<div>\n",
       "<style scoped>\n",
       "    .dataframe tbody tr th:only-of-type {\n",
       "        vertical-align: middle;\n",
       "    }\n",
       "\n",
       "    .dataframe tbody tr th {\n",
       "        vertical-align: top;\n",
       "    }\n",
       "\n",
       "    .dataframe thead th {\n",
       "        text-align: right;\n",
       "    }\n",
       "</style>\n",
       "<table border=\"1\" class=\"dataframe\">\n",
       "  <thead>\n",
       "    <tr style=\"text-align: right;\">\n",
       "      <th></th>\n",
       "      <th>trip_id</th>\n",
       "      <th>starttime</th>\n",
       "      <th>stoptime</th>\n",
       "      <th>bikeid</th>\n",
       "      <th>tripduration</th>\n",
       "      <th>from_station_id</th>\n",
       "      <th>from_station_name</th>\n",
       "      <th>to_station_id</th>\n",
       "      <th>to_station_name</th>\n",
       "      <th>usertype</th>\n",
       "      <th>gender</th>\n",
       "      <th>birthyear</th>\n",
       "    </tr>\n",
       "  </thead>\n",
       "  <tbody>\n",
       "  </tbody>\n",
       "</table>\n",
       "</div>"
      ],
      "text/plain": [
       "Empty DataFrame\n",
       "Columns: [trip_id, starttime, stoptime, bikeid, tripduration, from_station_id, from_station_name, to_station_id, to_station_name, usertype, gender, birthyear]\n",
       "Index: []"
      ]
     },
     "execution_count": 7,
     "metadata": {},
     "output_type": "execute_result"
    }
   ],
   "source": [
    "df1.loc[df1['starttime'].dt.year != 2015]"
   ]
  },
  {
   "cell_type": "code",
   "execution_count": 8,
   "metadata": {},
   "outputs": [
    {
     "name": "stdout",
     "output_type": "stream",
     "text": [
      "<class 'pandas.core.frame.DataFrame'>\n",
      "RangeIndex: 202349 entries, 0 to 202348\n",
      "Data columns (total 12 columns):\n",
      " #   Column             Non-Null Count   Dtype         \n",
      "---  ------             --------------   -----         \n",
      " 0   trip_id            202349 non-null  int64         \n",
      " 1   starttime          202349 non-null  datetime64[ns]\n",
      " 2   stoptime           202349 non-null  datetime64[ns]\n",
      " 3   bikeid             202349 non-null  int64         \n",
      " 4   tripduration       202349 non-null  int64         \n",
      " 5   from_station_id    202349 non-null  int64         \n",
      " 6   from_station_name  202349 non-null  object        \n",
      " 7   to_station_id      202349 non-null  int64         \n",
      " 8   to_station_name    202349 non-null  object        \n",
      " 9   usertype           202349 non-null  object        \n",
      " 10  gender             202349 non-null  object        \n",
      " 11  birthyear          202349 non-null  float64       \n",
      "dtypes: datetime64[ns](2), float64(1), int64(5), object(4)\n",
      "memory usage: 18.5+ MB\n"
     ]
    }
   ],
   "source": [
    "df1.info(verbose=True)"
   ]
  },
  {
   "cell_type": "code",
   "execution_count": 9,
   "metadata": {},
   "outputs": [
    {
     "name": "stdout",
     "output_type": "stream",
     "text": [
      "<class 'pandas.core.frame.DataFrame'>\n",
      "RangeIndex: 893890 entries, 0 to 893889\n",
      "Data columns (total 12 columns):\n",
      " #   Column             Non-Null Count   Dtype  \n",
      "---  ------             --------------   -----  \n",
      " 0   trip_id            893890 non-null  int64  \n",
      " 1   starttime          893890 non-null  object \n",
      " 2   stoptime           893890 non-null  object \n",
      " 3   bikeid             893890 non-null  int64  \n",
      " 4   tripduration       893890 non-null  int64  \n",
      " 5   from_station_id    893890 non-null  int64  \n",
      " 6   from_station_name  893890 non-null  object \n",
      " 7   to_station_id      893890 non-null  int64  \n",
      " 8   to_station_name    893890 non-null  object \n",
      " 9   usertype           893890 non-null  object \n",
      " 10  gender             592553 non-null  object \n",
      " 11  birthyear          592565 non-null  float64\n",
      "dtypes: float64(1), int64(5), object(6)\n",
      "memory usage: 81.8+ MB\n"
     ]
    }
   ],
   "source": [
    "df2.info(verbose=True)"
   ]
  },
  {
   "cell_type": "code",
   "execution_count": 10,
   "metadata": {},
   "outputs": [],
   "source": [
    "df2[\"starttime\"] = pd.to_datetime(df2[\"starttime\"])\n",
    "df2[\"stoptime\"] = pd.to_datetime(df2[\"stoptime\"])"
   ]
  },
  {
   "cell_type": "code",
   "execution_count": 11,
   "metadata": {},
   "outputs": [],
   "source": [
    "df2.loc[df2['gender'].isnull(), 'gender'] = 'Unknown'\n",
    "df2.loc[df2['birthyear'].isnull(), 'birthyear'] = 0"
   ]
  },
  {
   "cell_type": "code",
   "execution_count": 12,
   "metadata": {},
   "outputs": [
    {
     "data": {
      "text/html": [
       "<div>\n",
       "<style scoped>\n",
       "    .dataframe tbody tr th:only-of-type {\n",
       "        vertical-align: middle;\n",
       "    }\n",
       "\n",
       "    .dataframe tbody tr th {\n",
       "        vertical-align: top;\n",
       "    }\n",
       "\n",
       "    .dataframe thead th {\n",
       "        text-align: right;\n",
       "    }\n",
       "</style>\n",
       "<table border=\"1\" class=\"dataframe\">\n",
       "  <thead>\n",
       "    <tr style=\"text-align: right;\">\n",
       "      <th></th>\n",
       "      <th>trip_id</th>\n",
       "      <th>starttime</th>\n",
       "      <th>stoptime</th>\n",
       "      <th>bikeid</th>\n",
       "      <th>tripduration</th>\n",
       "      <th>from_station_id</th>\n",
       "      <th>from_station_name</th>\n",
       "      <th>to_station_id</th>\n",
       "      <th>to_station_name</th>\n",
       "      <th>usertype</th>\n",
       "      <th>gender</th>\n",
       "      <th>birthyear</th>\n",
       "    </tr>\n",
       "  </thead>\n",
       "  <tbody>\n",
       "  </tbody>\n",
       "</table>\n",
       "</div>"
      ],
      "text/plain": [
       "Empty DataFrame\n",
       "Columns: [trip_id, starttime, stoptime, bikeid, tripduration, from_station_id, from_station_name, to_station_id, to_station_name, usertype, gender, birthyear]\n",
       "Index: []"
      ]
     },
     "execution_count": 12,
     "metadata": {},
     "output_type": "execute_result"
    }
   ],
   "source": [
    "df2.loc[df2['stoptime'].dt.year != 2015]"
   ]
  },
  {
   "cell_type": "code",
   "execution_count": 13,
   "metadata": {},
   "outputs": [
    {
     "data": {
      "text/html": [
       "<div>\n",
       "<style scoped>\n",
       "    .dataframe tbody tr th:only-of-type {\n",
       "        vertical-align: middle;\n",
       "    }\n",
       "\n",
       "    .dataframe tbody tr th {\n",
       "        vertical-align: top;\n",
       "    }\n",
       "\n",
       "    .dataframe thead th {\n",
       "        text-align: right;\n",
       "    }\n",
       "</style>\n",
       "<table border=\"1\" class=\"dataframe\">\n",
       "  <thead>\n",
       "    <tr style=\"text-align: right;\">\n",
       "      <th></th>\n",
       "      <th>trip_id</th>\n",
       "      <th>starttime</th>\n",
       "      <th>stoptime</th>\n",
       "      <th>bikeid</th>\n",
       "      <th>tripduration</th>\n",
       "      <th>from_station_id</th>\n",
       "      <th>from_station_name</th>\n",
       "      <th>to_station_id</th>\n",
       "      <th>to_station_name</th>\n",
       "      <th>usertype</th>\n",
       "      <th>gender</th>\n",
       "      <th>birthyear</th>\n",
       "    </tr>\n",
       "  </thead>\n",
       "  <tbody>\n",
       "  </tbody>\n",
       "</table>\n",
       "</div>"
      ],
      "text/plain": [
       "Empty DataFrame\n",
       "Columns: [trip_id, starttime, stoptime, bikeid, tripduration, from_station_id, from_station_name, to_station_id, to_station_name, usertype, gender, birthyear]\n",
       "Index: []"
      ]
     },
     "execution_count": 13,
     "metadata": {},
     "output_type": "execute_result"
    }
   ],
   "source": [
    "df2.loc[df2['starttime'].dt.year != 2015]"
   ]
  },
  {
   "cell_type": "code",
   "execution_count": 14,
   "metadata": {},
   "outputs": [
    {
     "name": "stdout",
     "output_type": "stream",
     "text": [
      "<class 'pandas.core.frame.DataFrame'>\n",
      "RangeIndex: 893890 entries, 0 to 893889\n",
      "Data columns (total 12 columns):\n",
      " #   Column             Non-Null Count   Dtype         \n",
      "---  ------             --------------   -----         \n",
      " 0   trip_id            893890 non-null  int64         \n",
      " 1   starttime          893890 non-null  datetime64[ns]\n",
      " 2   stoptime           893890 non-null  datetime64[ns]\n",
      " 3   bikeid             893890 non-null  int64         \n",
      " 4   tripduration       893890 non-null  int64         \n",
      " 5   from_station_id    893890 non-null  int64         \n",
      " 6   from_station_name  893890 non-null  object        \n",
      " 7   to_station_id      893890 non-null  int64         \n",
      " 8   to_station_name    893890 non-null  object        \n",
      " 9   usertype           893890 non-null  object        \n",
      " 10  gender             893890 non-null  object        \n",
      " 11  birthyear          893890 non-null  float64       \n",
      "dtypes: datetime64[ns](2), float64(1), int64(5), object(4)\n",
      "memory usage: 81.8+ MB\n"
     ]
    }
   ],
   "source": [
    "df2.info(verbose=True)"
   ]
  },
  {
   "cell_type": "code",
   "execution_count": 15,
   "metadata": {},
   "outputs": [
    {
     "name": "stdout",
     "output_type": "stream",
     "text": [
      "<class 'pandas.core.frame.DataFrame'>\n",
      "RangeIndex: 533711 entries, 0 to 533710\n",
      "Data columns (total 12 columns):\n",
      " #   Column             Non-Null Count   Dtype  \n",
      "---  ------             --------------   -----  \n",
      " 0   trip_id            533711 non-null  int64  \n",
      " 1   starttime          533711 non-null  object \n",
      " 2   stoptime           533711 non-null  object \n",
      " 3   bikeid             533711 non-null  int64  \n",
      " 4   tripduration       533711 non-null  int64  \n",
      " 5   from_station_id    533711 non-null  int64  \n",
      " 6   from_station_name  533711 non-null  object \n",
      " 7   to_station_id      533711 non-null  int64  \n",
      " 8   to_station_name    533711 non-null  object \n",
      " 9   usertype           533711 non-null  object \n",
      " 10  gender             315629 non-null  object \n",
      " 11  birthyear          315631 non-null  float64\n",
      "dtypes: float64(1), int64(5), object(6)\n",
      "memory usage: 48.9+ MB\n"
     ]
    }
   ],
   "source": [
    "df3.info(verbose=True)"
   ]
  },
  {
   "cell_type": "code",
   "execution_count": 16,
   "metadata": {},
   "outputs": [],
   "source": [
    "df3[\"starttime\"] = pd.to_datetime(df3[\"starttime\"])\n",
    "df3[\"stoptime\"] = pd.to_datetime(df3[\"stoptime\"])"
   ]
  },
  {
   "cell_type": "code",
   "execution_count": 17,
   "metadata": {},
   "outputs": [],
   "source": [
    "df3.loc[df3['gender'].isnull(), 'gender'] = 'Unknown'\n",
    "df3.loc[df3['birthyear'].isnull(), 'birthyear'] = 0"
   ]
  },
  {
   "cell_type": "code",
   "execution_count": 18,
   "metadata": {},
   "outputs": [
    {
     "data": {
      "text/html": [
       "<div>\n",
       "<style scoped>\n",
       "    .dataframe tbody tr th:only-of-type {\n",
       "        vertical-align: middle;\n",
       "    }\n",
       "\n",
       "    .dataframe tbody tr th {\n",
       "        vertical-align: top;\n",
       "    }\n",
       "\n",
       "    .dataframe thead th {\n",
       "        text-align: right;\n",
       "    }\n",
       "</style>\n",
       "<table border=\"1\" class=\"dataframe\">\n",
       "  <thead>\n",
       "    <tr style=\"text-align: right;\">\n",
       "      <th></th>\n",
       "      <th>trip_id</th>\n",
       "      <th>starttime</th>\n",
       "      <th>stoptime</th>\n",
       "      <th>bikeid</th>\n",
       "      <th>tripduration</th>\n",
       "      <th>from_station_id</th>\n",
       "      <th>from_station_name</th>\n",
       "      <th>to_station_id</th>\n",
       "      <th>to_station_name</th>\n",
       "      <th>usertype</th>\n",
       "      <th>gender</th>\n",
       "      <th>birthyear</th>\n",
       "    </tr>\n",
       "  </thead>\n",
       "  <tbody>\n",
       "  </tbody>\n",
       "</table>\n",
       "</div>"
      ],
      "text/plain": [
       "Empty DataFrame\n",
       "Columns: [trip_id, starttime, stoptime, bikeid, tripduration, from_station_id, from_station_name, to_station_id, to_station_name, usertype, gender, birthyear]\n",
       "Index: []"
      ]
     },
     "execution_count": 18,
     "metadata": {},
     "output_type": "execute_result"
    }
   ],
   "source": [
    "df3.loc[df3['stoptime'].dt.year != 2015]"
   ]
  },
  {
   "cell_type": "code",
   "execution_count": 19,
   "metadata": {},
   "outputs": [
    {
     "data": {
      "text/html": [
       "<div>\n",
       "<style scoped>\n",
       "    .dataframe tbody tr th:only-of-type {\n",
       "        vertical-align: middle;\n",
       "    }\n",
       "\n",
       "    .dataframe tbody tr th {\n",
       "        vertical-align: top;\n",
       "    }\n",
       "\n",
       "    .dataframe thead th {\n",
       "        text-align: right;\n",
       "    }\n",
       "</style>\n",
       "<table border=\"1\" class=\"dataframe\">\n",
       "  <thead>\n",
       "    <tr style=\"text-align: right;\">\n",
       "      <th></th>\n",
       "      <th>trip_id</th>\n",
       "      <th>starttime</th>\n",
       "      <th>stoptime</th>\n",
       "      <th>bikeid</th>\n",
       "      <th>tripduration</th>\n",
       "      <th>from_station_id</th>\n",
       "      <th>from_station_name</th>\n",
       "      <th>to_station_id</th>\n",
       "      <th>to_station_name</th>\n",
       "      <th>usertype</th>\n",
       "      <th>gender</th>\n",
       "      <th>birthyear</th>\n",
       "    </tr>\n",
       "  </thead>\n",
       "  <tbody>\n",
       "  </tbody>\n",
       "</table>\n",
       "</div>"
      ],
      "text/plain": [
       "Empty DataFrame\n",
       "Columns: [trip_id, starttime, stoptime, bikeid, tripduration, from_station_id, from_station_name, to_station_id, to_station_name, usertype, gender, birthyear]\n",
       "Index: []"
      ]
     },
     "execution_count": 19,
     "metadata": {},
     "output_type": "execute_result"
    }
   ],
   "source": [
    "df3.loc[df3['starttime'].dt.year != 2015]"
   ]
  },
  {
   "cell_type": "code",
   "execution_count": 20,
   "metadata": {},
   "outputs": [
    {
     "name": "stdout",
     "output_type": "stream",
     "text": [
      "<class 'pandas.core.frame.DataFrame'>\n",
      "RangeIndex: 533711 entries, 0 to 533710\n",
      "Data columns (total 12 columns):\n",
      " #   Column             Non-Null Count   Dtype         \n",
      "---  ------             --------------   -----         \n",
      " 0   trip_id            533711 non-null  int64         \n",
      " 1   starttime          533711 non-null  datetime64[ns]\n",
      " 2   stoptime           533711 non-null  datetime64[ns]\n",
      " 3   bikeid             533711 non-null  int64         \n",
      " 4   tripduration       533711 non-null  int64         \n",
      " 5   from_station_id    533711 non-null  int64         \n",
      " 6   from_station_name  533711 non-null  object        \n",
      " 7   to_station_id      533711 non-null  int64         \n",
      " 8   to_station_name    533711 non-null  object        \n",
      " 9   usertype           533711 non-null  object        \n",
      " 10  gender             533711 non-null  object        \n",
      " 11  birthyear          533711 non-null  float64       \n",
      "dtypes: datetime64[ns](2), float64(1), int64(5), object(4)\n",
      "memory usage: 48.9+ MB\n"
     ]
    }
   ],
   "source": [
    "df3.info(verbose=True)"
   ]
  },
  {
   "cell_type": "code",
   "execution_count": 21,
   "metadata": {},
   "outputs": [
    {
     "name": "stdout",
     "output_type": "stream",
     "text": [
      "<class 'pandas.core.frame.DataFrame'>\n",
      "RangeIndex: 495029 entries, 0 to 495028\n",
      "Data columns (total 12 columns):\n",
      " #   Column             Non-Null Count   Dtype  \n",
      "---  ------             --------------   -----  \n",
      " 0   trip_id            495029 non-null  int64  \n",
      " 1   starttime          495029 non-null  object \n",
      " 2   stoptime           495029 non-null  object \n",
      " 3   bikeid             495029 non-null  int64  \n",
      " 4   tripduration       495029 non-null  int64  \n",
      " 5   from_station_id    495029 non-null  int64  \n",
      " 6   from_station_name  495029 non-null  object \n",
      " 7   to_station_id      495029 non-null  int64  \n",
      " 8   to_station_name    495029 non-null  object \n",
      " 9   usertype           495029 non-null  object \n",
      " 10  gender             328940 non-null  object \n",
      " 11  birthyear          328957 non-null  float64\n",
      "dtypes: float64(1), int64(5), object(6)\n",
      "memory usage: 45.3+ MB\n"
     ]
    }
   ],
   "source": [
    "df4.info(verbose=True)"
   ]
  },
  {
   "cell_type": "code",
   "execution_count": 22,
   "metadata": {},
   "outputs": [],
   "source": [
    "df4[\"starttime\"] = pd.to_datetime(df4[\"starttime\"])\n",
    "df4[\"stoptime\"] = pd.to_datetime(df4[\"stoptime\"])"
   ]
  },
  {
   "cell_type": "code",
   "execution_count": 23,
   "metadata": {},
   "outputs": [],
   "source": [
    "df4.loc[df4['gender'].isnull(), 'gender'] = 'Unknown'\n",
    "df4.loc[df4['birthyear'].isnull(), 'birthyear'] = 0"
   ]
  },
  {
   "cell_type": "code",
   "execution_count": 24,
   "metadata": {},
   "outputs": [
    {
     "data": {
      "text/html": [
       "<div>\n",
       "<style scoped>\n",
       "    .dataframe tbody tr th:only-of-type {\n",
       "        vertical-align: middle;\n",
       "    }\n",
       "\n",
       "    .dataframe tbody tr th {\n",
       "        vertical-align: top;\n",
       "    }\n",
       "\n",
       "    .dataframe thead th {\n",
       "        text-align: right;\n",
       "    }\n",
       "</style>\n",
       "<table border=\"1\" class=\"dataframe\">\n",
       "  <thead>\n",
       "    <tr style=\"text-align: right;\">\n",
       "      <th></th>\n",
       "      <th>trip_id</th>\n",
       "      <th>starttime</th>\n",
       "      <th>stoptime</th>\n",
       "      <th>bikeid</th>\n",
       "      <th>tripduration</th>\n",
       "      <th>from_station_id</th>\n",
       "      <th>from_station_name</th>\n",
       "      <th>to_station_id</th>\n",
       "      <th>to_station_name</th>\n",
       "      <th>usertype</th>\n",
       "      <th>gender</th>\n",
       "      <th>birthyear</th>\n",
       "    </tr>\n",
       "  </thead>\n",
       "  <tbody>\n",
       "  </tbody>\n",
       "</table>\n",
       "</div>"
      ],
      "text/plain": [
       "Empty DataFrame\n",
       "Columns: [trip_id, starttime, stoptime, bikeid, tripduration, from_station_id, from_station_name, to_station_id, to_station_name, usertype, gender, birthyear]\n",
       "Index: []"
      ]
     },
     "execution_count": 24,
     "metadata": {},
     "output_type": "execute_result"
    }
   ],
   "source": [
    "df4.loc[df4['stoptime'].dt.year != 2015]"
   ]
  },
  {
   "cell_type": "code",
   "execution_count": 25,
   "metadata": {},
   "outputs": [
    {
     "data": {
      "text/html": [
       "<div>\n",
       "<style scoped>\n",
       "    .dataframe tbody tr th:only-of-type {\n",
       "        vertical-align: middle;\n",
       "    }\n",
       "\n",
       "    .dataframe tbody tr th {\n",
       "        vertical-align: top;\n",
       "    }\n",
       "\n",
       "    .dataframe thead th {\n",
       "        text-align: right;\n",
       "    }\n",
       "</style>\n",
       "<table border=\"1\" class=\"dataframe\">\n",
       "  <thead>\n",
       "    <tr style=\"text-align: right;\">\n",
       "      <th></th>\n",
       "      <th>trip_id</th>\n",
       "      <th>starttime</th>\n",
       "      <th>stoptime</th>\n",
       "      <th>bikeid</th>\n",
       "      <th>tripduration</th>\n",
       "      <th>from_station_id</th>\n",
       "      <th>from_station_name</th>\n",
       "      <th>to_station_id</th>\n",
       "      <th>to_station_name</th>\n",
       "      <th>usertype</th>\n",
       "      <th>gender</th>\n",
       "      <th>birthyear</th>\n",
       "    </tr>\n",
       "  </thead>\n",
       "  <tbody>\n",
       "  </tbody>\n",
       "</table>\n",
       "</div>"
      ],
      "text/plain": [
       "Empty DataFrame\n",
       "Columns: [trip_id, starttime, stoptime, bikeid, tripduration, from_station_id, from_station_name, to_station_id, to_station_name, usertype, gender, birthyear]\n",
       "Index: []"
      ]
     },
     "execution_count": 25,
     "metadata": {},
     "output_type": "execute_result"
    }
   ],
   "source": [
    "df4.loc[df4['starttime'].dt.year != 2015]"
   ]
  },
  {
   "cell_type": "code",
   "execution_count": 26,
   "metadata": {},
   "outputs": [
    {
     "name": "stdout",
     "output_type": "stream",
     "text": [
      "<class 'pandas.core.frame.DataFrame'>\n",
      "RangeIndex: 495029 entries, 0 to 495028\n",
      "Data columns (total 12 columns):\n",
      " #   Column             Non-Null Count   Dtype         \n",
      "---  ------             --------------   -----         \n",
      " 0   trip_id            495029 non-null  int64         \n",
      " 1   starttime          495029 non-null  datetime64[ns]\n",
      " 2   stoptime           495029 non-null  datetime64[ns]\n",
      " 3   bikeid             495029 non-null  int64         \n",
      " 4   tripduration       495029 non-null  int64         \n",
      " 5   from_station_id    495029 non-null  int64         \n",
      " 6   from_station_name  495029 non-null  object        \n",
      " 7   to_station_id      495029 non-null  int64         \n",
      " 8   to_station_name    495029 non-null  object        \n",
      " 9   usertype           495029 non-null  object        \n",
      " 10  gender             495029 non-null  object        \n",
      " 11  birthyear          495029 non-null  float64       \n",
      "dtypes: datetime64[ns](2), float64(1), int64(5), object(4)\n",
      "memory usage: 45.3+ MB\n"
     ]
    }
   ],
   "source": [
    "df4.info(verbose=True)"
   ]
  },
  {
   "cell_type": "code",
   "execution_count": 27,
   "metadata": {},
   "outputs": [
    {
     "name": "stdout",
     "output_type": "stream",
     "text": [
      "<class 'pandas.core.frame.DataFrame'>\n",
      "RangeIndex: 427095 entries, 0 to 427094\n",
      "Data columns (total 12 columns):\n",
      " #   Column             Non-Null Count   Dtype  \n",
      "---  ------             --------------   -----  \n",
      " 0   trip_id            427095 non-null  int64  \n",
      " 1   starttime          427095 non-null  object \n",
      " 2   stoptime           427095 non-null  object \n",
      " 3   bikeid             427095 non-null  int64  \n",
      " 4   tripduration       427095 non-null  int64  \n",
      " 5   from_station_id    427095 non-null  int64  \n",
      " 6   from_station_name  427095 non-null  object \n",
      " 7   to_station_id      427095 non-null  int64  \n",
      " 8   to_station_name    427095 non-null  object \n",
      " 9   usertype           427095 non-null  object \n",
      " 10  gender             299532 non-null  object \n",
      " 11  birthyear          299561 non-null  float64\n",
      "dtypes: float64(1), int64(5), object(6)\n",
      "memory usage: 39.1+ MB\n"
     ]
    }
   ],
   "source": [
    "df5.info(verbose=True)"
   ]
  },
  {
   "cell_type": "code",
   "execution_count": 28,
   "metadata": {},
   "outputs": [],
   "source": [
    "df5[\"starttime\"] = pd.to_datetime(df5[\"starttime\"])\n",
    "df5[\"stoptime\"] = pd.to_datetime(df5[\"stoptime\"])"
   ]
  },
  {
   "cell_type": "code",
   "execution_count": 29,
   "metadata": {},
   "outputs": [],
   "source": [
    "df5.loc[df5['gender'].isnull(), 'gender'] = 'Unknown'\n",
    "df5.loc[df5['birthyear'].isnull(), 'birthyear'] = 0"
   ]
  },
  {
   "cell_type": "code",
   "execution_count": 30,
   "metadata": {},
   "outputs": [
    {
     "data": {
      "text/html": [
       "<div>\n",
       "<style scoped>\n",
       "    .dataframe tbody tr th:only-of-type {\n",
       "        vertical-align: middle;\n",
       "    }\n",
       "\n",
       "    .dataframe tbody tr th {\n",
       "        vertical-align: top;\n",
       "    }\n",
       "\n",
       "    .dataframe thead th {\n",
       "        text-align: right;\n",
       "    }\n",
       "</style>\n",
       "<table border=\"1\" class=\"dataframe\">\n",
       "  <thead>\n",
       "    <tr style=\"text-align: right;\">\n",
       "      <th></th>\n",
       "      <th>trip_id</th>\n",
       "      <th>starttime</th>\n",
       "      <th>stoptime</th>\n",
       "      <th>bikeid</th>\n",
       "      <th>tripduration</th>\n",
       "      <th>from_station_id</th>\n",
       "      <th>from_station_name</th>\n",
       "      <th>to_station_id</th>\n",
       "      <th>to_station_name</th>\n",
       "      <th>usertype</th>\n",
       "      <th>gender</th>\n",
       "      <th>birthyear</th>\n",
       "    </tr>\n",
       "  </thead>\n",
       "  <tbody>\n",
       "  </tbody>\n",
       "</table>\n",
       "</div>"
      ],
      "text/plain": [
       "Empty DataFrame\n",
       "Columns: [trip_id, starttime, stoptime, bikeid, tripduration, from_station_id, from_station_name, to_station_id, to_station_name, usertype, gender, birthyear]\n",
       "Index: []"
      ]
     },
     "execution_count": 30,
     "metadata": {},
     "output_type": "execute_result"
    }
   ],
   "source": [
    "df5.loc[df5['stoptime'].dt.year != 2015]"
   ]
  },
  {
   "cell_type": "code",
   "execution_count": 31,
   "metadata": {},
   "outputs": [
    {
     "data": {
      "text/html": [
       "<div>\n",
       "<style scoped>\n",
       "    .dataframe tbody tr th:only-of-type {\n",
       "        vertical-align: middle;\n",
       "    }\n",
       "\n",
       "    .dataframe tbody tr th {\n",
       "        vertical-align: top;\n",
       "    }\n",
       "\n",
       "    .dataframe thead th {\n",
       "        text-align: right;\n",
       "    }\n",
       "</style>\n",
       "<table border=\"1\" class=\"dataframe\">\n",
       "  <thead>\n",
       "    <tr style=\"text-align: right;\">\n",
       "      <th></th>\n",
       "      <th>trip_id</th>\n",
       "      <th>starttime</th>\n",
       "      <th>stoptime</th>\n",
       "      <th>bikeid</th>\n",
       "      <th>tripduration</th>\n",
       "      <th>from_station_id</th>\n",
       "      <th>from_station_name</th>\n",
       "      <th>to_station_id</th>\n",
       "      <th>to_station_name</th>\n",
       "      <th>usertype</th>\n",
       "      <th>gender</th>\n",
       "      <th>birthyear</th>\n",
       "    </tr>\n",
       "  </thead>\n",
       "  <tbody>\n",
       "  </tbody>\n",
       "</table>\n",
       "</div>"
      ],
      "text/plain": [
       "Empty DataFrame\n",
       "Columns: [trip_id, starttime, stoptime, bikeid, tripduration, from_station_id, from_station_name, to_station_id, to_station_name, usertype, gender, birthyear]\n",
       "Index: []"
      ]
     },
     "execution_count": 31,
     "metadata": {},
     "output_type": "execute_result"
    }
   ],
   "source": [
    "df5.loc[df5['starttime'].dt.year != 2015]"
   ]
  },
  {
   "cell_type": "code",
   "execution_count": 32,
   "metadata": {},
   "outputs": [
    {
     "name": "stdout",
     "output_type": "stream",
     "text": [
      "<class 'pandas.core.frame.DataFrame'>\n",
      "RangeIndex: 427095 entries, 0 to 427094\n",
      "Data columns (total 12 columns):\n",
      " #   Column             Non-Null Count   Dtype         \n",
      "---  ------             --------------   -----         \n",
      " 0   trip_id            427095 non-null  int64         \n",
      " 1   starttime          427095 non-null  datetime64[ns]\n",
      " 2   stoptime           427095 non-null  datetime64[ns]\n",
      " 3   bikeid             427095 non-null  int64         \n",
      " 4   tripduration       427095 non-null  int64         \n",
      " 5   from_station_id    427095 non-null  int64         \n",
      " 6   from_station_name  427095 non-null  object        \n",
      " 7   to_station_id      427095 non-null  int64         \n",
      " 8   to_station_name    427095 non-null  object        \n",
      " 9   usertype           427095 non-null  object        \n",
      " 10  gender             427095 non-null  object        \n",
      " 11  birthyear          427095 non-null  float64       \n",
      "dtypes: datetime64[ns](2), float64(1), int64(5), object(4)\n",
      "memory usage: 39.1+ MB\n"
     ]
    }
   ],
   "source": [
    "df5.info(verbose=True)"
   ]
  },
  {
   "cell_type": "code",
   "execution_count": 33,
   "metadata": {},
   "outputs": [
    {
     "name": "stdout",
     "output_type": "stream",
     "text": [
      "<class 'pandas.core.frame.DataFrame'>\n",
      "RangeIndex: 631365 entries, 0 to 631364\n",
      "Data columns (total 12 columns):\n",
      " #   Column             Non-Null Count   Dtype  \n",
      "---  ------             --------------   -----  \n",
      " 0   trip_id            631365 non-null  int64  \n",
      " 1   starttime          631365 non-null  object \n",
      " 2   stoptime           631365 non-null  object \n",
      " 3   bikeid             631365 non-null  int64  \n",
      " 4   tripduration       631365 non-null  int64  \n",
      " 5   from_station_id    631365 non-null  int64  \n",
      " 6   from_station_name  631365 non-null  object \n",
      " 7   to_station_id      631365 non-null  int64  \n",
      " 8   to_station_name    631365 non-null  object \n",
      " 9   usertype           631365 non-null  object \n",
      " 10  gender             538956 non-null  object \n",
      " 11  birthyear          539012 non-null  float64\n",
      "dtypes: float64(1), int64(5), object(6)\n",
      "memory usage: 57.8+ MB\n"
     ]
    }
   ],
   "source": [
    "df6.info(verbose=True)"
   ]
  },
  {
   "cell_type": "code",
   "execution_count": 34,
   "metadata": {},
   "outputs": [],
   "source": [
    "df6[\"starttime\"] = pd.to_datetime(df6[\"starttime\"])\n",
    "df6[\"stoptime\"] = pd.to_datetime(df6[\"stoptime\"])"
   ]
  },
  {
   "cell_type": "code",
   "execution_count": 35,
   "metadata": {},
   "outputs": [],
   "source": [
    "df6.loc[df6['gender'].isnull(), 'gender'] = 'Unknown'\n",
    "df6.loc[df6['birthyear'].isnull(), 'birthyear'] = 0"
   ]
  },
  {
   "cell_type": "code",
   "execution_count": 36,
   "metadata": {},
   "outputs": [
    {
     "data": {
      "text/html": [
       "<div>\n",
       "<style scoped>\n",
       "    .dataframe tbody tr th:only-of-type {\n",
       "        vertical-align: middle;\n",
       "    }\n",
       "\n",
       "    .dataframe tbody tr th {\n",
       "        vertical-align: top;\n",
       "    }\n",
       "\n",
       "    .dataframe thead th {\n",
       "        text-align: right;\n",
       "    }\n",
       "</style>\n",
       "<table border=\"1\" class=\"dataframe\">\n",
       "  <thead>\n",
       "    <tr style=\"text-align: right;\">\n",
       "      <th></th>\n",
       "      <th>trip_id</th>\n",
       "      <th>starttime</th>\n",
       "      <th>stoptime</th>\n",
       "      <th>bikeid</th>\n",
       "      <th>tripduration</th>\n",
       "      <th>from_station_id</th>\n",
       "      <th>from_station_name</th>\n",
       "      <th>to_station_id</th>\n",
       "      <th>to_station_name</th>\n",
       "      <th>usertype</th>\n",
       "      <th>gender</th>\n",
       "      <th>birthyear</th>\n",
       "    </tr>\n",
       "  </thead>\n",
       "  <tbody>\n",
       "    <tr>\n",
       "      <th>3</th>\n",
       "      <td>8547205</td>\n",
       "      <td>2015-12-31 23:37:00</td>\n",
       "      <td>2016-01-01 00:02:00</td>\n",
       "      <td>707</td>\n",
       "      <td>1513</td>\n",
       "      <td>454</td>\n",
       "      <td>Broadway &amp; Granville Ave</td>\n",
       "      <td>303</td>\n",
       "      <td>Broadway &amp; Cornelia Ave</td>\n",
       "      <td>Subscriber</td>\n",
       "      <td>Female</td>\n",
       "      <td>1967.0</td>\n",
       "    </tr>\n",
       "    <tr>\n",
       "      <th>131</th>\n",
       "      <td>8547008</td>\n",
       "      <td>2015-12-31 19:13:00</td>\n",
       "      <td>2016-01-01 01:34:00</td>\n",
       "      <td>1649</td>\n",
       "      <td>22850</td>\n",
       "      <td>144</td>\n",
       "      <td>Larrabee St &amp; Webster Ave</td>\n",
       "      <td>253</td>\n",
       "      <td>Clifton Ave &amp; Lawrence Ave</td>\n",
       "      <td>Subscriber</td>\n",
       "      <td>Male</td>\n",
       "      <td>1960.0</td>\n",
       "    </tr>\n",
       "    <tr>\n",
       "      <th>168</th>\n",
       "      <td>8546946</td>\n",
       "      <td>2015-12-31 18:46:00</td>\n",
       "      <td>2016-01-01 00:49:00</td>\n",
       "      <td>868</td>\n",
       "      <td>21812</td>\n",
       "      <td>231</td>\n",
       "      <td>Sheridan Rd &amp; Montrose Ave</td>\n",
       "      <td>253</td>\n",
       "      <td>Clifton Ave &amp; Lawrence Ave</td>\n",
       "      <td>Subscriber</td>\n",
       "      <td>Male</td>\n",
       "      <td>1979.0</td>\n",
       "    </tr>\n",
       "  </tbody>\n",
       "</table>\n",
       "</div>"
      ],
      "text/plain": [
       "     trip_id           starttime            stoptime  bikeid  tripduration  \\\n",
       "3    8547205 2015-12-31 23:37:00 2016-01-01 00:02:00     707          1513   \n",
       "131  8547008 2015-12-31 19:13:00 2016-01-01 01:34:00    1649         22850   \n",
       "168  8546946 2015-12-31 18:46:00 2016-01-01 00:49:00     868         21812   \n",
       "\n",
       "     from_station_id           from_station_name  to_station_id  \\\n",
       "3                454    Broadway & Granville Ave            303   \n",
       "131              144   Larrabee St & Webster Ave            253   \n",
       "168              231  Sheridan Rd & Montrose Ave            253   \n",
       "\n",
       "                to_station_name    usertype  gender  birthyear  \n",
       "3       Broadway & Cornelia Ave  Subscriber  Female     1967.0  \n",
       "131  Clifton Ave & Lawrence Ave  Subscriber    Male     1960.0  \n",
       "168  Clifton Ave & Lawrence Ave  Subscriber    Male     1979.0  "
      ]
     },
     "execution_count": 36,
     "metadata": {},
     "output_type": "execute_result"
    }
   ],
   "source": [
    "df6.loc[df6['stoptime'].dt.year != 2015]"
   ]
  },
  {
   "cell_type": "code",
   "execution_count": 37,
   "metadata": {},
   "outputs": [],
   "source": [
    "df6.drop([3, 131, 168], axis=0, inplace=True)"
   ]
  },
  {
   "cell_type": "code",
   "execution_count": 38,
   "metadata": {},
   "outputs": [
    {
     "data": {
      "text/html": [
       "<div>\n",
       "<style scoped>\n",
       "    .dataframe tbody tr th:only-of-type {\n",
       "        vertical-align: middle;\n",
       "    }\n",
       "\n",
       "    .dataframe tbody tr th {\n",
       "        vertical-align: top;\n",
       "    }\n",
       "\n",
       "    .dataframe thead th {\n",
       "        text-align: right;\n",
       "    }\n",
       "</style>\n",
       "<table border=\"1\" class=\"dataframe\">\n",
       "  <thead>\n",
       "    <tr style=\"text-align: right;\">\n",
       "      <th></th>\n",
       "      <th>trip_id</th>\n",
       "      <th>starttime</th>\n",
       "      <th>stoptime</th>\n",
       "      <th>bikeid</th>\n",
       "      <th>tripduration</th>\n",
       "      <th>from_station_id</th>\n",
       "      <th>from_station_name</th>\n",
       "      <th>to_station_id</th>\n",
       "      <th>to_station_name</th>\n",
       "      <th>usertype</th>\n",
       "      <th>gender</th>\n",
       "      <th>birthyear</th>\n",
       "    </tr>\n",
       "  </thead>\n",
       "  <tbody>\n",
       "  </tbody>\n",
       "</table>\n",
       "</div>"
      ],
      "text/plain": [
       "Empty DataFrame\n",
       "Columns: [trip_id, starttime, stoptime, bikeid, tripduration, from_station_id, from_station_name, to_station_id, to_station_name, usertype, gender, birthyear]\n",
       "Index: []"
      ]
     },
     "execution_count": 38,
     "metadata": {},
     "output_type": "execute_result"
    }
   ],
   "source": [
    "df6.loc[df6['starttime'].dt.year != 2015]"
   ]
  },
  {
   "cell_type": "code",
   "execution_count": 39,
   "metadata": {},
   "outputs": [
    {
     "name": "stdout",
     "output_type": "stream",
     "text": [
      "<class 'pandas.core.frame.DataFrame'>\n",
      "Int64Index: 631362 entries, 0 to 631364\n",
      "Data columns (total 12 columns):\n",
      " #   Column             Non-Null Count   Dtype         \n",
      "---  ------             --------------   -----         \n",
      " 0   trip_id            631362 non-null  int64         \n",
      " 1   starttime          631362 non-null  datetime64[ns]\n",
      " 2   stoptime           631362 non-null  datetime64[ns]\n",
      " 3   bikeid             631362 non-null  int64         \n",
      " 4   tripduration       631362 non-null  int64         \n",
      " 5   from_station_id    631362 non-null  int64         \n",
      " 6   from_station_name  631362 non-null  object        \n",
      " 7   to_station_id      631362 non-null  int64         \n",
      " 8   to_station_name    631362 non-null  object        \n",
      " 9   usertype           631362 non-null  object        \n",
      " 10  gender             631362 non-null  object        \n",
      " 11  birthyear          631362 non-null  float64       \n",
      "dtypes: datetime64[ns](2), float64(1), int64(5), object(4)\n",
      "memory usage: 62.6+ MB\n"
     ]
    }
   ],
   "source": [
    "df6.info(verbose=True)"
   ]
  },
  {
   "cell_type": "code",
   "execution_count": 40,
   "metadata": {},
   "outputs": [
    {
     "name": "stdout",
     "output_type": "stream",
     "text": [
      "<class 'pandas.core.frame.DataFrame'>\n",
      "RangeIndex: 474 entries, 0 to 473\n",
      "Data columns (total 6 columns):\n",
      " #   Column      Non-Null Count  Dtype  \n",
      "---  ------      --------------  -----  \n",
      " 0   id          474 non-null    int64  \n",
      " 1   name        474 non-null    object \n",
      " 2   latitude    474 non-null    float64\n",
      " 3   longitude   474 non-null    float64\n",
      " 4   dpcapacity  474 non-null    int64  \n",
      " 5   landmark    474 non-null    int64  \n",
      "dtypes: float64(2), int64(3), object(1)\n",
      "memory usage: 22.3+ KB\n"
     ]
    }
   ],
   "source": [
    "df7.info(verbose=True)"
   ]
  },
  {
   "cell_type": "code",
   "execution_count": 41,
   "metadata": {},
   "outputs": [
    {
     "data": {
      "text/html": [
       "<div>\n",
       "<style scoped>\n",
       "    .dataframe tbody tr th:only-of-type {\n",
       "        vertical-align: middle;\n",
       "    }\n",
       "\n",
       "    .dataframe tbody tr th {\n",
       "        vertical-align: top;\n",
       "    }\n",
       "\n",
       "    .dataframe thead th {\n",
       "        text-align: right;\n",
       "    }\n",
       "</style>\n",
       "<table border=\"1\" class=\"dataframe\">\n",
       "  <thead>\n",
       "    <tr style=\"text-align: right;\">\n",
       "      <th></th>\n",
       "      <th>id</th>\n",
       "      <th>name</th>\n",
       "      <th>latitude</th>\n",
       "      <th>longitude</th>\n",
       "      <th>dpcapacity</th>\n",
       "      <th>landmark</th>\n",
       "    </tr>\n",
       "  </thead>\n",
       "  <tbody>\n",
       "    <tr>\n",
       "      <th>0</th>\n",
       "      <td>2</td>\n",
       "      <td>Michigan Ave &amp; Balbo Ave</td>\n",
       "      <td>41.872293</td>\n",
       "      <td>-87.624091</td>\n",
       "      <td>35</td>\n",
       "      <td>541</td>\n",
       "    </tr>\n",
       "    <tr>\n",
       "      <th>1</th>\n",
       "      <td>3</td>\n",
       "      <td>Shedd Aquarium</td>\n",
       "      <td>41.867226</td>\n",
       "      <td>-87.615355</td>\n",
       "      <td>31</td>\n",
       "      <td>544</td>\n",
       "    </tr>\n",
       "    <tr>\n",
       "      <th>2</th>\n",
       "      <td>4</td>\n",
       "      <td>Burnham Harbor</td>\n",
       "      <td>41.856268</td>\n",
       "      <td>-87.613348</td>\n",
       "      <td>23</td>\n",
       "      <td>545</td>\n",
       "    </tr>\n",
       "    <tr>\n",
       "      <th>3</th>\n",
       "      <td>5</td>\n",
       "      <td>State St &amp; Harrison St</td>\n",
       "      <td>41.874053</td>\n",
       "      <td>-87.627716</td>\n",
       "      <td>23</td>\n",
       "      <td>30</td>\n",
       "    </tr>\n",
       "    <tr>\n",
       "      <th>4</th>\n",
       "      <td>6</td>\n",
       "      <td>Dusable Harbor</td>\n",
       "      <td>41.885042</td>\n",
       "      <td>-87.612795</td>\n",
       "      <td>31</td>\n",
       "      <td>548</td>\n",
       "    </tr>\n",
       "  </tbody>\n",
       "</table>\n",
       "</div>"
      ],
      "text/plain": [
       "   id                      name   latitude  longitude  dpcapacity  landmark\n",
       "0   2  Michigan Ave & Balbo Ave  41.872293 -87.624091          35       541\n",
       "1   3            Shedd Aquarium  41.867226 -87.615355          31       544\n",
       "2   4            Burnham Harbor  41.856268 -87.613348          23       545\n",
       "3   5    State St & Harrison St  41.874053 -87.627716          23        30\n",
       "4   6            Dusable Harbor  41.885042 -87.612795          31       548"
      ]
     },
     "execution_count": 41,
     "metadata": {},
     "output_type": "execute_result"
    }
   ],
   "source": [
    "df7.head()"
   ]
  },
  {
   "cell_type": "markdown",
   "metadata": {},
   "source": [
    "* concat and result in 2 cleaned CSVs. Revert from variables back to cleaned CSV."
   ]
  }
 ],
 "metadata": {
  "kernelspec": {
   "display_name": "Python 3.10.6 64-bit",
   "language": "python",
   "name": "python3"
  },
  "language_info": {
   "codemirror_mode": {
    "name": "ipython",
    "version": 3
   },
   "file_extension": ".py",
   "mimetype": "text/x-python",
   "name": "python",
   "nbconvert_exporter": "python",
   "pygments_lexer": "ipython3",
   "version": "3.10.6"
  },
  "orig_nbformat": 4,
  "vscode": {
   "interpreter": {
    "hash": "aee8b7b246df8f9039afb4144a1f6fd8d2ca17a180786b69acc140d282b71a49"
   }
  }
 },
 "nbformat": 4,
 "nbformat_minor": 2
}

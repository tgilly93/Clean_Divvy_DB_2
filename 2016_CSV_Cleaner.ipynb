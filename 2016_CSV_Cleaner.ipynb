{
 "cells": [
  {
   "cell_type": "code",
   "execution_count": 1,
   "metadata": {},
   "outputs": [],
   "source": [
    "import pandas as pd\n",
    "import numpy as np"
   ]
  },
  {
   "cell_type": "code",
   "execution_count": 2,
   "metadata": {},
   "outputs": [],
   "source": [
    "df1 = pd.read_csv('/Users/terrygilmore/Desktop/Divvy_DB/Divvy_Stations_Trips_2016/Divvy_Trips_2016_Q1.csv')\n",
    "df2 = pd.read_csv('/Users/terrygilmore/Desktop/Divvy_DB/Divvy_Stations_Trips_2016/Divvy_Stations_2016_Q1Q2.csv')\n",
    "df3 = pd.read_csv('/Users/terrygilmore/Desktop/Divvy_DB/Divvy_Stations_Trips_2016/Divvy_Trips_2016_04.csv')\n",
    "df4 = pd.read_csv('/Users/terrygilmore/Desktop/Divvy_DB/Divvy_Stations_Trips_2016/Divvy_Trips_2016_05.csv')\n",
    "df5 = pd.read_csv('/Users/terrygilmore/Desktop/Divvy_DB/Divvy_Stations_Trips_2016/Divvy_Trips_2016_06.csv')\n",
    "df6 = pd.read_csv('/Users/terrygilmore/Desktop/Divvy_DB/Divvy_Stations_Trips_2016/Divvy_Trips_2016_Q3.csv')\n",
    "df7 = pd.read_csv('/Users/terrygilmore/Desktop/Divvy_DB/Divvy_Stations_Trips_2016/Divvy_Stations_2016_Q3.csv')\n",
    "df8 = pd.read_csv('/Users/terrygilmore/Desktop/Divvy_DB/Divvy_Stations_Trips_2016/Divvy_Stations_2016_Q4.csv')\n",
    "df9 = pd.read_csv('/Users/terrygilmore/Desktop/Divvy_DB/Divvy_Stations_Trips_2016/Divvy_Trips_2016_Q4.csv')"
   ]
  },
  {
   "cell_type": "code",
   "execution_count": 3,
   "metadata": {},
   "outputs": [
    {
     "name": "stdout",
     "output_type": "stream",
     "text": [
      "<class 'pandas.core.frame.DataFrame'>\n",
      "RangeIndex: 396913 entries, 0 to 396912\n",
      "Data columns (total 12 columns):\n",
      " #   Column             Non-Null Count   Dtype  \n",
      "---  ------             --------------   -----  \n",
      " 0   trip_id            396913 non-null  int64  \n",
      " 1   starttime          396913 non-null  object \n",
      " 2   stoptime           396913 non-null  object \n",
      " 3   bikeid             396913 non-null  int64  \n",
      " 4   tripduration       396913 non-null  int64  \n",
      " 5   from_station_id    396913 non-null  int64  \n",
      " 6   from_station_name  396913 non-null  object \n",
      " 7   to_station_id      396913 non-null  int64  \n",
      " 8   to_station_name    396913 non-null  object \n",
      " 9   usertype           396913 non-null  object \n",
      " 10  gender             354870 non-null  object \n",
      " 11  birthyear          354900 non-null  float64\n",
      "dtypes: float64(1), int64(5), object(6)\n",
      "memory usage: 36.3+ MB\n"
     ]
    }
   ],
   "source": [
    "df1.info(verbose=True)"
   ]
  },
  {
   "cell_type": "code",
   "execution_count": 4,
   "metadata": {},
   "outputs": [],
   "source": [
    "df1[\"starttime\"] = pd.to_datetime(df1[\"starttime\"])\n",
    "df1[\"stoptime\"] = pd.to_datetime(df1[\"stoptime\"])"
   ]
  },
  {
   "cell_type": "code",
   "execution_count": 5,
   "metadata": {},
   "outputs": [],
   "source": [
    "df1.loc[df1['gender'].isnull(), 'gender'] = 'Unknown'\n",
    "df1.loc[df1['birthyear'].isnull(), 'birthyear'] = 0"
   ]
  },
  {
   "cell_type": "code",
   "execution_count": 6,
   "metadata": {},
   "outputs": [
    {
     "data": {
      "text/html": [
       "<div>\n",
       "<style scoped>\n",
       "    .dataframe tbody tr th:only-of-type {\n",
       "        vertical-align: middle;\n",
       "    }\n",
       "\n",
       "    .dataframe tbody tr th {\n",
       "        vertical-align: top;\n",
       "    }\n",
       "\n",
       "    .dataframe thead th {\n",
       "        text-align: right;\n",
       "    }\n",
       "</style>\n",
       "<table border=\"1\" class=\"dataframe\">\n",
       "  <thead>\n",
       "    <tr style=\"text-align: right;\">\n",
       "      <th></th>\n",
       "      <th>trip_id</th>\n",
       "      <th>starttime</th>\n",
       "      <th>stoptime</th>\n",
       "      <th>bikeid</th>\n",
       "      <th>tripduration</th>\n",
       "      <th>from_station_id</th>\n",
       "      <th>from_station_name</th>\n",
       "      <th>to_station_id</th>\n",
       "      <th>to_station_name</th>\n",
       "      <th>usertype</th>\n",
       "      <th>gender</th>\n",
       "      <th>birthyear</th>\n",
       "    </tr>\n",
       "  </thead>\n",
       "  <tbody>\n",
       "  </tbody>\n",
       "</table>\n",
       "</div>"
      ],
      "text/plain": [
       "Empty DataFrame\n",
       "Columns: [trip_id, starttime, stoptime, bikeid, tripduration, from_station_id, from_station_name, to_station_id, to_station_name, usertype, gender, birthyear]\n",
       "Index: []"
      ]
     },
     "execution_count": 6,
     "metadata": {},
     "output_type": "execute_result"
    }
   ],
   "source": [
    "df1.loc[df1['stoptime'].dt.year != 2016]"
   ]
  },
  {
   "cell_type": "code",
   "execution_count": 7,
   "metadata": {},
   "outputs": [
    {
     "data": {
      "text/html": [
       "<div>\n",
       "<style scoped>\n",
       "    .dataframe tbody tr th:only-of-type {\n",
       "        vertical-align: middle;\n",
       "    }\n",
       "\n",
       "    .dataframe tbody tr th {\n",
       "        vertical-align: top;\n",
       "    }\n",
       "\n",
       "    .dataframe thead th {\n",
       "        text-align: right;\n",
       "    }\n",
       "</style>\n",
       "<table border=\"1\" class=\"dataframe\">\n",
       "  <thead>\n",
       "    <tr style=\"text-align: right;\">\n",
       "      <th></th>\n",
       "      <th>trip_id</th>\n",
       "      <th>starttime</th>\n",
       "      <th>stoptime</th>\n",
       "      <th>bikeid</th>\n",
       "      <th>tripduration</th>\n",
       "      <th>from_station_id</th>\n",
       "      <th>from_station_name</th>\n",
       "      <th>to_station_id</th>\n",
       "      <th>to_station_name</th>\n",
       "      <th>usertype</th>\n",
       "      <th>gender</th>\n",
       "      <th>birthyear</th>\n",
       "    </tr>\n",
       "  </thead>\n",
       "  <tbody>\n",
       "  </tbody>\n",
       "</table>\n",
       "</div>"
      ],
      "text/plain": [
       "Empty DataFrame\n",
       "Columns: [trip_id, starttime, stoptime, bikeid, tripduration, from_station_id, from_station_name, to_station_id, to_station_name, usertype, gender, birthyear]\n",
       "Index: []"
      ]
     },
     "execution_count": 7,
     "metadata": {},
     "output_type": "execute_result"
    }
   ],
   "source": [
    "df1.loc[df1['starttime'].dt.year != 2016]"
   ]
  },
  {
   "cell_type": "code",
   "execution_count": 8,
   "metadata": {},
   "outputs": [
    {
     "name": "stdout",
     "output_type": "stream",
     "text": [
      "<class 'pandas.core.frame.DataFrame'>\n",
      "RangeIndex: 396913 entries, 0 to 396912\n",
      "Data columns (total 12 columns):\n",
      " #   Column             Non-Null Count   Dtype         \n",
      "---  ------             --------------   -----         \n",
      " 0   trip_id            396913 non-null  int64         \n",
      " 1   starttime          396913 non-null  datetime64[ns]\n",
      " 2   stoptime           396913 non-null  datetime64[ns]\n",
      " 3   bikeid             396913 non-null  int64         \n",
      " 4   tripduration       396913 non-null  int64         \n",
      " 5   from_station_id    396913 non-null  int64         \n",
      " 6   from_station_name  396913 non-null  object        \n",
      " 7   to_station_id      396913 non-null  int64         \n",
      " 8   to_station_name    396913 non-null  object        \n",
      " 9   usertype           396913 non-null  object        \n",
      " 10  gender             396913 non-null  object        \n",
      " 11  birthyear          396913 non-null  float64       \n",
      "dtypes: datetime64[ns](2), float64(1), int64(5), object(4)\n",
      "memory usage: 36.3+ MB\n"
     ]
    }
   ],
   "source": [
    "df1.info(verbose=True)"
   ]
  },
  {
   "cell_type": "code",
   "execution_count": 9,
   "metadata": {},
   "outputs": [
    {
     "name": "stdout",
     "output_type": "stream",
     "text": [
      "<class 'pandas.core.frame.DataFrame'>\n",
      "RangeIndex: 231635 entries, 0 to 231634\n",
      "Data columns (total 12 columns):\n",
      " #   Column             Non-Null Count   Dtype  \n",
      "---  ------             --------------   -----  \n",
      " 0   trip_id            231635 non-null  int64  \n",
      " 1   starttime          231635 non-null  object \n",
      " 2   stoptime           231635 non-null  object \n",
      " 3   bikeid             231635 non-null  int64  \n",
      " 4   tripduration       231635 non-null  int64  \n",
      " 5   from_station_id    231635 non-null  int64  \n",
      " 6   from_station_name  231635 non-null  object \n",
      " 7   to_station_id      231635 non-null  int64  \n",
      " 8   to_station_name    231635 non-null  object \n",
      " 9   usertype           231635 non-null  object \n",
      " 10  gender             182217 non-null  object \n",
      " 11  birthyear          182243 non-null  float64\n",
      "dtypes: float64(1), int64(5), object(6)\n",
      "memory usage: 21.2+ MB\n"
     ]
    }
   ],
   "source": [
    "df3.info(verbose=True)"
   ]
  },
  {
   "cell_type": "code",
   "execution_count": 10,
   "metadata": {},
   "outputs": [],
   "source": [
    "df3[\"starttime\"] = pd.to_datetime(df3[\"starttime\"])\n",
    "df3[\"stoptime\"] = pd.to_datetime(df3[\"stoptime\"])"
   ]
  },
  {
   "cell_type": "code",
   "execution_count": 11,
   "metadata": {},
   "outputs": [],
   "source": [
    "df3.loc[df3['gender'].isnull(), 'gender'] = 'Unknown'\n",
    "df3.loc[df3['birthyear'].isnull(), 'birthyear'] = 0"
   ]
  },
  {
   "cell_type": "code",
   "execution_count": 12,
   "metadata": {},
   "outputs": [
    {
     "data": {
      "text/html": [
       "<div>\n",
       "<style scoped>\n",
       "    .dataframe tbody tr th:only-of-type {\n",
       "        vertical-align: middle;\n",
       "    }\n",
       "\n",
       "    .dataframe tbody tr th {\n",
       "        vertical-align: top;\n",
       "    }\n",
       "\n",
       "    .dataframe thead th {\n",
       "        text-align: right;\n",
       "    }\n",
       "</style>\n",
       "<table border=\"1\" class=\"dataframe\">\n",
       "  <thead>\n",
       "    <tr style=\"text-align: right;\">\n",
       "      <th></th>\n",
       "      <th>trip_id</th>\n",
       "      <th>starttime</th>\n",
       "      <th>stoptime</th>\n",
       "      <th>bikeid</th>\n",
       "      <th>tripduration</th>\n",
       "      <th>from_station_id</th>\n",
       "      <th>from_station_name</th>\n",
       "      <th>to_station_id</th>\n",
       "      <th>to_station_name</th>\n",
       "      <th>usertype</th>\n",
       "      <th>gender</th>\n",
       "      <th>birthyear</th>\n",
       "    </tr>\n",
       "  </thead>\n",
       "  <tbody>\n",
       "  </tbody>\n",
       "</table>\n",
       "</div>"
      ],
      "text/plain": [
       "Empty DataFrame\n",
       "Columns: [trip_id, starttime, stoptime, bikeid, tripduration, from_station_id, from_station_name, to_station_id, to_station_name, usertype, gender, birthyear]\n",
       "Index: []"
      ]
     },
     "execution_count": 12,
     "metadata": {},
     "output_type": "execute_result"
    }
   ],
   "source": [
    "df3.loc[df3['stoptime'].dt.year != 2016]"
   ]
  },
  {
   "cell_type": "code",
   "execution_count": 13,
   "metadata": {},
   "outputs": [
    {
     "data": {
      "text/html": [
       "<div>\n",
       "<style scoped>\n",
       "    .dataframe tbody tr th:only-of-type {\n",
       "        vertical-align: middle;\n",
       "    }\n",
       "\n",
       "    .dataframe tbody tr th {\n",
       "        vertical-align: top;\n",
       "    }\n",
       "\n",
       "    .dataframe thead th {\n",
       "        text-align: right;\n",
       "    }\n",
       "</style>\n",
       "<table border=\"1\" class=\"dataframe\">\n",
       "  <thead>\n",
       "    <tr style=\"text-align: right;\">\n",
       "      <th></th>\n",
       "      <th>trip_id</th>\n",
       "      <th>starttime</th>\n",
       "      <th>stoptime</th>\n",
       "      <th>bikeid</th>\n",
       "      <th>tripduration</th>\n",
       "      <th>from_station_id</th>\n",
       "      <th>from_station_name</th>\n",
       "      <th>to_station_id</th>\n",
       "      <th>to_station_name</th>\n",
       "      <th>usertype</th>\n",
       "      <th>gender</th>\n",
       "      <th>birthyear</th>\n",
       "    </tr>\n",
       "  </thead>\n",
       "  <tbody>\n",
       "  </tbody>\n",
       "</table>\n",
       "</div>"
      ],
      "text/plain": [
       "Empty DataFrame\n",
       "Columns: [trip_id, starttime, stoptime, bikeid, tripduration, from_station_id, from_station_name, to_station_id, to_station_name, usertype, gender, birthyear]\n",
       "Index: []"
      ]
     },
     "execution_count": 13,
     "metadata": {},
     "output_type": "execute_result"
    }
   ],
   "source": [
    "df3.loc[df3['starttime'].dt.year != 2016]"
   ]
  },
  {
   "cell_type": "code",
   "execution_count": 14,
   "metadata": {},
   "outputs": [
    {
     "name": "stdout",
     "output_type": "stream",
     "text": [
      "<class 'pandas.core.frame.DataFrame'>\n",
      "RangeIndex: 231635 entries, 0 to 231634\n",
      "Data columns (total 12 columns):\n",
      " #   Column             Non-Null Count   Dtype         \n",
      "---  ------             --------------   -----         \n",
      " 0   trip_id            231635 non-null  int64         \n",
      " 1   starttime          231635 non-null  datetime64[ns]\n",
      " 2   stoptime           231635 non-null  datetime64[ns]\n",
      " 3   bikeid             231635 non-null  int64         \n",
      " 4   tripduration       231635 non-null  int64         \n",
      " 5   from_station_id    231635 non-null  int64         \n",
      " 6   from_station_name  231635 non-null  object        \n",
      " 7   to_station_id      231635 non-null  int64         \n",
      " 8   to_station_name    231635 non-null  object        \n",
      " 9   usertype           231635 non-null  object        \n",
      " 10  gender             231635 non-null  object        \n",
      " 11  birthyear          231635 non-null  float64       \n",
      "dtypes: datetime64[ns](2), float64(1), int64(5), object(4)\n",
      "memory usage: 21.2+ MB\n"
     ]
    }
   ],
   "source": [
    "df3.info(verbose=True)"
   ]
  },
  {
   "cell_type": "code",
   "execution_count": 15,
   "metadata": {},
   "outputs": [
    {
     "name": "stdout",
     "output_type": "stream",
     "text": [
      "<class 'pandas.core.frame.DataFrame'>\n",
      "RangeIndex: 363319 entries, 0 to 363318\n",
      "Data columns (total 12 columns):\n",
      " #   Column             Non-Null Count   Dtype  \n",
      "---  ------             --------------   -----  \n",
      " 0   trip_id            363319 non-null  int64  \n",
      " 1   starttime          363319 non-null  object \n",
      " 2   stoptime           363319 non-null  object \n",
      " 3   bikeid             363319 non-null  int64  \n",
      " 4   tripduration       363319 non-null  int64  \n",
      " 5   from_station_id    363319 non-null  int64  \n",
      " 6   from_station_name  363319 non-null  object \n",
      " 7   to_station_id      363319 non-null  int64  \n",
      " 8   to_station_name    363319 non-null  object \n",
      " 9   usertype           363319 non-null  object \n",
      " 10  gender             259779 non-null  object \n",
      " 11  birthyear          259808 non-null  float64\n",
      "dtypes: float64(1), int64(5), object(6)\n",
      "memory usage: 33.3+ MB\n"
     ]
    }
   ],
   "source": [
    "df4.info(verbose=True)"
   ]
  },
  {
   "cell_type": "code",
   "execution_count": 16,
   "metadata": {},
   "outputs": [],
   "source": [
    "df4[\"starttime\"] = pd.to_datetime(df4[\"starttime\"])\n",
    "df4[\"stoptime\"] = pd.to_datetime(df4[\"stoptime\"])"
   ]
  },
  {
   "cell_type": "code",
   "execution_count": 17,
   "metadata": {},
   "outputs": [],
   "source": [
    "df4.loc[df4['gender'].isnull(), 'gender'] = 'Unknown'\n",
    "df4.loc[df4['birthyear'].isnull(), 'birthyear'] = 0"
   ]
  },
  {
   "cell_type": "code",
   "execution_count": 18,
   "metadata": {},
   "outputs": [
    {
     "data": {
      "text/html": [
       "<div>\n",
       "<style scoped>\n",
       "    .dataframe tbody tr th:only-of-type {\n",
       "        vertical-align: middle;\n",
       "    }\n",
       "\n",
       "    .dataframe tbody tr th {\n",
       "        vertical-align: top;\n",
       "    }\n",
       "\n",
       "    .dataframe thead th {\n",
       "        text-align: right;\n",
       "    }\n",
       "</style>\n",
       "<table border=\"1\" class=\"dataframe\">\n",
       "  <thead>\n",
       "    <tr style=\"text-align: right;\">\n",
       "      <th></th>\n",
       "      <th>trip_id</th>\n",
       "      <th>starttime</th>\n",
       "      <th>stoptime</th>\n",
       "      <th>bikeid</th>\n",
       "      <th>tripduration</th>\n",
       "      <th>from_station_id</th>\n",
       "      <th>from_station_name</th>\n",
       "      <th>to_station_id</th>\n",
       "      <th>to_station_name</th>\n",
       "      <th>usertype</th>\n",
       "      <th>gender</th>\n",
       "      <th>birthyear</th>\n",
       "    </tr>\n",
       "  </thead>\n",
       "  <tbody>\n",
       "  </tbody>\n",
       "</table>\n",
       "</div>"
      ],
      "text/plain": [
       "Empty DataFrame\n",
       "Columns: [trip_id, starttime, stoptime, bikeid, tripduration, from_station_id, from_station_name, to_station_id, to_station_name, usertype, gender, birthyear]\n",
       "Index: []"
      ]
     },
     "execution_count": 18,
     "metadata": {},
     "output_type": "execute_result"
    }
   ],
   "source": [
    "df4.loc[df4['stoptime'].dt.year != 2016]"
   ]
  },
  {
   "cell_type": "code",
   "execution_count": 19,
   "metadata": {},
   "outputs": [
    {
     "data": {
      "text/html": [
       "<div>\n",
       "<style scoped>\n",
       "    .dataframe tbody tr th:only-of-type {\n",
       "        vertical-align: middle;\n",
       "    }\n",
       "\n",
       "    .dataframe tbody tr th {\n",
       "        vertical-align: top;\n",
       "    }\n",
       "\n",
       "    .dataframe thead th {\n",
       "        text-align: right;\n",
       "    }\n",
       "</style>\n",
       "<table border=\"1\" class=\"dataframe\">\n",
       "  <thead>\n",
       "    <tr style=\"text-align: right;\">\n",
       "      <th></th>\n",
       "      <th>trip_id</th>\n",
       "      <th>starttime</th>\n",
       "      <th>stoptime</th>\n",
       "      <th>bikeid</th>\n",
       "      <th>tripduration</th>\n",
       "      <th>from_station_id</th>\n",
       "      <th>from_station_name</th>\n",
       "      <th>to_station_id</th>\n",
       "      <th>to_station_name</th>\n",
       "      <th>usertype</th>\n",
       "      <th>gender</th>\n",
       "      <th>birthyear</th>\n",
       "    </tr>\n",
       "  </thead>\n",
       "  <tbody>\n",
       "  </tbody>\n",
       "</table>\n",
       "</div>"
      ],
      "text/plain": [
       "Empty DataFrame\n",
       "Columns: [trip_id, starttime, stoptime, bikeid, tripduration, from_station_id, from_station_name, to_station_id, to_station_name, usertype, gender, birthyear]\n",
       "Index: []"
      ]
     },
     "execution_count": 19,
     "metadata": {},
     "output_type": "execute_result"
    }
   ],
   "source": [
    "df4.loc[df4['starttime'].dt.year != 2016]"
   ]
  },
  {
   "cell_type": "code",
   "execution_count": 20,
   "metadata": {},
   "outputs": [
    {
     "name": "stdout",
     "output_type": "stream",
     "text": [
      "<class 'pandas.core.frame.DataFrame'>\n",
      "RangeIndex: 363319 entries, 0 to 363318\n",
      "Data columns (total 12 columns):\n",
      " #   Column             Non-Null Count   Dtype         \n",
      "---  ------             --------------   -----         \n",
      " 0   trip_id            363319 non-null  int64         \n",
      " 1   starttime          363319 non-null  datetime64[ns]\n",
      " 2   stoptime           363319 non-null  datetime64[ns]\n",
      " 3   bikeid             363319 non-null  int64         \n",
      " 4   tripduration       363319 non-null  int64         \n",
      " 5   from_station_id    363319 non-null  int64         \n",
      " 6   from_station_name  363319 non-null  object        \n",
      " 7   to_station_id      363319 non-null  int64         \n",
      " 8   to_station_name    363319 non-null  object        \n",
      " 9   usertype           363319 non-null  object        \n",
      " 10  gender             363319 non-null  object        \n",
      " 11  birthyear          363319 non-null  float64       \n",
      "dtypes: datetime64[ns](2), float64(1), int64(5), object(4)\n",
      "memory usage: 33.3+ MB\n"
     ]
    }
   ],
   "source": [
    "df4.info(verbose=True)"
   ]
  },
  {
   "cell_type": "code",
   "execution_count": 21,
   "metadata": {},
   "outputs": [
    {
     "name": "stdout",
     "output_type": "stream",
     "text": [
      "<class 'pandas.core.frame.DataFrame'>\n",
      "RangeIndex: 477873 entries, 0 to 477872\n",
      "Data columns (total 12 columns):\n",
      " #   Column             Non-Null Count   Dtype  \n",
      "---  ------             --------------   -----  \n",
      " 0   trip_id            477873 non-null  int64  \n",
      " 1   starttime          477873 non-null  object \n",
      " 2   stoptime           477873 non-null  object \n",
      " 3   bikeid             477873 non-null  int64  \n",
      " 4   tripduration       477873 non-null  int64  \n",
      " 5   from_station_id    477873 non-null  int64  \n",
      " 6   from_station_name  477873 non-null  object \n",
      " 7   to_station_id      477873 non-null  int64  \n",
      " 8   to_station_name    477873 non-null  object \n",
      " 9   usertype           477873 non-null  object \n",
      " 10  gender             349899 non-null  object \n",
      " 11  birthyear          349964 non-null  float64\n",
      "dtypes: float64(1), int64(5), object(6)\n",
      "memory usage: 43.8+ MB\n"
     ]
    }
   ],
   "source": [
    "df5.info(verbose=True)"
   ]
  },
  {
   "cell_type": "code",
   "execution_count": 22,
   "metadata": {},
   "outputs": [],
   "source": [
    "df5[\"starttime\"] = pd.to_datetime(df5[\"starttime\"])\n",
    "df5[\"stoptime\"] = pd.to_datetime(df5[\"stoptime\"])"
   ]
  },
  {
   "cell_type": "code",
   "execution_count": 23,
   "metadata": {},
   "outputs": [],
   "source": [
    "df5.loc[df5['gender'].isnull(), 'gender'] = 'Unknown'\n",
    "df5.loc[df5['birthyear'].isnull(), 'birthyear'] = 0"
   ]
  },
  {
   "cell_type": "code",
   "execution_count": 24,
   "metadata": {},
   "outputs": [
    {
     "data": {
      "text/html": [
       "<div>\n",
       "<style scoped>\n",
       "    .dataframe tbody tr th:only-of-type {\n",
       "        vertical-align: middle;\n",
       "    }\n",
       "\n",
       "    .dataframe tbody tr th {\n",
       "        vertical-align: top;\n",
       "    }\n",
       "\n",
       "    .dataframe thead th {\n",
       "        text-align: right;\n",
       "    }\n",
       "</style>\n",
       "<table border=\"1\" class=\"dataframe\">\n",
       "  <thead>\n",
       "    <tr style=\"text-align: right;\">\n",
       "      <th></th>\n",
       "      <th>trip_id</th>\n",
       "      <th>starttime</th>\n",
       "      <th>stoptime</th>\n",
       "      <th>bikeid</th>\n",
       "      <th>tripduration</th>\n",
       "      <th>from_station_id</th>\n",
       "      <th>from_station_name</th>\n",
       "      <th>to_station_id</th>\n",
       "      <th>to_station_name</th>\n",
       "      <th>usertype</th>\n",
       "      <th>gender</th>\n",
       "      <th>birthyear</th>\n",
       "    </tr>\n",
       "  </thead>\n",
       "  <tbody>\n",
       "  </tbody>\n",
       "</table>\n",
       "</div>"
      ],
      "text/plain": [
       "Empty DataFrame\n",
       "Columns: [trip_id, starttime, stoptime, bikeid, tripduration, from_station_id, from_station_name, to_station_id, to_station_name, usertype, gender, birthyear]\n",
       "Index: []"
      ]
     },
     "execution_count": 24,
     "metadata": {},
     "output_type": "execute_result"
    }
   ],
   "source": [
    "df5.loc[df5['stoptime'].dt.year != 2016]"
   ]
  },
  {
   "cell_type": "code",
   "execution_count": 25,
   "metadata": {},
   "outputs": [
    {
     "data": {
      "text/html": [
       "<div>\n",
       "<style scoped>\n",
       "    .dataframe tbody tr th:only-of-type {\n",
       "        vertical-align: middle;\n",
       "    }\n",
       "\n",
       "    .dataframe tbody tr th {\n",
       "        vertical-align: top;\n",
       "    }\n",
       "\n",
       "    .dataframe thead th {\n",
       "        text-align: right;\n",
       "    }\n",
       "</style>\n",
       "<table border=\"1\" class=\"dataframe\">\n",
       "  <thead>\n",
       "    <tr style=\"text-align: right;\">\n",
       "      <th></th>\n",
       "      <th>trip_id</th>\n",
       "      <th>starttime</th>\n",
       "      <th>stoptime</th>\n",
       "      <th>bikeid</th>\n",
       "      <th>tripduration</th>\n",
       "      <th>from_station_id</th>\n",
       "      <th>from_station_name</th>\n",
       "      <th>to_station_id</th>\n",
       "      <th>to_station_name</th>\n",
       "      <th>usertype</th>\n",
       "      <th>gender</th>\n",
       "      <th>birthyear</th>\n",
       "    </tr>\n",
       "  </thead>\n",
       "  <tbody>\n",
       "  </tbody>\n",
       "</table>\n",
       "</div>"
      ],
      "text/plain": [
       "Empty DataFrame\n",
       "Columns: [trip_id, starttime, stoptime, bikeid, tripduration, from_station_id, from_station_name, to_station_id, to_station_name, usertype, gender, birthyear]\n",
       "Index: []"
      ]
     },
     "execution_count": 25,
     "metadata": {},
     "output_type": "execute_result"
    }
   ],
   "source": [
    "df5.loc[df5['starttime'].dt.year != 2016]"
   ]
  },
  {
   "cell_type": "code",
   "execution_count": 26,
   "metadata": {},
   "outputs": [
    {
     "name": "stdout",
     "output_type": "stream",
     "text": [
      "<class 'pandas.core.frame.DataFrame'>\n",
      "RangeIndex: 477873 entries, 0 to 477872\n",
      "Data columns (total 12 columns):\n",
      " #   Column             Non-Null Count   Dtype         \n",
      "---  ------             --------------   -----         \n",
      " 0   trip_id            477873 non-null  int64         \n",
      " 1   starttime          477873 non-null  datetime64[ns]\n",
      " 2   stoptime           477873 non-null  datetime64[ns]\n",
      " 3   bikeid             477873 non-null  int64         \n",
      " 4   tripduration       477873 non-null  int64         \n",
      " 5   from_station_id    477873 non-null  int64         \n",
      " 6   from_station_name  477873 non-null  object        \n",
      " 7   to_station_id      477873 non-null  int64         \n",
      " 8   to_station_name    477873 non-null  object        \n",
      " 9   usertype           477873 non-null  object        \n",
      " 10  gender             477873 non-null  object        \n",
      " 11  birthyear          477873 non-null  float64       \n",
      "dtypes: datetime64[ns](2), float64(1), int64(5), object(4)\n",
      "memory usage: 43.8+ MB\n"
     ]
    }
   ],
   "source": [
    "df5.info(verbose=True)"
   ]
  },
  {
   "cell_type": "code",
   "execution_count": 27,
   "metadata": {},
   "outputs": [
    {
     "name": "stdout",
     "output_type": "stream",
     "text": [
      "<class 'pandas.core.frame.DataFrame'>\n",
      "RangeIndex: 1441811 entries, 0 to 1441810\n",
      "Data columns (total 12 columns):\n",
      " #   Column             Non-Null Count    Dtype  \n",
      "---  ------             --------------    -----  \n",
      " 0   trip_id            1441811 non-null  int64  \n",
      " 1   starttime          1441811 non-null  object \n",
      " 2   stoptime           1441811 non-null  object \n",
      " 3   bikeid             1441811 non-null  int64  \n",
      " 4   tripduration       1441811 non-null  int64  \n",
      " 5   from_station_id    1441811 non-null  int64  \n",
      " 6   from_station_name  1441811 non-null  object \n",
      " 7   to_station_id      1441811 non-null  int64  \n",
      " 8   to_station_name    1441811 non-null  object \n",
      " 9   usertype           1441811 non-null  object \n",
      " 10  gender             1015612 non-null  object \n",
      " 11  birthyear          1015731 non-null  float64\n",
      "dtypes: float64(1), int64(5), object(6)\n",
      "memory usage: 132.0+ MB\n"
     ]
    }
   ],
   "source": [
    "df6.info(verbose=True)"
   ]
  },
  {
   "cell_type": "code",
   "execution_count": 28,
   "metadata": {},
   "outputs": [],
   "source": [
    "df6.loc[df6['gender'].isnull(), 'gender'] = 'Unknown'\n",
    "df6.loc[df6['birthyear'].isnull(), 'birthyear'] = 0"
   ]
  },
  {
   "cell_type": "code",
   "execution_count": 29,
   "metadata": {},
   "outputs": [],
   "source": [
    "df6[\"starttime\"] = pd.to_datetime(df6[\"starttime\"])\n",
    "df6[\"stoptime\"] = pd.to_datetime(df6[\"stoptime\"])"
   ]
  },
  {
   "cell_type": "code",
   "execution_count": 30,
   "metadata": {},
   "outputs": [
    {
     "data": {
      "text/html": [
       "<div>\n",
       "<style scoped>\n",
       "    .dataframe tbody tr th:only-of-type {\n",
       "        vertical-align: middle;\n",
       "    }\n",
       "\n",
       "    .dataframe tbody tr th {\n",
       "        vertical-align: top;\n",
       "    }\n",
       "\n",
       "    .dataframe thead th {\n",
       "        text-align: right;\n",
       "    }\n",
       "</style>\n",
       "<table border=\"1\" class=\"dataframe\">\n",
       "  <thead>\n",
       "    <tr style=\"text-align: right;\">\n",
       "      <th></th>\n",
       "      <th>trip_id</th>\n",
       "      <th>starttime</th>\n",
       "      <th>stoptime</th>\n",
       "      <th>bikeid</th>\n",
       "      <th>tripduration</th>\n",
       "      <th>from_station_id</th>\n",
       "      <th>from_station_name</th>\n",
       "      <th>to_station_id</th>\n",
       "      <th>to_station_name</th>\n",
       "      <th>usertype</th>\n",
       "      <th>gender</th>\n",
       "      <th>birthyear</th>\n",
       "    </tr>\n",
       "  </thead>\n",
       "  <tbody>\n",
       "  </tbody>\n",
       "</table>\n",
       "</div>"
      ],
      "text/plain": [
       "Empty DataFrame\n",
       "Columns: [trip_id, starttime, stoptime, bikeid, tripduration, from_station_id, from_station_name, to_station_id, to_station_name, usertype, gender, birthyear]\n",
       "Index: []"
      ]
     },
     "execution_count": 30,
     "metadata": {},
     "output_type": "execute_result"
    }
   ],
   "source": [
    "df6.loc[df6['stoptime'].dt.year != 2016]"
   ]
  },
  {
   "cell_type": "code",
   "execution_count": 31,
   "metadata": {},
   "outputs": [
    {
     "data": {
      "text/html": [
       "<div>\n",
       "<style scoped>\n",
       "    .dataframe tbody tr th:only-of-type {\n",
       "        vertical-align: middle;\n",
       "    }\n",
       "\n",
       "    .dataframe tbody tr th {\n",
       "        vertical-align: top;\n",
       "    }\n",
       "\n",
       "    .dataframe thead th {\n",
       "        text-align: right;\n",
       "    }\n",
       "</style>\n",
       "<table border=\"1\" class=\"dataframe\">\n",
       "  <thead>\n",
       "    <tr style=\"text-align: right;\">\n",
       "      <th></th>\n",
       "      <th>trip_id</th>\n",
       "      <th>starttime</th>\n",
       "      <th>stoptime</th>\n",
       "      <th>bikeid</th>\n",
       "      <th>tripduration</th>\n",
       "      <th>from_station_id</th>\n",
       "      <th>from_station_name</th>\n",
       "      <th>to_station_id</th>\n",
       "      <th>to_station_name</th>\n",
       "      <th>usertype</th>\n",
       "      <th>gender</th>\n",
       "      <th>birthyear</th>\n",
       "    </tr>\n",
       "  </thead>\n",
       "  <tbody>\n",
       "  </tbody>\n",
       "</table>\n",
       "</div>"
      ],
      "text/plain": [
       "Empty DataFrame\n",
       "Columns: [trip_id, starttime, stoptime, bikeid, tripduration, from_station_id, from_station_name, to_station_id, to_station_name, usertype, gender, birthyear]\n",
       "Index: []"
      ]
     },
     "execution_count": 31,
     "metadata": {},
     "output_type": "execute_result"
    }
   ],
   "source": [
    "df6.loc[df6['starttime'].dt.year != 2016]"
   ]
  },
  {
   "cell_type": "code",
   "execution_count": 32,
   "metadata": {},
   "outputs": [
    {
     "name": "stdout",
     "output_type": "stream",
     "text": [
      "<class 'pandas.core.frame.DataFrame'>\n",
      "RangeIndex: 1441811 entries, 0 to 1441810\n",
      "Data columns (total 12 columns):\n",
      " #   Column             Non-Null Count    Dtype         \n",
      "---  ------             --------------    -----         \n",
      " 0   trip_id            1441811 non-null  int64         \n",
      " 1   starttime          1441811 non-null  datetime64[ns]\n",
      " 2   stoptime           1441811 non-null  datetime64[ns]\n",
      " 3   bikeid             1441811 non-null  int64         \n",
      " 4   tripduration       1441811 non-null  int64         \n",
      " 5   from_station_id    1441811 non-null  int64         \n",
      " 6   from_station_name  1441811 non-null  object        \n",
      " 7   to_station_id      1441811 non-null  int64         \n",
      " 8   to_station_name    1441811 non-null  object        \n",
      " 9   usertype           1441811 non-null  object        \n",
      " 10  gender             1441811 non-null  object        \n",
      " 11  birthyear          1441811 non-null  float64       \n",
      "dtypes: datetime64[ns](2), float64(1), int64(5), object(4)\n",
      "memory usage: 132.0+ MB\n"
     ]
    }
   ],
   "source": [
    "df6.info(verbose=True)"
   ]
  },
  {
   "cell_type": "code",
   "execution_count": 33,
   "metadata": {},
   "outputs": [
    {
     "name": "stdout",
     "output_type": "stream",
     "text": [
      "<class 'pandas.core.frame.DataFrame'>\n",
      "RangeIndex: 683832 entries, 0 to 683831\n",
      "Data columns (total 12 columns):\n",
      " #   Column             Non-Null Count   Dtype  \n",
      "---  ------             --------------   -----  \n",
      " 0   trip_id            683832 non-null  int64  \n",
      " 1   starttime          683832 non-null  object \n",
      " 2   stoptime           683832 non-null  object \n",
      " 3   bikeid             683832 non-null  int64  \n",
      " 4   tripduration       683832 non-null  int64  \n",
      " 5   from_station_id    683832 non-null  int64  \n",
      " 6   from_station_name  683832 non-null  object \n",
      " 7   to_station_id      683832 non-null  int64  \n",
      " 8   to_station_name    683832 non-null  object \n",
      " 9   usertype           683832 non-null  object \n",
      " 10  gender             574577 non-null  object \n",
      " 11  birthyear          574612 non-null  float64\n",
      "dtypes: float64(1), int64(5), object(6)\n",
      "memory usage: 62.6+ MB\n"
     ]
    }
   ],
   "source": [
    "df9.info(verbose=True)"
   ]
  },
  {
   "cell_type": "code",
   "execution_count": 34,
   "metadata": {},
   "outputs": [],
   "source": [
    "df9[\"starttime\"] = pd.to_datetime(df9[\"starttime\"])\n",
    "df9[\"stoptime\"] = pd.to_datetime(df9[\"stoptime\"])"
   ]
  },
  {
   "cell_type": "code",
   "execution_count": 35,
   "metadata": {},
   "outputs": [],
   "source": [
    "df9.loc[df9['gender'].isnull(), 'gender'] = 'Unknown'\n",
    "df9.loc[df9['birthyear'].isnull(), 'birthyear'] = 0"
   ]
  },
  {
   "cell_type": "code",
   "execution_count": 36,
   "metadata": {},
   "outputs": [
    {
     "data": {
      "text/html": [
       "<div>\n",
       "<style scoped>\n",
       "    .dataframe tbody tr th:only-of-type {\n",
       "        vertical-align: middle;\n",
       "    }\n",
       "\n",
       "    .dataframe tbody tr th {\n",
       "        vertical-align: top;\n",
       "    }\n",
       "\n",
       "    .dataframe thead th {\n",
       "        text-align: right;\n",
       "    }\n",
       "</style>\n",
       "<table border=\"1\" class=\"dataframe\">\n",
       "  <thead>\n",
       "    <tr style=\"text-align: right;\">\n",
       "      <th></th>\n",
       "      <th>trip_id</th>\n",
       "      <th>starttime</th>\n",
       "      <th>stoptime</th>\n",
       "      <th>bikeid</th>\n",
       "      <th>tripduration</th>\n",
       "      <th>from_station_id</th>\n",
       "      <th>from_station_name</th>\n",
       "      <th>to_station_id</th>\n",
       "      <th>to_station_name</th>\n",
       "      <th>usertype</th>\n",
       "      <th>gender</th>\n",
       "      <th>birthyear</th>\n",
       "    </tr>\n",
       "  </thead>\n",
       "  <tbody>\n",
       "    <tr>\n",
       "      <th>0</th>\n",
       "      <td>12979228</td>\n",
       "      <td>2016-12-31 23:57:52</td>\n",
       "      <td>2017-01-01 00:06:44</td>\n",
       "      <td>5076</td>\n",
       "      <td>532</td>\n",
       "      <td>502</td>\n",
       "      <td>California Ave &amp; Altgeld St</td>\n",
       "      <td>258</td>\n",
       "      <td>Logan Blvd &amp; Elston Ave</td>\n",
       "      <td>Customer</td>\n",
       "      <td>Unknown</td>\n",
       "      <td>0.0</td>\n",
       "    </tr>\n",
       "    <tr>\n",
       "      <th>1</th>\n",
       "      <td>12979227</td>\n",
       "      <td>2016-12-31 23:53:18</td>\n",
       "      <td>2017-01-01 00:08:13</td>\n",
       "      <td>5114</td>\n",
       "      <td>895</td>\n",
       "      <td>195</td>\n",
       "      <td>Columbus Dr &amp; Randolph St</td>\n",
       "      <td>25</td>\n",
       "      <td>Michigan Ave &amp; Pearson St</td>\n",
       "      <td>Customer</td>\n",
       "      <td>Unknown</td>\n",
       "      <td>0.0</td>\n",
       "    </tr>\n",
       "    <tr>\n",
       "      <th>2</th>\n",
       "      <td>12979226</td>\n",
       "      <td>2016-12-31 23:53:07</td>\n",
       "      <td>2017-01-01 00:08:38</td>\n",
       "      <td>1026</td>\n",
       "      <td>931</td>\n",
       "      <td>195</td>\n",
       "      <td>Columbus Dr &amp; Randolph St</td>\n",
       "      <td>25</td>\n",
       "      <td>Michigan Ave &amp; Pearson St</td>\n",
       "      <td>Customer</td>\n",
       "      <td>Unknown</td>\n",
       "      <td>0.0</td>\n",
       "    </tr>\n",
       "    <tr>\n",
       "      <th>3</th>\n",
       "      <td>12979225</td>\n",
       "      <td>2016-12-31 23:51:31</td>\n",
       "      <td>2017-01-01 00:07:41</td>\n",
       "      <td>504</td>\n",
       "      <td>970</td>\n",
       "      <td>199</td>\n",
       "      <td>Wabash Ave &amp; Grand Ave</td>\n",
       "      <td>35</td>\n",
       "      <td>Streeter Dr &amp; Grand Ave</td>\n",
       "      <td>Subscriber</td>\n",
       "      <td>Male</td>\n",
       "      <td>1985.0</td>\n",
       "    </tr>\n",
       "    <tr>\n",
       "      <th>4</th>\n",
       "      <td>12979224</td>\n",
       "      <td>2016-12-31 23:51:31</td>\n",
       "      <td>2017-01-01 00:07:51</td>\n",
       "      <td>4451</td>\n",
       "      <td>980</td>\n",
       "      <td>199</td>\n",
       "      <td>Wabash Ave &amp; Grand Ave</td>\n",
       "      <td>35</td>\n",
       "      <td>Streeter Dr &amp; Grand Ave</td>\n",
       "      <td>Subscriber</td>\n",
       "      <td>Female</td>\n",
       "      <td>1985.0</td>\n",
       "    </tr>\n",
       "    <tr>\n",
       "      <th>6</th>\n",
       "      <td>12979222</td>\n",
       "      <td>2016-12-31 23:47:33</td>\n",
       "      <td>2017-01-01 00:18:36</td>\n",
       "      <td>48</td>\n",
       "      <td>1863</td>\n",
       "      <td>177</td>\n",
       "      <td>Theater on the Lake</td>\n",
       "      <td>140</td>\n",
       "      <td>Dearborn Pkwy &amp; Delaware Pl</td>\n",
       "      <td>Customer</td>\n",
       "      <td>Unknown</td>\n",
       "      <td>0.0</td>\n",
       "    </tr>\n",
       "    <tr>\n",
       "      <th>7</th>\n",
       "      <td>12979221</td>\n",
       "      <td>2016-12-31 23:47:03</td>\n",
       "      <td>2017-01-01 00:18:10</td>\n",
       "      <td>2865</td>\n",
       "      <td>1867</td>\n",
       "      <td>177</td>\n",
       "      <td>Theater on the Lake</td>\n",
       "      <td>140</td>\n",
       "      <td>Dearborn Pkwy &amp; Delaware Pl</td>\n",
       "      <td>Customer</td>\n",
       "      <td>Unknown</td>\n",
       "      <td>0.0</td>\n",
       "    </tr>\n",
       "    <tr>\n",
       "      <th>8</th>\n",
       "      <td>12979220</td>\n",
       "      <td>2016-12-31 23:45:41</td>\n",
       "      <td>2017-01-01 00:13:17</td>\n",
       "      <td>1779</td>\n",
       "      <td>1656</td>\n",
       "      <td>195</td>\n",
       "      <td>Columbus Dr &amp; Randolph St</td>\n",
       "      <td>195</td>\n",
       "      <td>Columbus Dr &amp; Randolph St</td>\n",
       "      <td>Customer</td>\n",
       "      <td>Unknown</td>\n",
       "      <td>0.0</td>\n",
       "    </tr>\n",
       "    <tr>\n",
       "      <th>11</th>\n",
       "      <td>12979217</td>\n",
       "      <td>2016-12-31 23:43:27</td>\n",
       "      <td>2017-01-01 00:42:04</td>\n",
       "      <td>5253</td>\n",
       "      <td>3517</td>\n",
       "      <td>77</td>\n",
       "      <td>Clinton St &amp; Madison St</td>\n",
       "      <td>77</td>\n",
       "      <td>Clinton St &amp; Madison St</td>\n",
       "      <td>Customer</td>\n",
       "      <td>Unknown</td>\n",
       "      <td>0.0</td>\n",
       "    </tr>\n",
       "    <tr>\n",
       "      <th>14</th>\n",
       "      <td>12979214</td>\n",
       "      <td>2016-12-31 23:43:11</td>\n",
       "      <td>2017-01-01 00:42:04</td>\n",
       "      <td>2748</td>\n",
       "      <td>3533</td>\n",
       "      <td>77</td>\n",
       "      <td>Clinton St &amp; Madison St</td>\n",
       "      <td>77</td>\n",
       "      <td>Clinton St &amp; Madison St</td>\n",
       "      <td>Customer</td>\n",
       "      <td>Unknown</td>\n",
       "      <td>0.0</td>\n",
       "    </tr>\n",
       "    <tr>\n",
       "      <th>55</th>\n",
       "      <td>12979172</td>\n",
       "      <td>2016-12-31 22:08:18</td>\n",
       "      <td>2017-01-01 00:26:38</td>\n",
       "      <td>2956</td>\n",
       "      <td>8300</td>\n",
       "      <td>76</td>\n",
       "      <td>Lake Shore Dr &amp; Monroe St</td>\n",
       "      <td>76</td>\n",
       "      <td>Lake Shore Dr &amp; Monroe St</td>\n",
       "      <td>Customer</td>\n",
       "      <td>Unknown</td>\n",
       "      <td>0.0</td>\n",
       "    </tr>\n",
       "    <tr>\n",
       "      <th>56</th>\n",
       "      <td>12979171</td>\n",
       "      <td>2016-12-31 22:07:59</td>\n",
       "      <td>2017-01-01 00:26:38</td>\n",
       "      <td>4460</td>\n",
       "      <td>8319</td>\n",
       "      <td>76</td>\n",
       "      <td>Lake Shore Dr &amp; Monroe St</td>\n",
       "      <td>76</td>\n",
       "      <td>Lake Shore Dr &amp; Monroe St</td>\n",
       "      <td>Customer</td>\n",
       "      <td>Unknown</td>\n",
       "      <td>0.0</td>\n",
       "    </tr>\n",
       "    <tr>\n",
       "      <th>362</th>\n",
       "      <td>12978575</td>\n",
       "      <td>2016-12-31 17:06:41</td>\n",
       "      <td>2017-01-01 01:31:01</td>\n",
       "      <td>5440</td>\n",
       "      <td>30260</td>\n",
       "      <td>194</td>\n",
       "      <td>Wabash Ave &amp; Wacker Pl</td>\n",
       "      <td>125</td>\n",
       "      <td>Rush St &amp; Hubbard St</td>\n",
       "      <td>Customer</td>\n",
       "      <td>Unknown</td>\n",
       "      <td>0.0</td>\n",
       "    </tr>\n",
       "  </tbody>\n",
       "</table>\n",
       "</div>"
      ],
      "text/plain": [
       "      trip_id           starttime            stoptime  bikeid  tripduration  \\\n",
       "0    12979228 2016-12-31 23:57:52 2017-01-01 00:06:44    5076           532   \n",
       "1    12979227 2016-12-31 23:53:18 2017-01-01 00:08:13    5114           895   \n",
       "2    12979226 2016-12-31 23:53:07 2017-01-01 00:08:38    1026           931   \n",
       "3    12979225 2016-12-31 23:51:31 2017-01-01 00:07:41     504           970   \n",
       "4    12979224 2016-12-31 23:51:31 2017-01-01 00:07:51    4451           980   \n",
       "6    12979222 2016-12-31 23:47:33 2017-01-01 00:18:36      48          1863   \n",
       "7    12979221 2016-12-31 23:47:03 2017-01-01 00:18:10    2865          1867   \n",
       "8    12979220 2016-12-31 23:45:41 2017-01-01 00:13:17    1779          1656   \n",
       "11   12979217 2016-12-31 23:43:27 2017-01-01 00:42:04    5253          3517   \n",
       "14   12979214 2016-12-31 23:43:11 2017-01-01 00:42:04    2748          3533   \n",
       "55   12979172 2016-12-31 22:08:18 2017-01-01 00:26:38    2956          8300   \n",
       "56   12979171 2016-12-31 22:07:59 2017-01-01 00:26:38    4460          8319   \n",
       "362  12978575 2016-12-31 17:06:41 2017-01-01 01:31:01    5440         30260   \n",
       "\n",
       "     from_station_id            from_station_name  to_station_id  \\\n",
       "0                502  California Ave & Altgeld St            258   \n",
       "1                195    Columbus Dr & Randolph St             25   \n",
       "2                195    Columbus Dr & Randolph St             25   \n",
       "3                199       Wabash Ave & Grand Ave             35   \n",
       "4                199       Wabash Ave & Grand Ave             35   \n",
       "6                177          Theater on the Lake            140   \n",
       "7                177          Theater on the Lake            140   \n",
       "8                195    Columbus Dr & Randolph St            195   \n",
       "11                77      Clinton St & Madison St             77   \n",
       "14                77      Clinton St & Madison St             77   \n",
       "55                76    Lake Shore Dr & Monroe St             76   \n",
       "56                76    Lake Shore Dr & Monroe St             76   \n",
       "362              194       Wabash Ave & Wacker Pl            125   \n",
       "\n",
       "                 to_station_name    usertype   gender  birthyear  \n",
       "0        Logan Blvd & Elston Ave    Customer  Unknown        0.0  \n",
       "1      Michigan Ave & Pearson St    Customer  Unknown        0.0  \n",
       "2      Michigan Ave & Pearson St    Customer  Unknown        0.0  \n",
       "3        Streeter Dr & Grand Ave  Subscriber     Male     1985.0  \n",
       "4        Streeter Dr & Grand Ave  Subscriber   Female     1985.0  \n",
       "6    Dearborn Pkwy & Delaware Pl    Customer  Unknown        0.0  \n",
       "7    Dearborn Pkwy & Delaware Pl    Customer  Unknown        0.0  \n",
       "8      Columbus Dr & Randolph St    Customer  Unknown        0.0  \n",
       "11       Clinton St & Madison St    Customer  Unknown        0.0  \n",
       "14       Clinton St & Madison St    Customer  Unknown        0.0  \n",
       "55     Lake Shore Dr & Monroe St    Customer  Unknown        0.0  \n",
       "56     Lake Shore Dr & Monroe St    Customer  Unknown        0.0  \n",
       "362         Rush St & Hubbard St    Customer  Unknown        0.0  "
      ]
     },
     "execution_count": 36,
     "metadata": {},
     "output_type": "execute_result"
    }
   ],
   "source": [
    "df9.loc[df9['stoptime'].dt.year != 2016]"
   ]
  },
  {
   "cell_type": "code",
   "execution_count": 37,
   "metadata": {},
   "outputs": [],
   "source": [
    "df9.drop([0, 1, 2, 3, 4, 5, 6, 7, 8, 11, 14, 55, 56, 362], axis=0, inplace=True)"
   ]
  },
  {
   "cell_type": "code",
   "execution_count": 38,
   "metadata": {},
   "outputs": [
    {
     "data": {
      "text/html": [
       "<div>\n",
       "<style scoped>\n",
       "    .dataframe tbody tr th:only-of-type {\n",
       "        vertical-align: middle;\n",
       "    }\n",
       "\n",
       "    .dataframe tbody tr th {\n",
       "        vertical-align: top;\n",
       "    }\n",
       "\n",
       "    .dataframe thead th {\n",
       "        text-align: right;\n",
       "    }\n",
       "</style>\n",
       "<table border=\"1\" class=\"dataframe\">\n",
       "  <thead>\n",
       "    <tr style=\"text-align: right;\">\n",
       "      <th></th>\n",
       "      <th>trip_id</th>\n",
       "      <th>starttime</th>\n",
       "      <th>stoptime</th>\n",
       "      <th>bikeid</th>\n",
       "      <th>tripduration</th>\n",
       "      <th>from_station_id</th>\n",
       "      <th>from_station_name</th>\n",
       "      <th>to_station_id</th>\n",
       "      <th>to_station_name</th>\n",
       "      <th>usertype</th>\n",
       "      <th>gender</th>\n",
       "      <th>birthyear</th>\n",
       "    </tr>\n",
       "  </thead>\n",
       "  <tbody>\n",
       "  </tbody>\n",
       "</table>\n",
       "</div>"
      ],
      "text/plain": [
       "Empty DataFrame\n",
       "Columns: [trip_id, starttime, stoptime, bikeid, tripduration, from_station_id, from_station_name, to_station_id, to_station_name, usertype, gender, birthyear]\n",
       "Index: []"
      ]
     },
     "execution_count": 38,
     "metadata": {},
     "output_type": "execute_result"
    }
   ],
   "source": [
    "df9.loc[df9['starttime'].dt.year != 2016]"
   ]
  },
  {
   "cell_type": "code",
   "execution_count": 39,
   "metadata": {},
   "outputs": [
    {
     "name": "stdout",
     "output_type": "stream",
     "text": [
      "<class 'pandas.core.frame.DataFrame'>\n",
      "Int64Index: 683818 entries, 9 to 683831\n",
      "Data columns (total 12 columns):\n",
      " #   Column             Non-Null Count   Dtype         \n",
      "---  ------             --------------   -----         \n",
      " 0   trip_id            683818 non-null  int64         \n",
      " 1   starttime          683818 non-null  datetime64[ns]\n",
      " 2   stoptime           683818 non-null  datetime64[ns]\n",
      " 3   bikeid             683818 non-null  int64         \n",
      " 4   tripduration       683818 non-null  int64         \n",
      " 5   from_station_id    683818 non-null  int64         \n",
      " 6   from_station_name  683818 non-null  object        \n",
      " 7   to_station_id      683818 non-null  int64         \n",
      " 8   to_station_name    683818 non-null  object        \n",
      " 9   usertype           683818 non-null  object        \n",
      " 10  gender             683818 non-null  object        \n",
      " 11  birthyear          683818 non-null  float64       \n",
      "dtypes: datetime64[ns](2), float64(1), int64(5), object(4)\n",
      "memory usage: 67.8+ MB\n"
     ]
    }
   ],
   "source": [
    "df9.info(verbose=True)"
   ]
  },
  {
   "cell_type": "code",
   "execution_count": 40,
   "metadata": {},
   "outputs": [
    {
     "name": "stdout",
     "output_type": "stream",
     "text": [
      "<class 'pandas.core.frame.DataFrame'>\n",
      "RangeIndex: 535 entries, 0 to 534\n",
      "Data columns (total 6 columns):\n",
      " #   Column       Non-Null Count  Dtype  \n",
      "---  ------       --------------  -----  \n",
      " 0   id           535 non-null    int64  \n",
      " 1   name         535 non-null    object \n",
      " 2   latitude     535 non-null    float64\n",
      " 3   longitude    535 non-null    float64\n",
      " 4   dpcapacity   535 non-null    int64  \n",
      " 5   online_date  535 non-null    object \n",
      "dtypes: float64(2), int64(2), object(2)\n",
      "memory usage: 25.2+ KB\n"
     ]
    }
   ],
   "source": [
    "df2.info(verbose=True)"
   ]
  },
  {
   "cell_type": "code",
   "execution_count": 41,
   "metadata": {},
   "outputs": [],
   "source": [
    "df2.rename(columns = {'online_date':'online date'}, inplace = True)"
   ]
  },
  {
   "cell_type": "code",
   "execution_count": 42,
   "metadata": {},
   "outputs": [],
   "source": [
    "df2[\"online date\"] = pd.to_datetime(df2[\"online date\"])"
   ]
  },
  {
   "cell_type": "code",
   "execution_count": 43,
   "metadata": {},
   "outputs": [
    {
     "name": "stdout",
     "output_type": "stream",
     "text": [
      "<class 'pandas.core.frame.DataFrame'>\n",
      "RangeIndex: 535 entries, 0 to 534\n",
      "Data columns (total 6 columns):\n",
      " #   Column       Non-Null Count  Dtype         \n",
      "---  ------       --------------  -----         \n",
      " 0   id           535 non-null    int64         \n",
      " 1   name         535 non-null    object        \n",
      " 2   latitude     535 non-null    float64       \n",
      " 3   longitude    535 non-null    float64       \n",
      " 4   dpcapacity   535 non-null    int64         \n",
      " 5   online date  535 non-null    datetime64[ns]\n",
      "dtypes: datetime64[ns](1), float64(2), int64(2), object(1)\n",
      "memory usage: 25.2+ KB\n"
     ]
    }
   ],
   "source": [
    "df2.info(verbose=True)"
   ]
  },
  {
   "cell_type": "code",
   "execution_count": 44,
   "metadata": {},
   "outputs": [
    {
     "name": "stdout",
     "output_type": "stream",
     "text": [
      "<class 'pandas.core.frame.DataFrame'>\n",
      "RangeIndex: 581 entries, 0 to 580\n",
      "Data columns (total 6 columns):\n",
      " #   Column       Non-Null Count  Dtype  \n",
      "---  ------       --------------  -----  \n",
      " 0   id           581 non-null    int64  \n",
      " 1   name         581 non-null    object \n",
      " 2   latitude     581 non-null    float64\n",
      " 3   longitude    581 non-null    float64\n",
      " 4   dpcapacity   581 non-null    int64  \n",
      " 5   online_date  581 non-null    object \n",
      "dtypes: float64(2), int64(2), object(2)\n",
      "memory usage: 27.4+ KB\n"
     ]
    }
   ],
   "source": [
    "df7.info(verbose=True)"
   ]
  },
  {
   "cell_type": "code",
   "execution_count": 45,
   "metadata": {},
   "outputs": [],
   "source": [
    "df7.rename(columns = {'online_date':'online date'}, inplace = True)"
   ]
  },
  {
   "cell_type": "code",
   "execution_count": 46,
   "metadata": {},
   "outputs": [],
   "source": [
    "df7[\"online date\"] = pd.to_datetime(df7[\"online date\"])"
   ]
  },
  {
   "cell_type": "code",
   "execution_count": 47,
   "metadata": {},
   "outputs": [
    {
     "name": "stdout",
     "output_type": "stream",
     "text": [
      "<class 'pandas.core.frame.DataFrame'>\n",
      "RangeIndex: 581 entries, 0 to 580\n",
      "Data columns (total 6 columns):\n",
      " #   Column       Non-Null Count  Dtype         \n",
      "---  ------       --------------  -----         \n",
      " 0   id           581 non-null    int64         \n",
      " 1   name         581 non-null    object        \n",
      " 2   latitude     581 non-null    float64       \n",
      " 3   longitude    581 non-null    float64       \n",
      " 4   dpcapacity   581 non-null    int64         \n",
      " 5   online date  581 non-null    datetime64[ns]\n",
      "dtypes: datetime64[ns](1), float64(2), int64(2), object(1)\n",
      "memory usage: 27.4+ KB\n"
     ]
    }
   ],
   "source": [
    "df7.info(verbose=True)"
   ]
  },
  {
   "cell_type": "code",
   "execution_count": 48,
   "metadata": {},
   "outputs": [
    {
     "name": "stdout",
     "output_type": "stream",
     "text": [
      "<class 'pandas.core.frame.DataFrame'>\n",
      "RangeIndex: 581 entries, 0 to 580\n",
      "Data columns (total 6 columns):\n",
      " #   Column       Non-Null Count  Dtype  \n",
      "---  ------       --------------  -----  \n",
      " 0   id           581 non-null    int64  \n",
      " 1   name         581 non-null    object \n",
      " 2   latitude     581 non-null    float64\n",
      " 3   longitude    581 non-null    float64\n",
      " 4   dpcapacity   581 non-null    int64  \n",
      " 5   online_date  581 non-null    object \n",
      "dtypes: float64(2), int64(2), object(2)\n",
      "memory usage: 27.4+ KB\n"
     ]
    }
   ],
   "source": [
    "df8.info(verbose=True)"
   ]
  },
  {
   "cell_type": "code",
   "execution_count": 49,
   "metadata": {},
   "outputs": [],
   "source": [
    "df8.rename(columns = {'online_date':'online date'}, inplace = True)"
   ]
  },
  {
   "cell_type": "code",
   "execution_count": 50,
   "metadata": {},
   "outputs": [],
   "source": [
    "df8[\"online date\"] = pd.to_datetime(df8[\"online date\"])"
   ]
  },
  {
   "cell_type": "code",
   "execution_count": 51,
   "metadata": {},
   "outputs": [
    {
     "name": "stdout",
     "output_type": "stream",
     "text": [
      "<class 'pandas.core.frame.DataFrame'>\n",
      "RangeIndex: 581 entries, 0 to 580\n",
      "Data columns (total 6 columns):\n",
      " #   Column       Non-Null Count  Dtype         \n",
      "---  ------       --------------  -----         \n",
      " 0   id           581 non-null    int64         \n",
      " 1   name         581 non-null    object        \n",
      " 2   latitude     581 non-null    float64       \n",
      " 3   longitude    581 non-null    float64       \n",
      " 4   dpcapacity   581 non-null    int64         \n",
      " 5   online date  581 non-null    datetime64[ns]\n",
      "dtypes: datetime64[ns](1), float64(2), int64(2), object(1)\n",
      "memory usage: 27.4+ KB\n"
     ]
    }
   ],
   "source": [
    "df8.info(verbose=True)"
   ]
  },
  {
   "cell_type": "markdown",
   "metadata": {},
   "source": [
    "* concat and result in 2 cleaned CSVs. Revert from variables back to cleaned CSV."
   ]
  }
 ],
 "metadata": {
  "kernelspec": {
   "display_name": "Python 3.10.6 64-bit",
   "language": "python",
   "name": "python3"
  },
  "language_info": {
   "codemirror_mode": {
    "name": "ipython",
    "version": 3
   },
   "file_extension": ".py",
   "mimetype": "text/x-python",
   "name": "python",
   "nbconvert_exporter": "python",
   "pygments_lexer": "ipython3",
   "version": "3.10.6"
  },
  "orig_nbformat": 4,
  "vscode": {
   "interpreter": {
    "hash": "aee8b7b246df8f9039afb4144a1f6fd8d2ca17a180786b69acc140d282b71a49"
   }
  }
 },
 "nbformat": 4,
 "nbformat_minor": 2
}

{
 "cells": [
  {
   "cell_type": "code",
   "execution_count": 1,
   "metadata": {},
   "outputs": [],
   "source": [
    "import pandas as pd\n",
    "import numpy as np"
   ]
  },
  {
   "cell_type": "code",
   "execution_count": 2,
   "metadata": {},
   "outputs": [],
   "source": [
    "df1 = pd.read_csv('/Users/terrygilmore/Desktop/Divvy_DB/Divvy_Stations_Trips_2018/Divvy_Trips_2018_Q1.csv')\n",
    "df2 = pd.read_csv('/Users/terrygilmore/Desktop/Divvy_DB/Divvy_Stations_Trips_2018/Divvy_Trips_2018_Q2.csv')\n",
    "df3 = pd.read_csv('/Users/terrygilmore/Desktop/Divvy_DB/Divvy_Stations_Trips_2018/Divvy_Trips_2018_Q3.csv')\n",
    "df4 = pd.read_csv('/Users/terrygilmore/Desktop/Divvy_DB/Divvy_Stations_Trips_2018/Divvy_Trips_2018_Q4.csv')"
   ]
  },
  {
   "cell_type": "code",
   "execution_count": 3,
   "metadata": {},
   "outputs": [
    {
     "name": "stdout",
     "output_type": "stream",
     "text": [
      "<class 'pandas.core.frame.DataFrame'>\n",
      "RangeIndex: 387145 entries, 0 to 387144\n",
      "Data columns (total 12 columns):\n",
      " #   Column                                            Non-Null Count   Dtype  \n",
      "---  ------                                            --------------   -----  \n",
      " 0   01 - Rental Details Rental ID                     387145 non-null  int64  \n",
      " 1   01 - Rental Details Local Start Time              387145 non-null  object \n",
      " 2   01 - Rental Details Local End Time                387145 non-null  object \n",
      " 3   01 - Rental Details Bike ID                       387145 non-null  int64  \n",
      " 4   01 - Rental Details Duration In Seconds Uncapped  387145 non-null  object \n",
      " 5   03 - Rental Start Station ID                      387145 non-null  int64  \n",
      " 6   03 - Rental Start Station Name                    387145 non-null  object \n",
      " 7   02 - Rental End Station ID                        387145 non-null  int64  \n",
      " 8   02 - Rental End Station Name                      387145 non-null  object \n",
      " 9   User Type                                         387145 non-null  object \n",
      " 10  Member Gender                                     364652 non-null  object \n",
      " 11  05 - Member Details Member Birthday Year          364823 non-null  float64\n",
      "dtypes: float64(1), int64(4), object(7)\n",
      "memory usage: 35.4+ MB\n"
     ]
    }
   ],
   "source": [
    "df1.info(verbose=True)"
   ]
  },
  {
   "cell_type": "code",
   "execution_count": 4,
   "metadata": {},
   "outputs": [],
   "source": [
    "df1.rename(columns = {'01 - Rental Details Rental ID':'trip_id'}, inplace = True)\n",
    "df1.rename(columns = {'01 - Rental Details Local Start Time':'starttime'}, inplace = True)\n",
    "df1.rename(columns = {'01 - Rental Details Local End Time':'stoptime'}, inplace = True)\n",
    "df1.rename(columns = {'01 - Rental Details Bike ID':'bikeid'}, inplace = True)\n",
    "df1.rename(columns = {'01 - Rental Details Duration In Seconds Uncapped':'tripduration'}, inplace = True)\n",
    "df1.rename(columns = {'03 - Rental Start Station ID':'from_station_id'}, inplace = True)\n",
    "df1.rename(columns = {'03 - Rental Start Station Name':'from_station_name'}, inplace = True)\n",
    "df1.rename(columns = {'02 - Rental End Station ID':'to_station_id'}, inplace = True)\n",
    "df1.rename(columns = {'02 - Rental End Station Name':'to_station_name'}, inplace = True)\n",
    "df1.rename(columns = {'User Type':'usertype'}, inplace = True)\n",
    "df1.rename(columns = {'Member Gender':'gender'}, inplace = True)\n",
    "df1.rename(columns = {'05 - Member Details Member Birthday Year':'birthyear'}, inplace = True)"
   ]
  },
  {
   "cell_type": "code",
   "execution_count": 5,
   "metadata": {},
   "outputs": [],
   "source": [
    "df1[\"starttime\"] = pd.to_datetime(df1[\"starttime\"])\n",
    "df1[\"stoptime\"] = pd.to_datetime(df1[\"stoptime\"])"
   ]
  },
  {
   "cell_type": "code",
   "execution_count": 6,
   "metadata": {},
   "outputs": [
    {
     "name": "stdout",
     "output_type": "stream",
     "text": [
      "<class 'pandas.core.frame.DataFrame'>\n",
      "RangeIndex: 387145 entries, 0 to 387144\n",
      "Data columns (total 12 columns):\n",
      " #   Column             Non-Null Count   Dtype         \n",
      "---  ------             --------------   -----         \n",
      " 0   trip_id            387145 non-null  int64         \n",
      " 1   starttime          387145 non-null  datetime64[ns]\n",
      " 2   stoptime           387145 non-null  datetime64[ns]\n",
      " 3   bikeid             387145 non-null  int64         \n",
      " 4   tripduration       387145 non-null  object        \n",
      " 5   from_station_id    387145 non-null  int64         \n",
      " 6   from_station_name  387145 non-null  object        \n",
      " 7   to_station_id      387145 non-null  int64         \n",
      " 8   to_station_name    387145 non-null  object        \n",
      " 9   usertype           387145 non-null  object        \n",
      " 10  gender             364652 non-null  object        \n",
      " 11  birthyear          364823 non-null  float64       \n",
      "dtypes: datetime64[ns](2), float64(1), int64(4), object(5)\n",
      "memory usage: 35.4+ MB\n"
     ]
    }
   ],
   "source": [
    "df1.info(verbose=True)"
   ]
  },
  {
   "cell_type": "code",
   "execution_count": 7,
   "metadata": {},
   "outputs": [],
   "source": [
    "df1['tripduration'] = df1['tripduration'].str.replace(',', '').astype(float)"
   ]
  },
  {
   "cell_type": "code",
   "execution_count": 8,
   "metadata": {},
   "outputs": [
    {
     "name": "stdout",
     "output_type": "stream",
     "text": [
      "<class 'pandas.core.frame.DataFrame'>\n",
      "RangeIndex: 387145 entries, 0 to 387144\n",
      "Data columns (total 12 columns):\n",
      " #   Column             Non-Null Count   Dtype         \n",
      "---  ------             --------------   -----         \n",
      " 0   trip_id            387145 non-null  int64         \n",
      " 1   starttime          387145 non-null  datetime64[ns]\n",
      " 2   stoptime           387145 non-null  datetime64[ns]\n",
      " 3   bikeid             387145 non-null  int64         \n",
      " 4   tripduration       387145 non-null  float64       \n",
      " 5   from_station_id    387145 non-null  int64         \n",
      " 6   from_station_name  387145 non-null  object        \n",
      " 7   to_station_id      387145 non-null  int64         \n",
      " 8   to_station_name    387145 non-null  object        \n",
      " 9   usertype           387145 non-null  object        \n",
      " 10  gender             364652 non-null  object        \n",
      " 11  birthyear          364823 non-null  float64       \n",
      "dtypes: datetime64[ns](2), float64(2), int64(4), object(4)\n",
      "memory usage: 35.4+ MB\n"
     ]
    }
   ],
   "source": [
    "df1.info(verbose=True)"
   ]
  },
  {
   "cell_type": "code",
   "execution_count": 9,
   "metadata": {},
   "outputs": [],
   "source": [
    "df1['tripduration'] = df1['tripduration'].astype(int)"
   ]
  },
  {
   "cell_type": "code",
   "execution_count": 10,
   "metadata": {},
   "outputs": [
    {
     "name": "stdout",
     "output_type": "stream",
     "text": [
      "<class 'pandas.core.frame.DataFrame'>\n",
      "RangeIndex: 387145 entries, 0 to 387144\n",
      "Data columns (total 12 columns):\n",
      " #   Column             Non-Null Count   Dtype         \n",
      "---  ------             --------------   -----         \n",
      " 0   trip_id            387145 non-null  int64         \n",
      " 1   starttime          387145 non-null  datetime64[ns]\n",
      " 2   stoptime           387145 non-null  datetime64[ns]\n",
      " 3   bikeid             387145 non-null  int64         \n",
      " 4   tripduration       387145 non-null  int64         \n",
      " 5   from_station_id    387145 non-null  int64         \n",
      " 6   from_station_name  387145 non-null  object        \n",
      " 7   to_station_id      387145 non-null  int64         \n",
      " 8   to_station_name    387145 non-null  object        \n",
      " 9   usertype           387145 non-null  object        \n",
      " 10  gender             364652 non-null  object        \n",
      " 11  birthyear          364823 non-null  float64       \n",
      "dtypes: datetime64[ns](2), float64(1), int64(5), object(4)\n",
      "memory usage: 35.4+ MB\n"
     ]
    }
   ],
   "source": [
    "df1.info(verbose=True)"
   ]
  },
  {
   "cell_type": "code",
   "execution_count": 11,
   "metadata": {},
   "outputs": [],
   "source": [
    "df1.loc[df1['gender'].isnull(), 'gender'] = 'Unknown'\n",
    "df1.loc[df1['birthyear'].isnull(), 'birthyear'] = 0"
   ]
  },
  {
   "cell_type": "code",
   "execution_count": 12,
   "metadata": {},
   "outputs": [
    {
     "data": {
      "text/html": [
       "<div>\n",
       "<style scoped>\n",
       "    .dataframe tbody tr th:only-of-type {\n",
       "        vertical-align: middle;\n",
       "    }\n",
       "\n",
       "    .dataframe tbody tr th {\n",
       "        vertical-align: top;\n",
       "    }\n",
       "\n",
       "    .dataframe thead th {\n",
       "        text-align: right;\n",
       "    }\n",
       "</style>\n",
       "<table border=\"1\" class=\"dataframe\">\n",
       "  <thead>\n",
       "    <tr style=\"text-align: right;\">\n",
       "      <th></th>\n",
       "      <th>trip_id</th>\n",
       "      <th>starttime</th>\n",
       "      <th>stoptime</th>\n",
       "      <th>bikeid</th>\n",
       "      <th>tripduration</th>\n",
       "      <th>from_station_id</th>\n",
       "      <th>from_station_name</th>\n",
       "      <th>to_station_id</th>\n",
       "      <th>to_station_name</th>\n",
       "      <th>usertype</th>\n",
       "      <th>gender</th>\n",
       "      <th>birthyear</th>\n",
       "    </tr>\n",
       "  </thead>\n",
       "  <tbody>\n",
       "  </tbody>\n",
       "</table>\n",
       "</div>"
      ],
      "text/plain": [
       "Empty DataFrame\n",
       "Columns: [trip_id, starttime, stoptime, bikeid, tripduration, from_station_id, from_station_name, to_station_id, to_station_name, usertype, gender, birthyear]\n",
       "Index: []"
      ]
     },
     "execution_count": 12,
     "metadata": {},
     "output_type": "execute_result"
    }
   ],
   "source": [
    "df1.loc[df1['stoptime'].dt.year != 2018]"
   ]
  },
  {
   "cell_type": "code",
   "execution_count": 13,
   "metadata": {},
   "outputs": [
    {
     "data": {
      "text/html": [
       "<div>\n",
       "<style scoped>\n",
       "    .dataframe tbody tr th:only-of-type {\n",
       "        vertical-align: middle;\n",
       "    }\n",
       "\n",
       "    .dataframe tbody tr th {\n",
       "        vertical-align: top;\n",
       "    }\n",
       "\n",
       "    .dataframe thead th {\n",
       "        text-align: right;\n",
       "    }\n",
       "</style>\n",
       "<table border=\"1\" class=\"dataframe\">\n",
       "  <thead>\n",
       "    <tr style=\"text-align: right;\">\n",
       "      <th></th>\n",
       "      <th>trip_id</th>\n",
       "      <th>starttime</th>\n",
       "      <th>stoptime</th>\n",
       "      <th>bikeid</th>\n",
       "      <th>tripduration</th>\n",
       "      <th>from_station_id</th>\n",
       "      <th>from_station_name</th>\n",
       "      <th>to_station_id</th>\n",
       "      <th>to_station_name</th>\n",
       "      <th>usertype</th>\n",
       "      <th>gender</th>\n",
       "      <th>birthyear</th>\n",
       "    </tr>\n",
       "  </thead>\n",
       "  <tbody>\n",
       "  </tbody>\n",
       "</table>\n",
       "</div>"
      ],
      "text/plain": [
       "Empty DataFrame\n",
       "Columns: [trip_id, starttime, stoptime, bikeid, tripduration, from_station_id, from_station_name, to_station_id, to_station_name, usertype, gender, birthyear]\n",
       "Index: []"
      ]
     },
     "execution_count": 13,
     "metadata": {},
     "output_type": "execute_result"
    }
   ],
   "source": [
    "df1.loc[df1['starttime'].dt.year != 2018]"
   ]
  },
  {
   "cell_type": "code",
   "execution_count": 14,
   "metadata": {},
   "outputs": [
    {
     "name": "stdout",
     "output_type": "stream",
     "text": [
      "<class 'pandas.core.frame.DataFrame'>\n",
      "RangeIndex: 387145 entries, 0 to 387144\n",
      "Data columns (total 12 columns):\n",
      " #   Column             Non-Null Count   Dtype         \n",
      "---  ------             --------------   -----         \n",
      " 0   trip_id            387145 non-null  int64         \n",
      " 1   starttime          387145 non-null  datetime64[ns]\n",
      " 2   stoptime           387145 non-null  datetime64[ns]\n",
      " 3   bikeid             387145 non-null  int64         \n",
      " 4   tripduration       387145 non-null  int64         \n",
      " 5   from_station_id    387145 non-null  int64         \n",
      " 6   from_station_name  387145 non-null  object        \n",
      " 7   to_station_id      387145 non-null  int64         \n",
      " 8   to_station_name    387145 non-null  object        \n",
      " 9   usertype           387145 non-null  object        \n",
      " 10  gender             387145 non-null  object        \n",
      " 11  birthyear          387145 non-null  float64       \n",
      "dtypes: datetime64[ns](2), float64(1), int64(5), object(4)\n",
      "memory usage: 35.4+ MB\n"
     ]
    }
   ],
   "source": [
    "df1.info(verbose=True)"
   ]
  },
  {
   "cell_type": "code",
   "execution_count": 15,
   "metadata": {},
   "outputs": [
    {
     "name": "stdout",
     "output_type": "stream",
     "text": [
      "<class 'pandas.core.frame.DataFrame'>\n",
      "RangeIndex: 1059681 entries, 0 to 1059680\n",
      "Data columns (total 12 columns):\n",
      " #   Column             Non-Null Count    Dtype  \n",
      "---  ------             --------------    -----  \n",
      " 0   trip_id            1059681 non-null  int64  \n",
      " 1   start_time         1059681 non-null  object \n",
      " 2   end_time           1059681 non-null  object \n",
      " 3   bikeid             1059681 non-null  int64  \n",
      " 4   tripduration       1059681 non-null  object \n",
      " 5   from_station_id    1059681 non-null  int64  \n",
      " 6   from_station_name  1059681 non-null  object \n",
      " 7   to_station_id      1059681 non-null  int64  \n",
      " 8   to_station_name    1059681 non-null  object \n",
      " 9   usertype           1059681 non-null  object \n",
      " 10  gender             863047 non-null   object \n",
      " 11  birthyear          864540 non-null   float64\n",
      "dtypes: float64(1), int64(4), object(7)\n",
      "memory usage: 97.0+ MB\n"
     ]
    }
   ],
   "source": [
    "df2.info(verbose=True)"
   ]
  },
  {
   "cell_type": "code",
   "execution_count": 16,
   "metadata": {},
   "outputs": [],
   "source": [
    "df2.rename(columns = {'start_time':'starttime'}, inplace = True)\n",
    "df2.rename(columns = {'end_time' : 'stoptime'}, inplace = True)"
   ]
  },
  {
   "cell_type": "code",
   "execution_count": 17,
   "metadata": {},
   "outputs": [],
   "source": [
    "df2[\"starttime\"] = pd.to_datetime(df2[\"starttime\"])\n",
    "df2[\"stoptime\"] = pd.to_datetime(df2[\"stoptime\"])"
   ]
  },
  {
   "cell_type": "code",
   "execution_count": 18,
   "metadata": {},
   "outputs": [],
   "source": [
    "df2['tripduration'] = df2['tripduration'].str.replace(',', '').astype(float)"
   ]
  },
  {
   "cell_type": "code",
   "execution_count": 19,
   "metadata": {},
   "outputs": [],
   "source": [
    "df2['tripduration'] = df2['tripduration'].astype(int)"
   ]
  },
  {
   "cell_type": "code",
   "execution_count": 20,
   "metadata": {},
   "outputs": [
    {
     "data": {
      "text/html": [
       "<div>\n",
       "<style scoped>\n",
       "    .dataframe tbody tr th:only-of-type {\n",
       "        vertical-align: middle;\n",
       "    }\n",
       "\n",
       "    .dataframe tbody tr th {\n",
       "        vertical-align: top;\n",
       "    }\n",
       "\n",
       "    .dataframe thead th {\n",
       "        text-align: right;\n",
       "    }\n",
       "</style>\n",
       "<table border=\"1\" class=\"dataframe\">\n",
       "  <thead>\n",
       "    <tr style=\"text-align: right;\">\n",
       "      <th></th>\n",
       "      <th>trip_id</th>\n",
       "      <th>starttime</th>\n",
       "      <th>stoptime</th>\n",
       "      <th>bikeid</th>\n",
       "      <th>tripduration</th>\n",
       "      <th>from_station_id</th>\n",
       "      <th>from_station_name</th>\n",
       "      <th>to_station_id</th>\n",
       "      <th>to_station_name</th>\n",
       "      <th>usertype</th>\n",
       "      <th>gender</th>\n",
       "      <th>birthyear</th>\n",
       "    </tr>\n",
       "  </thead>\n",
       "  <tbody>\n",
       "  </tbody>\n",
       "</table>\n",
       "</div>"
      ],
      "text/plain": [
       "Empty DataFrame\n",
       "Columns: [trip_id, starttime, stoptime, bikeid, tripduration, from_station_id, from_station_name, to_station_id, to_station_name, usertype, gender, birthyear]\n",
       "Index: []"
      ]
     },
     "execution_count": 20,
     "metadata": {},
     "output_type": "execute_result"
    }
   ],
   "source": [
    "df2.loc[df2['starttime'].dt.year != 2018]"
   ]
  },
  {
   "cell_type": "code",
   "execution_count": 21,
   "metadata": {},
   "outputs": [
    {
     "data": {
      "text/html": [
       "<div>\n",
       "<style scoped>\n",
       "    .dataframe tbody tr th:only-of-type {\n",
       "        vertical-align: middle;\n",
       "    }\n",
       "\n",
       "    .dataframe tbody tr th {\n",
       "        vertical-align: top;\n",
       "    }\n",
       "\n",
       "    .dataframe thead th {\n",
       "        text-align: right;\n",
       "    }\n",
       "</style>\n",
       "<table border=\"1\" class=\"dataframe\">\n",
       "  <thead>\n",
       "    <tr style=\"text-align: right;\">\n",
       "      <th></th>\n",
       "      <th>trip_id</th>\n",
       "      <th>starttime</th>\n",
       "      <th>stoptime</th>\n",
       "      <th>bikeid</th>\n",
       "      <th>tripduration</th>\n",
       "      <th>from_station_id</th>\n",
       "      <th>from_station_name</th>\n",
       "      <th>to_station_id</th>\n",
       "      <th>to_station_name</th>\n",
       "      <th>usertype</th>\n",
       "      <th>gender</th>\n",
       "      <th>birthyear</th>\n",
       "    </tr>\n",
       "  </thead>\n",
       "  <tbody>\n",
       "  </tbody>\n",
       "</table>\n",
       "</div>"
      ],
      "text/plain": [
       "Empty DataFrame\n",
       "Columns: [trip_id, starttime, stoptime, bikeid, tripduration, from_station_id, from_station_name, to_station_id, to_station_name, usertype, gender, birthyear]\n",
       "Index: []"
      ]
     },
     "execution_count": 21,
     "metadata": {},
     "output_type": "execute_result"
    }
   ],
   "source": [
    "df2.loc[df2['stoptime'].dt.year != 2018]"
   ]
  },
  {
   "cell_type": "code",
   "execution_count": 22,
   "metadata": {},
   "outputs": [],
   "source": [
    "df2.loc[df2['gender'].isnull(), 'gender'] = 'Unknown'\n",
    "df2.loc[df2['birthyear'].isnull(), 'birthyear'] = 0"
   ]
  },
  {
   "cell_type": "code",
   "execution_count": 23,
   "metadata": {},
   "outputs": [
    {
     "name": "stdout",
     "output_type": "stream",
     "text": [
      "<class 'pandas.core.frame.DataFrame'>\n",
      "RangeIndex: 1059681 entries, 0 to 1059680\n",
      "Data columns (total 12 columns):\n",
      " #   Column             Non-Null Count    Dtype         \n",
      "---  ------             --------------    -----         \n",
      " 0   trip_id            1059681 non-null  int64         \n",
      " 1   starttime          1059681 non-null  datetime64[ns]\n",
      " 2   stoptime           1059681 non-null  datetime64[ns]\n",
      " 3   bikeid             1059681 non-null  int64         \n",
      " 4   tripduration       1059681 non-null  int64         \n",
      " 5   from_station_id    1059681 non-null  int64         \n",
      " 6   from_station_name  1059681 non-null  object        \n",
      " 7   to_station_id      1059681 non-null  int64         \n",
      " 8   to_station_name    1059681 non-null  object        \n",
      " 9   usertype           1059681 non-null  object        \n",
      " 10  gender             1059681 non-null  object        \n",
      " 11  birthyear          1059681 non-null  float64       \n",
      "dtypes: datetime64[ns](2), float64(1), int64(5), object(4)\n",
      "memory usage: 97.0+ MB\n"
     ]
    }
   ],
   "source": [
    "df2.info(verbose=True)"
   ]
  },
  {
   "cell_type": "code",
   "execution_count": 24,
   "metadata": {},
   "outputs": [
    {
     "name": "stdout",
     "output_type": "stream",
     "text": [
      "<class 'pandas.core.frame.DataFrame'>\n",
      "RangeIndex: 1513570 entries, 0 to 1513569\n",
      "Data columns (total 12 columns):\n",
      " #   Column             Non-Null Count    Dtype  \n",
      "---  ------             --------------    -----  \n",
      " 0   trip_id            1513570 non-null  int64  \n",
      " 1   start_time         1513570 non-null  object \n",
      " 2   end_time           1513570 non-null  object \n",
      " 3   bikeid             1513570 non-null  int64  \n",
      " 4   tripduration       1513570 non-null  object \n",
      " 5   from_station_id    1513570 non-null  int64  \n",
      " 6   from_station_name  1513570 non-null  object \n",
      " 7   to_station_id      1513570 non-null  int64  \n",
      " 8   to_station_name    1513570 non-null  object \n",
      " 9   usertype           1513570 non-null  object \n",
      " 10  gender             1218574 non-null  object \n",
      " 11  birthyear          1221990 non-null  float64\n",
      "dtypes: float64(1), int64(4), object(7)\n",
      "memory usage: 138.6+ MB\n"
     ]
    }
   ],
   "source": [
    "df3.info(verbose=True)"
   ]
  },
  {
   "cell_type": "code",
   "execution_count": 25,
   "metadata": {},
   "outputs": [],
   "source": [
    "df3.rename(columns = {'start_time':'starttime'}, inplace = True)\n",
    "df3.rename(columns = {'end_time' : 'stoptime'}, inplace = True)"
   ]
  },
  {
   "cell_type": "code",
   "execution_count": 26,
   "metadata": {},
   "outputs": [],
   "source": [
    "df3[\"starttime\"] = pd.to_datetime(df3[\"starttime\"])\n",
    "df3[\"stoptime\"] = pd.to_datetime(df3[\"stoptime\"])"
   ]
  },
  {
   "cell_type": "code",
   "execution_count": 27,
   "metadata": {},
   "outputs": [],
   "source": [
    "df3.loc[df3['gender'].isnull(), 'gender'] = 'Unknown'\n",
    "df3.loc[df3['birthyear'].isnull(), 'birthyear'] = 0"
   ]
  },
  {
   "cell_type": "code",
   "execution_count": 28,
   "metadata": {},
   "outputs": [],
   "source": [
    "df3['tripduration'] = df3['tripduration'].str.replace(',', '').astype(float)"
   ]
  },
  {
   "cell_type": "code",
   "execution_count": 29,
   "metadata": {},
   "outputs": [],
   "source": [
    "df3['tripduration'] = df3['tripduration'].astype(int)"
   ]
  },
  {
   "cell_type": "code",
   "execution_count": 30,
   "metadata": {},
   "outputs": [
    {
     "data": {
      "text/html": [
       "<div>\n",
       "<style scoped>\n",
       "    .dataframe tbody tr th:only-of-type {\n",
       "        vertical-align: middle;\n",
       "    }\n",
       "\n",
       "    .dataframe tbody tr th {\n",
       "        vertical-align: top;\n",
       "    }\n",
       "\n",
       "    .dataframe thead th {\n",
       "        text-align: right;\n",
       "    }\n",
       "</style>\n",
       "<table border=\"1\" class=\"dataframe\">\n",
       "  <thead>\n",
       "    <tr style=\"text-align: right;\">\n",
       "      <th></th>\n",
       "      <th>trip_id</th>\n",
       "      <th>starttime</th>\n",
       "      <th>stoptime</th>\n",
       "      <th>bikeid</th>\n",
       "      <th>tripduration</th>\n",
       "      <th>from_station_id</th>\n",
       "      <th>from_station_name</th>\n",
       "      <th>to_station_id</th>\n",
       "      <th>to_station_name</th>\n",
       "      <th>usertype</th>\n",
       "      <th>gender</th>\n",
       "      <th>birthyear</th>\n",
       "    </tr>\n",
       "  </thead>\n",
       "  <tbody>\n",
       "  </tbody>\n",
       "</table>\n",
       "</div>"
      ],
      "text/plain": [
       "Empty DataFrame\n",
       "Columns: [trip_id, starttime, stoptime, bikeid, tripduration, from_station_id, from_station_name, to_station_id, to_station_name, usertype, gender, birthyear]\n",
       "Index: []"
      ]
     },
     "execution_count": 30,
     "metadata": {},
     "output_type": "execute_result"
    }
   ],
   "source": [
    "df3.loc[df3['starttime'].dt.year != 2018]"
   ]
  },
  {
   "cell_type": "code",
   "execution_count": 31,
   "metadata": {},
   "outputs": [
    {
     "data": {
      "text/html": [
       "<div>\n",
       "<style scoped>\n",
       "    .dataframe tbody tr th:only-of-type {\n",
       "        vertical-align: middle;\n",
       "    }\n",
       "\n",
       "    .dataframe tbody tr th {\n",
       "        vertical-align: top;\n",
       "    }\n",
       "\n",
       "    .dataframe thead th {\n",
       "        text-align: right;\n",
       "    }\n",
       "</style>\n",
       "<table border=\"1\" class=\"dataframe\">\n",
       "  <thead>\n",
       "    <tr style=\"text-align: right;\">\n",
       "      <th></th>\n",
       "      <th>trip_id</th>\n",
       "      <th>starttime</th>\n",
       "      <th>stoptime</th>\n",
       "      <th>bikeid</th>\n",
       "      <th>tripduration</th>\n",
       "      <th>from_station_id</th>\n",
       "      <th>from_station_name</th>\n",
       "      <th>to_station_id</th>\n",
       "      <th>to_station_name</th>\n",
       "      <th>usertype</th>\n",
       "      <th>gender</th>\n",
       "      <th>birthyear</th>\n",
       "    </tr>\n",
       "  </thead>\n",
       "  <tbody>\n",
       "    <tr>\n",
       "      <th>1243771</th>\n",
       "      <td>20673996</td>\n",
       "      <td>2018-09-13 08:41:37</td>\n",
       "      <td>2019-01-06 14:40:28</td>\n",
       "      <td>1792</td>\n",
       "      <td>9961130</td>\n",
       "      <td>192</td>\n",
       "      <td>Canal St &amp; Adams St</td>\n",
       "      <td>452</td>\n",
       "      <td>Western Ave &amp; Granville Ave</td>\n",
       "      <td>Subscriber</td>\n",
       "      <td>Male</td>\n",
       "      <td>1969.0</td>\n",
       "    </tr>\n",
       "  </tbody>\n",
       "</table>\n",
       "</div>"
      ],
      "text/plain": [
       "          trip_id           starttime            stoptime  bikeid  \\\n",
       "1243771  20673996 2018-09-13 08:41:37 2019-01-06 14:40:28    1792   \n",
       "\n",
       "         tripduration  from_station_id    from_station_name  to_station_id  \\\n",
       "1243771       9961130              192  Canal St & Adams St            452   \n",
       "\n",
       "                     to_station_name    usertype gender  birthyear  \n",
       "1243771  Western Ave & Granville Ave  Subscriber   Male     1969.0  "
      ]
     },
     "execution_count": 31,
     "metadata": {},
     "output_type": "execute_result"
    }
   ],
   "source": [
    "df3.loc[df3['stoptime'].dt.year != 2018]"
   ]
  },
  {
   "cell_type": "code",
   "execution_count": 32,
   "metadata": {},
   "outputs": [],
   "source": [
    "df3.drop([1243771], axis=0, inplace=True)"
   ]
  },
  {
   "cell_type": "code",
   "execution_count": 33,
   "metadata": {},
   "outputs": [
    {
     "name": "stdout",
     "output_type": "stream",
     "text": [
      "<class 'pandas.core.frame.DataFrame'>\n",
      "Int64Index: 1513569 entries, 0 to 1513569\n",
      "Data columns (total 12 columns):\n",
      " #   Column             Non-Null Count    Dtype         \n",
      "---  ------             --------------    -----         \n",
      " 0   trip_id            1513569 non-null  int64         \n",
      " 1   starttime          1513569 non-null  datetime64[ns]\n",
      " 2   stoptime           1513569 non-null  datetime64[ns]\n",
      " 3   bikeid             1513569 non-null  int64         \n",
      " 4   tripduration       1513569 non-null  int64         \n",
      " 5   from_station_id    1513569 non-null  int64         \n",
      " 6   from_station_name  1513569 non-null  object        \n",
      " 7   to_station_id      1513569 non-null  int64         \n",
      " 8   to_station_name    1513569 non-null  object        \n",
      " 9   usertype           1513569 non-null  object        \n",
      " 10  gender             1513569 non-null  object        \n",
      " 11  birthyear          1513569 non-null  float64       \n",
      "dtypes: datetime64[ns](2), float64(1), int64(5), object(4)\n",
      "memory usage: 150.1+ MB\n"
     ]
    }
   ],
   "source": [
    "df3.info(verbose=True)"
   ]
  },
  {
   "cell_type": "code",
   "execution_count": 34,
   "metadata": {},
   "outputs": [
    {
     "name": "stdout",
     "output_type": "stream",
     "text": [
      "<class 'pandas.core.frame.DataFrame'>\n",
      "RangeIndex: 642686 entries, 0 to 642685\n",
      "Data columns (total 12 columns):\n",
      " #   Column             Non-Null Count   Dtype  \n",
      "---  ------             --------------   -----  \n",
      " 0   trip_id            642686 non-null  int64  \n",
      " 1   start_time         642686 non-null  object \n",
      " 2   end_time           642686 non-null  object \n",
      " 3   bikeid             642686 non-null  int64  \n",
      " 4   tripduration       642686 non-null  object \n",
      " 5   from_station_id    642686 non-null  int64  \n",
      " 6   from_station_name  642686 non-null  object \n",
      " 7   to_station_id      642686 non-null  int64  \n",
      " 8   to_station_name    642686 non-null  object \n",
      " 9   usertype           642686 non-null  object \n",
      " 10  gender             594304 non-null  object \n",
      " 11  birthyear          596520 non-null  float64\n",
      "dtypes: float64(1), int64(4), object(7)\n",
      "memory usage: 58.8+ MB\n"
     ]
    }
   ],
   "source": [
    "df4.info(verbose=True)"
   ]
  },
  {
   "cell_type": "code",
   "execution_count": 35,
   "metadata": {},
   "outputs": [],
   "source": [
    "df4.rename(columns = {'start_time':'starttime'}, inplace = True)\n",
    "df4.rename(columns = {'end_time' : 'stoptime'}, inplace = True)"
   ]
  },
  {
   "cell_type": "code",
   "execution_count": 36,
   "metadata": {},
   "outputs": [],
   "source": [
    "df4[\"starttime\"] = pd.to_datetime(df4[\"starttime\"])\n",
    "df4[\"stoptime\"] = pd.to_datetime(df4[\"stoptime\"])"
   ]
  },
  {
   "cell_type": "code",
   "execution_count": 37,
   "metadata": {},
   "outputs": [],
   "source": [
    "df4.loc[df4['gender'].isnull(), 'gender'] = 'Unknown'\n",
    "df4.loc[df4['birthyear'].isnull(), 'birthyear'] = 0"
   ]
  },
  {
   "cell_type": "code",
   "execution_count": 38,
   "metadata": {},
   "outputs": [],
   "source": [
    "df4['tripduration'] = df4['tripduration'].str.replace(',', '').astype(float)"
   ]
  },
  {
   "cell_type": "code",
   "execution_count": 39,
   "metadata": {},
   "outputs": [],
   "source": [
    "df4['tripduration'] = df4['tripduration'].astype(int)"
   ]
  },
  {
   "cell_type": "code",
   "execution_count": 40,
   "metadata": {},
   "outputs": [
    {
     "data": {
      "text/html": [
       "<div>\n",
       "<style scoped>\n",
       "    .dataframe tbody tr th:only-of-type {\n",
       "        vertical-align: middle;\n",
       "    }\n",
       "\n",
       "    .dataframe tbody tr th {\n",
       "        vertical-align: top;\n",
       "    }\n",
       "\n",
       "    .dataframe thead th {\n",
       "        text-align: right;\n",
       "    }\n",
       "</style>\n",
       "<table border=\"1\" class=\"dataframe\">\n",
       "  <thead>\n",
       "    <tr style=\"text-align: right;\">\n",
       "      <th></th>\n",
       "      <th>trip_id</th>\n",
       "      <th>starttime</th>\n",
       "      <th>stoptime</th>\n",
       "      <th>bikeid</th>\n",
       "      <th>tripduration</th>\n",
       "      <th>from_station_id</th>\n",
       "      <th>from_station_name</th>\n",
       "      <th>to_station_id</th>\n",
       "      <th>to_station_name</th>\n",
       "      <th>usertype</th>\n",
       "      <th>gender</th>\n",
       "      <th>birthyear</th>\n",
       "    </tr>\n",
       "  </thead>\n",
       "  <tbody>\n",
       "  </tbody>\n",
       "</table>\n",
       "</div>"
      ],
      "text/plain": [
       "Empty DataFrame\n",
       "Columns: [trip_id, starttime, stoptime, bikeid, tripduration, from_station_id, from_station_name, to_station_id, to_station_name, usertype, gender, birthyear]\n",
       "Index: []"
      ]
     },
     "execution_count": 40,
     "metadata": {},
     "output_type": "execute_result"
    }
   ],
   "source": [
    "df4.loc[df4['starttime'].dt.year != 2018]"
   ]
  },
  {
   "cell_type": "code",
   "execution_count": 41,
   "metadata": {},
   "outputs": [
    {
     "data": {
      "text/html": [
       "<div>\n",
       "<style scoped>\n",
       "    .dataframe tbody tr th:only-of-type {\n",
       "        vertical-align: middle;\n",
       "    }\n",
       "\n",
       "    .dataframe tbody tr th {\n",
       "        vertical-align: top;\n",
       "    }\n",
       "\n",
       "    .dataframe thead th {\n",
       "        text-align: right;\n",
       "    }\n",
       "</style>\n",
       "<table border=\"1\" class=\"dataframe\">\n",
       "  <thead>\n",
       "    <tr style=\"text-align: right;\">\n",
       "      <th></th>\n",
       "      <th>trip_id</th>\n",
       "      <th>starttime</th>\n",
       "      <th>stoptime</th>\n",
       "      <th>bikeid</th>\n",
       "      <th>tripduration</th>\n",
       "      <th>from_station_id</th>\n",
       "      <th>from_station_name</th>\n",
       "      <th>to_station_id</th>\n",
       "      <th>to_station_name</th>\n",
       "      <th>usertype</th>\n",
       "      <th>gender</th>\n",
       "      <th>birthyear</th>\n",
       "    </tr>\n",
       "  </thead>\n",
       "  <tbody>\n",
       "    <tr>\n",
       "      <th>204951</th>\n",
       "      <td>21221516</td>\n",
       "      <td>2018-10-18 06:40:06</td>\n",
       "      <td>2019-01-06 02:36:16</td>\n",
       "      <td>2607</td>\n",
       "      <td>6900970</td>\n",
       "      <td>303</td>\n",
       "      <td>Broadway &amp; Cornelia Ave</td>\n",
       "      <td>390</td>\n",
       "      <td>Wentworth Ave &amp; 63rd St</td>\n",
       "      <td>Customer</td>\n",
       "      <td>Unknown</td>\n",
       "      <td>0.0</td>\n",
       "    </tr>\n",
       "    <tr>\n",
       "      <th>638176</th>\n",
       "      <td>21736673</td>\n",
       "      <td>2018-12-28 18:18:52</td>\n",
       "      <td>2019-01-04 09:55:42</td>\n",
       "      <td>6025</td>\n",
       "      <td>574610</td>\n",
       "      <td>192</td>\n",
       "      <td>Canal St &amp; Adams St</td>\n",
       "      <td>142</td>\n",
       "      <td>McClurg Ct &amp; Erie St</td>\n",
       "      <td>Subscriber</td>\n",
       "      <td>Male</td>\n",
       "      <td>1989.0</td>\n",
       "    </tr>\n",
       "    <tr>\n",
       "      <th>639457</th>\n",
       "      <td>21738260</td>\n",
       "      <td>2018-12-29 15:09:01</td>\n",
       "      <td>2019-01-02 06:27:12</td>\n",
       "      <td>5883</td>\n",
       "      <td>314291</td>\n",
       "      <td>120</td>\n",
       "      <td>Wentworth Ave &amp; Cermak Rd (Temp)</td>\n",
       "      <td>62</td>\n",
       "      <td>McCormick Place</td>\n",
       "      <td>Customer</td>\n",
       "      <td>Unknown</td>\n",
       "      <td>0.0</td>\n",
       "    </tr>\n",
       "    <tr>\n",
       "      <th>641919</th>\n",
       "      <td>21741480</td>\n",
       "      <td>2018-12-31 12:18:49</td>\n",
       "      <td>2019-01-01 13:39:31</td>\n",
       "      <td>5107</td>\n",
       "      <td>91242</td>\n",
       "      <td>81</td>\n",
       "      <td>Daley Center Plaza</td>\n",
       "      <td>283</td>\n",
       "      <td>LaSalle St &amp; Jackson Blvd</td>\n",
       "      <td>Subscriber</td>\n",
       "      <td>Male</td>\n",
       "      <td>1992.0</td>\n",
       "    </tr>\n",
       "    <tr>\n",
       "      <th>642067</th>\n",
       "      <td>21741665</td>\n",
       "      <td>2018-12-31 14:14:07</td>\n",
       "      <td>2019-01-01 20:31:32</td>\n",
       "      <td>5370</td>\n",
       "      <td>109045</td>\n",
       "      <td>56</td>\n",
       "      <td>Desplaines St &amp; Kinzie St</td>\n",
       "      <td>186</td>\n",
       "      <td>Ogden Ave &amp; Race Ave</td>\n",
       "      <td>Subscriber</td>\n",
       "      <td>Female</td>\n",
       "      <td>1986.0</td>\n",
       "    </tr>\n",
       "    <tr>\n",
       "      <th>642172</th>\n",
       "      <td>21741803</td>\n",
       "      <td>2018-12-31 15:21:04</td>\n",
       "      <td>2019-01-03 20:32:27</td>\n",
       "      <td>5035</td>\n",
       "      <td>277883</td>\n",
       "      <td>97</td>\n",
       "      <td>Field Museum</td>\n",
       "      <td>90</td>\n",
       "      <td>Millennium Park</td>\n",
       "      <td>Customer</td>\n",
       "      <td>Unknown</td>\n",
       "      <td>0.0</td>\n",
       "    </tr>\n",
       "    <tr>\n",
       "      <th>642673</th>\n",
       "      <td>21742430</td>\n",
       "      <td>2018-12-31 23:38:42</td>\n",
       "      <td>2019-01-01 00:19:07</td>\n",
       "      <td>3939</td>\n",
       "      <td>2425</td>\n",
       "      <td>177</td>\n",
       "      <td>Theater on the Lake</td>\n",
       "      <td>268</td>\n",
       "      <td>Lake Shore Dr &amp; North Blvd</td>\n",
       "      <td>Subscriber</td>\n",
       "      <td>Male</td>\n",
       "      <td>1996.0</td>\n",
       "    </tr>\n",
       "    <tr>\n",
       "      <th>642675</th>\n",
       "      <td>21742432</td>\n",
       "      <td>2018-12-31 23:39:55</td>\n",
       "      <td>2019-01-01 00:18:21</td>\n",
       "      <td>6205</td>\n",
       "      <td>2306</td>\n",
       "      <td>150</td>\n",
       "      <td>Fort Dearborn Dr &amp; 31st St</td>\n",
       "      <td>150</td>\n",
       "      <td>Fort Dearborn Dr &amp; 31st St</td>\n",
       "      <td>Subscriber</td>\n",
       "      <td>Male</td>\n",
       "      <td>1995.0</td>\n",
       "    </tr>\n",
       "    <tr>\n",
       "      <th>642685</th>\n",
       "      <td>21742442</td>\n",
       "      <td>2018-12-31 23:59:18</td>\n",
       "      <td>2019-01-01 00:20:43</td>\n",
       "      <td>2006</td>\n",
       "      <td>1285</td>\n",
       "      <td>260</td>\n",
       "      <td>Kedzie Ave &amp; Milwaukee Ave</td>\n",
       "      <td>166</td>\n",
       "      <td>Ashland Ave &amp; Wrightwood Ave</td>\n",
       "      <td>Subscriber</td>\n",
       "      <td>Male</td>\n",
       "      <td>1990.0</td>\n",
       "    </tr>\n",
       "  </tbody>\n",
       "</table>\n",
       "</div>"
      ],
      "text/plain": [
       "         trip_id           starttime            stoptime  bikeid  \\\n",
       "204951  21221516 2018-10-18 06:40:06 2019-01-06 02:36:16    2607   \n",
       "638176  21736673 2018-12-28 18:18:52 2019-01-04 09:55:42    6025   \n",
       "639457  21738260 2018-12-29 15:09:01 2019-01-02 06:27:12    5883   \n",
       "641919  21741480 2018-12-31 12:18:49 2019-01-01 13:39:31    5107   \n",
       "642067  21741665 2018-12-31 14:14:07 2019-01-01 20:31:32    5370   \n",
       "642172  21741803 2018-12-31 15:21:04 2019-01-03 20:32:27    5035   \n",
       "642673  21742430 2018-12-31 23:38:42 2019-01-01 00:19:07    3939   \n",
       "642675  21742432 2018-12-31 23:39:55 2019-01-01 00:18:21    6205   \n",
       "642685  21742442 2018-12-31 23:59:18 2019-01-01 00:20:43    2006   \n",
       "\n",
       "        tripduration  from_station_id                 from_station_name  \\\n",
       "204951       6900970              303           Broadway & Cornelia Ave   \n",
       "638176        574610              192               Canal St & Adams St   \n",
       "639457        314291              120  Wentworth Ave & Cermak Rd (Temp)   \n",
       "641919         91242               81                Daley Center Plaza   \n",
       "642067        109045               56         Desplaines St & Kinzie St   \n",
       "642172        277883               97                      Field Museum   \n",
       "642673          2425              177               Theater on the Lake   \n",
       "642675          2306              150        Fort Dearborn Dr & 31st St   \n",
       "642685          1285              260        Kedzie Ave & Milwaukee Ave   \n",
       "\n",
       "        to_station_id               to_station_name    usertype   gender  \\\n",
       "204951            390       Wentworth Ave & 63rd St    Customer  Unknown   \n",
       "638176            142          McClurg Ct & Erie St  Subscriber     Male   \n",
       "639457             62               McCormick Place    Customer  Unknown   \n",
       "641919            283     LaSalle St & Jackson Blvd  Subscriber     Male   \n",
       "642067            186          Ogden Ave & Race Ave  Subscriber   Female   \n",
       "642172             90               Millennium Park    Customer  Unknown   \n",
       "642673            268    Lake Shore Dr & North Blvd  Subscriber     Male   \n",
       "642675            150    Fort Dearborn Dr & 31st St  Subscriber     Male   \n",
       "642685            166  Ashland Ave & Wrightwood Ave  Subscriber     Male   \n",
       "\n",
       "        birthyear  \n",
       "204951        0.0  \n",
       "638176     1989.0  \n",
       "639457        0.0  \n",
       "641919     1992.0  \n",
       "642067     1986.0  \n",
       "642172        0.0  \n",
       "642673     1996.0  \n",
       "642675     1995.0  \n",
       "642685     1990.0  "
      ]
     },
     "execution_count": 41,
     "metadata": {},
     "output_type": "execute_result"
    }
   ],
   "source": [
    "df4.loc[df4['stoptime'].dt.year != 2018]"
   ]
  },
  {
   "cell_type": "code",
   "execution_count": 42,
   "metadata": {},
   "outputs": [],
   "source": [
    "df3.drop([204951, 638176, 639457, 641919, 642067, 642172, 642673, 642675, 642685], axis=0, inplace=True)"
   ]
  },
  {
   "cell_type": "code",
   "execution_count": 43,
   "metadata": {},
   "outputs": [
    {
     "name": "stdout",
     "output_type": "stream",
     "text": [
      "<class 'pandas.core.frame.DataFrame'>\n",
      "RangeIndex: 642686 entries, 0 to 642685\n",
      "Data columns (total 12 columns):\n",
      " #   Column             Non-Null Count   Dtype         \n",
      "---  ------             --------------   -----         \n",
      " 0   trip_id            642686 non-null  int64         \n",
      " 1   starttime          642686 non-null  datetime64[ns]\n",
      " 2   stoptime           642686 non-null  datetime64[ns]\n",
      " 3   bikeid             642686 non-null  int64         \n",
      " 4   tripduration       642686 non-null  int64         \n",
      " 5   from_station_id    642686 non-null  int64         \n",
      " 6   from_station_name  642686 non-null  object        \n",
      " 7   to_station_id      642686 non-null  int64         \n",
      " 8   to_station_name    642686 non-null  object        \n",
      " 9   usertype           642686 non-null  object        \n",
      " 10  gender             642686 non-null  object        \n",
      " 11  birthyear          642686 non-null  float64       \n",
      "dtypes: datetime64[ns](2), float64(1), int64(5), object(4)\n",
      "memory usage: 58.8+ MB\n"
     ]
    }
   ],
   "source": [
    "df4.info(verbose=True)"
   ]
  },
  {
   "cell_type": "code",
   "execution_count": 44,
   "metadata": {},
   "outputs": [],
   "source": [
    "df_2018 = pd.concat([df1, df2, df3, df4])"
   ]
  },
  {
   "cell_type": "code",
   "execution_count": null,
   "metadata": {},
   "outputs": [],
   "source": [
    "df_2018.to_csv('2018_Clean.csv', index=False)"
   ]
  },
  {
   "cell_type": "markdown",
   "metadata": {},
   "source": [
    "* concat and result in 1 cleaned CSVs. Revert from variables back to cleaned CSV. "
   ]
  }
 ],
 "metadata": {
  "kernelspec": {
   "display_name": "Python 3.10.6 64-bit",
   "language": "python",
   "name": "python3"
  },
  "language_info": {
   "codemirror_mode": {
    "name": "ipython",
    "version": 3
   },
   "file_extension": ".py",
   "mimetype": "text/x-python",
   "name": "python",
   "nbconvert_exporter": "python",
   "pygments_lexer": "ipython3",
   "version": "3.10.7"
  },
  "orig_nbformat": 4,
  "vscode": {
   "interpreter": {
    "hash": "aee8b7b246df8f9039afb4144a1f6fd8d2ca17a180786b69acc140d282b71a49"
   }
  }
 },
 "nbformat": 4,
 "nbformat_minor": 2
}

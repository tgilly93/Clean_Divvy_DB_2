{
 "cells": [
  {
   "cell_type": "code",
   "execution_count": 1,
   "metadata": {},
   "outputs": [],
   "source": [
    "import pandas as pd\n",
    "import numpy as np"
   ]
  },
  {
   "cell_type": "code",
   "execution_count": 2,
   "metadata": {},
   "outputs": [],
   "source": [
    "df1 = pd.read_csv('/Users/terrygilmore/Desktop/Divvy_DB/Divvy_Stations_Trips_2021/202101-divvy-tripdata.csv')\n",
    "df2 = pd.read_csv('/Users/terrygilmore/Desktop/Divvy_DB/Divvy_Stations_Trips_2021/202102-divvy-tripdata.csv')\n",
    "df3 = pd.read_csv('/Users/terrygilmore/Desktop/Divvy_DB/Divvy_Stations_Trips_2021/202103-divvy-tripdata.csv')\n",
    "df4 = pd.read_csv('/Users/terrygilmore/Desktop/Divvy_DB/Divvy_Stations_Trips_2021/202104-divvy-tripdata.csv')\n",
    "df5 = pd.read_csv('/Users/terrygilmore/Desktop/Divvy_DB/Divvy_Stations_Trips_2021/202105-divvy-tripdata.csv')\n",
    "df6 = pd.read_csv('/Users/terrygilmore/Desktop/Divvy_DB/Divvy_Stations_Trips_2021/202106-divvy-tripdata.csv')\n",
    "df7 = pd.read_csv('/Users/terrygilmore/Desktop/Divvy_DB/Divvy_Stations_Trips_2021/202107-divvy-tripdata.csv')\n",
    "df8 = pd.read_csv('/Users/terrygilmore/Desktop/Divvy_DB/Divvy_Stations_Trips_2021/202108-divvy-tripdata.csv')\n",
    "df9 = pd.read_csv('/Users/terrygilmore/Desktop/Divvy_DB/Divvy_Stations_Trips_2021/202109-divvy-tripdata.csv')\n",
    "df10 = pd.read_csv('/Users/terrygilmore/Desktop/Divvy_DB/Divvy_Stations_Trips_2021/202110-divvy-tripdata.csv')\n",
    "df11 = pd.read_csv('/Users/terrygilmore/Desktop/Divvy_DB/Divvy_Stations_Trips_2021/202111-divvy-tripdata.csv')\n",
    "df12 = pd.read_csv('/Users/terrygilmore/Desktop/Divvy_DB/Divvy_Stations_Trips_2021/202112-divvy-tripdata.csv')"
   ]
  },
  {
   "cell_type": "code",
   "execution_count": 14,
   "metadata": {},
   "outputs": [
    {
     "name": "stdout",
     "output_type": "stream",
     "text": [
      "<class 'pandas.core.frame.DataFrame'>\n",
      "RangeIndex: 96834 entries, 0 to 96833\n",
      "Data columns (total 13 columns):\n",
      " #   Column              Non-Null Count  Dtype  \n",
      "---  ------              --------------  -----  \n",
      " 0   ride_id             96834 non-null  object \n",
      " 1   rideable_type       96834 non-null  object \n",
      " 2   started_at          96834 non-null  object \n",
      " 3   ended_at            96834 non-null  object \n",
      " 4   start_station_name  88209 non-null  object \n",
      " 5   start_station_id    88209 non-null  object \n",
      " 6   end_station_name    86557 non-null  object \n",
      " 7   end_station_id      86557 non-null  object \n",
      " 8   start_lat           96834 non-null  float64\n",
      " 9   start_lng           96834 non-null  float64\n",
      " 10  end_lat             96731 non-null  float64\n",
      " 11  end_lng             96731 non-null  float64\n",
      " 12  member_casual       96834 non-null  object \n",
      "dtypes: float64(4), object(9)\n",
      "memory usage: 9.6+ MB\n"
     ]
    }
   ],
   "source": [
    "df1.info(verbose=True)"
   ]
  },
  {
   "cell_type": "code",
   "execution_count": 15,
   "metadata": {},
   "outputs": [],
   "source": [
    "df1.rename(columns = {'started_at':'starttime'}, inplace = True)\n",
    "df1.rename(columns = {'ended_at':'stoptime'}, inplace = True)\n",
    "df1.rename(columns = {'start_station_name':'from_station_name'}, inplace = True)\n",
    "df1.rename(columns = {'start_station_id':'from_station_id'}, inplace = True)\n",
    "df1.rename(columns = {'end_station_name':'to_station_name'}, inplace = True)\n",
    "df1.rename(columns = {'end_station_id':'to_station_id'}, inplace = True)\n",
    "df1.rename(columns = {'member_casual':'usertype'}, inplace = True)"
   ]
  },
  {
   "cell_type": "code",
   "execution_count": 16,
   "metadata": {},
   "outputs": [],
   "source": [
    "df1[\"starttime\"] = pd.to_datetime(df1[\"starttime\"])\n",
    "df1[\"stoptime\"] = pd.to_datetime(df1[\"stoptime\"])"
   ]
  },
  {
   "cell_type": "code",
   "execution_count": 17,
   "metadata": {},
   "outputs": [],
   "source": [
    "df1['usertype'].replace({'member':'Subscriber', 'casual':'Customer'}, inplace=True)"
   ]
  },
  {
   "cell_type": "code",
   "execution_count": 19,
   "metadata": {},
   "outputs": [],
   "source": [
    "df1.loc[df1['from_station_name'].isnull(), 'from_station_name'] = 'Unknown'\n",
    "df1.loc[df1['from_station_id'].isnull(), 'from_station_id'] = 0\n",
    "df1.loc[df1['to_station_name'].isnull(), 'to_station_name'] = 'Unknown'\n",
    "df1.loc[df1['to_station_id'].isnull(), 'to_station_id'] = 0\n",
    "df1.loc[df1['end_lat'].isnull(), 'end_lat'] = 0\n",
    "df1.loc[df1['end_lng'].isnull(), 'end_lng'] = 0"
   ]
  },
  {
   "cell_type": "code",
   "execution_count": 20,
   "metadata": {},
   "outputs": [
    {
     "data": {
      "text/html": [
       "<div>\n",
       "<style scoped>\n",
       "    .dataframe tbody tr th:only-of-type {\n",
       "        vertical-align: middle;\n",
       "    }\n",
       "\n",
       "    .dataframe tbody tr th {\n",
       "        vertical-align: top;\n",
       "    }\n",
       "\n",
       "    .dataframe thead th {\n",
       "        text-align: right;\n",
       "    }\n",
       "</style>\n",
       "<table border=\"1\" class=\"dataframe\">\n",
       "  <thead>\n",
       "    <tr style=\"text-align: right;\">\n",
       "      <th></th>\n",
       "      <th>ride_id</th>\n",
       "      <th>rideable_type</th>\n",
       "      <th>starttime</th>\n",
       "      <th>stoptime</th>\n",
       "      <th>from_station_name</th>\n",
       "      <th>from_station_id</th>\n",
       "      <th>to_station_name</th>\n",
       "      <th>to_station_id</th>\n",
       "      <th>start_lat</th>\n",
       "      <th>start_lng</th>\n",
       "      <th>end_lat</th>\n",
       "      <th>end_lng</th>\n",
       "      <th>usertype</th>\n",
       "    </tr>\n",
       "  </thead>\n",
       "  <tbody>\n",
       "  </tbody>\n",
       "</table>\n",
       "</div>"
      ],
      "text/plain": [
       "Empty DataFrame\n",
       "Columns: [ride_id, rideable_type, starttime, stoptime, from_station_name, from_station_id, to_station_name, to_station_id, start_lat, start_lng, end_lat, end_lng, usertype]\n",
       "Index: []"
      ]
     },
     "execution_count": 20,
     "metadata": {},
     "output_type": "execute_result"
    }
   ],
   "source": [
    "df1.loc[df1['starttime'].dt.year != 2021]"
   ]
  },
  {
   "cell_type": "code",
   "execution_count": 21,
   "metadata": {},
   "outputs": [
    {
     "data": {
      "text/html": [
       "<div>\n",
       "<style scoped>\n",
       "    .dataframe tbody tr th:only-of-type {\n",
       "        vertical-align: middle;\n",
       "    }\n",
       "\n",
       "    .dataframe tbody tr th {\n",
       "        vertical-align: top;\n",
       "    }\n",
       "\n",
       "    .dataframe thead th {\n",
       "        text-align: right;\n",
       "    }\n",
       "</style>\n",
       "<table border=\"1\" class=\"dataframe\">\n",
       "  <thead>\n",
       "    <tr style=\"text-align: right;\">\n",
       "      <th></th>\n",
       "      <th>ride_id</th>\n",
       "      <th>rideable_type</th>\n",
       "      <th>starttime</th>\n",
       "      <th>stoptime</th>\n",
       "      <th>from_station_name</th>\n",
       "      <th>from_station_id</th>\n",
       "      <th>to_station_name</th>\n",
       "      <th>to_station_id</th>\n",
       "      <th>start_lat</th>\n",
       "      <th>start_lng</th>\n",
       "      <th>end_lat</th>\n",
       "      <th>end_lng</th>\n",
       "      <th>usertype</th>\n",
       "    </tr>\n",
       "  </thead>\n",
       "  <tbody>\n",
       "  </tbody>\n",
       "</table>\n",
       "</div>"
      ],
      "text/plain": [
       "Empty DataFrame\n",
       "Columns: [ride_id, rideable_type, starttime, stoptime, from_station_name, from_station_id, to_station_name, to_station_id, start_lat, start_lng, end_lat, end_lng, usertype]\n",
       "Index: []"
      ]
     },
     "execution_count": 21,
     "metadata": {},
     "output_type": "execute_result"
    }
   ],
   "source": [
    "df1.loc[df1['stoptime'].dt.year != 2021]"
   ]
  },
  {
   "cell_type": "code",
   "execution_count": 22,
   "metadata": {},
   "outputs": [
    {
     "name": "stdout",
     "output_type": "stream",
     "text": [
      "<class 'pandas.core.frame.DataFrame'>\n",
      "RangeIndex: 96834 entries, 0 to 96833\n",
      "Data columns (total 13 columns):\n",
      " #   Column             Non-Null Count  Dtype         \n",
      "---  ------             --------------  -----         \n",
      " 0   ride_id            96834 non-null  object        \n",
      " 1   rideable_type      96834 non-null  object        \n",
      " 2   starttime          96834 non-null  datetime64[ns]\n",
      " 3   stoptime           96834 non-null  datetime64[ns]\n",
      " 4   from_station_name  96834 non-null  object        \n",
      " 5   from_station_id    96834 non-null  object        \n",
      " 6   to_station_name    96834 non-null  object        \n",
      " 7   to_station_id      96834 non-null  object        \n",
      " 8   start_lat          96834 non-null  float64       \n",
      " 9   start_lng          96834 non-null  float64       \n",
      " 10  end_lat            96834 non-null  float64       \n",
      " 11  end_lng            96834 non-null  float64       \n",
      " 12  usertype           96834 non-null  object        \n",
      "dtypes: datetime64[ns](2), float64(4), object(7)\n",
      "memory usage: 9.6+ MB\n"
     ]
    }
   ],
   "source": [
    "df1.info(verbose=True)"
   ]
  },
  {
   "cell_type": "code",
   "execution_count": 24,
   "metadata": {},
   "outputs": [
    {
     "name": "stdout",
     "output_type": "stream",
     "text": [
      "<class 'pandas.core.frame.DataFrame'>\n",
      "RangeIndex: 49622 entries, 0 to 49621\n",
      "Data columns (total 13 columns):\n",
      " #   Column             Non-Null Count  Dtype  \n",
      "---  ------             --------------  -----  \n",
      " 0   ride_id            49622 non-null  object \n",
      " 1   rideable_type      49622 non-null  object \n",
      " 2   starttime          49622 non-null  object \n",
      " 3   stoptime           49622 non-null  object \n",
      " 4   from_station_name  45576 non-null  object \n",
      " 5   from_station_id    45576 non-null  object \n",
      " 6   to_station_name    44264 non-null  object \n",
      " 7   to_station_id      44264 non-null  object \n",
      " 8   start_lat          49622 non-null  float64\n",
      " 9   start_lng          49622 non-null  float64\n",
      " 10  end_lat            49408 non-null  float64\n",
      " 11  end_lng            49408 non-null  float64\n",
      " 12  usertype           49622 non-null  object \n",
      "dtypes: float64(4), object(9)\n",
      "memory usage: 4.9+ MB\n"
     ]
    }
   ],
   "source": [
    "df2.info(verbose=True)"
   ]
  },
  {
   "cell_type": "code",
   "execution_count": 23,
   "metadata": {},
   "outputs": [],
   "source": [
    "df2.rename(columns = {'started_at':'starttime'}, inplace = True)\n",
    "df2.rename(columns = {'ended_at':'stoptime'}, inplace = True)\n",
    "df2.rename(columns = {'start_station_name':'from_station_name'}, inplace = True)\n",
    "df2.rename(columns = {'start_station_id':'from_station_id'}, inplace = True)\n",
    "df2.rename(columns = {'end_station_name':'to_station_name'}, inplace = True)\n",
    "df2.rename(columns = {'end_station_id':'to_station_id'}, inplace = True)\n",
    "df2.rename(columns = {'member_casual':'usertype'}, inplace = True)"
   ]
  },
  {
   "cell_type": "code",
   "execution_count": 25,
   "metadata": {},
   "outputs": [],
   "source": [
    "df2[\"starttime\"] = pd.to_datetime(df2[\"starttime\"])\n",
    "df2[\"stoptime\"] = pd.to_datetime(df2[\"stoptime\"])"
   ]
  },
  {
   "cell_type": "code",
   "execution_count": 26,
   "metadata": {},
   "outputs": [],
   "source": [
    "df2['usertype'].replace({'member':'Subscriber', 'casual':'Customer'}, inplace=True)"
   ]
  },
  {
   "cell_type": "code",
   "execution_count": 27,
   "metadata": {},
   "outputs": [],
   "source": [
    "df2.loc[df2['from_station_name'].isnull(), 'from_station_name'] = 'Unknown'\n",
    "df2.loc[df2['from_station_id'].isnull(), 'from_station_id'] = 0\n",
    "df2.loc[df2['to_station_name'].isnull(), 'to_station_name'] = 'Unknown'\n",
    "df2.loc[df2['to_station_id'].isnull(), 'to_station_id'] = 0\n",
    "df2.loc[df2['end_lat'].isnull(), 'end_lat'] = 0\n",
    "df2.loc[df2['end_lng'].isnull(), 'end_lng'] = 0"
   ]
  },
  {
   "cell_type": "code",
   "execution_count": 28,
   "metadata": {},
   "outputs": [
    {
     "data": {
      "text/html": [
       "<div>\n",
       "<style scoped>\n",
       "    .dataframe tbody tr th:only-of-type {\n",
       "        vertical-align: middle;\n",
       "    }\n",
       "\n",
       "    .dataframe tbody tr th {\n",
       "        vertical-align: top;\n",
       "    }\n",
       "\n",
       "    .dataframe thead th {\n",
       "        text-align: right;\n",
       "    }\n",
       "</style>\n",
       "<table border=\"1\" class=\"dataframe\">\n",
       "  <thead>\n",
       "    <tr style=\"text-align: right;\">\n",
       "      <th></th>\n",
       "      <th>ride_id</th>\n",
       "      <th>rideable_type</th>\n",
       "      <th>starttime</th>\n",
       "      <th>stoptime</th>\n",
       "      <th>from_station_name</th>\n",
       "      <th>from_station_id</th>\n",
       "      <th>to_station_name</th>\n",
       "      <th>to_station_id</th>\n",
       "      <th>start_lat</th>\n",
       "      <th>start_lng</th>\n",
       "      <th>end_lat</th>\n",
       "      <th>end_lng</th>\n",
       "      <th>usertype</th>\n",
       "    </tr>\n",
       "  </thead>\n",
       "  <tbody>\n",
       "  </tbody>\n",
       "</table>\n",
       "</div>"
      ],
      "text/plain": [
       "Empty DataFrame\n",
       "Columns: [ride_id, rideable_type, starttime, stoptime, from_station_name, from_station_id, to_station_name, to_station_id, start_lat, start_lng, end_lat, end_lng, usertype]\n",
       "Index: []"
      ]
     },
     "execution_count": 28,
     "metadata": {},
     "output_type": "execute_result"
    }
   ],
   "source": [
    "df2.loc[df2['starttime'].dt.year != 2021]"
   ]
  },
  {
   "cell_type": "code",
   "execution_count": 29,
   "metadata": {},
   "outputs": [
    {
     "data": {
      "text/html": [
       "<div>\n",
       "<style scoped>\n",
       "    .dataframe tbody tr th:only-of-type {\n",
       "        vertical-align: middle;\n",
       "    }\n",
       "\n",
       "    .dataframe tbody tr th {\n",
       "        vertical-align: top;\n",
       "    }\n",
       "\n",
       "    .dataframe thead th {\n",
       "        text-align: right;\n",
       "    }\n",
       "</style>\n",
       "<table border=\"1\" class=\"dataframe\">\n",
       "  <thead>\n",
       "    <tr style=\"text-align: right;\">\n",
       "      <th></th>\n",
       "      <th>ride_id</th>\n",
       "      <th>rideable_type</th>\n",
       "      <th>starttime</th>\n",
       "      <th>stoptime</th>\n",
       "      <th>from_station_name</th>\n",
       "      <th>from_station_id</th>\n",
       "      <th>to_station_name</th>\n",
       "      <th>to_station_id</th>\n",
       "      <th>start_lat</th>\n",
       "      <th>start_lng</th>\n",
       "      <th>end_lat</th>\n",
       "      <th>end_lng</th>\n",
       "      <th>usertype</th>\n",
       "    </tr>\n",
       "  </thead>\n",
       "  <tbody>\n",
       "  </tbody>\n",
       "</table>\n",
       "</div>"
      ],
      "text/plain": [
       "Empty DataFrame\n",
       "Columns: [ride_id, rideable_type, starttime, stoptime, from_station_name, from_station_id, to_station_name, to_station_id, start_lat, start_lng, end_lat, end_lng, usertype]\n",
       "Index: []"
      ]
     },
     "execution_count": 29,
     "metadata": {},
     "output_type": "execute_result"
    }
   ],
   "source": [
    "df2.loc[df2['stoptime'].dt.year != 2021]"
   ]
  },
  {
   "cell_type": "code",
   "execution_count": 30,
   "metadata": {},
   "outputs": [
    {
     "name": "stdout",
     "output_type": "stream",
     "text": [
      "<class 'pandas.core.frame.DataFrame'>\n",
      "RangeIndex: 49622 entries, 0 to 49621\n",
      "Data columns (total 13 columns):\n",
      " #   Column             Non-Null Count  Dtype         \n",
      "---  ------             --------------  -----         \n",
      " 0   ride_id            49622 non-null  object        \n",
      " 1   rideable_type      49622 non-null  object        \n",
      " 2   starttime          49622 non-null  datetime64[ns]\n",
      " 3   stoptime           49622 non-null  datetime64[ns]\n",
      " 4   from_station_name  49622 non-null  object        \n",
      " 5   from_station_id    49622 non-null  object        \n",
      " 6   to_station_name    49622 non-null  object        \n",
      " 7   to_station_id      49622 non-null  object        \n",
      " 8   start_lat          49622 non-null  float64       \n",
      " 9   start_lng          49622 non-null  float64       \n",
      " 10  end_lat            49622 non-null  float64       \n",
      " 11  end_lng            49622 non-null  float64       \n",
      " 12  usertype           49622 non-null  object        \n",
      "dtypes: datetime64[ns](2), float64(4), object(7)\n",
      "memory usage: 4.9+ MB\n"
     ]
    }
   ],
   "source": [
    "df2.info(verbose=True)"
   ]
  },
  {
   "cell_type": "code",
   "execution_count": 31,
   "metadata": {},
   "outputs": [
    {
     "name": "stdout",
     "output_type": "stream",
     "text": [
      "<class 'pandas.core.frame.DataFrame'>\n",
      "RangeIndex: 228496 entries, 0 to 228495\n",
      "Data columns (total 13 columns):\n",
      " #   Column              Non-Null Count   Dtype  \n",
      "---  ------              --------------   -----  \n",
      " 0   ride_id             228496 non-null  object \n",
      " 1   rideable_type       228496 non-null  object \n",
      " 2   started_at          228496 non-null  object \n",
      " 3   ended_at            228496 non-null  object \n",
      " 4   start_station_name  213648 non-null  object \n",
      " 5   start_station_id    213648 non-null  object \n",
      " 6   end_station_name    211769 non-null  object \n",
      " 7   end_station_id      211769 non-null  object \n",
      " 8   start_lat           228496 non-null  float64\n",
      " 9   start_lng           228496 non-null  float64\n",
      " 10  end_lat             228329 non-null  float64\n",
      " 11  end_lng             228329 non-null  float64\n",
      " 12  member_casual       228496 non-null  object \n",
      "dtypes: float64(4), object(9)\n",
      "memory usage: 22.7+ MB\n"
     ]
    }
   ],
   "source": [
    "df3.info(verbose=True)"
   ]
  },
  {
   "cell_type": "code",
   "execution_count": 32,
   "metadata": {},
   "outputs": [],
   "source": [
    "df3.rename(columns = {'started_at':'starttime'}, inplace = True)\n",
    "df3.rename(columns = {'ended_at':'stoptime'}, inplace = True)\n",
    "df3.rename(columns = {'start_station_name':'from_station_name'}, inplace = True)\n",
    "df3.rename(columns = {'start_station_id':'from_station_id'}, inplace = True)\n",
    "df3.rename(columns = {'end_station_name':'to_station_name'}, inplace = True)\n",
    "df3.rename(columns = {'end_station_id':'to_station_id'}, inplace = True)\n",
    "df3.rename(columns = {'member_casual':'usertype'}, inplace = True)"
   ]
  },
  {
   "cell_type": "code",
   "execution_count": 33,
   "metadata": {},
   "outputs": [],
   "source": [
    "df3[\"starttime\"] = pd.to_datetime(df3[\"starttime\"])\n",
    "df3[\"stoptime\"] = pd.to_datetime(df3[\"stoptime\"])"
   ]
  },
  {
   "cell_type": "code",
   "execution_count": 34,
   "metadata": {},
   "outputs": [],
   "source": [
    "df3['usertype'].replace({'member':'Subscriber', 'casual':'Customer'}, inplace=True)"
   ]
  },
  {
   "cell_type": "code",
   "execution_count": 35,
   "metadata": {},
   "outputs": [],
   "source": [
    "df3.loc[df3['from_station_name'].isnull(), 'from_station_name'] = 'Unknown'\n",
    "df3.loc[df3['from_station_id'].isnull(), 'from_station_id'] = 0\n",
    "df3.loc[df3['to_station_name'].isnull(), 'to_station_name'] = 'Unknown'\n",
    "df3.loc[df3['to_station_id'].isnull(), 'to_station_id'] = 0\n",
    "df3.loc[df3['end_lat'].isnull(), 'end_lat'] = 0\n",
    "df3.loc[df3['end_lng'].isnull(), 'end_lng'] = 0"
   ]
  },
  {
   "cell_type": "code",
   "execution_count": 36,
   "metadata": {},
   "outputs": [
    {
     "data": {
      "text/html": [
       "<div>\n",
       "<style scoped>\n",
       "    .dataframe tbody tr th:only-of-type {\n",
       "        vertical-align: middle;\n",
       "    }\n",
       "\n",
       "    .dataframe tbody tr th {\n",
       "        vertical-align: top;\n",
       "    }\n",
       "\n",
       "    .dataframe thead th {\n",
       "        text-align: right;\n",
       "    }\n",
       "</style>\n",
       "<table border=\"1\" class=\"dataframe\">\n",
       "  <thead>\n",
       "    <tr style=\"text-align: right;\">\n",
       "      <th></th>\n",
       "      <th>ride_id</th>\n",
       "      <th>rideable_type</th>\n",
       "      <th>starttime</th>\n",
       "      <th>stoptime</th>\n",
       "      <th>from_station_name</th>\n",
       "      <th>from_station_id</th>\n",
       "      <th>to_station_name</th>\n",
       "      <th>to_station_id</th>\n",
       "      <th>start_lat</th>\n",
       "      <th>start_lng</th>\n",
       "      <th>end_lat</th>\n",
       "      <th>end_lng</th>\n",
       "      <th>usertype</th>\n",
       "    </tr>\n",
       "  </thead>\n",
       "  <tbody>\n",
       "  </tbody>\n",
       "</table>\n",
       "</div>"
      ],
      "text/plain": [
       "Empty DataFrame\n",
       "Columns: [ride_id, rideable_type, starttime, stoptime, from_station_name, from_station_id, to_station_name, to_station_id, start_lat, start_lng, end_lat, end_lng, usertype]\n",
       "Index: []"
      ]
     },
     "execution_count": 36,
     "metadata": {},
     "output_type": "execute_result"
    }
   ],
   "source": [
    "df3.loc[df3['starttime'].dt.year != 2021]"
   ]
  },
  {
   "cell_type": "code",
   "execution_count": 37,
   "metadata": {},
   "outputs": [
    {
     "data": {
      "text/html": [
       "<div>\n",
       "<style scoped>\n",
       "    .dataframe tbody tr th:only-of-type {\n",
       "        vertical-align: middle;\n",
       "    }\n",
       "\n",
       "    .dataframe tbody tr th {\n",
       "        vertical-align: top;\n",
       "    }\n",
       "\n",
       "    .dataframe thead th {\n",
       "        text-align: right;\n",
       "    }\n",
       "</style>\n",
       "<table border=\"1\" class=\"dataframe\">\n",
       "  <thead>\n",
       "    <tr style=\"text-align: right;\">\n",
       "      <th></th>\n",
       "      <th>ride_id</th>\n",
       "      <th>rideable_type</th>\n",
       "      <th>starttime</th>\n",
       "      <th>stoptime</th>\n",
       "      <th>from_station_name</th>\n",
       "      <th>from_station_id</th>\n",
       "      <th>to_station_name</th>\n",
       "      <th>to_station_id</th>\n",
       "      <th>start_lat</th>\n",
       "      <th>start_lng</th>\n",
       "      <th>end_lat</th>\n",
       "      <th>end_lng</th>\n",
       "      <th>usertype</th>\n",
       "    </tr>\n",
       "  </thead>\n",
       "  <tbody>\n",
       "  </tbody>\n",
       "</table>\n",
       "</div>"
      ],
      "text/plain": [
       "Empty DataFrame\n",
       "Columns: [ride_id, rideable_type, starttime, stoptime, from_station_name, from_station_id, to_station_name, to_station_id, start_lat, start_lng, end_lat, end_lng, usertype]\n",
       "Index: []"
      ]
     },
     "execution_count": 37,
     "metadata": {},
     "output_type": "execute_result"
    }
   ],
   "source": [
    "df3.loc[df3['stoptime'].dt.year != 2021]"
   ]
  },
  {
   "cell_type": "code",
   "execution_count": 38,
   "metadata": {},
   "outputs": [
    {
     "name": "stdout",
     "output_type": "stream",
     "text": [
      "<class 'pandas.core.frame.DataFrame'>\n",
      "RangeIndex: 228496 entries, 0 to 228495\n",
      "Data columns (total 13 columns):\n",
      " #   Column             Non-Null Count   Dtype         \n",
      "---  ------             --------------   -----         \n",
      " 0   ride_id            228496 non-null  object        \n",
      " 1   rideable_type      228496 non-null  object        \n",
      " 2   starttime          228496 non-null  datetime64[ns]\n",
      " 3   stoptime           228496 non-null  datetime64[ns]\n",
      " 4   from_station_name  228496 non-null  object        \n",
      " 5   from_station_id    228496 non-null  object        \n",
      " 6   to_station_name    228496 non-null  object        \n",
      " 7   to_station_id      228496 non-null  object        \n",
      " 8   start_lat          228496 non-null  float64       \n",
      " 9   start_lng          228496 non-null  float64       \n",
      " 10  end_lat            228496 non-null  float64       \n",
      " 11  end_lng            228496 non-null  float64       \n",
      " 12  usertype           228496 non-null  object        \n",
      "dtypes: datetime64[ns](2), float64(4), object(7)\n",
      "memory usage: 22.7+ MB\n"
     ]
    }
   ],
   "source": [
    "df3.info(verbose=True)"
   ]
  },
  {
   "cell_type": "code",
   "execution_count": 39,
   "metadata": {},
   "outputs": [
    {
     "name": "stdout",
     "output_type": "stream",
     "text": [
      "<class 'pandas.core.frame.DataFrame'>\n",
      "RangeIndex: 337230 entries, 0 to 337229\n",
      "Data columns (total 13 columns):\n",
      " #   Column              Non-Null Count   Dtype  \n",
      "---  ------              --------------   -----  \n",
      " 0   ride_id             337230 non-null  object \n",
      " 1   rideable_type       337230 non-null  object \n",
      " 2   started_at          337230 non-null  object \n",
      " 3   ended_at            337230 non-null  object \n",
      " 4   start_station_name  311174 non-null  object \n",
      " 5   start_station_id    311174 non-null  object \n",
      " 6   end_station_name    309056 non-null  object \n",
      " 7   end_station_id      309056 non-null  object \n",
      " 8   start_lat           337230 non-null  float64\n",
      " 9   start_lng           337230 non-null  float64\n",
      " 10  end_lat             336963 non-null  float64\n",
      " 11  end_lng             336963 non-null  float64\n",
      " 12  member_casual       337230 non-null  object \n",
      "dtypes: float64(4), object(9)\n",
      "memory usage: 33.4+ MB\n"
     ]
    }
   ],
   "source": [
    "df4.info(verbose=True)"
   ]
  },
  {
   "cell_type": "code",
   "execution_count": 40,
   "metadata": {},
   "outputs": [],
   "source": [
    "df4.rename(columns = {'started_at':'starttime'}, inplace = True)\n",
    "df4.rename(columns = {'ended_at':'stoptime'}, inplace = True)\n",
    "df4.rename(columns = {'start_station_name':'from_station_name'}, inplace = True)\n",
    "df4.rename(columns = {'start_station_id':'from_station_id'}, inplace = True)\n",
    "df4.rename(columns = {'end_station_name':'to_station_name'}, inplace = True)\n",
    "df4.rename(columns = {'end_station_id':'to_station_id'}, inplace = True)\n",
    "df4.rename(columns = {'member_casual':'usertype'}, inplace = True)"
   ]
  },
  {
   "cell_type": "code",
   "execution_count": 41,
   "metadata": {},
   "outputs": [],
   "source": [
    "df4[\"starttime\"] = pd.to_datetime(df4[\"starttime\"])\n",
    "df4[\"stoptime\"] = pd.to_datetime(df4[\"stoptime\"])"
   ]
  },
  {
   "cell_type": "code",
   "execution_count": 42,
   "metadata": {},
   "outputs": [],
   "source": [
    "df4['usertype'].replace({'member':'Subscriber', 'casual':'Customer'}, inplace=True)"
   ]
  },
  {
   "cell_type": "code",
   "execution_count": 43,
   "metadata": {},
   "outputs": [],
   "source": [
    "df4.loc[df4['from_station_name'].isnull(), 'from_station_name'] = 'Unknown'\n",
    "df4.loc[df4['from_station_id'].isnull(), 'from_station_id'] = 0\n",
    "df4.loc[df4['to_station_name'].isnull(), 'to_station_name'] = 'Unknown'\n",
    "df4.loc[df4['to_station_id'].isnull(), 'to_station_id'] = 0\n",
    "df4.loc[df4['end_lat'].isnull(), 'end_lat'] = 0\n",
    "df4.loc[df4['end_lng'].isnull(), 'end_lng'] = 0"
   ]
  },
  {
   "cell_type": "code",
   "execution_count": 44,
   "metadata": {},
   "outputs": [
    {
     "data": {
      "text/html": [
       "<div>\n",
       "<style scoped>\n",
       "    .dataframe tbody tr th:only-of-type {\n",
       "        vertical-align: middle;\n",
       "    }\n",
       "\n",
       "    .dataframe tbody tr th {\n",
       "        vertical-align: top;\n",
       "    }\n",
       "\n",
       "    .dataframe thead th {\n",
       "        text-align: right;\n",
       "    }\n",
       "</style>\n",
       "<table border=\"1\" class=\"dataframe\">\n",
       "  <thead>\n",
       "    <tr style=\"text-align: right;\">\n",
       "      <th></th>\n",
       "      <th>ride_id</th>\n",
       "      <th>rideable_type</th>\n",
       "      <th>starttime</th>\n",
       "      <th>stoptime</th>\n",
       "      <th>from_station_name</th>\n",
       "      <th>from_station_id</th>\n",
       "      <th>to_station_name</th>\n",
       "      <th>to_station_id</th>\n",
       "      <th>start_lat</th>\n",
       "      <th>start_lng</th>\n",
       "      <th>end_lat</th>\n",
       "      <th>end_lng</th>\n",
       "      <th>usertype</th>\n",
       "    </tr>\n",
       "  </thead>\n",
       "  <tbody>\n",
       "  </tbody>\n",
       "</table>\n",
       "</div>"
      ],
      "text/plain": [
       "Empty DataFrame\n",
       "Columns: [ride_id, rideable_type, starttime, stoptime, from_station_name, from_station_id, to_station_name, to_station_id, start_lat, start_lng, end_lat, end_lng, usertype]\n",
       "Index: []"
      ]
     },
     "execution_count": 44,
     "metadata": {},
     "output_type": "execute_result"
    }
   ],
   "source": [
    "df4.loc[df4['starttime'].dt.year != 2021]"
   ]
  },
  {
   "cell_type": "code",
   "execution_count": 45,
   "metadata": {},
   "outputs": [
    {
     "data": {
      "text/html": [
       "<div>\n",
       "<style scoped>\n",
       "    .dataframe tbody tr th:only-of-type {\n",
       "        vertical-align: middle;\n",
       "    }\n",
       "\n",
       "    .dataframe tbody tr th {\n",
       "        vertical-align: top;\n",
       "    }\n",
       "\n",
       "    .dataframe thead th {\n",
       "        text-align: right;\n",
       "    }\n",
       "</style>\n",
       "<table border=\"1\" class=\"dataframe\">\n",
       "  <thead>\n",
       "    <tr style=\"text-align: right;\">\n",
       "      <th></th>\n",
       "      <th>ride_id</th>\n",
       "      <th>rideable_type</th>\n",
       "      <th>starttime</th>\n",
       "      <th>stoptime</th>\n",
       "      <th>from_station_name</th>\n",
       "      <th>from_station_id</th>\n",
       "      <th>to_station_name</th>\n",
       "      <th>to_station_id</th>\n",
       "      <th>start_lat</th>\n",
       "      <th>start_lng</th>\n",
       "      <th>end_lat</th>\n",
       "      <th>end_lng</th>\n",
       "      <th>usertype</th>\n",
       "    </tr>\n",
       "  </thead>\n",
       "  <tbody>\n",
       "  </tbody>\n",
       "</table>\n",
       "</div>"
      ],
      "text/plain": [
       "Empty DataFrame\n",
       "Columns: [ride_id, rideable_type, starttime, stoptime, from_station_name, from_station_id, to_station_name, to_station_id, start_lat, start_lng, end_lat, end_lng, usertype]\n",
       "Index: []"
      ]
     },
     "execution_count": 45,
     "metadata": {},
     "output_type": "execute_result"
    }
   ],
   "source": [
    "df4.loc[df4['stoptime'].dt.year != 2021]"
   ]
  },
  {
   "cell_type": "code",
   "execution_count": 46,
   "metadata": {},
   "outputs": [
    {
     "name": "stdout",
     "output_type": "stream",
     "text": [
      "<class 'pandas.core.frame.DataFrame'>\n",
      "RangeIndex: 337230 entries, 0 to 337229\n",
      "Data columns (total 13 columns):\n",
      " #   Column             Non-Null Count   Dtype         \n",
      "---  ------             --------------   -----         \n",
      " 0   ride_id            337230 non-null  object        \n",
      " 1   rideable_type      337230 non-null  object        \n",
      " 2   starttime          337230 non-null  datetime64[ns]\n",
      " 3   stoptime           337230 non-null  datetime64[ns]\n",
      " 4   from_station_name  337230 non-null  object        \n",
      " 5   from_station_id    337230 non-null  object        \n",
      " 6   to_station_name    337230 non-null  object        \n",
      " 7   to_station_id      337230 non-null  object        \n",
      " 8   start_lat          337230 non-null  float64       \n",
      " 9   start_lng          337230 non-null  float64       \n",
      " 10  end_lat            337230 non-null  float64       \n",
      " 11  end_lng            337230 non-null  float64       \n",
      " 12  usertype           337230 non-null  object        \n",
      "dtypes: datetime64[ns](2), float64(4), object(7)\n",
      "memory usage: 33.4+ MB\n"
     ]
    }
   ],
   "source": [
    "df4.info(verbose=True)"
   ]
  },
  {
   "cell_type": "code",
   "execution_count": 47,
   "metadata": {},
   "outputs": [
    {
     "name": "stdout",
     "output_type": "stream",
     "text": [
      "<class 'pandas.core.frame.DataFrame'>\n",
      "RangeIndex: 531633 entries, 0 to 531632\n",
      "Data columns (total 13 columns):\n",
      " #   Column              Non-Null Count   Dtype  \n",
      "---  ------              --------------   -----  \n",
      " 0   ride_id             531633 non-null  object \n",
      " 1   rideable_type       531633 non-null  object \n",
      " 2   started_at          531633 non-null  object \n",
      " 3   ended_at            531633 non-null  object \n",
      " 4   start_station_name  477889 non-null  object \n",
      " 5   start_station_id    477889 non-null  object \n",
      " 6   end_station_name    473439 non-null  object \n",
      " 7   end_station_id      473439 non-null  object \n",
      " 8   start_lat           531633 non-null  float64\n",
      " 9   start_lng           531633 non-null  float64\n",
      " 10  end_lat             531181 non-null  float64\n",
      " 11  end_lng             531181 non-null  float64\n",
      " 12  member_casual       531633 non-null  object \n",
      "dtypes: float64(4), object(9)\n",
      "memory usage: 52.7+ MB\n"
     ]
    }
   ],
   "source": [
    "df5.info(verbose=True)"
   ]
  },
  {
   "cell_type": "code",
   "execution_count": 48,
   "metadata": {},
   "outputs": [],
   "source": [
    "df5.rename(columns = {'started_at':'starttime'}, inplace = True)\n",
    "df5.rename(columns = {'ended_at':'stoptime'}, inplace = True)\n",
    "df5.rename(columns = {'start_station_name':'from_station_name'}, inplace = True)\n",
    "df5.rename(columns = {'start_station_id':'from_station_id'}, inplace = True)\n",
    "df5.rename(columns = {'end_station_name':'to_station_name'}, inplace = True)\n",
    "df5.rename(columns = {'end_station_id':'to_station_id'}, inplace = True)\n",
    "df5.rename(columns = {'member_casual':'usertype'}, inplace = True)"
   ]
  },
  {
   "cell_type": "code",
   "execution_count": 49,
   "metadata": {},
   "outputs": [],
   "source": [
    "df5[\"starttime\"] = pd.to_datetime(df5[\"starttime\"])\n",
    "df5[\"stoptime\"] = pd.to_datetime(df5[\"stoptime\"])"
   ]
  },
  {
   "cell_type": "code",
   "execution_count": 50,
   "metadata": {},
   "outputs": [],
   "source": [
    "df5['usertype'].replace({'member':'Subscriber', 'casual':'Customer'}, inplace=True)"
   ]
  },
  {
   "cell_type": "code",
   "execution_count": 51,
   "metadata": {},
   "outputs": [],
   "source": [
    "df5.loc[df5['from_station_name'].isnull(), 'from_station_name'] = 'Unknown'\n",
    "df5.loc[df5['from_station_id'].isnull(), 'from_station_id'] = 0\n",
    "df5.loc[df5['to_station_name'].isnull(), 'to_station_name'] = 'Unknown'\n",
    "df5.loc[df5['to_station_id'].isnull(), 'to_station_id'] = 0\n",
    "df5.loc[df5['end_lat'].isnull(), 'end_lat'] = 0\n",
    "df5.loc[df5['end_lng'].isnull(), 'end_lng'] = 0"
   ]
  },
  {
   "cell_type": "code",
   "execution_count": 52,
   "metadata": {},
   "outputs": [
    {
     "data": {
      "text/html": [
       "<div>\n",
       "<style scoped>\n",
       "    .dataframe tbody tr th:only-of-type {\n",
       "        vertical-align: middle;\n",
       "    }\n",
       "\n",
       "    .dataframe tbody tr th {\n",
       "        vertical-align: top;\n",
       "    }\n",
       "\n",
       "    .dataframe thead th {\n",
       "        text-align: right;\n",
       "    }\n",
       "</style>\n",
       "<table border=\"1\" class=\"dataframe\">\n",
       "  <thead>\n",
       "    <tr style=\"text-align: right;\">\n",
       "      <th></th>\n",
       "      <th>ride_id</th>\n",
       "      <th>rideable_type</th>\n",
       "      <th>starttime</th>\n",
       "      <th>stoptime</th>\n",
       "      <th>from_station_name</th>\n",
       "      <th>from_station_id</th>\n",
       "      <th>to_station_name</th>\n",
       "      <th>to_station_id</th>\n",
       "      <th>start_lat</th>\n",
       "      <th>start_lng</th>\n",
       "      <th>end_lat</th>\n",
       "      <th>end_lng</th>\n",
       "      <th>usertype</th>\n",
       "    </tr>\n",
       "  </thead>\n",
       "  <tbody>\n",
       "  </tbody>\n",
       "</table>\n",
       "</div>"
      ],
      "text/plain": [
       "Empty DataFrame\n",
       "Columns: [ride_id, rideable_type, starttime, stoptime, from_station_name, from_station_id, to_station_name, to_station_id, start_lat, start_lng, end_lat, end_lng, usertype]\n",
       "Index: []"
      ]
     },
     "execution_count": 52,
     "metadata": {},
     "output_type": "execute_result"
    }
   ],
   "source": [
    "df5.loc[df5['starttime'].dt.year != 2021]"
   ]
  },
  {
   "cell_type": "code",
   "execution_count": 53,
   "metadata": {},
   "outputs": [
    {
     "data": {
      "text/html": [
       "<div>\n",
       "<style scoped>\n",
       "    .dataframe tbody tr th:only-of-type {\n",
       "        vertical-align: middle;\n",
       "    }\n",
       "\n",
       "    .dataframe tbody tr th {\n",
       "        vertical-align: top;\n",
       "    }\n",
       "\n",
       "    .dataframe thead th {\n",
       "        text-align: right;\n",
       "    }\n",
       "</style>\n",
       "<table border=\"1\" class=\"dataframe\">\n",
       "  <thead>\n",
       "    <tr style=\"text-align: right;\">\n",
       "      <th></th>\n",
       "      <th>ride_id</th>\n",
       "      <th>rideable_type</th>\n",
       "      <th>starttime</th>\n",
       "      <th>stoptime</th>\n",
       "      <th>from_station_name</th>\n",
       "      <th>from_station_id</th>\n",
       "      <th>to_station_name</th>\n",
       "      <th>to_station_id</th>\n",
       "      <th>start_lat</th>\n",
       "      <th>start_lng</th>\n",
       "      <th>end_lat</th>\n",
       "      <th>end_lng</th>\n",
       "      <th>usertype</th>\n",
       "    </tr>\n",
       "  </thead>\n",
       "  <tbody>\n",
       "  </tbody>\n",
       "</table>\n",
       "</div>"
      ],
      "text/plain": [
       "Empty DataFrame\n",
       "Columns: [ride_id, rideable_type, starttime, stoptime, from_station_name, from_station_id, to_station_name, to_station_id, start_lat, start_lng, end_lat, end_lng, usertype]\n",
       "Index: []"
      ]
     },
     "execution_count": 53,
     "metadata": {},
     "output_type": "execute_result"
    }
   ],
   "source": [
    "df5.loc[df5['stoptime'].dt.year != 2021]"
   ]
  },
  {
   "cell_type": "code",
   "execution_count": 54,
   "metadata": {},
   "outputs": [
    {
     "name": "stdout",
     "output_type": "stream",
     "text": [
      "<class 'pandas.core.frame.DataFrame'>\n",
      "RangeIndex: 531633 entries, 0 to 531632\n",
      "Data columns (total 13 columns):\n",
      " #   Column             Non-Null Count   Dtype         \n",
      "---  ------             --------------   -----         \n",
      " 0   ride_id            531633 non-null  object        \n",
      " 1   rideable_type      531633 non-null  object        \n",
      " 2   starttime          531633 non-null  datetime64[ns]\n",
      " 3   stoptime           531633 non-null  datetime64[ns]\n",
      " 4   from_station_name  531633 non-null  object        \n",
      " 5   from_station_id    531633 non-null  object        \n",
      " 6   to_station_name    531633 non-null  object        \n",
      " 7   to_station_id      531633 non-null  object        \n",
      " 8   start_lat          531633 non-null  float64       \n",
      " 9   start_lng          531633 non-null  float64       \n",
      " 10  end_lat            531633 non-null  float64       \n",
      " 11  end_lng            531633 non-null  float64       \n",
      " 12  usertype           531633 non-null  object        \n",
      "dtypes: datetime64[ns](2), float64(4), object(7)\n",
      "memory usage: 52.7+ MB\n"
     ]
    }
   ],
   "source": [
    "df5.info(verbose=True)"
   ]
  },
  {
   "cell_type": "code",
   "execution_count": 55,
   "metadata": {},
   "outputs": [
    {
     "name": "stdout",
     "output_type": "stream",
     "text": [
      "<class 'pandas.core.frame.DataFrame'>\n",
      "RangeIndex: 729595 entries, 0 to 729594\n",
      "Data columns (total 13 columns):\n",
      " #   Column              Non-Null Count   Dtype  \n",
      "---  ------              --------------   -----  \n",
      " 0   ride_id             729595 non-null  object \n",
      " 1   rideable_type       729595 non-null  object \n",
      " 2   started_at          729595 non-null  object \n",
      " 3   ended_at            729595 non-null  object \n",
      " 4   start_station_name  649502 non-null  object \n",
      " 5   start_station_id    649502 non-null  object \n",
      " 6   end_station_name    643208 non-null  object \n",
      " 7   end_station_id      643208 non-null  object \n",
      " 8   start_lat           729595 non-null  float64\n",
      " 9   start_lng           729595 non-null  float64\n",
      " 10  end_lat             728878 non-null  float64\n",
      " 11  end_lng             728878 non-null  float64\n",
      " 12  member_casual       729595 non-null  object \n",
      "dtypes: float64(4), object(9)\n",
      "memory usage: 72.4+ MB\n"
     ]
    }
   ],
   "source": [
    "df6.info(verbose=True)"
   ]
  },
  {
   "cell_type": "code",
   "execution_count": 56,
   "metadata": {},
   "outputs": [],
   "source": [
    "df6.rename(columns = {'started_at':'starttime'}, inplace = True)\n",
    "df6.rename(columns = {'ended_at':'stoptime'}, inplace = True)\n",
    "df6.rename(columns = {'start_station_name':'from_station_name'}, inplace = True)\n",
    "df6.rename(columns = {'start_station_id':'from_station_id'}, inplace = True)\n",
    "df6.rename(columns = {'end_station_name':'to_station_name'}, inplace = True)\n",
    "df6.rename(columns = {'end_station_id':'to_station_id'}, inplace = True)\n",
    "df6.rename(columns = {'member_casual':'usertype'}, inplace = True)"
   ]
  },
  {
   "cell_type": "code",
   "execution_count": 57,
   "metadata": {},
   "outputs": [],
   "source": [
    "df6[\"starttime\"] = pd.to_datetime(df6[\"starttime\"])\n",
    "df6[\"stoptime\"] = pd.to_datetime(df6[\"stoptime\"])"
   ]
  },
  {
   "cell_type": "code",
   "execution_count": 58,
   "metadata": {},
   "outputs": [],
   "source": [
    "df6['usertype'].replace({'member':'Subscriber', 'casual':'Customer'}, inplace=True)"
   ]
  },
  {
   "cell_type": "code",
   "execution_count": 59,
   "metadata": {},
   "outputs": [],
   "source": [
    "df6.loc[df6['from_station_name'].isnull(), 'from_station_name'] = 'Unknown'\n",
    "df6.loc[df6['from_station_id'].isnull(), 'from_station_id'] = 0\n",
    "df6.loc[df6['to_station_name'].isnull(), 'to_station_name'] = 'Unknown'\n",
    "df6.loc[df6['to_station_id'].isnull(), 'to_station_id'] = 0\n",
    "df6.loc[df6['end_lat'].isnull(), 'end_lat'] = 0\n",
    "df6.loc[df6['end_lng'].isnull(), 'end_lng'] = 0"
   ]
  },
  {
   "cell_type": "code",
   "execution_count": 60,
   "metadata": {},
   "outputs": [
    {
     "data": {
      "text/html": [
       "<div>\n",
       "<style scoped>\n",
       "    .dataframe tbody tr th:only-of-type {\n",
       "        vertical-align: middle;\n",
       "    }\n",
       "\n",
       "    .dataframe tbody tr th {\n",
       "        vertical-align: top;\n",
       "    }\n",
       "\n",
       "    .dataframe thead th {\n",
       "        text-align: right;\n",
       "    }\n",
       "</style>\n",
       "<table border=\"1\" class=\"dataframe\">\n",
       "  <thead>\n",
       "    <tr style=\"text-align: right;\">\n",
       "      <th></th>\n",
       "      <th>ride_id</th>\n",
       "      <th>rideable_type</th>\n",
       "      <th>starttime</th>\n",
       "      <th>stoptime</th>\n",
       "      <th>from_station_name</th>\n",
       "      <th>from_station_id</th>\n",
       "      <th>to_station_name</th>\n",
       "      <th>to_station_id</th>\n",
       "      <th>start_lat</th>\n",
       "      <th>start_lng</th>\n",
       "      <th>end_lat</th>\n",
       "      <th>end_lng</th>\n",
       "      <th>usertype</th>\n",
       "    </tr>\n",
       "  </thead>\n",
       "  <tbody>\n",
       "  </tbody>\n",
       "</table>\n",
       "</div>"
      ],
      "text/plain": [
       "Empty DataFrame\n",
       "Columns: [ride_id, rideable_type, starttime, stoptime, from_station_name, from_station_id, to_station_name, to_station_id, start_lat, start_lng, end_lat, end_lng, usertype]\n",
       "Index: []"
      ]
     },
     "execution_count": 60,
     "metadata": {},
     "output_type": "execute_result"
    }
   ],
   "source": [
    "df6.loc[df6['starttime'].dt.year != 2021]"
   ]
  },
  {
   "cell_type": "code",
   "execution_count": 61,
   "metadata": {},
   "outputs": [
    {
     "data": {
      "text/html": [
       "<div>\n",
       "<style scoped>\n",
       "    .dataframe tbody tr th:only-of-type {\n",
       "        vertical-align: middle;\n",
       "    }\n",
       "\n",
       "    .dataframe tbody tr th {\n",
       "        vertical-align: top;\n",
       "    }\n",
       "\n",
       "    .dataframe thead th {\n",
       "        text-align: right;\n",
       "    }\n",
       "</style>\n",
       "<table border=\"1\" class=\"dataframe\">\n",
       "  <thead>\n",
       "    <tr style=\"text-align: right;\">\n",
       "      <th></th>\n",
       "      <th>ride_id</th>\n",
       "      <th>rideable_type</th>\n",
       "      <th>starttime</th>\n",
       "      <th>stoptime</th>\n",
       "      <th>from_station_name</th>\n",
       "      <th>from_station_id</th>\n",
       "      <th>to_station_name</th>\n",
       "      <th>to_station_id</th>\n",
       "      <th>start_lat</th>\n",
       "      <th>start_lng</th>\n",
       "      <th>end_lat</th>\n",
       "      <th>end_lng</th>\n",
       "      <th>usertype</th>\n",
       "    </tr>\n",
       "  </thead>\n",
       "  <tbody>\n",
       "  </tbody>\n",
       "</table>\n",
       "</div>"
      ],
      "text/plain": [
       "Empty DataFrame\n",
       "Columns: [ride_id, rideable_type, starttime, stoptime, from_station_name, from_station_id, to_station_name, to_station_id, start_lat, start_lng, end_lat, end_lng, usertype]\n",
       "Index: []"
      ]
     },
     "execution_count": 61,
     "metadata": {},
     "output_type": "execute_result"
    }
   ],
   "source": [
    "df6.loc[df6['stoptime'].dt.year != 2021]"
   ]
  },
  {
   "cell_type": "code",
   "execution_count": 62,
   "metadata": {},
   "outputs": [
    {
     "name": "stdout",
     "output_type": "stream",
     "text": [
      "<class 'pandas.core.frame.DataFrame'>\n",
      "RangeIndex: 729595 entries, 0 to 729594\n",
      "Data columns (total 13 columns):\n",
      " #   Column             Non-Null Count   Dtype         \n",
      "---  ------             --------------   -----         \n",
      " 0   ride_id            729595 non-null  object        \n",
      " 1   rideable_type      729595 non-null  object        \n",
      " 2   starttime          729595 non-null  datetime64[ns]\n",
      " 3   stoptime           729595 non-null  datetime64[ns]\n",
      " 4   from_station_name  729595 non-null  object        \n",
      " 5   from_station_id    729595 non-null  object        \n",
      " 6   to_station_name    729595 non-null  object        \n",
      " 7   to_station_id      729595 non-null  object        \n",
      " 8   start_lat          729595 non-null  float64       \n",
      " 9   start_lng          729595 non-null  float64       \n",
      " 10  end_lat            729595 non-null  float64       \n",
      " 11  end_lng            729595 non-null  float64       \n",
      " 12  usertype           729595 non-null  object        \n",
      "dtypes: datetime64[ns](2), float64(4), object(7)\n",
      "memory usage: 72.4+ MB\n"
     ]
    }
   ],
   "source": [
    "df6.info(verbose=True)"
   ]
  },
  {
   "cell_type": "code",
   "execution_count": 63,
   "metadata": {},
   "outputs": [
    {
     "name": "stdout",
     "output_type": "stream",
     "text": [
      "<class 'pandas.core.frame.DataFrame'>\n",
      "RangeIndex: 822410 entries, 0 to 822409\n",
      "Data columns (total 13 columns):\n",
      " #   Column              Non-Null Count   Dtype  \n",
      "---  ------              --------------   -----  \n",
      " 0   ride_id             822410 non-null  object \n",
      " 1   rideable_type       822410 non-null  object \n",
      " 2   started_at          822410 non-null  object \n",
      " 3   ended_at            822410 non-null  object \n",
      " 4   start_station_name  735147 non-null  object \n",
      " 5   start_station_id    735148 non-null  object \n",
      " 6   end_station_name    729252 non-null  object \n",
      " 7   end_station_id      729252 non-null  object \n",
      " 8   start_lat           822410 non-null  float64\n",
      " 9   start_lng           822410 non-null  float64\n",
      " 10  end_lat             821679 non-null  float64\n",
      " 11  end_lng             821679 non-null  float64\n",
      " 12  member_casual       822410 non-null  object \n",
      "dtypes: float64(4), object(9)\n",
      "memory usage: 81.6+ MB\n"
     ]
    }
   ],
   "source": [
    "df7.info(verbose=True)"
   ]
  },
  {
   "cell_type": "code",
   "execution_count": 64,
   "metadata": {},
   "outputs": [],
   "source": [
    "df7.rename(columns = {'started_at':'starttime'}, inplace = True)\n",
    "df7.rename(columns = {'ended_at':'stoptime'}, inplace = True)\n",
    "df7.rename(columns = {'start_station_name':'from_station_name'}, inplace = True)\n",
    "df7.rename(columns = {'start_station_id':'from_station_id'}, inplace = True)\n",
    "df7.rename(columns = {'end_station_name':'to_station_name'}, inplace = True)\n",
    "df7.rename(columns = {'end_station_id':'to_station_id'}, inplace = True)\n",
    "df7.rename(columns = {'member_casual':'usertype'}, inplace = True)"
   ]
  },
  {
   "cell_type": "code",
   "execution_count": 65,
   "metadata": {},
   "outputs": [],
   "source": [
    "df7[\"starttime\"] = pd.to_datetime(df7[\"starttime\"])\n",
    "df7[\"stoptime\"] = pd.to_datetime(df7[\"stoptime\"])"
   ]
  },
  {
   "cell_type": "code",
   "execution_count": 66,
   "metadata": {},
   "outputs": [],
   "source": [
    "df7['usertype'].replace({'member':'Subscriber', 'casual':'Customer'}, inplace=True)"
   ]
  },
  {
   "cell_type": "code",
   "execution_count": 67,
   "metadata": {},
   "outputs": [],
   "source": [
    "df7.loc[df7['from_station_name'].isnull(), 'from_station_name'] = 'Unknown'\n",
    "df7.loc[df7['from_station_id'].isnull(), 'from_station_id'] = 0\n",
    "df7.loc[df7['to_station_name'].isnull(), 'to_station_name'] = 'Unknown'\n",
    "df7.loc[df7['to_station_id'].isnull(), 'to_station_id'] = 0\n",
    "df7.loc[df7['end_lat'].isnull(), 'end_lat'] = 0\n",
    "df7.loc[df7['end_lng'].isnull(), 'end_lng'] = 0"
   ]
  },
  {
   "cell_type": "code",
   "execution_count": 68,
   "metadata": {},
   "outputs": [
    {
     "data": {
      "text/html": [
       "<div>\n",
       "<style scoped>\n",
       "    .dataframe tbody tr th:only-of-type {\n",
       "        vertical-align: middle;\n",
       "    }\n",
       "\n",
       "    .dataframe tbody tr th {\n",
       "        vertical-align: top;\n",
       "    }\n",
       "\n",
       "    .dataframe thead th {\n",
       "        text-align: right;\n",
       "    }\n",
       "</style>\n",
       "<table border=\"1\" class=\"dataframe\">\n",
       "  <thead>\n",
       "    <tr style=\"text-align: right;\">\n",
       "      <th></th>\n",
       "      <th>ride_id</th>\n",
       "      <th>rideable_type</th>\n",
       "      <th>starttime</th>\n",
       "      <th>stoptime</th>\n",
       "      <th>from_station_name</th>\n",
       "      <th>from_station_id</th>\n",
       "      <th>to_station_name</th>\n",
       "      <th>to_station_id</th>\n",
       "      <th>start_lat</th>\n",
       "      <th>start_lng</th>\n",
       "      <th>end_lat</th>\n",
       "      <th>end_lng</th>\n",
       "      <th>usertype</th>\n",
       "    </tr>\n",
       "  </thead>\n",
       "  <tbody>\n",
       "  </tbody>\n",
       "</table>\n",
       "</div>"
      ],
      "text/plain": [
       "Empty DataFrame\n",
       "Columns: [ride_id, rideable_type, starttime, stoptime, from_station_name, from_station_id, to_station_name, to_station_id, start_lat, start_lng, end_lat, end_lng, usertype]\n",
       "Index: []"
      ]
     },
     "execution_count": 68,
     "metadata": {},
     "output_type": "execute_result"
    }
   ],
   "source": [
    "df7.loc[df7['starttime'].dt.year != 2021]"
   ]
  },
  {
   "cell_type": "code",
   "execution_count": 69,
   "metadata": {},
   "outputs": [
    {
     "data": {
      "text/html": [
       "<div>\n",
       "<style scoped>\n",
       "    .dataframe tbody tr th:only-of-type {\n",
       "        vertical-align: middle;\n",
       "    }\n",
       "\n",
       "    .dataframe tbody tr th {\n",
       "        vertical-align: top;\n",
       "    }\n",
       "\n",
       "    .dataframe thead th {\n",
       "        text-align: right;\n",
       "    }\n",
       "</style>\n",
       "<table border=\"1\" class=\"dataframe\">\n",
       "  <thead>\n",
       "    <tr style=\"text-align: right;\">\n",
       "      <th></th>\n",
       "      <th>ride_id</th>\n",
       "      <th>rideable_type</th>\n",
       "      <th>starttime</th>\n",
       "      <th>stoptime</th>\n",
       "      <th>from_station_name</th>\n",
       "      <th>from_station_id</th>\n",
       "      <th>to_station_name</th>\n",
       "      <th>to_station_id</th>\n",
       "      <th>start_lat</th>\n",
       "      <th>start_lng</th>\n",
       "      <th>end_lat</th>\n",
       "      <th>end_lng</th>\n",
       "      <th>usertype</th>\n",
       "    </tr>\n",
       "  </thead>\n",
       "  <tbody>\n",
       "  </tbody>\n",
       "</table>\n",
       "</div>"
      ],
      "text/plain": [
       "Empty DataFrame\n",
       "Columns: [ride_id, rideable_type, starttime, stoptime, from_station_name, from_station_id, to_station_name, to_station_id, start_lat, start_lng, end_lat, end_lng, usertype]\n",
       "Index: []"
      ]
     },
     "execution_count": 69,
     "metadata": {},
     "output_type": "execute_result"
    }
   ],
   "source": [
    "df7.loc[df7['starttime'].dt.year != 2021]"
   ]
  },
  {
   "cell_type": "code",
   "execution_count": 70,
   "metadata": {},
   "outputs": [
    {
     "name": "stdout",
     "output_type": "stream",
     "text": [
      "<class 'pandas.core.frame.DataFrame'>\n",
      "RangeIndex: 822410 entries, 0 to 822409\n",
      "Data columns (total 13 columns):\n",
      " #   Column             Non-Null Count   Dtype         \n",
      "---  ------             --------------   -----         \n",
      " 0   ride_id            822410 non-null  object        \n",
      " 1   rideable_type      822410 non-null  object        \n",
      " 2   starttime          822410 non-null  datetime64[ns]\n",
      " 3   stoptime           822410 non-null  datetime64[ns]\n",
      " 4   from_station_name  822410 non-null  object        \n",
      " 5   from_station_id    822410 non-null  object        \n",
      " 6   to_station_name    822410 non-null  object        \n",
      " 7   to_station_id      822410 non-null  object        \n",
      " 8   start_lat          822410 non-null  float64       \n",
      " 9   start_lng          822410 non-null  float64       \n",
      " 10  end_lat            822410 non-null  float64       \n",
      " 11  end_lng            822410 non-null  float64       \n",
      " 12  usertype           822410 non-null  object        \n",
      "dtypes: datetime64[ns](2), float64(4), object(7)\n",
      "memory usage: 81.6+ MB\n"
     ]
    }
   ],
   "source": [
    "df7.info(verbose=True)"
   ]
  },
  {
   "cell_type": "code",
   "execution_count": 71,
   "metadata": {},
   "outputs": [
    {
     "name": "stdout",
     "output_type": "stream",
     "text": [
      "<class 'pandas.core.frame.DataFrame'>\n",
      "RangeIndex: 804352 entries, 0 to 804351\n",
      "Data columns (total 13 columns):\n",
      " #   Column              Non-Null Count   Dtype  \n",
      "---  ------              --------------   -----  \n",
      " 0   ride_id             804352 non-null  object \n",
      " 1   rideable_type       804352 non-null  object \n",
      " 2   started_at          804352 non-null  object \n",
      " 3   ended_at            804352 non-null  object \n",
      " 4   start_station_name  715894 non-null  object \n",
      " 5   start_station_id    715894 non-null  object \n",
      " 6   end_station_name    710237 non-null  object \n",
      " 7   end_station_id      710237 non-null  object \n",
      " 8   start_lat           804352 non-null  float64\n",
      " 9   start_lng           804352 non-null  float64\n",
      " 10  end_lat             803646 non-null  float64\n",
      " 11  end_lng             803646 non-null  float64\n",
      " 12  member_casual       804352 non-null  object \n",
      "dtypes: float64(4), object(9)\n",
      "memory usage: 79.8+ MB\n"
     ]
    }
   ],
   "source": [
    "df8.info(verbose=True)"
   ]
  },
  {
   "cell_type": "code",
   "execution_count": 72,
   "metadata": {},
   "outputs": [],
   "source": [
    "df8.rename(columns = {'started_at':'starttime'}, inplace = True)\n",
    "df8.rename(columns = {'ended_at':'stoptime'}, inplace = True)\n",
    "df8.rename(columns = {'start_station_name':'from_station_name'}, inplace = True)\n",
    "df8.rename(columns = {'start_station_id':'from_station_id'}, inplace = True)\n",
    "df8.rename(columns = {'end_station_name':'to_station_name'}, inplace = True)\n",
    "df8.rename(columns = {'end_station_id':'to_station_id'}, inplace = True)\n",
    "df8.rename(columns = {'member_casual':'usertype'}, inplace = True)"
   ]
  },
  {
   "cell_type": "code",
   "execution_count": 73,
   "metadata": {},
   "outputs": [],
   "source": [
    "df8[\"starttime\"] = pd.to_datetime(df8[\"starttime\"])\n",
    "df8[\"stoptime\"] = pd.to_datetime(df8[\"stoptime\"])"
   ]
  },
  {
   "cell_type": "code",
   "execution_count": 74,
   "metadata": {},
   "outputs": [],
   "source": [
    "df8['usertype'].replace({'member':'Subscriber', 'casual':'Customer'}, inplace=True)"
   ]
  },
  {
   "cell_type": "code",
   "execution_count": 75,
   "metadata": {},
   "outputs": [],
   "source": [
    "df8.loc[df8['from_station_name'].isnull(), 'from_station_name'] = 'Unknown'\n",
    "df8.loc[df8['from_station_id'].isnull(), 'from_station_id'] = 0\n",
    "df8.loc[df8['to_station_name'].isnull(), 'to_station_name'] = 'Unknown'\n",
    "df8.loc[df8['to_station_id'].isnull(), 'to_station_id'] = 0\n",
    "df8.loc[df8['end_lat'].isnull(), 'end_lat'] = 0\n",
    "df8.loc[df8['end_lng'].isnull(), 'end_lng'] = 0"
   ]
  },
  {
   "cell_type": "code",
   "execution_count": 76,
   "metadata": {},
   "outputs": [
    {
     "data": {
      "text/html": [
       "<div>\n",
       "<style scoped>\n",
       "    .dataframe tbody tr th:only-of-type {\n",
       "        vertical-align: middle;\n",
       "    }\n",
       "\n",
       "    .dataframe tbody tr th {\n",
       "        vertical-align: top;\n",
       "    }\n",
       "\n",
       "    .dataframe thead th {\n",
       "        text-align: right;\n",
       "    }\n",
       "</style>\n",
       "<table border=\"1\" class=\"dataframe\">\n",
       "  <thead>\n",
       "    <tr style=\"text-align: right;\">\n",
       "      <th></th>\n",
       "      <th>ride_id</th>\n",
       "      <th>rideable_type</th>\n",
       "      <th>starttime</th>\n",
       "      <th>stoptime</th>\n",
       "      <th>from_station_name</th>\n",
       "      <th>from_station_id</th>\n",
       "      <th>to_station_name</th>\n",
       "      <th>to_station_id</th>\n",
       "      <th>start_lat</th>\n",
       "      <th>start_lng</th>\n",
       "      <th>end_lat</th>\n",
       "      <th>end_lng</th>\n",
       "      <th>usertype</th>\n",
       "    </tr>\n",
       "  </thead>\n",
       "  <tbody>\n",
       "  </tbody>\n",
       "</table>\n",
       "</div>"
      ],
      "text/plain": [
       "Empty DataFrame\n",
       "Columns: [ride_id, rideable_type, starttime, stoptime, from_station_name, from_station_id, to_station_name, to_station_id, start_lat, start_lng, end_lat, end_lng, usertype]\n",
       "Index: []"
      ]
     },
     "execution_count": 76,
     "metadata": {},
     "output_type": "execute_result"
    }
   ],
   "source": [
    "df8.loc[df8['starttime'].dt.year != 2021]"
   ]
  },
  {
   "cell_type": "code",
   "execution_count": 77,
   "metadata": {},
   "outputs": [
    {
     "data": {
      "text/html": [
       "<div>\n",
       "<style scoped>\n",
       "    .dataframe tbody tr th:only-of-type {\n",
       "        vertical-align: middle;\n",
       "    }\n",
       "\n",
       "    .dataframe tbody tr th {\n",
       "        vertical-align: top;\n",
       "    }\n",
       "\n",
       "    .dataframe thead th {\n",
       "        text-align: right;\n",
       "    }\n",
       "</style>\n",
       "<table border=\"1\" class=\"dataframe\">\n",
       "  <thead>\n",
       "    <tr style=\"text-align: right;\">\n",
       "      <th></th>\n",
       "      <th>ride_id</th>\n",
       "      <th>rideable_type</th>\n",
       "      <th>starttime</th>\n",
       "      <th>stoptime</th>\n",
       "      <th>from_station_name</th>\n",
       "      <th>from_station_id</th>\n",
       "      <th>to_station_name</th>\n",
       "      <th>to_station_id</th>\n",
       "      <th>start_lat</th>\n",
       "      <th>start_lng</th>\n",
       "      <th>end_lat</th>\n",
       "      <th>end_lng</th>\n",
       "      <th>usertype</th>\n",
       "    </tr>\n",
       "  </thead>\n",
       "  <tbody>\n",
       "  </tbody>\n",
       "</table>\n",
       "</div>"
      ],
      "text/plain": [
       "Empty DataFrame\n",
       "Columns: [ride_id, rideable_type, starttime, stoptime, from_station_name, from_station_id, to_station_name, to_station_id, start_lat, start_lng, end_lat, end_lng, usertype]\n",
       "Index: []"
      ]
     },
     "execution_count": 77,
     "metadata": {},
     "output_type": "execute_result"
    }
   ],
   "source": [
    "df8.loc[df8['stoptime'].dt.year != 2021]"
   ]
  },
  {
   "cell_type": "code",
   "execution_count": 78,
   "metadata": {},
   "outputs": [
    {
     "name": "stdout",
     "output_type": "stream",
     "text": [
      "<class 'pandas.core.frame.DataFrame'>\n",
      "RangeIndex: 804352 entries, 0 to 804351\n",
      "Data columns (total 13 columns):\n",
      " #   Column             Non-Null Count   Dtype         \n",
      "---  ------             --------------   -----         \n",
      " 0   ride_id            804352 non-null  object        \n",
      " 1   rideable_type      804352 non-null  object        \n",
      " 2   starttime          804352 non-null  datetime64[ns]\n",
      " 3   stoptime           804352 non-null  datetime64[ns]\n",
      " 4   from_station_name  804352 non-null  object        \n",
      " 5   from_station_id    804352 non-null  object        \n",
      " 6   to_station_name    804352 non-null  object        \n",
      " 7   to_station_id      804352 non-null  object        \n",
      " 8   start_lat          804352 non-null  float64       \n",
      " 9   start_lng          804352 non-null  float64       \n",
      " 10  end_lat            804352 non-null  float64       \n",
      " 11  end_lng            804352 non-null  float64       \n",
      " 12  usertype           804352 non-null  object        \n",
      "dtypes: datetime64[ns](2), float64(4), object(7)\n",
      "memory usage: 79.8+ MB\n"
     ]
    }
   ],
   "source": [
    "df8.info(verbose=True)"
   ]
  },
  {
   "cell_type": "code",
   "execution_count": 79,
   "metadata": {},
   "outputs": [
    {
     "name": "stdout",
     "output_type": "stream",
     "text": [
      "<class 'pandas.core.frame.DataFrame'>\n",
      "RangeIndex: 756147 entries, 0 to 756146\n",
      "Data columns (total 13 columns):\n",
      " #   Column              Non-Null Count   Dtype  \n",
      "---  ------              --------------   -----  \n",
      " 0   ride_id             756147 non-null  object \n",
      " 1   rideable_type       756147 non-null  object \n",
      " 2   started_at          756147 non-null  object \n",
      " 3   ended_at            756147 non-null  object \n",
      " 4   start_station_name  663034 non-null  object \n",
      " 5   start_station_id    663036 non-null  object \n",
      " 6   end_station_name    656886 non-null  object \n",
      " 7   end_station_id      656886 non-null  object \n",
      " 8   start_lat           756147 non-null  float64\n",
      " 9   start_lng           756147 non-null  float64\n",
      " 10  end_lat             755552 non-null  float64\n",
      " 11  end_lng             755552 non-null  float64\n",
      " 12  member_casual       756147 non-null  object \n",
      "dtypes: float64(4), object(9)\n",
      "memory usage: 75.0+ MB\n"
     ]
    }
   ],
   "source": [
    "df9.info(verbose=True)"
   ]
  },
  {
   "cell_type": "code",
   "execution_count": 80,
   "metadata": {},
   "outputs": [],
   "source": [
    "df9.rename(columns = {'started_at':'starttime'}, inplace = True)\n",
    "df9.rename(columns = {'ended_at':'stoptime'}, inplace = True)\n",
    "df9.rename(columns = {'start_station_name':'from_station_name'}, inplace = True)\n",
    "df9.rename(columns = {'start_station_id':'from_station_id'}, inplace = True)\n",
    "df9.rename(columns = {'end_station_name':'to_station_name'}, inplace = True)\n",
    "df9.rename(columns = {'end_station_id':'to_station_id'}, inplace = True)\n",
    "df9.rename(columns = {'member_casual':'usertype'}, inplace = True)"
   ]
  },
  {
   "cell_type": "code",
   "execution_count": 81,
   "metadata": {},
   "outputs": [],
   "source": [
    "df9[\"starttime\"] = pd.to_datetime(df9[\"starttime\"])\n",
    "df9[\"stoptime\"] = pd.to_datetime(df9[\"stoptime\"])"
   ]
  },
  {
   "cell_type": "code",
   "execution_count": 82,
   "metadata": {},
   "outputs": [],
   "source": [
    "df9['usertype'].replace({'member':'Subscriber', 'casual':'Customer'}, inplace=True)"
   ]
  },
  {
   "cell_type": "code",
   "execution_count": 83,
   "metadata": {},
   "outputs": [],
   "source": [
    "df9.loc[df9['from_station_name'].isnull(), 'from_station_name'] = 'Unknown'\n",
    "df9.loc[df9['from_station_id'].isnull(), 'from_station_id'] = 0\n",
    "df9.loc[df9['to_station_name'].isnull(), 'to_station_name'] = 'Unknown'\n",
    "df9.loc[df9['to_station_id'].isnull(), 'to_station_id'] = 0\n",
    "df9.loc[df9['end_lat'].isnull(), 'end_lat'] = 0\n",
    "df9.loc[df9['end_lng'].isnull(), 'end_lng'] = 0"
   ]
  },
  {
   "cell_type": "code",
   "execution_count": 84,
   "metadata": {},
   "outputs": [
    {
     "data": {
      "text/html": [
       "<div>\n",
       "<style scoped>\n",
       "    .dataframe tbody tr th:only-of-type {\n",
       "        vertical-align: middle;\n",
       "    }\n",
       "\n",
       "    .dataframe tbody tr th {\n",
       "        vertical-align: top;\n",
       "    }\n",
       "\n",
       "    .dataframe thead th {\n",
       "        text-align: right;\n",
       "    }\n",
       "</style>\n",
       "<table border=\"1\" class=\"dataframe\">\n",
       "  <thead>\n",
       "    <tr style=\"text-align: right;\">\n",
       "      <th></th>\n",
       "      <th>ride_id</th>\n",
       "      <th>rideable_type</th>\n",
       "      <th>starttime</th>\n",
       "      <th>stoptime</th>\n",
       "      <th>from_station_name</th>\n",
       "      <th>from_station_id</th>\n",
       "      <th>to_station_name</th>\n",
       "      <th>to_station_id</th>\n",
       "      <th>start_lat</th>\n",
       "      <th>start_lng</th>\n",
       "      <th>end_lat</th>\n",
       "      <th>end_lng</th>\n",
       "      <th>usertype</th>\n",
       "    </tr>\n",
       "  </thead>\n",
       "  <tbody>\n",
       "  </tbody>\n",
       "</table>\n",
       "</div>"
      ],
      "text/plain": [
       "Empty DataFrame\n",
       "Columns: [ride_id, rideable_type, starttime, stoptime, from_station_name, from_station_id, to_station_name, to_station_id, start_lat, start_lng, end_lat, end_lng, usertype]\n",
       "Index: []"
      ]
     },
     "execution_count": 84,
     "metadata": {},
     "output_type": "execute_result"
    }
   ],
   "source": [
    "df9.loc[df9['starttime'].dt.year != 2021]"
   ]
  },
  {
   "cell_type": "code",
   "execution_count": 85,
   "metadata": {},
   "outputs": [
    {
     "data": {
      "text/html": [
       "<div>\n",
       "<style scoped>\n",
       "    .dataframe tbody tr th:only-of-type {\n",
       "        vertical-align: middle;\n",
       "    }\n",
       "\n",
       "    .dataframe tbody tr th {\n",
       "        vertical-align: top;\n",
       "    }\n",
       "\n",
       "    .dataframe thead th {\n",
       "        text-align: right;\n",
       "    }\n",
       "</style>\n",
       "<table border=\"1\" class=\"dataframe\">\n",
       "  <thead>\n",
       "    <tr style=\"text-align: right;\">\n",
       "      <th></th>\n",
       "      <th>ride_id</th>\n",
       "      <th>rideable_type</th>\n",
       "      <th>starttime</th>\n",
       "      <th>stoptime</th>\n",
       "      <th>from_station_name</th>\n",
       "      <th>from_station_id</th>\n",
       "      <th>to_station_name</th>\n",
       "      <th>to_station_id</th>\n",
       "      <th>start_lat</th>\n",
       "      <th>start_lng</th>\n",
       "      <th>end_lat</th>\n",
       "      <th>end_lng</th>\n",
       "      <th>usertype</th>\n",
       "    </tr>\n",
       "  </thead>\n",
       "  <tbody>\n",
       "  </tbody>\n",
       "</table>\n",
       "</div>"
      ],
      "text/plain": [
       "Empty DataFrame\n",
       "Columns: [ride_id, rideable_type, starttime, stoptime, from_station_name, from_station_id, to_station_name, to_station_id, start_lat, start_lng, end_lat, end_lng, usertype]\n",
       "Index: []"
      ]
     },
     "execution_count": 85,
     "metadata": {},
     "output_type": "execute_result"
    }
   ],
   "source": [
    "df9.loc[df9['stoptime'].dt.year != 2021]"
   ]
  },
  {
   "cell_type": "code",
   "execution_count": 86,
   "metadata": {},
   "outputs": [
    {
     "name": "stdout",
     "output_type": "stream",
     "text": [
      "<class 'pandas.core.frame.DataFrame'>\n",
      "RangeIndex: 756147 entries, 0 to 756146\n",
      "Data columns (total 13 columns):\n",
      " #   Column             Non-Null Count   Dtype         \n",
      "---  ------             --------------   -----         \n",
      " 0   ride_id            756147 non-null  object        \n",
      " 1   rideable_type      756147 non-null  object        \n",
      " 2   starttime          756147 non-null  datetime64[ns]\n",
      " 3   stoptime           756147 non-null  datetime64[ns]\n",
      " 4   from_station_name  756147 non-null  object        \n",
      " 5   from_station_id    756147 non-null  object        \n",
      " 6   to_station_name    756147 non-null  object        \n",
      " 7   to_station_id      756147 non-null  object        \n",
      " 8   start_lat          756147 non-null  float64       \n",
      " 9   start_lng          756147 non-null  float64       \n",
      " 10  end_lat            756147 non-null  float64       \n",
      " 11  end_lng            756147 non-null  float64       \n",
      " 12  usertype           756147 non-null  object        \n",
      "dtypes: datetime64[ns](2), float64(4), object(7)\n",
      "memory usage: 75.0+ MB\n"
     ]
    }
   ],
   "source": [
    "df9.info(verbose=True)"
   ]
  },
  {
   "cell_type": "code",
   "execution_count": 87,
   "metadata": {},
   "outputs": [
    {
     "name": "stdout",
     "output_type": "stream",
     "text": [
      "<class 'pandas.core.frame.DataFrame'>\n",
      "RangeIndex: 631226 entries, 0 to 631225\n",
      "Data columns (total 13 columns):\n",
      " #   Column              Non-Null Count   Dtype  \n",
      "---  ------              --------------   -----  \n",
      " 0   ride_id             631226 non-null  object \n",
      " 1   rideable_type       631226 non-null  object \n",
      " 2   started_at          631226 non-null  object \n",
      " 3   ended_at            631226 non-null  object \n",
      " 4   start_station_name  523016 non-null  object \n",
      " 5   start_station_id    523016 non-null  object \n",
      " 6   end_station_name    516392 non-null  object \n",
      " 7   end_station_id      516392 non-null  object \n",
      " 8   start_lat           631226 non-null  float64\n",
      " 9   start_lng           631226 non-null  float64\n",
      " 10  end_lat             630742 non-null  float64\n",
      " 11  end_lng             630742 non-null  float64\n",
      " 12  member_casual       631226 non-null  object \n",
      "dtypes: float64(4), object(9)\n",
      "memory usage: 62.6+ MB\n"
     ]
    }
   ],
   "source": [
    "df10.info(verbose=True)"
   ]
  },
  {
   "cell_type": "code",
   "execution_count": 88,
   "metadata": {},
   "outputs": [],
   "source": [
    "df10.rename(columns = {'started_at':'starttime'}, inplace = True)\n",
    "df10.rename(columns = {'ended_at':'stoptime'}, inplace = True)\n",
    "df10.rename(columns = {'start_station_name':'from_station_name'}, inplace = True)\n",
    "df10.rename(columns = {'start_station_id':'from_station_id'}, inplace = True)\n",
    "df10.rename(columns = {'end_station_name':'to_station_name'}, inplace = True)\n",
    "df10.rename(columns = {'end_station_id':'to_station_id'}, inplace = True)\n",
    "df10.rename(columns = {'member_casual':'usertype'}, inplace = True)"
   ]
  },
  {
   "cell_type": "code",
   "execution_count": 89,
   "metadata": {},
   "outputs": [],
   "source": [
    "df10[\"starttime\"] = pd.to_datetime(df10[\"starttime\"])\n",
    "df10[\"stoptime\"] = pd.to_datetime(df10[\"stoptime\"])"
   ]
  },
  {
   "cell_type": "code",
   "execution_count": 90,
   "metadata": {},
   "outputs": [],
   "source": [
    "df10['usertype'].replace({'member':'Subscriber', 'casual':'Customer'}, inplace=True)"
   ]
  },
  {
   "cell_type": "code",
   "execution_count": 91,
   "metadata": {},
   "outputs": [],
   "source": [
    "df10.loc[df10['from_station_name'].isnull(), 'from_station_name'] = 'Unknown'\n",
    "df10.loc[df10['from_station_id'].isnull(), 'from_station_id'] = 0\n",
    "df10.loc[df10['to_station_name'].isnull(), 'to_station_name'] = 'Unknown'\n",
    "df10.loc[df10['to_station_id'].isnull(), 'to_station_id'] = 0\n",
    "df10.loc[df10['end_lat'].isnull(), 'end_lat'] = 0\n",
    "df10.loc[df10['end_lng'].isnull(), 'end_lng'] = 0"
   ]
  },
  {
   "cell_type": "code",
   "execution_count": 92,
   "metadata": {},
   "outputs": [
    {
     "data": {
      "text/html": [
       "<div>\n",
       "<style scoped>\n",
       "    .dataframe tbody tr th:only-of-type {\n",
       "        vertical-align: middle;\n",
       "    }\n",
       "\n",
       "    .dataframe tbody tr th {\n",
       "        vertical-align: top;\n",
       "    }\n",
       "\n",
       "    .dataframe thead th {\n",
       "        text-align: right;\n",
       "    }\n",
       "</style>\n",
       "<table border=\"1\" class=\"dataframe\">\n",
       "  <thead>\n",
       "    <tr style=\"text-align: right;\">\n",
       "      <th></th>\n",
       "      <th>ride_id</th>\n",
       "      <th>rideable_type</th>\n",
       "      <th>starttime</th>\n",
       "      <th>stoptime</th>\n",
       "      <th>from_station_name</th>\n",
       "      <th>from_station_id</th>\n",
       "      <th>to_station_name</th>\n",
       "      <th>to_station_id</th>\n",
       "      <th>start_lat</th>\n",
       "      <th>start_lng</th>\n",
       "      <th>end_lat</th>\n",
       "      <th>end_lng</th>\n",
       "      <th>usertype</th>\n",
       "    </tr>\n",
       "  </thead>\n",
       "  <tbody>\n",
       "  </tbody>\n",
       "</table>\n",
       "</div>"
      ],
      "text/plain": [
       "Empty DataFrame\n",
       "Columns: [ride_id, rideable_type, starttime, stoptime, from_station_name, from_station_id, to_station_name, to_station_id, start_lat, start_lng, end_lat, end_lng, usertype]\n",
       "Index: []"
      ]
     },
     "execution_count": 92,
     "metadata": {},
     "output_type": "execute_result"
    }
   ],
   "source": [
    "df10.loc[df10['starttime'].dt.year != 2021]"
   ]
  },
  {
   "cell_type": "code",
   "execution_count": 93,
   "metadata": {},
   "outputs": [
    {
     "data": {
      "text/html": [
       "<div>\n",
       "<style scoped>\n",
       "    .dataframe tbody tr th:only-of-type {\n",
       "        vertical-align: middle;\n",
       "    }\n",
       "\n",
       "    .dataframe tbody tr th {\n",
       "        vertical-align: top;\n",
       "    }\n",
       "\n",
       "    .dataframe thead th {\n",
       "        text-align: right;\n",
       "    }\n",
       "</style>\n",
       "<table border=\"1\" class=\"dataframe\">\n",
       "  <thead>\n",
       "    <tr style=\"text-align: right;\">\n",
       "      <th></th>\n",
       "      <th>ride_id</th>\n",
       "      <th>rideable_type</th>\n",
       "      <th>starttime</th>\n",
       "      <th>stoptime</th>\n",
       "      <th>from_station_name</th>\n",
       "      <th>from_station_id</th>\n",
       "      <th>to_station_name</th>\n",
       "      <th>to_station_id</th>\n",
       "      <th>start_lat</th>\n",
       "      <th>start_lng</th>\n",
       "      <th>end_lat</th>\n",
       "      <th>end_lng</th>\n",
       "      <th>usertype</th>\n",
       "    </tr>\n",
       "  </thead>\n",
       "  <tbody>\n",
       "  </tbody>\n",
       "</table>\n",
       "</div>"
      ],
      "text/plain": [
       "Empty DataFrame\n",
       "Columns: [ride_id, rideable_type, starttime, stoptime, from_station_name, from_station_id, to_station_name, to_station_id, start_lat, start_lng, end_lat, end_lng, usertype]\n",
       "Index: []"
      ]
     },
     "execution_count": 93,
     "metadata": {},
     "output_type": "execute_result"
    }
   ],
   "source": [
    "df10.loc[df10['stoptime'].dt.year != 2021]"
   ]
  },
  {
   "cell_type": "code",
   "execution_count": 94,
   "metadata": {},
   "outputs": [
    {
     "name": "stdout",
     "output_type": "stream",
     "text": [
      "<class 'pandas.core.frame.DataFrame'>\n",
      "RangeIndex: 631226 entries, 0 to 631225\n",
      "Data columns (total 13 columns):\n",
      " #   Column             Non-Null Count   Dtype         \n",
      "---  ------             --------------   -----         \n",
      " 0   ride_id            631226 non-null  object        \n",
      " 1   rideable_type      631226 non-null  object        \n",
      " 2   starttime          631226 non-null  datetime64[ns]\n",
      " 3   stoptime           631226 non-null  datetime64[ns]\n",
      " 4   from_station_name  631226 non-null  object        \n",
      " 5   from_station_id    631226 non-null  object        \n",
      " 6   to_station_name    631226 non-null  object        \n",
      " 7   to_station_id      631226 non-null  object        \n",
      " 8   start_lat          631226 non-null  float64       \n",
      " 9   start_lng          631226 non-null  float64       \n",
      " 10  end_lat            631226 non-null  float64       \n",
      " 11  end_lng            631226 non-null  float64       \n",
      " 12  usertype           631226 non-null  object        \n",
      "dtypes: datetime64[ns](2), float64(4), object(7)\n",
      "memory usage: 62.6+ MB\n"
     ]
    }
   ],
   "source": [
    "df10.info(verbose=True)"
   ]
  },
  {
   "cell_type": "code",
   "execution_count": 95,
   "metadata": {},
   "outputs": [
    {
     "name": "stdout",
     "output_type": "stream",
     "text": [
      "<class 'pandas.core.frame.DataFrame'>\n",
      "RangeIndex: 359978 entries, 0 to 359977\n",
      "Data columns (total 13 columns):\n",
      " #   Column              Non-Null Count   Dtype  \n",
      "---  ------              --------------   -----  \n",
      " 0   ride_id             359978 non-null  object \n",
      " 1   rideable_type       359978 non-null  object \n",
      " 2   started_at          359978 non-null  object \n",
      " 3   ended_at            359978 non-null  object \n",
      " 4   start_station_name  284688 non-null  object \n",
      " 5   start_station_id    284688 non-null  object \n",
      " 6   end_station_name    280791 non-null  object \n",
      " 7   end_station_id      280791 non-null  object \n",
      " 8   start_lat           359978 non-null  float64\n",
      " 9   start_lng           359978 non-null  float64\n",
      " 10  end_lat             359787 non-null  float64\n",
      " 11  end_lng             359787 non-null  float64\n",
      " 12  member_casual       359978 non-null  object \n",
      "dtypes: float64(4), object(9)\n",
      "memory usage: 35.7+ MB\n"
     ]
    }
   ],
   "source": [
    "df11.info(verbose=True)"
   ]
  },
  {
   "cell_type": "code",
   "execution_count": 96,
   "metadata": {},
   "outputs": [],
   "source": [
    "df11.rename(columns = {'started_at':'starttime'}, inplace = True)\n",
    "df11.rename(columns = {'ended_at':'stoptime'}, inplace = True)\n",
    "df11.rename(columns = {'start_station_name':'from_station_name'}, inplace = True)\n",
    "df11.rename(columns = {'start_station_id':'from_station_id'}, inplace = True)\n",
    "df11.rename(columns = {'end_station_name':'to_station_name'}, inplace = True)\n",
    "df11.rename(columns = {'end_station_id':'to_station_id'}, inplace = True)\n",
    "df11.rename(columns = {'member_casual':'usertype'}, inplace = True)"
   ]
  },
  {
   "cell_type": "code",
   "execution_count": 98,
   "metadata": {},
   "outputs": [],
   "source": [
    "df11[\"starttime\"] = pd.to_datetime(df11[\"starttime\"])\n",
    "df11[\"stoptime\"] = pd.to_datetime(df11[\"stoptime\"])"
   ]
  },
  {
   "cell_type": "code",
   "execution_count": 99,
   "metadata": {},
   "outputs": [],
   "source": [
    "df11['usertype'].replace({'member':'Subscriber', 'casual':'Customer'}, inplace=True)"
   ]
  },
  {
   "cell_type": "code",
   "execution_count": 100,
   "metadata": {},
   "outputs": [],
   "source": [
    "df11.loc[df11['from_station_name'].isnull(), 'from_station_name'] = 'Unknown'\n",
    "df11.loc[df11['from_station_id'].isnull(), 'from_station_id'] = 0\n",
    "df11.loc[df11['to_station_name'].isnull(), 'to_station_name'] = 'Unknown'\n",
    "df11.loc[df11['to_station_id'].isnull(), 'to_station_id'] = 0\n",
    "df11.loc[df11['end_lat'].isnull(), 'end_lat'] = 0\n",
    "df11.loc[df11['end_lng'].isnull(), 'end_lng'] = 0"
   ]
  },
  {
   "cell_type": "code",
   "execution_count": 101,
   "metadata": {},
   "outputs": [
    {
     "data": {
      "text/html": [
       "<div>\n",
       "<style scoped>\n",
       "    .dataframe tbody tr th:only-of-type {\n",
       "        vertical-align: middle;\n",
       "    }\n",
       "\n",
       "    .dataframe tbody tr th {\n",
       "        vertical-align: top;\n",
       "    }\n",
       "\n",
       "    .dataframe thead th {\n",
       "        text-align: right;\n",
       "    }\n",
       "</style>\n",
       "<table border=\"1\" class=\"dataframe\">\n",
       "  <thead>\n",
       "    <tr style=\"text-align: right;\">\n",
       "      <th></th>\n",
       "      <th>ride_id</th>\n",
       "      <th>rideable_type</th>\n",
       "      <th>starttime</th>\n",
       "      <th>stoptime</th>\n",
       "      <th>from_station_name</th>\n",
       "      <th>from_station_id</th>\n",
       "      <th>to_station_name</th>\n",
       "      <th>to_station_id</th>\n",
       "      <th>start_lat</th>\n",
       "      <th>start_lng</th>\n",
       "      <th>end_lat</th>\n",
       "      <th>end_lng</th>\n",
       "      <th>usertype</th>\n",
       "    </tr>\n",
       "  </thead>\n",
       "  <tbody>\n",
       "  </tbody>\n",
       "</table>\n",
       "</div>"
      ],
      "text/plain": [
       "Empty DataFrame\n",
       "Columns: [ride_id, rideable_type, starttime, stoptime, from_station_name, from_station_id, to_station_name, to_station_id, start_lat, start_lng, end_lat, end_lng, usertype]\n",
       "Index: []"
      ]
     },
     "execution_count": 101,
     "metadata": {},
     "output_type": "execute_result"
    }
   ],
   "source": [
    "df11.loc[df11['starttime'].dt.year != 2021]"
   ]
  },
  {
   "cell_type": "code",
   "execution_count": 102,
   "metadata": {},
   "outputs": [
    {
     "data": {
      "text/html": [
       "<div>\n",
       "<style scoped>\n",
       "    .dataframe tbody tr th:only-of-type {\n",
       "        vertical-align: middle;\n",
       "    }\n",
       "\n",
       "    .dataframe tbody tr th {\n",
       "        vertical-align: top;\n",
       "    }\n",
       "\n",
       "    .dataframe thead th {\n",
       "        text-align: right;\n",
       "    }\n",
       "</style>\n",
       "<table border=\"1\" class=\"dataframe\">\n",
       "  <thead>\n",
       "    <tr style=\"text-align: right;\">\n",
       "      <th></th>\n",
       "      <th>ride_id</th>\n",
       "      <th>rideable_type</th>\n",
       "      <th>starttime</th>\n",
       "      <th>stoptime</th>\n",
       "      <th>from_station_name</th>\n",
       "      <th>from_station_id</th>\n",
       "      <th>to_station_name</th>\n",
       "      <th>to_station_id</th>\n",
       "      <th>start_lat</th>\n",
       "      <th>start_lng</th>\n",
       "      <th>end_lat</th>\n",
       "      <th>end_lng</th>\n",
       "      <th>usertype</th>\n",
       "    </tr>\n",
       "  </thead>\n",
       "  <tbody>\n",
       "  </tbody>\n",
       "</table>\n",
       "</div>"
      ],
      "text/plain": [
       "Empty DataFrame\n",
       "Columns: [ride_id, rideable_type, starttime, stoptime, from_station_name, from_station_id, to_station_name, to_station_id, start_lat, start_lng, end_lat, end_lng, usertype]\n",
       "Index: []"
      ]
     },
     "execution_count": 102,
     "metadata": {},
     "output_type": "execute_result"
    }
   ],
   "source": [
    "df11.loc[df11['stoptime'].dt.year != 2021]"
   ]
  },
  {
   "cell_type": "code",
   "execution_count": 103,
   "metadata": {},
   "outputs": [
    {
     "name": "stdout",
     "output_type": "stream",
     "text": [
      "<class 'pandas.core.frame.DataFrame'>\n",
      "RangeIndex: 359978 entries, 0 to 359977\n",
      "Data columns (total 13 columns):\n",
      " #   Column             Non-Null Count   Dtype         \n",
      "---  ------             --------------   -----         \n",
      " 0   ride_id            359978 non-null  object        \n",
      " 1   rideable_type      359978 non-null  object        \n",
      " 2   starttime          359978 non-null  datetime64[ns]\n",
      " 3   stoptime           359978 non-null  datetime64[ns]\n",
      " 4   from_station_name  359978 non-null  object        \n",
      " 5   from_station_id    359978 non-null  object        \n",
      " 6   to_station_name    359978 non-null  object        \n",
      " 7   to_station_id      359978 non-null  object        \n",
      " 8   start_lat          359978 non-null  float64       \n",
      " 9   start_lng          359978 non-null  float64       \n",
      " 10  end_lat            359978 non-null  float64       \n",
      " 11  end_lng            359978 non-null  float64       \n",
      " 12  usertype           359978 non-null  object        \n",
      "dtypes: datetime64[ns](2), float64(4), object(7)\n",
      "memory usage: 35.7+ MB\n"
     ]
    }
   ],
   "source": [
    "df11.info(verbose=True)"
   ]
  },
  {
   "cell_type": "code",
   "execution_count": 104,
   "metadata": {},
   "outputs": [
    {
     "name": "stdout",
     "output_type": "stream",
     "text": [
      "<class 'pandas.core.frame.DataFrame'>\n",
      "RangeIndex: 247540 entries, 0 to 247539\n",
      "Data columns (total 13 columns):\n",
      " #   Column              Non-Null Count   Dtype  \n",
      "---  ------              --------------   -----  \n",
      " 0   ride_id             247540 non-null  object \n",
      " 1   rideable_type       247540 non-null  object \n",
      " 2   started_at          247540 non-null  object \n",
      " 3   ended_at            247540 non-null  object \n",
      " 4   start_station_name  196477 non-null  object \n",
      " 5   start_station_id    196477 non-null  object \n",
      " 6   end_station_name    194042 non-null  object \n",
      " 7   end_station_id      194042 non-null  object \n",
      " 8   start_lat           247540 non-null  float64\n",
      " 9   start_lng           247540 non-null  float64\n",
      " 10  end_lat             247396 non-null  float64\n",
      " 11  end_lng             247396 non-null  float64\n",
      " 12  member_casual       247540 non-null  object \n",
      "dtypes: float64(4), object(9)\n",
      "memory usage: 24.6+ MB\n"
     ]
    }
   ],
   "source": [
    "df12.info(verbose=True)"
   ]
  },
  {
   "cell_type": "code",
   "execution_count": 105,
   "metadata": {},
   "outputs": [],
   "source": [
    "df12.rename(columns = {'started_at':'starttime'}, inplace = True)\n",
    "df12.rename(columns = {'ended_at':'stoptime'}, inplace = True)\n",
    "df12.rename(columns = {'start_station_name':'from_station_name'}, inplace = True)\n",
    "df12.rename(columns = {'start_station_id':'from_station_id'}, inplace = True)\n",
    "df12.rename(columns = {'end_station_name':'to_station_name'}, inplace = True)\n",
    "df12.rename(columns = {'end_station_id':'to_station_id'}, inplace = True)\n",
    "df12.rename(columns = {'member_casual':'usertype'}, inplace = True)"
   ]
  },
  {
   "cell_type": "code",
   "execution_count": 106,
   "metadata": {},
   "outputs": [],
   "source": [
    "df12[\"starttime\"] = pd.to_datetime(df12[\"starttime\"])\n",
    "df12[\"stoptime\"] = pd.to_datetime(df12[\"stoptime\"])"
   ]
  },
  {
   "cell_type": "code",
   "execution_count": 107,
   "metadata": {},
   "outputs": [],
   "source": [
    "df12['usertype'].replace({'member':'Subscriber', 'casual':'Customer'}, inplace=True)"
   ]
  },
  {
   "cell_type": "code",
   "execution_count": 108,
   "metadata": {},
   "outputs": [],
   "source": [
    "df12.loc[df12['from_station_name'].isnull(), 'from_station_name'] = 'Unknown'\n",
    "df12.loc[df12['from_station_id'].isnull(), 'from_station_id'] = 0\n",
    "df12.loc[df12['to_station_name'].isnull(), 'to_station_name'] = 'Unknown'\n",
    "df12.loc[df12['to_station_id'].isnull(), 'to_station_id'] = 0\n",
    "df12.loc[df12['end_lat'].isnull(), 'end_lat'] = 0\n",
    "df12.loc[df12['end_lng'].isnull(), 'end_lng'] = 0"
   ]
  },
  {
   "cell_type": "code",
   "execution_count": 109,
   "metadata": {},
   "outputs": [
    {
     "data": {
      "text/html": [
       "<div>\n",
       "<style scoped>\n",
       "    .dataframe tbody tr th:only-of-type {\n",
       "        vertical-align: middle;\n",
       "    }\n",
       "\n",
       "    .dataframe tbody tr th {\n",
       "        vertical-align: top;\n",
       "    }\n",
       "\n",
       "    .dataframe thead th {\n",
       "        text-align: right;\n",
       "    }\n",
       "</style>\n",
       "<table border=\"1\" class=\"dataframe\">\n",
       "  <thead>\n",
       "    <tr style=\"text-align: right;\">\n",
       "      <th></th>\n",
       "      <th>ride_id</th>\n",
       "      <th>rideable_type</th>\n",
       "      <th>starttime</th>\n",
       "      <th>stoptime</th>\n",
       "      <th>from_station_name</th>\n",
       "      <th>from_station_id</th>\n",
       "      <th>to_station_name</th>\n",
       "      <th>to_station_id</th>\n",
       "      <th>start_lat</th>\n",
       "      <th>start_lng</th>\n",
       "      <th>end_lat</th>\n",
       "      <th>end_lng</th>\n",
       "      <th>usertype</th>\n",
       "    </tr>\n",
       "  </thead>\n",
       "  <tbody>\n",
       "  </tbody>\n",
       "</table>\n",
       "</div>"
      ],
      "text/plain": [
       "Empty DataFrame\n",
       "Columns: [ride_id, rideable_type, starttime, stoptime, from_station_name, from_station_id, to_station_name, to_station_id, start_lat, start_lng, end_lat, end_lng, usertype]\n",
       "Index: []"
      ]
     },
     "execution_count": 109,
     "metadata": {},
     "output_type": "execute_result"
    }
   ],
   "source": [
    "df12.loc[df12['starttime'].dt.year != 2021]"
   ]
  },
  {
   "cell_type": "code",
   "execution_count": 110,
   "metadata": {},
   "outputs": [
    {
     "data": {
      "text/html": [
       "<div>\n",
       "<style scoped>\n",
       "    .dataframe tbody tr th:only-of-type {\n",
       "        vertical-align: middle;\n",
       "    }\n",
       "\n",
       "    .dataframe tbody tr th {\n",
       "        vertical-align: top;\n",
       "    }\n",
       "\n",
       "    .dataframe thead th {\n",
       "        text-align: right;\n",
       "    }\n",
       "</style>\n",
       "<table border=\"1\" class=\"dataframe\">\n",
       "  <thead>\n",
       "    <tr style=\"text-align: right;\">\n",
       "      <th></th>\n",
       "      <th>ride_id</th>\n",
       "      <th>rideable_type</th>\n",
       "      <th>starttime</th>\n",
       "      <th>stoptime</th>\n",
       "      <th>from_station_name</th>\n",
       "      <th>from_station_id</th>\n",
       "      <th>to_station_name</th>\n",
       "      <th>to_station_id</th>\n",
       "      <th>start_lat</th>\n",
       "      <th>start_lng</th>\n",
       "      <th>end_lat</th>\n",
       "      <th>end_lng</th>\n",
       "      <th>usertype</th>\n",
       "    </tr>\n",
       "  </thead>\n",
       "  <tbody>\n",
       "    <tr>\n",
       "      <th>552</th>\n",
       "      <td>03BF78CD4FAE02C9</td>\n",
       "      <td>docked_bike</td>\n",
       "      <td>2021-12-31 22:21:48</td>\n",
       "      <td>2022-01-01 00:34:22</td>\n",
       "      <td>St. Clair St &amp; Erie St</td>\n",
       "      <td>13016</td>\n",
       "      <td>Columbus Dr &amp; Randolph St</td>\n",
       "      <td>13263</td>\n",
       "      <td>41.894345</td>\n",
       "      <td>-87.622798</td>\n",
       "      <td>41.884728</td>\n",
       "      <td>-87.619521</td>\n",
       "      <td>Customer</td>\n",
       "    </tr>\n",
       "    <tr>\n",
       "      <th>645</th>\n",
       "      <td>7A04FC055FFEE860</td>\n",
       "      <td>docked_bike</td>\n",
       "      <td>2021-12-31 22:22:20</td>\n",
       "      <td>2022-01-01 00:35:21</td>\n",
       "      <td>St. Clair St &amp; Erie St</td>\n",
       "      <td>13016</td>\n",
       "      <td>Columbus Dr &amp; Randolph St</td>\n",
       "      <td>13263</td>\n",
       "      <td>41.894345</td>\n",
       "      <td>-87.622798</td>\n",
       "      <td>41.884728</td>\n",
       "      <td>-87.619521</td>\n",
       "      <td>Customer</td>\n",
       "    </tr>\n",
       "    <tr>\n",
       "      <th>8906</th>\n",
       "      <td>930D2023808253D8</td>\n",
       "      <td>docked_bike</td>\n",
       "      <td>2021-12-31 23:19:43</td>\n",
       "      <td>2022-01-01 12:17:58</td>\n",
       "      <td>Columbus Dr &amp; Randolph St</td>\n",
       "      <td>13263</td>\n",
       "      <td>DuSable Lake Shore Dr &amp; Monroe St</td>\n",
       "      <td>13300</td>\n",
       "      <td>41.884728</td>\n",
       "      <td>-87.619521</td>\n",
       "      <td>41.880958</td>\n",
       "      <td>-87.616743</td>\n",
       "      <td>Customer</td>\n",
       "    </tr>\n",
       "    <tr>\n",
       "      <th>12384</th>\n",
       "      <td>4DB00E7A2B01FF50</td>\n",
       "      <td>classic_bike</td>\n",
       "      <td>2021-12-31 22:06:43</td>\n",
       "      <td>2022-01-01 03:17:07</td>\n",
       "      <td>Broadway &amp; Berwyn Ave</td>\n",
       "      <td>13109</td>\n",
       "      <td>Ashland Ave &amp; Division St</td>\n",
       "      <td>13061</td>\n",
       "      <td>41.978353</td>\n",
       "      <td>-87.659753</td>\n",
       "      <td>41.903450</td>\n",
       "      <td>-87.667747</td>\n",
       "      <td>Customer</td>\n",
       "    </tr>\n",
       "    <tr>\n",
       "      <th>12555</th>\n",
       "      <td>3432378B2C0D19ED</td>\n",
       "      <td>docked_bike</td>\n",
       "      <td>2021-12-31 14:36:35</td>\n",
       "      <td>2022-01-01 08:42:31</td>\n",
       "      <td>Adler Planetarium</td>\n",
       "      <td>13431</td>\n",
       "      <td>Adler Planetarium</td>\n",
       "      <td>13431</td>\n",
       "      <td>41.866095</td>\n",
       "      <td>-87.607267</td>\n",
       "      <td>41.866095</td>\n",
       "      <td>-87.607267</td>\n",
       "      <td>Customer</td>\n",
       "    </tr>\n",
       "    <tr>\n",
       "      <th>...</th>\n",
       "      <td>...</td>\n",
       "      <td>...</td>\n",
       "      <td>...</td>\n",
       "      <td>...</td>\n",
       "      <td>...</td>\n",
       "      <td>...</td>\n",
       "      <td>...</td>\n",
       "      <td>...</td>\n",
       "      <td>...</td>\n",
       "      <td>...</td>\n",
       "      <td>...</td>\n",
       "      <td>...</td>\n",
       "      <td>...</td>\n",
       "    </tr>\n",
       "    <tr>\n",
       "      <th>225629</th>\n",
       "      <td>6007E15F50A14DBF</td>\n",
       "      <td>classic_bike</td>\n",
       "      <td>2021-12-31 23:52:32</td>\n",
       "      <td>2022-01-01 00:08:35</td>\n",
       "      <td>Dearborn St &amp; Monroe St</td>\n",
       "      <td>TA1305000006</td>\n",
       "      <td>Dearborn St &amp; Monroe St</td>\n",
       "      <td>TA1305000006</td>\n",
       "      <td>41.881320</td>\n",
       "      <td>-87.629521</td>\n",
       "      <td>41.881320</td>\n",
       "      <td>-87.629521</td>\n",
       "      <td>Customer</td>\n",
       "    </tr>\n",
       "    <tr>\n",
       "      <th>234105</th>\n",
       "      <td>289FBCD3622AC157</td>\n",
       "      <td>electric_bike</td>\n",
       "      <td>2021-12-31 23:15:15</td>\n",
       "      <td>2022-01-01 00:14:35</td>\n",
       "      <td>Unknown</td>\n",
       "      <td>0</td>\n",
       "      <td>Desplaines St &amp; Kinzie St</td>\n",
       "      <td>TA1306000003</td>\n",
       "      <td>41.910000</td>\n",
       "      <td>-87.710000</td>\n",
       "      <td>41.888716</td>\n",
       "      <td>-87.644448</td>\n",
       "      <td>Subscriber</td>\n",
       "    </tr>\n",
       "    <tr>\n",
       "      <th>235820</th>\n",
       "      <td>E4E9354762A63483</td>\n",
       "      <td>docked_bike</td>\n",
       "      <td>2021-12-31 23:43:37</td>\n",
       "      <td>2022-01-02 00:43:37</td>\n",
       "      <td>Fairbanks Ct &amp; Grand Ave</td>\n",
       "      <td>TA1305000003</td>\n",
       "      <td>Unknown</td>\n",
       "      <td>0</td>\n",
       "      <td>41.891847</td>\n",
       "      <td>-87.620580</td>\n",
       "      <td>0.000000</td>\n",
       "      <td>0.000000</td>\n",
       "      <td>Customer</td>\n",
       "    </tr>\n",
       "    <tr>\n",
       "      <th>238244</th>\n",
       "      <td>3272910E8DFFA1B3</td>\n",
       "      <td>electric_bike</td>\n",
       "      <td>2021-12-31 23:42:07</td>\n",
       "      <td>2022-01-01 00:07:08</td>\n",
       "      <td>Unknown</td>\n",
       "      <td>0</td>\n",
       "      <td>Unknown</td>\n",
       "      <td>0</td>\n",
       "      <td>41.870000</td>\n",
       "      <td>-87.630000</td>\n",
       "      <td>41.860000</td>\n",
       "      <td>-87.630000</td>\n",
       "      <td>Customer</td>\n",
       "    </tr>\n",
       "    <tr>\n",
       "      <th>244833</th>\n",
       "      <td>AA2681CA4659CCE5</td>\n",
       "      <td>electric_bike</td>\n",
       "      <td>2021-12-31 23:42:35</td>\n",
       "      <td>2022-01-01 00:00:35</td>\n",
       "      <td>Wells St &amp; Huron St</td>\n",
       "      <td>TA1306000012</td>\n",
       "      <td>Unknown</td>\n",
       "      <td>0</td>\n",
       "      <td>41.894864</td>\n",
       "      <td>-87.634479</td>\n",
       "      <td>41.950000</td>\n",
       "      <td>-87.660000</td>\n",
       "      <td>Subscriber</td>\n",
       "    </tr>\n",
       "  </tbody>\n",
       "</table>\n",
       "<p>75 rows × 13 columns</p>\n",
       "</div>"
      ],
      "text/plain": [
       "                 ride_id  rideable_type           starttime  \\\n",
       "552     03BF78CD4FAE02C9    docked_bike 2021-12-31 22:21:48   \n",
       "645     7A04FC055FFEE860    docked_bike 2021-12-31 22:22:20   \n",
       "8906    930D2023808253D8    docked_bike 2021-12-31 23:19:43   \n",
       "12384   4DB00E7A2B01FF50   classic_bike 2021-12-31 22:06:43   \n",
       "12555   3432378B2C0D19ED    docked_bike 2021-12-31 14:36:35   \n",
       "...                  ...            ...                 ...   \n",
       "225629  6007E15F50A14DBF   classic_bike 2021-12-31 23:52:32   \n",
       "234105  289FBCD3622AC157  electric_bike 2021-12-31 23:15:15   \n",
       "235820  E4E9354762A63483    docked_bike 2021-12-31 23:43:37   \n",
       "238244  3272910E8DFFA1B3  electric_bike 2021-12-31 23:42:07   \n",
       "244833  AA2681CA4659CCE5  electric_bike 2021-12-31 23:42:35   \n",
       "\n",
       "                  stoptime          from_station_name from_station_id  \\\n",
       "552    2022-01-01 00:34:22     St. Clair St & Erie St           13016   \n",
       "645    2022-01-01 00:35:21     St. Clair St & Erie St           13016   \n",
       "8906   2022-01-01 12:17:58  Columbus Dr & Randolph St           13263   \n",
       "12384  2022-01-01 03:17:07      Broadway & Berwyn Ave           13109   \n",
       "12555  2022-01-01 08:42:31          Adler Planetarium           13431   \n",
       "...                    ...                        ...             ...   \n",
       "225629 2022-01-01 00:08:35    Dearborn St & Monroe St    TA1305000006   \n",
       "234105 2022-01-01 00:14:35                    Unknown               0   \n",
       "235820 2022-01-02 00:43:37   Fairbanks Ct & Grand Ave    TA1305000003   \n",
       "238244 2022-01-01 00:07:08                    Unknown               0   \n",
       "244833 2022-01-01 00:00:35        Wells St & Huron St    TA1306000012   \n",
       "\n",
       "                          to_station_name to_station_id  start_lat  start_lng  \\\n",
       "552             Columbus Dr & Randolph St         13263  41.894345 -87.622798   \n",
       "645             Columbus Dr & Randolph St         13263  41.894345 -87.622798   \n",
       "8906    DuSable Lake Shore Dr & Monroe St         13300  41.884728 -87.619521   \n",
       "12384           Ashland Ave & Division St         13061  41.978353 -87.659753   \n",
       "12555                   Adler Planetarium         13431  41.866095 -87.607267   \n",
       "...                                   ...           ...        ...        ...   \n",
       "225629            Dearborn St & Monroe St  TA1305000006  41.881320 -87.629521   \n",
       "234105          Desplaines St & Kinzie St  TA1306000003  41.910000 -87.710000   \n",
       "235820                            Unknown             0  41.891847 -87.620580   \n",
       "238244                            Unknown             0  41.870000 -87.630000   \n",
       "244833                            Unknown             0  41.894864 -87.634479   \n",
       "\n",
       "          end_lat    end_lng    usertype  \n",
       "552     41.884728 -87.619521    Customer  \n",
       "645     41.884728 -87.619521    Customer  \n",
       "8906    41.880958 -87.616743    Customer  \n",
       "12384   41.903450 -87.667747    Customer  \n",
       "12555   41.866095 -87.607267    Customer  \n",
       "...           ...        ...         ...  \n",
       "225629  41.881320 -87.629521    Customer  \n",
       "234105  41.888716 -87.644448  Subscriber  \n",
       "235820   0.000000   0.000000    Customer  \n",
       "238244  41.860000 -87.630000    Customer  \n",
       "244833  41.950000 -87.660000  Subscriber  \n",
       "\n",
       "[75 rows x 13 columns]"
      ]
     },
     "execution_count": 110,
     "metadata": {},
     "output_type": "execute_result"
    }
   ],
   "source": [
    "df12.loc[df12['stoptime'].dt.year != 2021]"
   ]
  },
  {
   "cell_type": "code",
   "execution_count": 111,
   "metadata": {},
   "outputs": [],
   "source": [
    "df12.drop([552, 645, 8906, 12384, 12555, 12868, 14499, 20899, 21015, 29629, 32046, 34528, 34620, 34699, 38899, 39469, 43580, 46866, 47507, 47588, 52286, 53654, 54072, 57329, 60296, 60586, 70116, 70204, 78201, 89274, 89625, 91404, 91461, 94810, 100036, 100735, 107792, 113460, 125748, 129371, 131716, 131717, 132349, 137534, 138837, 138838, 139009, 143715, 149176, 150079, 156335, 158683, 161492, 165576, 167244, 170743, 195050, 197503, 198032, 198382, 198836, 205712, 205917, 206194, 206472, 208356, 222722, 223972, 225609, 225620, 225629, 234105, 235820, 238244, 244833],  axis=0, inplace=True)"
   ]
  },
  {
   "cell_type": "code",
   "execution_count": 112,
   "metadata": {},
   "outputs": [
    {
     "name": "stdout",
     "output_type": "stream",
     "text": [
      "<class 'pandas.core.frame.DataFrame'>\n",
      "Int64Index: 247465 entries, 0 to 247539\n",
      "Data columns (total 13 columns):\n",
      " #   Column             Non-Null Count   Dtype         \n",
      "---  ------             --------------   -----         \n",
      " 0   ride_id            247465 non-null  object        \n",
      " 1   rideable_type      247465 non-null  object        \n",
      " 2   starttime          247465 non-null  datetime64[ns]\n",
      " 3   stoptime           247465 non-null  datetime64[ns]\n",
      " 4   from_station_name  247465 non-null  object        \n",
      " 5   from_station_id    247465 non-null  object        \n",
      " 6   to_station_name    247465 non-null  object        \n",
      " 7   to_station_id      247465 non-null  object        \n",
      " 8   start_lat          247465 non-null  float64       \n",
      " 9   start_lng          247465 non-null  float64       \n",
      " 10  end_lat            247465 non-null  float64       \n",
      " 11  end_lng            247465 non-null  float64       \n",
      " 12  usertype           247465 non-null  object        \n",
      "dtypes: datetime64[ns](2), float64(4), object(7)\n",
      "memory usage: 26.4+ MB\n"
     ]
    }
   ],
   "source": [
    "df12.info(verbose=True)"
   ]
  },
  {
   "cell_type": "markdown",
   "metadata": {},
   "source": [
    "* concat and result in 1 cleaned CSVs. Revert from variables back to cleaned CSV. "
   ]
  }
 ],
 "metadata": {
  "kernelspec": {
   "display_name": "Python 3.10.6 64-bit",
   "language": "python",
   "name": "python3"
  },
  "language_info": {
   "codemirror_mode": {
    "name": "ipython",
    "version": 3
   },
   "file_extension": ".py",
   "mimetype": "text/x-python",
   "name": "python",
   "nbconvert_exporter": "python",
   "pygments_lexer": "ipython3",
   "version": "3.10.6"
  },
  "orig_nbformat": 4,
  "vscode": {
   "interpreter": {
    "hash": "aee8b7b246df8f9039afb4144a1f6fd8d2ca17a180786b69acc140d282b71a49"
   }
  }
 },
 "nbformat": 4,
 "nbformat_minor": 2
}

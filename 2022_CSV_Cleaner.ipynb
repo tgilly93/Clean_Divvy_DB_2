{
 "cells": [
  {
   "cell_type": "code",
   "execution_count": 1,
   "metadata": {},
   "outputs": [],
   "source": [
    "import pandas as pd\n",
    "import numpy as np"
   ]
  },
  {
   "cell_type": "code",
   "execution_count": 2,
   "metadata": {},
   "outputs": [],
   "source": [
    "df1 = pd.read_csv('/Users/terrygilmore/Desktop/Divvy_DB/Divvy_Stations_Trips_2022/202201-divvy-tripdata.csv')\n",
    "df2 = pd.read_csv('/Users/terrygilmore/Desktop/Divvy_DB/Divvy_Stations_Trips_2022/202202-divvy-tripdata.csv')\n",
    "df3 = pd.read_csv('/Users/terrygilmore/Desktop/Divvy_DB/Divvy_Stations_Trips_2022/202203-divvy-tripdata.csv')\n",
    "df4 = pd.read_csv('/Users/terrygilmore/Desktop/Divvy_DB/Divvy_Stations_Trips_2022/202204-divvy-tripdata.csv')\n",
    "df5 = pd.read_csv('/Users/terrygilmore/Desktop/Divvy_DB/Divvy_Stations_Trips_2022/202205-divvy-tripdata.csv')"
   ]
  },
  {
   "cell_type": "code",
   "execution_count": 7,
   "metadata": {},
   "outputs": [
    {
     "name": "stdout",
     "output_type": "stream",
     "text": [
      "<class 'pandas.core.frame.DataFrame'>\n",
      "RangeIndex: 103770 entries, 0 to 103769\n",
      "Data columns (total 13 columns):\n",
      " #   Column              Non-Null Count   Dtype  \n",
      "---  ------              --------------   -----  \n",
      " 0   ride_id             103770 non-null  object \n",
      " 1   rideable_type       103770 non-null  object \n",
      " 2   started_at          103770 non-null  object \n",
      " 3   ended_at            103770 non-null  object \n",
      " 4   start_station_name  87510 non-null   object \n",
      " 5   start_station_id    87510 non-null   object \n",
      " 6   end_station_name    85843 non-null   object \n",
      " 7   end_station_id      85843 non-null   object \n",
      " 8   start_lat           103770 non-null  float64\n",
      " 9   start_lng           103770 non-null  float64\n",
      " 10  end_lat             103684 non-null  float64\n",
      " 11  end_lng             103684 non-null  float64\n",
      " 12  member_casual       103770 non-null  object \n",
      "dtypes: float64(4), object(9)\n",
      "memory usage: 10.3+ MB\n"
     ]
    }
   ],
   "source": [
    "df1.info(verbose=True)"
   ]
  },
  {
   "cell_type": "code",
   "execution_count": 8,
   "metadata": {},
   "outputs": [],
   "source": [
    "df1.rename(columns = {'started_at':'starttime'}, inplace = True)\n",
    "df1.rename(columns = {'ended_at':'stoptime'}, inplace = True)\n",
    "df1.rename(columns = {'start_station_name':'from_station_name'}, inplace = True)\n",
    "df1.rename(columns = {'start_station_id':'from_station_id'}, inplace = True)\n",
    "df1.rename(columns = {'end_station_name':'to_station_name'}, inplace = True)\n",
    "df1.rename(columns = {'end_station_id':'to_station_id'}, inplace = True)\n",
    "df1.rename(columns = {'member_casual':'usertype'}, inplace = True)"
   ]
  },
  {
   "cell_type": "code",
   "execution_count": 9,
   "metadata": {},
   "outputs": [],
   "source": [
    "df1[\"starttime\"] = pd.to_datetime(df1[\"starttime\"])\n",
    "df1[\"stoptime\"] = pd.to_datetime(df1[\"stoptime\"])"
   ]
  },
  {
   "cell_type": "code",
   "execution_count": 10,
   "metadata": {},
   "outputs": [],
   "source": [
    "df1['usertype'].replace({'member':'Subscriber', 'casual':'Customer'}, inplace=True)"
   ]
  },
  {
   "cell_type": "code",
   "execution_count": 11,
   "metadata": {},
   "outputs": [],
   "source": [
    "df1.loc[df1['from_station_name'].isnull(), 'from_station_name'] = 'Unknown'\n",
    "df1.loc[df1['from_station_id'].isnull(), 'from_station_id'] = 0\n",
    "df1.loc[df1['to_station_name'].isnull(), 'to_station_name'] = 'Unknown'\n",
    "df1.loc[df1['to_station_id'].isnull(), 'to_station_id'] = 0\n",
    "df1.loc[df1['end_lat'].isnull(), 'end_lat'] = 0\n",
    "df1.loc[df1['end_lng'].isnull(), 'end_lng'] = 0"
   ]
  },
  {
   "cell_type": "code",
   "execution_count": 12,
   "metadata": {},
   "outputs": [
    {
     "data": {
      "text/html": [
       "<div>\n",
       "<style scoped>\n",
       "    .dataframe tbody tr th:only-of-type {\n",
       "        vertical-align: middle;\n",
       "    }\n",
       "\n",
       "    .dataframe tbody tr th {\n",
       "        vertical-align: top;\n",
       "    }\n",
       "\n",
       "    .dataframe thead th {\n",
       "        text-align: right;\n",
       "    }\n",
       "</style>\n",
       "<table border=\"1\" class=\"dataframe\">\n",
       "  <thead>\n",
       "    <tr style=\"text-align: right;\">\n",
       "      <th></th>\n",
       "      <th>ride_id</th>\n",
       "      <th>rideable_type</th>\n",
       "      <th>starttime</th>\n",
       "      <th>stoptime</th>\n",
       "      <th>from_station_name</th>\n",
       "      <th>from_station_id</th>\n",
       "      <th>to_station_name</th>\n",
       "      <th>to_station_id</th>\n",
       "      <th>start_lat</th>\n",
       "      <th>start_lng</th>\n",
       "      <th>end_lat</th>\n",
       "      <th>end_lng</th>\n",
       "      <th>usertype</th>\n",
       "    </tr>\n",
       "  </thead>\n",
       "  <tbody>\n",
       "  </tbody>\n",
       "</table>\n",
       "</div>"
      ],
      "text/plain": [
       "Empty DataFrame\n",
       "Columns: [ride_id, rideable_type, starttime, stoptime, from_station_name, from_station_id, to_station_name, to_station_id, start_lat, start_lng, end_lat, end_lng, usertype]\n",
       "Index: []"
      ]
     },
     "execution_count": 12,
     "metadata": {},
     "output_type": "execute_result"
    }
   ],
   "source": [
    "df1.loc[df1['starttime'].dt.year != 2022]"
   ]
  },
  {
   "cell_type": "code",
   "execution_count": 13,
   "metadata": {},
   "outputs": [
    {
     "data": {
      "text/html": [
       "<div>\n",
       "<style scoped>\n",
       "    .dataframe tbody tr th:only-of-type {\n",
       "        vertical-align: middle;\n",
       "    }\n",
       "\n",
       "    .dataframe tbody tr th {\n",
       "        vertical-align: top;\n",
       "    }\n",
       "\n",
       "    .dataframe thead th {\n",
       "        text-align: right;\n",
       "    }\n",
       "</style>\n",
       "<table border=\"1\" class=\"dataframe\">\n",
       "  <thead>\n",
       "    <tr style=\"text-align: right;\">\n",
       "      <th></th>\n",
       "      <th>ride_id</th>\n",
       "      <th>rideable_type</th>\n",
       "      <th>starttime</th>\n",
       "      <th>stoptime</th>\n",
       "      <th>from_station_name</th>\n",
       "      <th>from_station_id</th>\n",
       "      <th>to_station_name</th>\n",
       "      <th>to_station_id</th>\n",
       "      <th>start_lat</th>\n",
       "      <th>start_lng</th>\n",
       "      <th>end_lat</th>\n",
       "      <th>end_lng</th>\n",
       "      <th>usertype</th>\n",
       "    </tr>\n",
       "  </thead>\n",
       "  <tbody>\n",
       "  </tbody>\n",
       "</table>\n",
       "</div>"
      ],
      "text/plain": [
       "Empty DataFrame\n",
       "Columns: [ride_id, rideable_type, starttime, stoptime, from_station_name, from_station_id, to_station_name, to_station_id, start_lat, start_lng, end_lat, end_lng, usertype]\n",
       "Index: []"
      ]
     },
     "execution_count": 13,
     "metadata": {},
     "output_type": "execute_result"
    }
   ],
   "source": [
    "df1.loc[df1['stoptime'].dt.year != 2022]"
   ]
  },
  {
   "cell_type": "code",
   "execution_count": 14,
   "metadata": {},
   "outputs": [
    {
     "name": "stdout",
     "output_type": "stream",
     "text": [
      "<class 'pandas.core.frame.DataFrame'>\n",
      "RangeIndex: 103770 entries, 0 to 103769\n",
      "Data columns (total 13 columns):\n",
      " #   Column             Non-Null Count   Dtype         \n",
      "---  ------             --------------   -----         \n",
      " 0   ride_id            103770 non-null  object        \n",
      " 1   rideable_type      103770 non-null  object        \n",
      " 2   starttime          103770 non-null  datetime64[ns]\n",
      " 3   stoptime           103770 non-null  datetime64[ns]\n",
      " 4   from_station_name  103770 non-null  object        \n",
      " 5   from_station_id    103770 non-null  object        \n",
      " 6   to_station_name    103770 non-null  object        \n",
      " 7   to_station_id      103770 non-null  object        \n",
      " 8   start_lat          103770 non-null  float64       \n",
      " 9   start_lng          103770 non-null  float64       \n",
      " 10  end_lat            103770 non-null  float64       \n",
      " 11  end_lng            103770 non-null  float64       \n",
      " 12  usertype           103770 non-null  object        \n",
      "dtypes: datetime64[ns](2), float64(4), object(7)\n",
      "memory usage: 10.3+ MB\n"
     ]
    }
   ],
   "source": [
    "df1.info(verbose=True)"
   ]
  },
  {
   "cell_type": "code",
   "execution_count": 15,
   "metadata": {},
   "outputs": [
    {
     "name": "stdout",
     "output_type": "stream",
     "text": [
      "<class 'pandas.core.frame.DataFrame'>\n",
      "RangeIndex: 115609 entries, 0 to 115608\n",
      "Data columns (total 13 columns):\n",
      " #   Column              Non-Null Count   Dtype  \n",
      "---  ------              --------------   -----  \n",
      " 0   ride_id             115609 non-null  object \n",
      " 1   rideable_type       115609 non-null  object \n",
      " 2   started_at          115609 non-null  object \n",
      " 3   ended_at            115609 non-null  object \n",
      " 4   start_station_name  97029 non-null   object \n",
      " 5   start_station_id    97029 non-null   object \n",
      " 6   end_station_name    95254 non-null   object \n",
      " 7   end_station_id      95254 non-null   object \n",
      " 8   start_lat           115609 non-null  float64\n",
      " 9   start_lng           115609 non-null  float64\n",
      " 10  end_lat             115532 non-null  float64\n",
      " 11  end_lng             115532 non-null  float64\n",
      " 12  member_casual       115609 non-null  object \n",
      "dtypes: float64(4), object(9)\n",
      "memory usage: 11.5+ MB\n"
     ]
    }
   ],
   "source": [
    "df2.info(verbose=True)"
   ]
  },
  {
   "cell_type": "code",
   "execution_count": 16,
   "metadata": {},
   "outputs": [],
   "source": [
    "df2.rename(columns = {'started_at':'starttime'}, inplace = True)\n",
    "df2.rename(columns = {'ended_at':'stoptime'}, inplace = True)\n",
    "df2.rename(columns = {'start_station_name':'from_station_name'}, inplace = True)\n",
    "df2.rename(columns = {'start_station_id':'from_station_id'}, inplace = True)\n",
    "df2.rename(columns = {'end_station_name':'to_station_name'}, inplace = True)\n",
    "df2.rename(columns = {'end_station_id':'to_station_id'}, inplace = True)\n",
    "df2.rename(columns = {'member_casual':'usertype'}, inplace = True)"
   ]
  },
  {
   "cell_type": "code",
   "execution_count": 17,
   "metadata": {},
   "outputs": [],
   "source": [
    "df2[\"starttime\"] = pd.to_datetime(df2[\"starttime\"])\n",
    "df2[\"stoptime\"] = pd.to_datetime(df2[\"stoptime\"])"
   ]
  },
  {
   "cell_type": "code",
   "execution_count": 18,
   "metadata": {},
   "outputs": [],
   "source": [
    "df2['usertype'].replace({'member':'Subscriber', 'casual':'Customer'}, inplace=True)"
   ]
  },
  {
   "cell_type": "code",
   "execution_count": 19,
   "metadata": {},
   "outputs": [],
   "source": [
    "df2.loc[df2['from_station_name'].isnull(), 'from_station_name'] = 'Unknown'\n",
    "df2.loc[df2['from_station_id'].isnull(), 'from_station_id'] = 0\n",
    "df2.loc[df2['to_station_name'].isnull(), 'to_station_name'] = 'Unknown'\n",
    "df2.loc[df2['to_station_id'].isnull(), 'to_station_id'] = 0\n",
    "df2.loc[df2['end_lat'].isnull(), 'end_lat'] = 0\n",
    "df2.loc[df2['end_lng'].isnull(), 'end_lng'] = 0"
   ]
  },
  {
   "cell_type": "code",
   "execution_count": 20,
   "metadata": {},
   "outputs": [
    {
     "data": {
      "text/html": [
       "<div>\n",
       "<style scoped>\n",
       "    .dataframe tbody tr th:only-of-type {\n",
       "        vertical-align: middle;\n",
       "    }\n",
       "\n",
       "    .dataframe tbody tr th {\n",
       "        vertical-align: top;\n",
       "    }\n",
       "\n",
       "    .dataframe thead th {\n",
       "        text-align: right;\n",
       "    }\n",
       "</style>\n",
       "<table border=\"1\" class=\"dataframe\">\n",
       "  <thead>\n",
       "    <tr style=\"text-align: right;\">\n",
       "      <th></th>\n",
       "      <th>ride_id</th>\n",
       "      <th>rideable_type</th>\n",
       "      <th>starttime</th>\n",
       "      <th>stoptime</th>\n",
       "      <th>from_station_name</th>\n",
       "      <th>from_station_id</th>\n",
       "      <th>to_station_name</th>\n",
       "      <th>to_station_id</th>\n",
       "      <th>start_lat</th>\n",
       "      <th>start_lng</th>\n",
       "      <th>end_lat</th>\n",
       "      <th>end_lng</th>\n",
       "      <th>usertype</th>\n",
       "    </tr>\n",
       "  </thead>\n",
       "  <tbody>\n",
       "  </tbody>\n",
       "</table>\n",
       "</div>"
      ],
      "text/plain": [
       "Empty DataFrame\n",
       "Columns: [ride_id, rideable_type, starttime, stoptime, from_station_name, from_station_id, to_station_name, to_station_id, start_lat, start_lng, end_lat, end_lng, usertype]\n",
       "Index: []"
      ]
     },
     "execution_count": 20,
     "metadata": {},
     "output_type": "execute_result"
    }
   ],
   "source": [
    "df2.loc[df2['starttime'].dt.year != 2022]"
   ]
  },
  {
   "cell_type": "code",
   "execution_count": 21,
   "metadata": {},
   "outputs": [
    {
     "data": {
      "text/html": [
       "<div>\n",
       "<style scoped>\n",
       "    .dataframe tbody tr th:only-of-type {\n",
       "        vertical-align: middle;\n",
       "    }\n",
       "\n",
       "    .dataframe tbody tr th {\n",
       "        vertical-align: top;\n",
       "    }\n",
       "\n",
       "    .dataframe thead th {\n",
       "        text-align: right;\n",
       "    }\n",
       "</style>\n",
       "<table border=\"1\" class=\"dataframe\">\n",
       "  <thead>\n",
       "    <tr style=\"text-align: right;\">\n",
       "      <th></th>\n",
       "      <th>ride_id</th>\n",
       "      <th>rideable_type</th>\n",
       "      <th>starttime</th>\n",
       "      <th>stoptime</th>\n",
       "      <th>from_station_name</th>\n",
       "      <th>from_station_id</th>\n",
       "      <th>to_station_name</th>\n",
       "      <th>to_station_id</th>\n",
       "      <th>start_lat</th>\n",
       "      <th>start_lng</th>\n",
       "      <th>end_lat</th>\n",
       "      <th>end_lng</th>\n",
       "      <th>usertype</th>\n",
       "    </tr>\n",
       "  </thead>\n",
       "  <tbody>\n",
       "  </tbody>\n",
       "</table>\n",
       "</div>"
      ],
      "text/plain": [
       "Empty DataFrame\n",
       "Columns: [ride_id, rideable_type, starttime, stoptime, from_station_name, from_station_id, to_station_name, to_station_id, start_lat, start_lng, end_lat, end_lng, usertype]\n",
       "Index: []"
      ]
     },
     "execution_count": 21,
     "metadata": {},
     "output_type": "execute_result"
    }
   ],
   "source": [
    "df2.loc[df2['stoptime'].dt.year != 2022]"
   ]
  },
  {
   "cell_type": "code",
   "execution_count": 22,
   "metadata": {},
   "outputs": [
    {
     "name": "stdout",
     "output_type": "stream",
     "text": [
      "<class 'pandas.core.frame.DataFrame'>\n",
      "RangeIndex: 115609 entries, 0 to 115608\n",
      "Data columns (total 13 columns):\n",
      " #   Column             Non-Null Count   Dtype         \n",
      "---  ------             --------------   -----         \n",
      " 0   ride_id            115609 non-null  object        \n",
      " 1   rideable_type      115609 non-null  object        \n",
      " 2   starttime          115609 non-null  datetime64[ns]\n",
      " 3   stoptime           115609 non-null  datetime64[ns]\n",
      " 4   from_station_name  115609 non-null  object        \n",
      " 5   from_station_id    115609 non-null  object        \n",
      " 6   to_station_name    115609 non-null  object        \n",
      " 7   to_station_id      115609 non-null  object        \n",
      " 8   start_lat          115609 non-null  float64       \n",
      " 9   start_lng          115609 non-null  float64       \n",
      " 10  end_lat            115609 non-null  float64       \n",
      " 11  end_lng            115609 non-null  float64       \n",
      " 12  usertype           115609 non-null  object        \n",
      "dtypes: datetime64[ns](2), float64(4), object(7)\n",
      "memory usage: 11.5+ MB\n"
     ]
    }
   ],
   "source": [
    "df2.info(verbose=True)"
   ]
  },
  {
   "cell_type": "code",
   "execution_count": 23,
   "metadata": {},
   "outputs": [
    {
     "name": "stdout",
     "output_type": "stream",
     "text": [
      "<class 'pandas.core.frame.DataFrame'>\n",
      "RangeIndex: 284042 entries, 0 to 284041\n",
      "Data columns (total 13 columns):\n",
      " #   Column              Non-Null Count   Dtype  \n",
      "---  ------              --------------   -----  \n",
      " 0   ride_id             284042 non-null  object \n",
      " 1   rideable_type       284042 non-null  object \n",
      " 2   started_at          284042 non-null  object \n",
      " 3   ended_at            284042 non-null  object \n",
      " 4   start_station_name  236796 non-null  object \n",
      " 5   start_station_id    236796 non-null  object \n",
      " 6   end_station_name    232885 non-null  object \n",
      " 7   end_station_id      232885 non-null  object \n",
      " 8   start_lat           284042 non-null  float64\n",
      " 9   start_lng           284042 non-null  float64\n",
      " 10  end_lat             283776 non-null  float64\n",
      " 11  end_lng             283776 non-null  float64\n",
      " 12  member_casual       284042 non-null  object \n",
      "dtypes: float64(4), object(9)\n",
      "memory usage: 28.2+ MB\n"
     ]
    }
   ],
   "source": [
    "df3.info(verbose=True)"
   ]
  },
  {
   "cell_type": "code",
   "execution_count": 24,
   "metadata": {},
   "outputs": [],
   "source": [
    "df3.rename(columns = {'started_at':'starttime'}, inplace = True)\n",
    "df3.rename(columns = {'ended_at':'stoptime'}, inplace = True)\n",
    "df3.rename(columns = {'start_station_name':'from_station_name'}, inplace = True)\n",
    "df3.rename(columns = {'start_station_id':'from_station_id'}, inplace = True)\n",
    "df3.rename(columns = {'end_station_name':'to_station_name'}, inplace = True)\n",
    "df3.rename(columns = {'end_station_id':'to_station_id'}, inplace = True)\n",
    "df3.rename(columns = {'member_casual':'usertype'}, inplace = True)"
   ]
  },
  {
   "cell_type": "code",
   "execution_count": 25,
   "metadata": {},
   "outputs": [],
   "source": [
    "df3[\"starttime\"] = pd.to_datetime(df3[\"starttime\"])\n",
    "df3[\"stoptime\"] = pd.to_datetime(df3[\"stoptime\"])"
   ]
  },
  {
   "cell_type": "code",
   "execution_count": 26,
   "metadata": {},
   "outputs": [],
   "source": [
    "df3['usertype'].replace({'member':'Subscriber', 'casual':'Customer'}, inplace=True)"
   ]
  },
  {
   "cell_type": "code",
   "execution_count": 27,
   "metadata": {},
   "outputs": [],
   "source": [
    "df3.loc[df3['from_station_name'].isnull(), 'from_station_name'] = 'Unknown'\n",
    "df3.loc[df3['from_station_id'].isnull(), 'from_station_id'] = 0\n",
    "df3.loc[df3['to_station_name'].isnull(), 'to_station_name'] = 'Unknown'\n",
    "df3.loc[df3['to_station_id'].isnull(), 'to_station_id'] = 0\n",
    "df3.loc[df3['end_lat'].isnull(), 'end_lat'] = 0\n",
    "df3.loc[df3['end_lng'].isnull(), 'end_lng'] = 0"
   ]
  },
  {
   "cell_type": "code",
   "execution_count": 28,
   "metadata": {},
   "outputs": [
    {
     "data": {
      "text/html": [
       "<div>\n",
       "<style scoped>\n",
       "    .dataframe tbody tr th:only-of-type {\n",
       "        vertical-align: middle;\n",
       "    }\n",
       "\n",
       "    .dataframe tbody tr th {\n",
       "        vertical-align: top;\n",
       "    }\n",
       "\n",
       "    .dataframe thead th {\n",
       "        text-align: right;\n",
       "    }\n",
       "</style>\n",
       "<table border=\"1\" class=\"dataframe\">\n",
       "  <thead>\n",
       "    <tr style=\"text-align: right;\">\n",
       "      <th></th>\n",
       "      <th>ride_id</th>\n",
       "      <th>rideable_type</th>\n",
       "      <th>starttime</th>\n",
       "      <th>stoptime</th>\n",
       "      <th>from_station_name</th>\n",
       "      <th>from_station_id</th>\n",
       "      <th>to_station_name</th>\n",
       "      <th>to_station_id</th>\n",
       "      <th>start_lat</th>\n",
       "      <th>start_lng</th>\n",
       "      <th>end_lat</th>\n",
       "      <th>end_lng</th>\n",
       "      <th>usertype</th>\n",
       "    </tr>\n",
       "  </thead>\n",
       "  <tbody>\n",
       "  </tbody>\n",
       "</table>\n",
       "</div>"
      ],
      "text/plain": [
       "Empty DataFrame\n",
       "Columns: [ride_id, rideable_type, starttime, stoptime, from_station_name, from_station_id, to_station_name, to_station_id, start_lat, start_lng, end_lat, end_lng, usertype]\n",
       "Index: []"
      ]
     },
     "execution_count": 28,
     "metadata": {},
     "output_type": "execute_result"
    }
   ],
   "source": [
    "df3.loc[df3['starttime'].dt.year != 2022]"
   ]
  },
  {
   "cell_type": "code",
   "execution_count": 29,
   "metadata": {},
   "outputs": [
    {
     "data": {
      "text/html": [
       "<div>\n",
       "<style scoped>\n",
       "    .dataframe tbody tr th:only-of-type {\n",
       "        vertical-align: middle;\n",
       "    }\n",
       "\n",
       "    .dataframe tbody tr th {\n",
       "        vertical-align: top;\n",
       "    }\n",
       "\n",
       "    .dataframe thead th {\n",
       "        text-align: right;\n",
       "    }\n",
       "</style>\n",
       "<table border=\"1\" class=\"dataframe\">\n",
       "  <thead>\n",
       "    <tr style=\"text-align: right;\">\n",
       "      <th></th>\n",
       "      <th>ride_id</th>\n",
       "      <th>rideable_type</th>\n",
       "      <th>starttime</th>\n",
       "      <th>stoptime</th>\n",
       "      <th>from_station_name</th>\n",
       "      <th>from_station_id</th>\n",
       "      <th>to_station_name</th>\n",
       "      <th>to_station_id</th>\n",
       "      <th>start_lat</th>\n",
       "      <th>start_lng</th>\n",
       "      <th>end_lat</th>\n",
       "      <th>end_lng</th>\n",
       "      <th>usertype</th>\n",
       "    </tr>\n",
       "  </thead>\n",
       "  <tbody>\n",
       "  </tbody>\n",
       "</table>\n",
       "</div>"
      ],
      "text/plain": [
       "Empty DataFrame\n",
       "Columns: [ride_id, rideable_type, starttime, stoptime, from_station_name, from_station_id, to_station_name, to_station_id, start_lat, start_lng, end_lat, end_lng, usertype]\n",
       "Index: []"
      ]
     },
     "execution_count": 29,
     "metadata": {},
     "output_type": "execute_result"
    }
   ],
   "source": [
    "df3.loc[df3['stoptime'].dt.year != 2022]"
   ]
  },
  {
   "cell_type": "code",
   "execution_count": 30,
   "metadata": {},
   "outputs": [
    {
     "name": "stdout",
     "output_type": "stream",
     "text": [
      "<class 'pandas.core.frame.DataFrame'>\n",
      "RangeIndex: 284042 entries, 0 to 284041\n",
      "Data columns (total 13 columns):\n",
      " #   Column             Non-Null Count   Dtype         \n",
      "---  ------             --------------   -----         \n",
      " 0   ride_id            284042 non-null  object        \n",
      " 1   rideable_type      284042 non-null  object        \n",
      " 2   starttime          284042 non-null  datetime64[ns]\n",
      " 3   stoptime           284042 non-null  datetime64[ns]\n",
      " 4   from_station_name  284042 non-null  object        \n",
      " 5   from_station_id    284042 non-null  object        \n",
      " 6   to_station_name    284042 non-null  object        \n",
      " 7   to_station_id      284042 non-null  object        \n",
      " 8   start_lat          284042 non-null  float64       \n",
      " 9   start_lng          284042 non-null  float64       \n",
      " 10  end_lat            284042 non-null  float64       \n",
      " 11  end_lng            284042 non-null  float64       \n",
      " 12  usertype           284042 non-null  object        \n",
      "dtypes: datetime64[ns](2), float64(4), object(7)\n",
      "memory usage: 28.2+ MB\n"
     ]
    }
   ],
   "source": [
    "df3.info(verbose=True)"
   ]
  },
  {
   "cell_type": "code",
   "execution_count": 31,
   "metadata": {},
   "outputs": [
    {
     "name": "stdout",
     "output_type": "stream",
     "text": [
      "<class 'pandas.core.frame.DataFrame'>\n",
      "RangeIndex: 371249 entries, 0 to 371248\n",
      "Data columns (total 13 columns):\n",
      " #   Column              Non-Null Count   Dtype  \n",
      "---  ------              --------------   -----  \n",
      " 0   ride_id             371249 non-null  object \n",
      " 1   rideable_type       371249 non-null  object \n",
      " 2   started_at          371249 non-null  object \n",
      " 3   ended_at            371249 non-null  object \n",
      " 4   start_station_name  300362 non-null  object \n",
      " 5   start_station_id    300362 non-null  object \n",
      " 6   end_station_name    295961 non-null  object \n",
      " 7   end_station_id      295961 non-null  object \n",
      " 8   start_lat           371249 non-null  float64\n",
      " 9   start_lng           371249 non-null  float64\n",
      " 10  end_lat             370932 non-null  float64\n",
      " 11  end_lng             370932 non-null  float64\n",
      " 12  member_casual       371249 non-null  object \n",
      "dtypes: float64(4), object(9)\n",
      "memory usage: 36.8+ MB\n"
     ]
    }
   ],
   "source": [
    "df4.info(verbose=True)"
   ]
  },
  {
   "cell_type": "code",
   "execution_count": 32,
   "metadata": {},
   "outputs": [],
   "source": [
    "df4.rename(columns = {'started_at':'starttime'}, inplace = True)\n",
    "df4.rename(columns = {'ended_at':'stoptime'}, inplace = True)\n",
    "df4.rename(columns = {'start_station_name':'from_station_name'}, inplace = True)\n",
    "df4.rename(columns = {'start_station_id':'from_station_id'}, inplace = True)\n",
    "df4.rename(columns = {'end_station_name':'to_station_name'}, inplace = True)\n",
    "df4.rename(columns = {'end_station_id':'to_station_id'}, inplace = True)\n",
    "df4.rename(columns = {'member_casual':'usertype'}, inplace = True)"
   ]
  },
  {
   "cell_type": "code",
   "execution_count": 33,
   "metadata": {},
   "outputs": [],
   "source": [
    "df4[\"starttime\"] = pd.to_datetime(df4[\"starttime\"])\n",
    "df4[\"stoptime\"] = pd.to_datetime(df4[\"stoptime\"])"
   ]
  },
  {
   "cell_type": "code",
   "execution_count": 34,
   "metadata": {},
   "outputs": [],
   "source": [
    "df4['usertype'].replace({'member':'Subscriber', 'casual':'Customer'}, inplace=True)"
   ]
  },
  {
   "cell_type": "code",
   "execution_count": 35,
   "metadata": {},
   "outputs": [],
   "source": [
    "df4.loc[df4['from_station_name'].isnull(), 'from_station_name'] = 'Unknown'\n",
    "df4.loc[df4['from_station_id'].isnull(), 'from_station_id'] = 0\n",
    "df4.loc[df4['to_station_name'].isnull(), 'to_station_name'] = 'Unknown'\n",
    "df4.loc[df4['to_station_id'].isnull(), 'to_station_id'] = 0\n",
    "df4.loc[df4['end_lat'].isnull(), 'end_lat'] = 0\n",
    "df4.loc[df4['end_lng'].isnull(), 'end_lng'] = 0"
   ]
  },
  {
   "cell_type": "code",
   "execution_count": 36,
   "metadata": {},
   "outputs": [
    {
     "data": {
      "text/html": [
       "<div>\n",
       "<style scoped>\n",
       "    .dataframe tbody tr th:only-of-type {\n",
       "        vertical-align: middle;\n",
       "    }\n",
       "\n",
       "    .dataframe tbody tr th {\n",
       "        vertical-align: top;\n",
       "    }\n",
       "\n",
       "    .dataframe thead th {\n",
       "        text-align: right;\n",
       "    }\n",
       "</style>\n",
       "<table border=\"1\" class=\"dataframe\">\n",
       "  <thead>\n",
       "    <tr style=\"text-align: right;\">\n",
       "      <th></th>\n",
       "      <th>ride_id</th>\n",
       "      <th>rideable_type</th>\n",
       "      <th>starttime</th>\n",
       "      <th>stoptime</th>\n",
       "      <th>from_station_name</th>\n",
       "      <th>from_station_id</th>\n",
       "      <th>to_station_name</th>\n",
       "      <th>to_station_id</th>\n",
       "      <th>start_lat</th>\n",
       "      <th>start_lng</th>\n",
       "      <th>end_lat</th>\n",
       "      <th>end_lng</th>\n",
       "      <th>usertype</th>\n",
       "    </tr>\n",
       "  </thead>\n",
       "  <tbody>\n",
       "  </tbody>\n",
       "</table>\n",
       "</div>"
      ],
      "text/plain": [
       "Empty DataFrame\n",
       "Columns: [ride_id, rideable_type, starttime, stoptime, from_station_name, from_station_id, to_station_name, to_station_id, start_lat, start_lng, end_lat, end_lng, usertype]\n",
       "Index: []"
      ]
     },
     "execution_count": 36,
     "metadata": {},
     "output_type": "execute_result"
    }
   ],
   "source": [
    "df4.loc[df4['starttime'].dt.year != 2022]"
   ]
  },
  {
   "cell_type": "code",
   "execution_count": 37,
   "metadata": {},
   "outputs": [
    {
     "data": {
      "text/html": [
       "<div>\n",
       "<style scoped>\n",
       "    .dataframe tbody tr th:only-of-type {\n",
       "        vertical-align: middle;\n",
       "    }\n",
       "\n",
       "    .dataframe tbody tr th {\n",
       "        vertical-align: top;\n",
       "    }\n",
       "\n",
       "    .dataframe thead th {\n",
       "        text-align: right;\n",
       "    }\n",
       "</style>\n",
       "<table border=\"1\" class=\"dataframe\">\n",
       "  <thead>\n",
       "    <tr style=\"text-align: right;\">\n",
       "      <th></th>\n",
       "      <th>ride_id</th>\n",
       "      <th>rideable_type</th>\n",
       "      <th>starttime</th>\n",
       "      <th>stoptime</th>\n",
       "      <th>from_station_name</th>\n",
       "      <th>from_station_id</th>\n",
       "      <th>to_station_name</th>\n",
       "      <th>to_station_id</th>\n",
       "      <th>start_lat</th>\n",
       "      <th>start_lng</th>\n",
       "      <th>end_lat</th>\n",
       "      <th>end_lng</th>\n",
       "      <th>usertype</th>\n",
       "    </tr>\n",
       "  </thead>\n",
       "  <tbody>\n",
       "  </tbody>\n",
       "</table>\n",
       "</div>"
      ],
      "text/plain": [
       "Empty DataFrame\n",
       "Columns: [ride_id, rideable_type, starttime, stoptime, from_station_name, from_station_id, to_station_name, to_station_id, start_lat, start_lng, end_lat, end_lng, usertype]\n",
       "Index: []"
      ]
     },
     "execution_count": 37,
     "metadata": {},
     "output_type": "execute_result"
    }
   ],
   "source": [
    "df4.loc[df4['stoptime'].dt.year != 2022]"
   ]
  },
  {
   "cell_type": "code",
   "execution_count": 38,
   "metadata": {},
   "outputs": [
    {
     "name": "stdout",
     "output_type": "stream",
     "text": [
      "<class 'pandas.core.frame.DataFrame'>\n",
      "RangeIndex: 371249 entries, 0 to 371248\n",
      "Data columns (total 13 columns):\n",
      " #   Column             Non-Null Count   Dtype         \n",
      "---  ------             --------------   -----         \n",
      " 0   ride_id            371249 non-null  object        \n",
      " 1   rideable_type      371249 non-null  object        \n",
      " 2   starttime          371249 non-null  datetime64[ns]\n",
      " 3   stoptime           371249 non-null  datetime64[ns]\n",
      " 4   from_station_name  371249 non-null  object        \n",
      " 5   from_station_id    371249 non-null  object        \n",
      " 6   to_station_name    371249 non-null  object        \n",
      " 7   to_station_id      371249 non-null  object        \n",
      " 8   start_lat          371249 non-null  float64       \n",
      " 9   start_lng          371249 non-null  float64       \n",
      " 10  end_lat            371249 non-null  float64       \n",
      " 11  end_lng            371249 non-null  float64       \n",
      " 12  usertype           371249 non-null  object        \n",
      "dtypes: datetime64[ns](2), float64(4), object(7)\n",
      "memory usage: 36.8+ MB\n"
     ]
    }
   ],
   "source": [
    "df4.info(verbose=True)"
   ]
  },
  {
   "cell_type": "code",
   "execution_count": 39,
   "metadata": {},
   "outputs": [
    {
     "name": "stdout",
     "output_type": "stream",
     "text": [
      "<class 'pandas.core.frame.DataFrame'>\n",
      "RangeIndex: 634858 entries, 0 to 634857\n",
      "Data columns (total 13 columns):\n",
      " #   Column              Non-Null Count   Dtype  \n",
      "---  ------              --------------   -----  \n",
      " 0   ride_id             634858 non-null  object \n",
      " 1   rideable_type       634858 non-null  object \n",
      " 2   started_at          634858 non-null  object \n",
      " 3   ended_at            634858 non-null  object \n",
      " 4   start_station_name  548154 non-null  object \n",
      " 5   start_station_id    548154 non-null  object \n",
      " 6   end_station_name    541687 non-null  object \n",
      " 7   end_station_id      541687 non-null  object \n",
      " 8   start_lat           634858 non-null  float64\n",
      " 9   start_lng           634858 non-null  float64\n",
      " 10  end_lat             634136 non-null  float64\n",
      " 11  end_lng             634136 non-null  float64\n",
      " 12  member_casual       634858 non-null  object \n",
      "dtypes: float64(4), object(9)\n",
      "memory usage: 63.0+ MB\n"
     ]
    }
   ],
   "source": [
    "df5.info(verbose=True)"
   ]
  },
  {
   "cell_type": "code",
   "execution_count": 40,
   "metadata": {},
   "outputs": [],
   "source": [
    "df5.rename(columns = {'started_at':'starttime'}, inplace = True)\n",
    "df5.rename(columns = {'ended_at':'stoptime'}, inplace = True)\n",
    "df5.rename(columns = {'start_station_name':'from_station_name'}, inplace = True)\n",
    "df5.rename(columns = {'start_station_id':'from_station_id'}, inplace = True)\n",
    "df5.rename(columns = {'end_station_name':'to_station_name'}, inplace = True)\n",
    "df5.rename(columns = {'end_station_id':'to_station_id'}, inplace = True)\n",
    "df5.rename(columns = {'member_casual':'usertype'}, inplace = True)"
   ]
  },
  {
   "cell_type": "code",
   "execution_count": 41,
   "metadata": {},
   "outputs": [],
   "source": [
    "df5[\"starttime\"] = pd.to_datetime(df5[\"starttime\"])\n",
    "df5[\"stoptime\"] = pd.to_datetime(df5[\"stoptime\"])"
   ]
  },
  {
   "cell_type": "code",
   "execution_count": 42,
   "metadata": {},
   "outputs": [],
   "source": [
    "df5['usertype'].replace({'member':'Subscriber', 'casual':'Customer'}, inplace=True)"
   ]
  },
  {
   "cell_type": "code",
   "execution_count": 43,
   "metadata": {},
   "outputs": [],
   "source": [
    "df5.loc[df5['from_station_name'].isnull(), 'from_station_name'] = 'Unknown'\n",
    "df5.loc[df5['from_station_id'].isnull(), 'from_station_id'] = 0\n",
    "df5.loc[df5['to_station_name'].isnull(), 'to_station_name'] = 'Unknown'\n",
    "df5.loc[df5['to_station_id'].isnull(), 'to_station_id'] = 0\n",
    "df5.loc[df5['end_lat'].isnull(), 'end_lat'] = 0\n",
    "df5.loc[df5['end_lng'].isnull(), 'end_lng'] = 0"
   ]
  },
  {
   "cell_type": "code",
   "execution_count": 44,
   "metadata": {},
   "outputs": [
    {
     "data": {
      "text/html": [
       "<div>\n",
       "<style scoped>\n",
       "    .dataframe tbody tr th:only-of-type {\n",
       "        vertical-align: middle;\n",
       "    }\n",
       "\n",
       "    .dataframe tbody tr th {\n",
       "        vertical-align: top;\n",
       "    }\n",
       "\n",
       "    .dataframe thead th {\n",
       "        text-align: right;\n",
       "    }\n",
       "</style>\n",
       "<table border=\"1\" class=\"dataframe\">\n",
       "  <thead>\n",
       "    <tr style=\"text-align: right;\">\n",
       "      <th></th>\n",
       "      <th>ride_id</th>\n",
       "      <th>rideable_type</th>\n",
       "      <th>starttime</th>\n",
       "      <th>stoptime</th>\n",
       "      <th>from_station_name</th>\n",
       "      <th>from_station_id</th>\n",
       "      <th>to_station_name</th>\n",
       "      <th>to_station_id</th>\n",
       "      <th>start_lat</th>\n",
       "      <th>start_lng</th>\n",
       "      <th>end_lat</th>\n",
       "      <th>end_lng</th>\n",
       "      <th>usertype</th>\n",
       "    </tr>\n",
       "  </thead>\n",
       "  <tbody>\n",
       "  </tbody>\n",
       "</table>\n",
       "</div>"
      ],
      "text/plain": [
       "Empty DataFrame\n",
       "Columns: [ride_id, rideable_type, starttime, stoptime, from_station_name, from_station_id, to_station_name, to_station_id, start_lat, start_lng, end_lat, end_lng, usertype]\n",
       "Index: []"
      ]
     },
     "execution_count": 44,
     "metadata": {},
     "output_type": "execute_result"
    }
   ],
   "source": [
    "df5.loc[df5['starttime'].dt.year != 2022]"
   ]
  },
  {
   "cell_type": "code",
   "execution_count": 45,
   "metadata": {},
   "outputs": [
    {
     "data": {
      "text/html": [
       "<div>\n",
       "<style scoped>\n",
       "    .dataframe tbody tr th:only-of-type {\n",
       "        vertical-align: middle;\n",
       "    }\n",
       "\n",
       "    .dataframe tbody tr th {\n",
       "        vertical-align: top;\n",
       "    }\n",
       "\n",
       "    .dataframe thead th {\n",
       "        text-align: right;\n",
       "    }\n",
       "</style>\n",
       "<table border=\"1\" class=\"dataframe\">\n",
       "  <thead>\n",
       "    <tr style=\"text-align: right;\">\n",
       "      <th></th>\n",
       "      <th>ride_id</th>\n",
       "      <th>rideable_type</th>\n",
       "      <th>starttime</th>\n",
       "      <th>stoptime</th>\n",
       "      <th>from_station_name</th>\n",
       "      <th>from_station_id</th>\n",
       "      <th>to_station_name</th>\n",
       "      <th>to_station_id</th>\n",
       "      <th>start_lat</th>\n",
       "      <th>start_lng</th>\n",
       "      <th>end_lat</th>\n",
       "      <th>end_lng</th>\n",
       "      <th>usertype</th>\n",
       "    </tr>\n",
       "  </thead>\n",
       "  <tbody>\n",
       "  </tbody>\n",
       "</table>\n",
       "</div>"
      ],
      "text/plain": [
       "Empty DataFrame\n",
       "Columns: [ride_id, rideable_type, starttime, stoptime, from_station_name, from_station_id, to_station_name, to_station_id, start_lat, start_lng, end_lat, end_lng, usertype]\n",
       "Index: []"
      ]
     },
     "execution_count": 45,
     "metadata": {},
     "output_type": "execute_result"
    }
   ],
   "source": [
    "df5.loc[df5['stoptime'].dt.year != 2022]"
   ]
  },
  {
   "cell_type": "code",
   "execution_count": 46,
   "metadata": {},
   "outputs": [
    {
     "name": "stdout",
     "output_type": "stream",
     "text": [
      "<class 'pandas.core.frame.DataFrame'>\n",
      "RangeIndex: 634858 entries, 0 to 634857\n",
      "Data columns (total 13 columns):\n",
      " #   Column             Non-Null Count   Dtype         \n",
      "---  ------             --------------   -----         \n",
      " 0   ride_id            634858 non-null  object        \n",
      " 1   rideable_type      634858 non-null  object        \n",
      " 2   starttime          634858 non-null  datetime64[ns]\n",
      " 3   stoptime           634858 non-null  datetime64[ns]\n",
      " 4   from_station_name  634858 non-null  object        \n",
      " 5   from_station_id    634858 non-null  object        \n",
      " 6   to_station_name    634858 non-null  object        \n",
      " 7   to_station_id      634858 non-null  object        \n",
      " 8   start_lat          634858 non-null  float64       \n",
      " 9   start_lng          634858 non-null  float64       \n",
      " 10  end_lat            634858 non-null  float64       \n",
      " 11  end_lng            634858 non-null  float64       \n",
      " 12  usertype           634858 non-null  object        \n",
      "dtypes: datetime64[ns](2), float64(4), object(7)\n",
      "memory usage: 63.0+ MB\n"
     ]
    }
   ],
   "source": [
    "df5.info(verbose=True)"
   ]
  },
  {
   "cell_type": "markdown",
   "metadata": {},
   "source": [
    "* concat and result in 1 cleaned CSVs. Revert from variables back to cleaned CSV. "
   ]
  }
 ],
 "metadata": {
  "kernelspec": {
   "display_name": "Python 3.10.6 64-bit",
   "language": "python",
   "name": "python3"
  },
  "language_info": {
   "codemirror_mode": {
    "name": "ipython",
    "version": 3
   },
   "file_extension": ".py",
   "mimetype": "text/x-python",
   "name": "python",
   "nbconvert_exporter": "python",
   "pygments_lexer": "ipython3",
   "version": "3.10.6"
  },
  "orig_nbformat": 4,
  "vscode": {
   "interpreter": {
    "hash": "aee8b7b246df8f9039afb4144a1f6fd8d2ca17a180786b69acc140d282b71a49"
   }
  }
 },
 "nbformat": 4,
 "nbformat_minor": 2
}

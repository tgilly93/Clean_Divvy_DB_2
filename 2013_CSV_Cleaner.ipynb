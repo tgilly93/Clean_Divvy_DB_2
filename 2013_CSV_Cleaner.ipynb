{
 "cells": [
  {
   "cell_type": "code",
   "execution_count": 1,
   "metadata": {},
   "outputs": [],
   "source": [
    "import pandas as pd\n",
    "import numpy as np"
   ]
  },
  {
   "cell_type": "code",
   "execution_count": 2,
   "metadata": {},
   "outputs": [],
   "source": [
    "df1 = pd.read_csv('/Users/terrygilmore/Desktop/Divvy_DB/Divvy_Stations_Trips_2013/Divvy_Stations_2013.csv')"
   ]
  },
  {
   "cell_type": "code",
   "execution_count": 3,
   "metadata": {},
   "outputs": [
    {
     "name": "stderr",
     "output_type": "stream",
     "text": [
      "/var/folders/53/dpbddzdx40ld_nw2zwjgq7dc0000gq/T/ipykernel_1370/2934596855.py:1: DtypeWarning: Columns (10) have mixed types. Specify dtype option on import or set low_memory=False.\n",
      "  df2 = pd.read_csv('/Users/terrygilmore/Desktop/Divvy_DB/Divvy_Stations_Trips_2013/Divvy_Trips_2013.csv')\n"
     ]
    }
   ],
   "source": [
    "df2 = pd.read_csv('/Users/terrygilmore/Desktop/Divvy_DB/Divvy_Stations_Trips_2013/Divvy_Trips_2013.csv')"
   ]
  },
  {
   "cell_type": "code",
   "execution_count": 4,
   "metadata": {},
   "outputs": [],
   "source": [
    "df2 = pd.read_csv('/Users/terrygilmore/Desktop/Divvy_DB/Divvy_Stations_Trips_2013/Divvy_Trips_2013.csv', low_memory=False)"
   ]
  },
  {
   "cell_type": "code",
   "execution_count": 5,
   "metadata": {},
   "outputs": [],
   "source": [
    "df3 = pd.read_csv('/Users/terrygilmore/Desktop/Divvy_DB/Divvy_Stations_Trips_2013/Divvy_Stations_2014-Q3Q4.csv')"
   ]
  },
  {
   "cell_type": "code",
   "execution_count": 6,
   "metadata": {},
   "outputs": [],
   "source": [
    "df4 = pd.read_excel('/Users/terrygilmore/Desktop/Divvy_DB/Divvy_Stations_Trips_2013/Divvy_Stations_2013-Q1Q2.xlsx')"
   ]
  },
  {
   "cell_type": "code",
   "execution_count": 7,
   "metadata": {},
   "outputs": [
    {
     "name": "stdout",
     "output_type": "stream",
     "text": [
      "<class 'pandas.core.frame.DataFrame'>\n",
      "RangeIndex: 300 entries, 0 to 299\n",
      "Data columns (total 7 columns):\n",
      " #   Column       Non-Null Count  Dtype  \n",
      "---  ------       --------------  -----  \n",
      " 0   id           300 non-null    int64  \n",
      " 1   name         300 non-null    object \n",
      " 2   latitude     300 non-null    float64\n",
      " 3   longitude    300 non-null    float64\n",
      " 4   dpcapacity   300 non-null    int64  \n",
      " 5   landmark     300 non-null    int64  \n",
      " 6   online date  300 non-null    object \n",
      "dtypes: float64(2), int64(3), object(2)\n",
      "memory usage: 16.5+ KB\n"
     ]
    }
   ],
   "source": [
    "df1.info(verbose=True)"
   ]
  },
  {
   "cell_type": "code",
   "execution_count": 8,
   "metadata": {},
   "outputs": [],
   "source": [
    "df1[\"online date\"] = pd.to_datetime(df1[\"online date\"])"
   ]
  },
  {
   "cell_type": "code",
   "execution_count": 9,
   "metadata": {},
   "outputs": [
    {
     "data": {
      "text/html": [
       "<div>\n",
       "<style scoped>\n",
       "    .dataframe tbody tr th:only-of-type {\n",
       "        vertical-align: middle;\n",
       "    }\n",
       "\n",
       "    .dataframe tbody tr th {\n",
       "        vertical-align: top;\n",
       "    }\n",
       "\n",
       "    .dataframe thead th {\n",
       "        text-align: right;\n",
       "    }\n",
       "</style>\n",
       "<table border=\"1\" class=\"dataframe\">\n",
       "  <thead>\n",
       "    <tr style=\"text-align: right;\">\n",
       "      <th></th>\n",
       "      <th>id</th>\n",
       "      <th>name</th>\n",
       "      <th>latitude</th>\n",
       "      <th>longitude</th>\n",
       "      <th>dpcapacity</th>\n",
       "      <th>landmark</th>\n",
       "      <th>online date</th>\n",
       "    </tr>\n",
       "  </thead>\n",
       "  <tbody>\n",
       "    <tr>\n",
       "      <th>295</th>\n",
       "      <td>347</td>\n",
       "      <td>Ashland Ave &amp; Grace St</td>\n",
       "      <td>41.950687</td>\n",
       "      <td>-87.668700</td>\n",
       "      <td>15</td>\n",
       "      <td>319</td>\n",
       "      <td>2013-10-12</td>\n",
       "    </tr>\n",
       "    <tr>\n",
       "      <th>296</th>\n",
       "      <td>348</td>\n",
       "      <td>California Ave &amp; 21st St</td>\n",
       "      <td>41.854016</td>\n",
       "      <td>-87.695445</td>\n",
       "      <td>15</td>\n",
       "      <td>96</td>\n",
       "      <td>2013-10-14</td>\n",
       "    </tr>\n",
       "    <tr>\n",
       "      <th>297</th>\n",
       "      <td>349</td>\n",
       "      <td>Halsted St &amp; Wrightwood Ave</td>\n",
       "      <td>41.929143</td>\n",
       "      <td>-87.649077</td>\n",
       "      <td>15</td>\n",
       "      <td>210</td>\n",
       "      <td>2013-10-28</td>\n",
       "    </tr>\n",
       "    <tr>\n",
       "      <th>298</th>\n",
       "      <td>350</td>\n",
       "      <td>Ashland Ave &amp; Chicago Ave</td>\n",
       "      <td>41.895966</td>\n",
       "      <td>-87.667747</td>\n",
       "      <td>15</td>\n",
       "      <td>247</td>\n",
       "      <td>2013-10-22</td>\n",
       "    </tr>\n",
       "    <tr>\n",
       "      <th>299</th>\n",
       "      <td>351</td>\n",
       "      <td>Cottage Grove Ave &amp; 51st St</td>\n",
       "      <td>41.803038</td>\n",
       "      <td>-87.606615</td>\n",
       "      <td>15</td>\n",
       "      <td>440</td>\n",
       "      <td>2013-10-17</td>\n",
       "    </tr>\n",
       "  </tbody>\n",
       "</table>\n",
       "</div>"
      ],
      "text/plain": [
       "      id                         name   latitude  longitude  dpcapacity  \\\n",
       "295  347       Ashland Ave & Grace St  41.950687 -87.668700          15   \n",
       "296  348     California Ave & 21st St  41.854016 -87.695445          15   \n",
       "297  349  Halsted St & Wrightwood Ave  41.929143 -87.649077          15   \n",
       "298  350    Ashland Ave & Chicago Ave  41.895966 -87.667747          15   \n",
       "299  351  Cottage Grove Ave & 51st St  41.803038 -87.606615          15   \n",
       "\n",
       "     landmark online date  \n",
       "295       319  2013-10-12  \n",
       "296        96  2013-10-14  \n",
       "297       210  2013-10-28  \n",
       "298       247  2013-10-22  \n",
       "299       440  2013-10-17  "
      ]
     },
     "execution_count": 9,
     "metadata": {},
     "output_type": "execute_result"
    }
   ],
   "source": [
    "df1.tail()"
   ]
  },
  {
   "cell_type": "code",
   "execution_count": 10,
   "metadata": {},
   "outputs": [
    {
     "name": "stdout",
     "output_type": "stream",
     "text": [
      "<class 'pandas.core.frame.DataFrame'>\n",
      "RangeIndex: 300 entries, 0 to 299\n",
      "Data columns (total 6 columns):\n",
      " #   Column       Non-Null Count  Dtype  \n",
      "---  ------       --------------  -----  \n",
      " 0   id           300 non-null    int64  \n",
      " 1   name         300 non-null    object \n",
      " 2   latitude     300 non-null    float64\n",
      " 3   longitude    300 non-null    float64\n",
      " 4   dpcapacity   300 non-null    int64  \n",
      " 5   dateCreated  300 non-null    object \n",
      "dtypes: float64(2), int64(2), object(2)\n",
      "memory usage: 14.2+ KB\n"
     ]
    }
   ],
   "source": [
    "df3.info(verbose=True)"
   ]
  },
  {
   "cell_type": "code",
   "execution_count": 11,
   "metadata": {},
   "outputs": [],
   "source": [
    "df3.rename(columns = {'dateCreated':'online date'}, inplace = True)"
   ]
  },
  {
   "cell_type": "code",
   "execution_count": 12,
   "metadata": {},
   "outputs": [],
   "source": [
    "df3[\"online date\"] = pd.to_datetime(df3[\"online date\"])"
   ]
  },
  {
   "cell_type": "code",
   "execution_count": 13,
   "metadata": {},
   "outputs": [
    {
     "data": {
      "text/html": [
       "<div>\n",
       "<style scoped>\n",
       "    .dataframe tbody tr th:only-of-type {\n",
       "        vertical-align: middle;\n",
       "    }\n",
       "\n",
       "    .dataframe tbody tr th {\n",
       "        vertical-align: top;\n",
       "    }\n",
       "\n",
       "    .dataframe thead th {\n",
       "        text-align: right;\n",
       "    }\n",
       "</style>\n",
       "<table border=\"1\" class=\"dataframe\">\n",
       "  <thead>\n",
       "    <tr style=\"text-align: right;\">\n",
       "      <th></th>\n",
       "      <th>id</th>\n",
       "      <th>name</th>\n",
       "      <th>latitude</th>\n",
       "      <th>longitude</th>\n",
       "      <th>dpcapacity</th>\n",
       "      <th>online date</th>\n",
       "    </tr>\n",
       "  </thead>\n",
       "  <tbody>\n",
       "    <tr>\n",
       "      <th>295</th>\n",
       "      <td>347</td>\n",
       "      <td>Ashland Ave &amp; Grace St</td>\n",
       "      <td>41.950687</td>\n",
       "      <td>-87.668700</td>\n",
       "      <td>15</td>\n",
       "      <td>2013-10-04 16:06:00</td>\n",
       "    </tr>\n",
       "    <tr>\n",
       "      <th>296</th>\n",
       "      <td>348</td>\n",
       "      <td>California Ave &amp; 21st St</td>\n",
       "      <td>41.854016</td>\n",
       "      <td>-87.695445</td>\n",
       "      <td>15</td>\n",
       "      <td>2013-10-09 16:13:00</td>\n",
       "    </tr>\n",
       "    <tr>\n",
       "      <th>297</th>\n",
       "      <td>349</td>\n",
       "      <td>Halsted St &amp; Wrightwood Ave</td>\n",
       "      <td>41.929143</td>\n",
       "      <td>-87.649077</td>\n",
       "      <td>15</td>\n",
       "      <td>2013-10-10 12:40:00</td>\n",
       "    </tr>\n",
       "    <tr>\n",
       "      <th>298</th>\n",
       "      <td>350</td>\n",
       "      <td>Ashland Ave &amp; Chicago Ave</td>\n",
       "      <td>41.895966</td>\n",
       "      <td>-87.667747</td>\n",
       "      <td>15</td>\n",
       "      <td>2013-10-10 14:22:00</td>\n",
       "    </tr>\n",
       "    <tr>\n",
       "      <th>299</th>\n",
       "      <td>351</td>\n",
       "      <td>Cottage Grove Ave &amp; 51st St</td>\n",
       "      <td>41.803038</td>\n",
       "      <td>-87.606615</td>\n",
       "      <td>15</td>\n",
       "      <td>2013-10-10 16:56:00</td>\n",
       "    </tr>\n",
       "  </tbody>\n",
       "</table>\n",
       "</div>"
      ],
      "text/plain": [
       "      id                         name   latitude  longitude  dpcapacity  \\\n",
       "295  347       Ashland Ave & Grace St  41.950687 -87.668700          15   \n",
       "296  348     California Ave & 21st St  41.854016 -87.695445          15   \n",
       "297  349  Halsted St & Wrightwood Ave  41.929143 -87.649077          15   \n",
       "298  350    Ashland Ave & Chicago Ave  41.895966 -87.667747          15   \n",
       "299  351  Cottage Grove Ave & 51st St  41.803038 -87.606615          15   \n",
       "\n",
       "            online date  \n",
       "295 2013-10-04 16:06:00  \n",
       "296 2013-10-09 16:13:00  \n",
       "297 2013-10-10 12:40:00  \n",
       "298 2013-10-10 14:22:00  \n",
       "299 2013-10-10 16:56:00  "
      ]
     },
     "execution_count": 13,
     "metadata": {},
     "output_type": "execute_result"
    }
   ],
   "source": [
    "df3.tail()"
   ]
  },
  {
   "cell_type": "code",
   "execution_count": 14,
   "metadata": {},
   "outputs": [
    {
     "name": "stdout",
     "output_type": "stream",
     "text": [
      "<class 'pandas.core.frame.DataFrame'>\n",
      "RangeIndex: 300 entries, 0 to 299\n",
      "Data columns (total 6 columns):\n",
      " #   Column       Non-Null Count  Dtype         \n",
      "---  ------       --------------  -----         \n",
      " 0   id           300 non-null    int64         \n",
      " 1   name         300 non-null    object        \n",
      " 2   latitude     300 non-null    float64       \n",
      " 3   longitude    300 non-null    float64       \n",
      " 4   dpcapacity   300 non-null    int64         \n",
      " 5   online date  300 non-null    datetime64[ns]\n",
      "dtypes: datetime64[ns](1), float64(2), int64(2), object(1)\n",
      "memory usage: 14.2+ KB\n"
     ]
    }
   ],
   "source": [
    "df4.info()"
   ]
  },
  {
   "cell_type": "code",
   "execution_count": 15,
   "metadata": {},
   "outputs": [
    {
     "data": {
      "text/html": [
       "<div>\n",
       "<style scoped>\n",
       "    .dataframe tbody tr th:only-of-type {\n",
       "        vertical-align: middle;\n",
       "    }\n",
       "\n",
       "    .dataframe tbody tr th {\n",
       "        vertical-align: top;\n",
       "    }\n",
       "\n",
       "    .dataframe thead th {\n",
       "        text-align: right;\n",
       "    }\n",
       "</style>\n",
       "<table border=\"1\" class=\"dataframe\">\n",
       "  <thead>\n",
       "    <tr style=\"text-align: right;\">\n",
       "      <th></th>\n",
       "      <th>id</th>\n",
       "      <th>name</th>\n",
       "      <th>latitude</th>\n",
       "      <th>longitude</th>\n",
       "      <th>dpcapacity</th>\n",
       "      <th>online date</th>\n",
       "    </tr>\n",
       "  </thead>\n",
       "  <tbody>\n",
       "    <tr>\n",
       "      <th>295</th>\n",
       "      <td>181</td>\n",
       "      <td>LaSalle St &amp; Illinois St</td>\n",
       "      <td>41.890749</td>\n",
       "      <td>-87.632060</td>\n",
       "      <td>31</td>\n",
       "      <td>2013-07-21</td>\n",
       "    </tr>\n",
       "    <tr>\n",
       "      <th>296</th>\n",
       "      <td>341</td>\n",
       "      <td>Adler Planetarium</td>\n",
       "      <td>41.866095</td>\n",
       "      <td>-87.607267</td>\n",
       "      <td>19</td>\n",
       "      <td>2013-10-09</td>\n",
       "    </tr>\n",
       "    <tr>\n",
       "      <th>297</th>\n",
       "      <td>285</td>\n",
       "      <td>Wood St &amp; Grand Ave</td>\n",
       "      <td>41.891130</td>\n",
       "      <td>-87.672030</td>\n",
       "      <td>15</td>\n",
       "      <td>2013-09-13</td>\n",
       "    </tr>\n",
       "    <tr>\n",
       "      <th>298</th>\n",
       "      <td>277</td>\n",
       "      <td>Ashland Ave &amp; Grand Ave</td>\n",
       "      <td>41.891072</td>\n",
       "      <td>-87.666611</td>\n",
       "      <td>15</td>\n",
       "      <td>2013-09-12</td>\n",
       "    </tr>\n",
       "    <tr>\n",
       "      <th>299</th>\n",
       "      <td>351</td>\n",
       "      <td>Cottage Grove Ave &amp; 51st St</td>\n",
       "      <td>41.803038</td>\n",
       "      <td>-87.606615</td>\n",
       "      <td>15</td>\n",
       "      <td>2013-10-17</td>\n",
       "    </tr>\n",
       "  </tbody>\n",
       "</table>\n",
       "</div>"
      ],
      "text/plain": [
       "      id                         name   latitude  longitude  dpcapacity  \\\n",
       "295  181     LaSalle St & Illinois St  41.890749 -87.632060          31   \n",
       "296  341            Adler Planetarium  41.866095 -87.607267          19   \n",
       "297  285          Wood St & Grand Ave  41.891130 -87.672030          15   \n",
       "298  277      Ashland Ave & Grand Ave  41.891072 -87.666611          15   \n",
       "299  351  Cottage Grove Ave & 51st St  41.803038 -87.606615          15   \n",
       "\n",
       "    online date  \n",
       "295  2013-07-21  \n",
       "296  2013-10-09  \n",
       "297  2013-09-13  \n",
       "298  2013-09-12  \n",
       "299  2013-10-17  "
      ]
     },
     "execution_count": 15,
     "metadata": {},
     "output_type": "execute_result"
    }
   ],
   "source": [
    "df4.tail()"
   ]
  },
  {
   "cell_type": "code",
   "execution_count": 16,
   "metadata": {},
   "outputs": [],
   "source": [
    "df_2013_2 = pd.concat([df1, df3, df4])"
   ]
  },
  {
   "cell_type": "code",
   "execution_count": 17,
   "metadata": {},
   "outputs": [
    {
     "name": "stdout",
     "output_type": "stream",
     "text": [
      "<class 'pandas.core.frame.DataFrame'>\n",
      "Int64Index: 900 entries, 0 to 299\n",
      "Data columns (total 7 columns):\n",
      " #   Column       Non-Null Count  Dtype         \n",
      "---  ------       --------------  -----         \n",
      " 0   id           900 non-null    int64         \n",
      " 1   name         900 non-null    object        \n",
      " 2   latitude     900 non-null    float64       \n",
      " 3   longitude    900 non-null    float64       \n",
      " 4   dpcapacity   900 non-null    int64         \n",
      " 5   landmark     300 non-null    float64       \n",
      " 6   online date  900 non-null    datetime64[ns]\n",
      "dtypes: datetime64[ns](1), float64(3), int64(2), object(1)\n",
      "memory usage: 56.2+ KB\n"
     ]
    }
   ],
   "source": [
    "df_2013_2.info()"
   ]
  },
  {
   "cell_type": "code",
   "execution_count": 18,
   "metadata": {},
   "outputs": [],
   "source": [
    "df_2013_2['landmark'].fillna(0, inplace=True)"
   ]
  },
  {
   "cell_type": "code",
   "execution_count": 19,
   "metadata": {},
   "outputs": [
    {
     "name": "stdout",
     "output_type": "stream",
     "text": [
      "<class 'pandas.core.frame.DataFrame'>\n",
      "Int64Index: 900 entries, 0 to 299\n",
      "Data columns (total 7 columns):\n",
      " #   Column       Non-Null Count  Dtype         \n",
      "---  ------       --------------  -----         \n",
      " 0   id           900 non-null    int64         \n",
      " 1   name         900 non-null    object        \n",
      " 2   latitude     900 non-null    float64       \n",
      " 3   longitude    900 non-null    float64       \n",
      " 4   dpcapacity   900 non-null    int64         \n",
      " 5   landmark     900 non-null    float64       \n",
      " 6   online date  900 non-null    datetime64[ns]\n",
      "dtypes: datetime64[ns](1), float64(3), int64(2), object(1)\n",
      "memory usage: 56.2+ KB\n"
     ]
    }
   ],
   "source": [
    "df_2013_2.info()"
   ]
  },
  {
   "cell_type": "code",
   "execution_count": 20,
   "metadata": {},
   "outputs": [
    {
     "name": "stdout",
     "output_type": "stream",
     "text": [
      "Empty DataFrame\n",
      "Columns: [id, name, latitude, longitude, dpcapacity, landmark, online date]\n",
      "Index: []\n"
     ]
    }
   ],
   "source": [
    "duplicate = df_2013_2[df_2013_2.duplicated()]\n",
    "print(duplicate)"
   ]
  },
  {
   "cell_type": "code",
   "execution_count": 21,
   "metadata": {},
   "outputs": [
    {
     "name": "stdout",
     "output_type": "stream",
     "text": [
      "<class 'pandas.core.frame.DataFrame'>\n",
      "RangeIndex: 759788 entries, 0 to 759787\n",
      "Data columns (total 12 columns):\n",
      " #   Column             Non-Null Count   Dtype  \n",
      "---  ------             --------------   -----  \n",
      " 0   trip_id            759788 non-null  int64  \n",
      " 1   starttime          759788 non-null  object \n",
      " 2   stoptime           759788 non-null  object \n",
      " 3   bikeid             759788 non-null  int64  \n",
      " 4   tripduration       759788 non-null  int64  \n",
      " 5   from_station_id    759788 non-null  int64  \n",
      " 6   from_station_name  759788 non-null  object \n",
      " 7   to_station_id      759788 non-null  int64  \n",
      " 8   to_station_name    759788 non-null  object \n",
      " 9   usertype           759788 non-null  object \n",
      " 10  gender             403046 non-null  object \n",
      " 11  birthday           402909 non-null  float64\n",
      "dtypes: float64(1), int64(5), object(6)\n",
      "memory usage: 69.6+ MB\n"
     ]
    }
   ],
   "source": [
    "df2.info(verbose=True)"
   ]
  },
  {
   "cell_type": "code",
   "execution_count": 22,
   "metadata": {},
   "outputs": [
    {
     "data": {
      "text/html": [
       "<div>\n",
       "<style scoped>\n",
       "    .dataframe tbody tr th:only-of-type {\n",
       "        vertical-align: middle;\n",
       "    }\n",
       "\n",
       "    .dataframe tbody tr th {\n",
       "        vertical-align: top;\n",
       "    }\n",
       "\n",
       "    .dataframe thead th {\n",
       "        text-align: right;\n",
       "    }\n",
       "</style>\n",
       "<table border=\"1\" class=\"dataframe\">\n",
       "  <thead>\n",
       "    <tr style=\"text-align: right;\">\n",
       "      <th></th>\n",
       "      <th>trip_id</th>\n",
       "      <th>starttime</th>\n",
       "      <th>stoptime</th>\n",
       "      <th>bikeid</th>\n",
       "      <th>tripduration</th>\n",
       "      <th>from_station_id</th>\n",
       "      <th>from_station_name</th>\n",
       "      <th>to_station_id</th>\n",
       "      <th>to_station_name</th>\n",
       "      <th>usertype</th>\n",
       "      <th>gender</th>\n",
       "      <th>birthday</th>\n",
       "    </tr>\n",
       "  </thead>\n",
       "  <tbody>\n",
       "    <tr>\n",
       "      <th>0</th>\n",
       "      <td>4118</td>\n",
       "      <td>2013-06-27 12:11</td>\n",
       "      <td>2013-06-27 12:16</td>\n",
       "      <td>480</td>\n",
       "      <td>316</td>\n",
       "      <td>85</td>\n",
       "      <td>Michigan Ave &amp; Oak St</td>\n",
       "      <td>28</td>\n",
       "      <td>Larrabee St &amp; Menomonee St</td>\n",
       "      <td>Customer</td>\n",
       "      <td>NaN</td>\n",
       "      <td>NaN</td>\n",
       "    </tr>\n",
       "    <tr>\n",
       "      <th>1</th>\n",
       "      <td>4275</td>\n",
       "      <td>2013-06-27 14:44</td>\n",
       "      <td>2013-06-27 14:45</td>\n",
       "      <td>77</td>\n",
       "      <td>64</td>\n",
       "      <td>32</td>\n",
       "      <td>Racine Ave &amp; Congress Pkwy</td>\n",
       "      <td>32</td>\n",
       "      <td>Racine Ave &amp; Congress Pkwy</td>\n",
       "      <td>Customer</td>\n",
       "      <td>NaN</td>\n",
       "      <td>NaN</td>\n",
       "    </tr>\n",
       "    <tr>\n",
       "      <th>2</th>\n",
       "      <td>4291</td>\n",
       "      <td>2013-06-27 14:58</td>\n",
       "      <td>2013-06-27 15:05</td>\n",
       "      <td>77</td>\n",
       "      <td>433</td>\n",
       "      <td>32</td>\n",
       "      <td>Racine Ave &amp; Congress Pkwy</td>\n",
       "      <td>19</td>\n",
       "      <td>Loomis St &amp; Taylor St</td>\n",
       "      <td>Customer</td>\n",
       "      <td>NaN</td>\n",
       "      <td>NaN</td>\n",
       "    </tr>\n",
       "    <tr>\n",
       "      <th>3</th>\n",
       "      <td>4316</td>\n",
       "      <td>2013-06-27 15:06</td>\n",
       "      <td>2013-06-27 15:09</td>\n",
       "      <td>77</td>\n",
       "      <td>123</td>\n",
       "      <td>19</td>\n",
       "      <td>Loomis St &amp; Taylor St</td>\n",
       "      <td>19</td>\n",
       "      <td>Loomis St &amp; Taylor St</td>\n",
       "      <td>Customer</td>\n",
       "      <td>NaN</td>\n",
       "      <td>NaN</td>\n",
       "    </tr>\n",
       "    <tr>\n",
       "      <th>4</th>\n",
       "      <td>4342</td>\n",
       "      <td>2013-06-27 15:13</td>\n",
       "      <td>2013-06-27 15:27</td>\n",
       "      <td>77</td>\n",
       "      <td>852</td>\n",
       "      <td>19</td>\n",
       "      <td>Loomis St &amp; Taylor St</td>\n",
       "      <td>55</td>\n",
       "      <td>Halsted St &amp; James M Rochford St</td>\n",
       "      <td>Customer</td>\n",
       "      <td>NaN</td>\n",
       "      <td>NaN</td>\n",
       "    </tr>\n",
       "  </tbody>\n",
       "</table>\n",
       "</div>"
      ],
      "text/plain": [
       "   trip_id         starttime          stoptime  bikeid  tripduration  \\\n",
       "0     4118  2013-06-27 12:11  2013-06-27 12:16     480           316   \n",
       "1     4275  2013-06-27 14:44  2013-06-27 14:45      77            64   \n",
       "2     4291  2013-06-27 14:58  2013-06-27 15:05      77           433   \n",
       "3     4316  2013-06-27 15:06  2013-06-27 15:09      77           123   \n",
       "4     4342  2013-06-27 15:13  2013-06-27 15:27      77           852   \n",
       "\n",
       "   from_station_id           from_station_name  to_station_id  \\\n",
       "0               85       Michigan Ave & Oak St             28   \n",
       "1               32  Racine Ave & Congress Pkwy             32   \n",
       "2               32  Racine Ave & Congress Pkwy             19   \n",
       "3               19       Loomis St & Taylor St             19   \n",
       "4               19       Loomis St & Taylor St             55   \n",
       "\n",
       "                    to_station_name  usertype gender  birthday  \n",
       "0        Larrabee St & Menomonee St  Customer    NaN       NaN  \n",
       "1        Racine Ave & Congress Pkwy  Customer    NaN       NaN  \n",
       "2             Loomis St & Taylor St  Customer    NaN       NaN  \n",
       "3             Loomis St & Taylor St  Customer    NaN       NaN  \n",
       "4  Halsted St & James M Rochford St  Customer    NaN       NaN  "
      ]
     },
     "execution_count": 22,
     "metadata": {},
     "output_type": "execute_result"
    }
   ],
   "source": [
    "df2.head()"
   ]
  },
  {
   "cell_type": "code",
   "execution_count": 23,
   "metadata": {},
   "outputs": [
    {
     "data": {
      "text/html": [
       "<div>\n",
       "<style scoped>\n",
       "    .dataframe tbody tr th:only-of-type {\n",
       "        vertical-align: middle;\n",
       "    }\n",
       "\n",
       "    .dataframe tbody tr th {\n",
       "        vertical-align: top;\n",
       "    }\n",
       "\n",
       "    .dataframe thead th {\n",
       "        text-align: right;\n",
       "    }\n",
       "</style>\n",
       "<table border=\"1\" class=\"dataframe\">\n",
       "  <thead>\n",
       "    <tr style=\"text-align: right;\">\n",
       "      <th></th>\n",
       "      <th>trip_id</th>\n",
       "      <th>starttime</th>\n",
       "      <th>stoptime</th>\n",
       "      <th>bikeid</th>\n",
       "      <th>tripduration</th>\n",
       "      <th>from_station_id</th>\n",
       "      <th>from_station_name</th>\n",
       "      <th>to_station_id</th>\n",
       "      <th>to_station_name</th>\n",
       "      <th>usertype</th>\n",
       "      <th>gender</th>\n",
       "      <th>birthday</th>\n",
       "    </tr>\n",
       "  </thead>\n",
       "  <tbody>\n",
       "    <tr>\n",
       "      <th>759783</th>\n",
       "      <td>1109257</td>\n",
       "      <td>2013-12-31 21:12</td>\n",
       "      <td>2013-12-31 21:16</td>\n",
       "      <td>1917</td>\n",
       "      <td>284</td>\n",
       "      <td>20</td>\n",
       "      <td>Sheffield Ave &amp; Kingsbury St</td>\n",
       "      <td>93</td>\n",
       "      <td>Sheffield Ave &amp; Willow St</td>\n",
       "      <td>Subscriber</td>\n",
       "      <td>Female</td>\n",
       "      <td>1983.0</td>\n",
       "    </tr>\n",
       "    <tr>\n",
       "      <th>759784</th>\n",
       "      <td>1109276</td>\n",
       "      <td>2013-12-31 21:36</td>\n",
       "      <td>2013-12-31 22:01</td>\n",
       "      <td>2859</td>\n",
       "      <td>1493</td>\n",
       "      <td>227</td>\n",
       "      <td>Southport Ave &amp; Waveland Ave</td>\n",
       "      <td>228</td>\n",
       "      <td>Damen Ave &amp; Melrose Ave</td>\n",
       "      <td>Subscriber</td>\n",
       "      <td>Female</td>\n",
       "      <td>1978.0</td>\n",
       "    </tr>\n",
       "    <tr>\n",
       "      <th>759785</th>\n",
       "      <td>1109283</td>\n",
       "      <td>2013-12-31 22:03</td>\n",
       "      <td>2013-12-31 22:13</td>\n",
       "      <td>198</td>\n",
       "      <td>650</td>\n",
       "      <td>284</td>\n",
       "      <td>Michigan Ave &amp; Jackson Blvd</td>\n",
       "      <td>43</td>\n",
       "      <td>Michigan Ave &amp; Washington St</td>\n",
       "      <td>Subscriber</td>\n",
       "      <td>Female</td>\n",
       "      <td>1976.0</td>\n",
       "    </tr>\n",
       "    <tr>\n",
       "      <th>759786</th>\n",
       "      <td>1109309</td>\n",
       "      <td>2013-12-31 22:10</td>\n",
       "      <td>2013-12-31 22:16</td>\n",
       "      <td>2048</td>\n",
       "      <td>346</td>\n",
       "      <td>130</td>\n",
       "      <td>Damen Ave &amp; Division St</td>\n",
       "      <td>69</td>\n",
       "      <td>Damen Ave &amp; Pierce Ave</td>\n",
       "      <td>Subscriber</td>\n",
       "      <td>Female</td>\n",
       "      <td>1976.0</td>\n",
       "    </tr>\n",
       "    <tr>\n",
       "      <th>759787</th>\n",
       "      <td>1109338</td>\n",
       "      <td>2013-12-31 22:35</td>\n",
       "      <td>2013-12-31 22:49</td>\n",
       "      <td>2239</td>\n",
       "      <td>868</td>\n",
       "      <td>216</td>\n",
       "      <td>California Ave &amp; Division St</td>\n",
       "      <td>69</td>\n",
       "      <td>Damen Ave &amp; Pierce Ave</td>\n",
       "      <td>Subscriber</td>\n",
       "      <td>Female</td>\n",
       "      <td>1978.0</td>\n",
       "    </tr>\n",
       "  </tbody>\n",
       "</table>\n",
       "</div>"
      ],
      "text/plain": [
       "        trip_id         starttime          stoptime  bikeid  tripduration  \\\n",
       "759783  1109257  2013-12-31 21:12  2013-12-31 21:16    1917           284   \n",
       "759784  1109276  2013-12-31 21:36  2013-12-31 22:01    2859          1493   \n",
       "759785  1109283  2013-12-31 22:03  2013-12-31 22:13     198           650   \n",
       "759786  1109309  2013-12-31 22:10  2013-12-31 22:16    2048           346   \n",
       "759787  1109338  2013-12-31 22:35  2013-12-31 22:49    2239           868   \n",
       "\n",
       "        from_station_id             from_station_name  to_station_id  \\\n",
       "759783               20  Sheffield Ave & Kingsbury St             93   \n",
       "759784              227  Southport Ave & Waveland Ave            228   \n",
       "759785              284   Michigan Ave & Jackson Blvd             43   \n",
       "759786              130       Damen Ave & Division St             69   \n",
       "759787              216  California Ave & Division St             69   \n",
       "\n",
       "                     to_station_name    usertype  gender  birthday  \n",
       "759783     Sheffield Ave & Willow St  Subscriber  Female    1983.0  \n",
       "759784       Damen Ave & Melrose Ave  Subscriber  Female    1978.0  \n",
       "759785  Michigan Ave & Washington St  Subscriber  Female    1976.0  \n",
       "759786        Damen Ave & Pierce Ave  Subscriber  Female    1976.0  \n",
       "759787        Damen Ave & Pierce Ave  Subscriber  Female    1978.0  "
      ]
     },
     "execution_count": 23,
     "metadata": {},
     "output_type": "execute_result"
    }
   ],
   "source": [
    "df2.tail()"
   ]
  },
  {
   "cell_type": "code",
   "execution_count": 24,
   "metadata": {},
   "outputs": [],
   "source": [
    "df2.loc[df2['gender'].isnull(), 'gender'] = 'Unknown'\n",
    "df2.loc[df2['birthday'].isnull(), 'birthday'] = 0"
   ]
  },
  {
   "cell_type": "code",
   "execution_count": 25,
   "metadata": {},
   "outputs": [
    {
     "name": "stdout",
     "output_type": "stream",
     "text": [
      "<class 'pandas.core.frame.DataFrame'>\n",
      "RangeIndex: 759788 entries, 0 to 759787\n",
      "Data columns (total 12 columns):\n",
      " #   Column             Non-Null Count   Dtype  \n",
      "---  ------             --------------   -----  \n",
      " 0   trip_id            759788 non-null  int64  \n",
      " 1   starttime          759788 non-null  object \n",
      " 2   stoptime           759788 non-null  object \n",
      " 3   bikeid             759788 non-null  int64  \n",
      " 4   tripduration       759788 non-null  int64  \n",
      " 5   from_station_id    759788 non-null  int64  \n",
      " 6   from_station_name  759788 non-null  object \n",
      " 7   to_station_id      759788 non-null  int64  \n",
      " 8   to_station_name    759788 non-null  object \n",
      " 9   usertype           759788 non-null  object \n",
      " 10  gender             759788 non-null  object \n",
      " 11  birthday           759788 non-null  float64\n",
      "dtypes: float64(1), int64(5), object(6)\n",
      "memory usage: 69.6+ MB\n"
     ]
    }
   ],
   "source": [
    "df2.info(verbose=True)"
   ]
  },
  {
   "cell_type": "code",
   "execution_count": 26,
   "metadata": {},
   "outputs": [
    {
     "data": {
      "text/html": [
       "<div>\n",
       "<style scoped>\n",
       "    .dataframe tbody tr th:only-of-type {\n",
       "        vertical-align: middle;\n",
       "    }\n",
       "\n",
       "    .dataframe tbody tr th {\n",
       "        vertical-align: top;\n",
       "    }\n",
       "\n",
       "    .dataframe thead th {\n",
       "        text-align: right;\n",
       "    }\n",
       "</style>\n",
       "<table border=\"1\" class=\"dataframe\">\n",
       "  <thead>\n",
       "    <tr style=\"text-align: right;\">\n",
       "      <th></th>\n",
       "      <th>trip_id</th>\n",
       "      <th>starttime</th>\n",
       "      <th>stoptime</th>\n",
       "      <th>bikeid</th>\n",
       "      <th>tripduration</th>\n",
       "      <th>from_station_id</th>\n",
       "      <th>from_station_name</th>\n",
       "      <th>to_station_id</th>\n",
       "      <th>to_station_name</th>\n",
       "      <th>usertype</th>\n",
       "      <th>gender</th>\n",
       "      <th>birthday</th>\n",
       "    </tr>\n",
       "  </thead>\n",
       "  <tbody>\n",
       "    <tr>\n",
       "      <th>0</th>\n",
       "      <td>4118</td>\n",
       "      <td>2013-06-27 12:11</td>\n",
       "      <td>2013-06-27 12:16</td>\n",
       "      <td>480</td>\n",
       "      <td>316</td>\n",
       "      <td>85</td>\n",
       "      <td>Michigan Ave &amp; Oak St</td>\n",
       "      <td>28</td>\n",
       "      <td>Larrabee St &amp; Menomonee St</td>\n",
       "      <td>Customer</td>\n",
       "      <td>Unknown</td>\n",
       "      <td>0.0</td>\n",
       "    </tr>\n",
       "    <tr>\n",
       "      <th>1</th>\n",
       "      <td>4275</td>\n",
       "      <td>2013-06-27 14:44</td>\n",
       "      <td>2013-06-27 14:45</td>\n",
       "      <td>77</td>\n",
       "      <td>64</td>\n",
       "      <td>32</td>\n",
       "      <td>Racine Ave &amp; Congress Pkwy</td>\n",
       "      <td>32</td>\n",
       "      <td>Racine Ave &amp; Congress Pkwy</td>\n",
       "      <td>Customer</td>\n",
       "      <td>Unknown</td>\n",
       "      <td>0.0</td>\n",
       "    </tr>\n",
       "    <tr>\n",
       "      <th>2</th>\n",
       "      <td>4291</td>\n",
       "      <td>2013-06-27 14:58</td>\n",
       "      <td>2013-06-27 15:05</td>\n",
       "      <td>77</td>\n",
       "      <td>433</td>\n",
       "      <td>32</td>\n",
       "      <td>Racine Ave &amp; Congress Pkwy</td>\n",
       "      <td>19</td>\n",
       "      <td>Loomis St &amp; Taylor St</td>\n",
       "      <td>Customer</td>\n",
       "      <td>Unknown</td>\n",
       "      <td>0.0</td>\n",
       "    </tr>\n",
       "    <tr>\n",
       "      <th>3</th>\n",
       "      <td>4316</td>\n",
       "      <td>2013-06-27 15:06</td>\n",
       "      <td>2013-06-27 15:09</td>\n",
       "      <td>77</td>\n",
       "      <td>123</td>\n",
       "      <td>19</td>\n",
       "      <td>Loomis St &amp; Taylor St</td>\n",
       "      <td>19</td>\n",
       "      <td>Loomis St &amp; Taylor St</td>\n",
       "      <td>Customer</td>\n",
       "      <td>Unknown</td>\n",
       "      <td>0.0</td>\n",
       "    </tr>\n",
       "    <tr>\n",
       "      <th>4</th>\n",
       "      <td>4342</td>\n",
       "      <td>2013-06-27 15:13</td>\n",
       "      <td>2013-06-27 15:27</td>\n",
       "      <td>77</td>\n",
       "      <td>852</td>\n",
       "      <td>19</td>\n",
       "      <td>Loomis St &amp; Taylor St</td>\n",
       "      <td>55</td>\n",
       "      <td>Halsted St &amp; James M Rochford St</td>\n",
       "      <td>Customer</td>\n",
       "      <td>Unknown</td>\n",
       "      <td>0.0</td>\n",
       "    </tr>\n",
       "  </tbody>\n",
       "</table>\n",
       "</div>"
      ],
      "text/plain": [
       "   trip_id         starttime          stoptime  bikeid  tripduration  \\\n",
       "0     4118  2013-06-27 12:11  2013-06-27 12:16     480           316   \n",
       "1     4275  2013-06-27 14:44  2013-06-27 14:45      77            64   \n",
       "2     4291  2013-06-27 14:58  2013-06-27 15:05      77           433   \n",
       "3     4316  2013-06-27 15:06  2013-06-27 15:09      77           123   \n",
       "4     4342  2013-06-27 15:13  2013-06-27 15:27      77           852   \n",
       "\n",
       "   from_station_id           from_station_name  to_station_id  \\\n",
       "0               85       Michigan Ave & Oak St             28   \n",
       "1               32  Racine Ave & Congress Pkwy             32   \n",
       "2               32  Racine Ave & Congress Pkwy             19   \n",
       "3               19       Loomis St & Taylor St             19   \n",
       "4               19       Loomis St & Taylor St             55   \n",
       "\n",
       "                    to_station_name  usertype   gender  birthday  \n",
       "0        Larrabee St & Menomonee St  Customer  Unknown       0.0  \n",
       "1        Racine Ave & Congress Pkwy  Customer  Unknown       0.0  \n",
       "2             Loomis St & Taylor St  Customer  Unknown       0.0  \n",
       "3             Loomis St & Taylor St  Customer  Unknown       0.0  \n",
       "4  Halsted St & James M Rochford St  Customer  Unknown       0.0  "
      ]
     },
     "execution_count": 26,
     "metadata": {},
     "output_type": "execute_result"
    }
   ],
   "source": [
    "df2.head()"
   ]
  },
  {
   "cell_type": "code",
   "execution_count": 27,
   "metadata": {},
   "outputs": [],
   "source": [
    "df2[\"starttime\"] = pd.to_datetime(df2[\"starttime\"])\n",
    "df2[\"stoptime\"] = pd.to_datetime(df2[\"stoptime\"])"
   ]
  },
  {
   "cell_type": "code",
   "execution_count": 28,
   "metadata": {},
   "outputs": [
    {
     "data": {
      "text/html": [
       "<div>\n",
       "<style scoped>\n",
       "    .dataframe tbody tr th:only-of-type {\n",
       "        vertical-align: middle;\n",
       "    }\n",
       "\n",
       "    .dataframe tbody tr th {\n",
       "        vertical-align: top;\n",
       "    }\n",
       "\n",
       "    .dataframe thead th {\n",
       "        text-align: right;\n",
       "    }\n",
       "</style>\n",
       "<table border=\"1\" class=\"dataframe\">\n",
       "  <thead>\n",
       "    <tr style=\"text-align: right;\">\n",
       "      <th></th>\n",
       "      <th>trip_id</th>\n",
       "      <th>starttime</th>\n",
       "      <th>stoptime</th>\n",
       "      <th>bikeid</th>\n",
       "      <th>tripduration</th>\n",
       "      <th>from_station_id</th>\n",
       "      <th>from_station_name</th>\n",
       "      <th>to_station_id</th>\n",
       "      <th>to_station_name</th>\n",
       "      <th>usertype</th>\n",
       "      <th>gender</th>\n",
       "      <th>birthday</th>\n",
       "    </tr>\n",
       "  </thead>\n",
       "  <tbody>\n",
       "    <tr>\n",
       "      <th>0</th>\n",
       "      <td>4118</td>\n",
       "      <td>2013-06-27 12:11:00</td>\n",
       "      <td>2013-06-27 12:16:00</td>\n",
       "      <td>480</td>\n",
       "      <td>316</td>\n",
       "      <td>85</td>\n",
       "      <td>Michigan Ave &amp; Oak St</td>\n",
       "      <td>28</td>\n",
       "      <td>Larrabee St &amp; Menomonee St</td>\n",
       "      <td>Customer</td>\n",
       "      <td>Unknown</td>\n",
       "      <td>0.0</td>\n",
       "    </tr>\n",
       "    <tr>\n",
       "      <th>1</th>\n",
       "      <td>4275</td>\n",
       "      <td>2013-06-27 14:44:00</td>\n",
       "      <td>2013-06-27 14:45:00</td>\n",
       "      <td>77</td>\n",
       "      <td>64</td>\n",
       "      <td>32</td>\n",
       "      <td>Racine Ave &amp; Congress Pkwy</td>\n",
       "      <td>32</td>\n",
       "      <td>Racine Ave &amp; Congress Pkwy</td>\n",
       "      <td>Customer</td>\n",
       "      <td>Unknown</td>\n",
       "      <td>0.0</td>\n",
       "    </tr>\n",
       "    <tr>\n",
       "      <th>2</th>\n",
       "      <td>4291</td>\n",
       "      <td>2013-06-27 14:58:00</td>\n",
       "      <td>2013-06-27 15:05:00</td>\n",
       "      <td>77</td>\n",
       "      <td>433</td>\n",
       "      <td>32</td>\n",
       "      <td>Racine Ave &amp; Congress Pkwy</td>\n",
       "      <td>19</td>\n",
       "      <td>Loomis St &amp; Taylor St</td>\n",
       "      <td>Customer</td>\n",
       "      <td>Unknown</td>\n",
       "      <td>0.0</td>\n",
       "    </tr>\n",
       "    <tr>\n",
       "      <th>3</th>\n",
       "      <td>4316</td>\n",
       "      <td>2013-06-27 15:06:00</td>\n",
       "      <td>2013-06-27 15:09:00</td>\n",
       "      <td>77</td>\n",
       "      <td>123</td>\n",
       "      <td>19</td>\n",
       "      <td>Loomis St &amp; Taylor St</td>\n",
       "      <td>19</td>\n",
       "      <td>Loomis St &amp; Taylor St</td>\n",
       "      <td>Customer</td>\n",
       "      <td>Unknown</td>\n",
       "      <td>0.0</td>\n",
       "    </tr>\n",
       "    <tr>\n",
       "      <th>4</th>\n",
       "      <td>4342</td>\n",
       "      <td>2013-06-27 15:13:00</td>\n",
       "      <td>2013-06-27 15:27:00</td>\n",
       "      <td>77</td>\n",
       "      <td>852</td>\n",
       "      <td>19</td>\n",
       "      <td>Loomis St &amp; Taylor St</td>\n",
       "      <td>55</td>\n",
       "      <td>Halsted St &amp; James M Rochford St</td>\n",
       "      <td>Customer</td>\n",
       "      <td>Unknown</td>\n",
       "      <td>0.0</td>\n",
       "    </tr>\n",
       "  </tbody>\n",
       "</table>\n",
       "</div>"
      ],
      "text/plain": [
       "   trip_id           starttime            stoptime  bikeid  tripduration  \\\n",
       "0     4118 2013-06-27 12:11:00 2013-06-27 12:16:00     480           316   \n",
       "1     4275 2013-06-27 14:44:00 2013-06-27 14:45:00      77            64   \n",
       "2     4291 2013-06-27 14:58:00 2013-06-27 15:05:00      77           433   \n",
       "3     4316 2013-06-27 15:06:00 2013-06-27 15:09:00      77           123   \n",
       "4     4342 2013-06-27 15:13:00 2013-06-27 15:27:00      77           852   \n",
       "\n",
       "   from_station_id           from_station_name  to_station_id  \\\n",
       "0               85       Michigan Ave & Oak St             28   \n",
       "1               32  Racine Ave & Congress Pkwy             32   \n",
       "2               32  Racine Ave & Congress Pkwy             19   \n",
       "3               19       Loomis St & Taylor St             19   \n",
       "4               19       Loomis St & Taylor St             55   \n",
       "\n",
       "                    to_station_name  usertype   gender  birthday  \n",
       "0        Larrabee St & Menomonee St  Customer  Unknown       0.0  \n",
       "1        Racine Ave & Congress Pkwy  Customer  Unknown       0.0  \n",
       "2             Loomis St & Taylor St  Customer  Unknown       0.0  \n",
       "3             Loomis St & Taylor St  Customer  Unknown       0.0  \n",
       "4  Halsted St & James M Rochford St  Customer  Unknown       0.0  "
      ]
     },
     "execution_count": 28,
     "metadata": {},
     "output_type": "execute_result"
    }
   ],
   "source": [
    "df2.head()"
   ]
  },
  {
   "cell_type": "code",
   "execution_count": 29,
   "metadata": {},
   "outputs": [],
   "source": [
    "df2.rename(columns = {'birthday':'birthyear'}, inplace = True)"
   ]
  },
  {
   "cell_type": "code",
   "execution_count": 30,
   "metadata": {},
   "outputs": [
    {
     "name": "stdout",
     "output_type": "stream",
     "text": [
      "<class 'pandas.core.frame.DataFrame'>\n",
      "RangeIndex: 759788 entries, 0 to 759787\n",
      "Data columns (total 12 columns):\n",
      " #   Column             Non-Null Count   Dtype         \n",
      "---  ------             --------------   -----         \n",
      " 0   trip_id            759788 non-null  int64         \n",
      " 1   starttime          759788 non-null  datetime64[ns]\n",
      " 2   stoptime           759788 non-null  datetime64[ns]\n",
      " 3   bikeid             759788 non-null  int64         \n",
      " 4   tripduration       759788 non-null  int64         \n",
      " 5   from_station_id    759788 non-null  int64         \n",
      " 6   from_station_name  759788 non-null  object        \n",
      " 7   to_station_id      759788 non-null  int64         \n",
      " 8   to_station_name    759788 non-null  object        \n",
      " 9   usertype           759788 non-null  object        \n",
      " 10  gender             759788 non-null  object        \n",
      " 11  birthyear          759788 non-null  float64       \n",
      "dtypes: datetime64[ns](2), float64(1), int64(5), object(4)\n",
      "memory usage: 69.6+ MB\n"
     ]
    }
   ],
   "source": [
    "df2.info(verbose=True)"
   ]
  },
  {
   "cell_type": "code",
   "execution_count": 31,
   "metadata": {},
   "outputs": [],
   "source": [
    "df2.drop([675324], axis=0, inplace=True)"
   ]
  },
  {
   "cell_type": "code",
   "execution_count": 32,
   "metadata": {},
   "outputs": [],
   "source": [
    "df_2013_2.to_csv('2013_Sub_Clean.csv', index=False)"
   ]
  },
  {
   "cell_type": "code",
   "execution_count": 33,
   "metadata": {},
   "outputs": [],
   "source": [
    "df2.to_csv('2013_Clean.csv', index=False)"
   ]
  },
  {
   "cell_type": "markdown",
   "metadata": {},
   "source": [
    "* Revert from variables back to cleaned CSV."
   ]
  }
 ],
 "metadata": {
  "kernelspec": {
   "display_name": "Python 3.10.6 64-bit",
   "language": "python",
   "name": "python3"
  },
  "language_info": {
   "codemirror_mode": {
    "name": "ipython",
    "version": 3
   },
   "file_extension": ".py",
   "mimetype": "text/x-python",
   "name": "python",
   "nbconvert_exporter": "python",
   "pygments_lexer": "ipython3",
   "version": "3.10.7"
  },
  "orig_nbformat": 4,
  "vscode": {
   "interpreter": {
    "hash": "aee8b7b246df8f9039afb4144a1f6fd8d2ca17a180786b69acc140d282b71a49"
   }
  }
 },
 "nbformat": 4,
 "nbformat_minor": 2
}

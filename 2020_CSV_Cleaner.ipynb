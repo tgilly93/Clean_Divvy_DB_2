{
 "cells": [
  {
   "cell_type": "code",
   "execution_count": 146,
   "metadata": {},
   "outputs": [],
   "source": [
    "import pandas as pd\n",
    "import numpy as np"
   ]
  },
  {
   "cell_type": "code",
   "execution_count": 147,
   "metadata": {},
   "outputs": [],
   "source": [
    "df1 = pd.read_csv('/Users/terrygilmore/Desktop/Divvy_DB/Divvy_Stations_Trips_2020/Divvy_Trips_2020_Q1.csv')\n",
    "df2 = pd.read_csv('/Users/terrygilmore/Desktop/Divvy_DB/Divvy_Stations_Trips_2020/202004-divvy-tripdata.csv')\n",
    "df3 = pd.read_csv('/Users/terrygilmore/Desktop/Divvy_DB/Divvy_Stations_Trips_2020/202005-divvy-tripdata.csv')\n",
    "df4 = pd.read_csv('/Users/terrygilmore/Desktop/Divvy_DB/Divvy_Stations_Trips_2020/202006-divvy-tripdata.csv')\n",
    "df5 = pd.read_csv('/Users/terrygilmore/Desktop/Divvy_DB/Divvy_Stations_Trips_2020/202007-divvy-tripdata.csv')\n",
    "df6 = pd.read_csv('/Users/terrygilmore/Desktop/Divvy_DB/Divvy_Stations_Trips_2020/202008-divvy-tripdata.csv')\n",
    "df7 = pd.read_csv('/Users/terrygilmore/Desktop/Divvy_DB/Divvy_Stations_Trips_2020/202009-divvy-tripdata.csv')\n",
    "df8 = pd.read_csv('/Users/terrygilmore/Desktop/Divvy_DB/Divvy_Stations_Trips_2020/202010-divvy-tripdata.csv')\n",
    "df9 = pd.read_csv('/Users/terrygilmore/Desktop/Divvy_DB/Divvy_Stations_Trips_2020/202011-divvy-tripdata.csv')\n",
    "df10 = pd.read_csv('/Users/terrygilmore/Desktop/Divvy_DB/Divvy_Stations_Trips_2020/202012-divvy-tripdata.csv')"
   ]
  },
  {
   "cell_type": "code",
   "execution_count": 148,
   "metadata": {},
   "outputs": [
    {
     "name": "stdout",
     "output_type": "stream",
     "text": [
      "<class 'pandas.core.frame.DataFrame'>\n",
      "RangeIndex: 426887 entries, 0 to 426886\n",
      "Data columns (total 13 columns):\n",
      " #   Column              Non-Null Count   Dtype  \n",
      "---  ------              --------------   -----  \n",
      " 0   ride_id             426887 non-null  object \n",
      " 1   rideable_type       426887 non-null  object \n",
      " 2   started_at          426887 non-null  object \n",
      " 3   ended_at            426887 non-null  object \n",
      " 4   start_station_name  426887 non-null  object \n",
      " 5   start_station_id    426887 non-null  int64  \n",
      " 6   end_station_name    426886 non-null  object \n",
      " 7   end_station_id      426886 non-null  float64\n",
      " 8   start_lat           426887 non-null  float64\n",
      " 9   start_lng           426887 non-null  float64\n",
      " 10  end_lat             426886 non-null  float64\n",
      " 11  end_lng             426886 non-null  float64\n",
      " 12  member_casual       426887 non-null  object \n",
      "dtypes: float64(5), int64(1), object(7)\n",
      "memory usage: 42.3+ MB\n"
     ]
    }
   ],
   "source": [
    "df1.info(verbose=True)"
   ]
  },
  {
   "cell_type": "code",
   "execution_count": 149,
   "metadata": {},
   "outputs": [],
   "source": [
    "df1.rename(columns = {'started_at':'starttime'}, inplace = True)\n",
    "df1.rename(columns = {'ended_at':'stoptime'}, inplace = True)\n",
    "df1.rename(columns = {'start_station_name':'from_station_name'}, inplace = True)\n",
    "df1.rename(columns = {'start_station_id':'from_station_id'}, inplace = True)\n",
    "df1.rename(columns = {'end_station_name':'to_station_name'}, inplace = True)\n",
    "df1.rename(columns = {'end_station_id':'to_station_id'}, inplace = True)\n",
    "df1.rename(columns = {'member_casual':'usertype'}, inplace = True)"
   ]
  },
  {
   "cell_type": "code",
   "execution_count": 150,
   "metadata": {},
   "outputs": [],
   "source": [
    "df1[\"starttime\"] = pd.to_datetime(df1[\"starttime\"])\n",
    "df1[\"stoptime\"] = pd.to_datetime(df1[\"stoptime\"])"
   ]
  },
  {
   "cell_type": "code",
   "execution_count": 151,
   "metadata": {},
   "outputs": [
    {
     "data": {
      "text/plain": [
       "member    378407\n",
       "casual     48480\n",
       "Name: usertype, dtype: int64"
      ]
     },
     "execution_count": 151,
     "metadata": {},
     "output_type": "execute_result"
    }
   ],
   "source": [
    "df1['usertype'].value_counts()"
   ]
  },
  {
   "cell_type": "code",
   "execution_count": 152,
   "metadata": {},
   "outputs": [],
   "source": [
    "df1['usertype'].replace({'member':'Subscriber', 'casual':'Customer'}, inplace=True)"
   ]
  },
  {
   "cell_type": "code",
   "execution_count": 153,
   "metadata": {},
   "outputs": [
    {
     "data": {
      "text/plain": [
       "ride_id              0\n",
       "rideable_type        0\n",
       "starttime            0\n",
       "stoptime             0\n",
       "from_station_name    0\n",
       "from_station_id      0\n",
       "to_station_name      1\n",
       "to_station_id        1\n",
       "start_lat            0\n",
       "start_lng            0\n",
       "end_lat              1\n",
       "end_lng              1\n",
       "usertype             0\n",
       "dtype: int64"
      ]
     },
     "execution_count": 153,
     "metadata": {},
     "output_type": "execute_result"
    }
   ],
   "source": [
    "df1.isnull().sum()"
   ]
  },
  {
   "cell_type": "code",
   "execution_count": 154,
   "metadata": {},
   "outputs": [],
   "source": [
    "df1 = df1.dropna()"
   ]
  },
  {
   "cell_type": "code",
   "execution_count": 155,
   "metadata": {},
   "outputs": [],
   "source": [
    "df1['to_station_id'] = df1['to_station_id'].astype(int)"
   ]
  },
  {
   "cell_type": "code",
   "execution_count": 156,
   "metadata": {},
   "outputs": [
    {
     "data": {
      "text/html": [
       "<div>\n",
       "<style scoped>\n",
       "    .dataframe tbody tr th:only-of-type {\n",
       "        vertical-align: middle;\n",
       "    }\n",
       "\n",
       "    .dataframe tbody tr th {\n",
       "        vertical-align: top;\n",
       "    }\n",
       "\n",
       "    .dataframe thead th {\n",
       "        text-align: right;\n",
       "    }\n",
       "</style>\n",
       "<table border=\"1\" class=\"dataframe\">\n",
       "  <thead>\n",
       "    <tr style=\"text-align: right;\">\n",
       "      <th></th>\n",
       "      <th>ride_id</th>\n",
       "      <th>rideable_type</th>\n",
       "      <th>starttime</th>\n",
       "      <th>stoptime</th>\n",
       "      <th>from_station_name</th>\n",
       "      <th>from_station_id</th>\n",
       "      <th>to_station_name</th>\n",
       "      <th>to_station_id</th>\n",
       "      <th>start_lat</th>\n",
       "      <th>start_lng</th>\n",
       "      <th>end_lat</th>\n",
       "      <th>end_lng</th>\n",
       "      <th>usertype</th>\n",
       "    </tr>\n",
       "  </thead>\n",
       "  <tbody>\n",
       "  </tbody>\n",
       "</table>\n",
       "</div>"
      ],
      "text/plain": [
       "Empty DataFrame\n",
       "Columns: [ride_id, rideable_type, starttime, stoptime, from_station_name, from_station_id, to_station_name, to_station_id, start_lat, start_lng, end_lat, end_lng, usertype]\n",
       "Index: []"
      ]
     },
     "execution_count": 156,
     "metadata": {},
     "output_type": "execute_result"
    }
   ],
   "source": [
    "df1.loc[df1['starttime'].dt.year != 2020]"
   ]
  },
  {
   "cell_type": "code",
   "execution_count": 157,
   "metadata": {},
   "outputs": [
    {
     "data": {
      "text/html": [
       "<div>\n",
       "<style scoped>\n",
       "    .dataframe tbody tr th:only-of-type {\n",
       "        vertical-align: middle;\n",
       "    }\n",
       "\n",
       "    .dataframe tbody tr th {\n",
       "        vertical-align: top;\n",
       "    }\n",
       "\n",
       "    .dataframe thead th {\n",
       "        text-align: right;\n",
       "    }\n",
       "</style>\n",
       "<table border=\"1\" class=\"dataframe\">\n",
       "  <thead>\n",
       "    <tr style=\"text-align: right;\">\n",
       "      <th></th>\n",
       "      <th>ride_id</th>\n",
       "      <th>rideable_type</th>\n",
       "      <th>starttime</th>\n",
       "      <th>stoptime</th>\n",
       "      <th>from_station_name</th>\n",
       "      <th>from_station_id</th>\n",
       "      <th>to_station_name</th>\n",
       "      <th>to_station_id</th>\n",
       "      <th>start_lat</th>\n",
       "      <th>start_lng</th>\n",
       "      <th>end_lat</th>\n",
       "      <th>end_lng</th>\n",
       "      <th>usertype</th>\n",
       "    </tr>\n",
       "  </thead>\n",
       "  <tbody>\n",
       "  </tbody>\n",
       "</table>\n",
       "</div>"
      ],
      "text/plain": [
       "Empty DataFrame\n",
       "Columns: [ride_id, rideable_type, starttime, stoptime, from_station_name, from_station_id, to_station_name, to_station_id, start_lat, start_lng, end_lat, end_lng, usertype]\n",
       "Index: []"
      ]
     },
     "execution_count": 157,
     "metadata": {},
     "output_type": "execute_result"
    }
   ],
   "source": [
    "df1.loc[df1['stoptime'].dt.year != 2020]"
   ]
  },
  {
   "cell_type": "code",
   "execution_count": 158,
   "metadata": {},
   "outputs": [
    {
     "name": "stdout",
     "output_type": "stream",
     "text": [
      "<class 'pandas.core.frame.DataFrame'>\n",
      "Int64Index: 426886 entries, 0 to 426886\n",
      "Data columns (total 13 columns):\n",
      " #   Column             Non-Null Count   Dtype         \n",
      "---  ------             --------------   -----         \n",
      " 0   ride_id            426886 non-null  object        \n",
      " 1   rideable_type      426886 non-null  object        \n",
      " 2   starttime          426886 non-null  datetime64[ns]\n",
      " 3   stoptime           426886 non-null  datetime64[ns]\n",
      " 4   from_station_name  426886 non-null  object        \n",
      " 5   from_station_id    426886 non-null  int64         \n",
      " 6   to_station_name    426886 non-null  object        \n",
      " 7   to_station_id      426886 non-null  int64         \n",
      " 8   start_lat          426886 non-null  float64       \n",
      " 9   start_lng          426886 non-null  float64       \n",
      " 10  end_lat            426886 non-null  float64       \n",
      " 11  end_lng            426886 non-null  float64       \n",
      " 12  usertype           426886 non-null  object        \n",
      "dtypes: datetime64[ns](2), float64(4), int64(2), object(5)\n",
      "memory usage: 45.6+ MB\n"
     ]
    }
   ],
   "source": [
    "df1.info(verbose=True)"
   ]
  },
  {
   "cell_type": "code",
   "execution_count": 159,
   "metadata": {},
   "outputs": [
    {
     "name": "stdout",
     "output_type": "stream",
     "text": [
      "<class 'pandas.core.frame.DataFrame'>\n",
      "RangeIndex: 84776 entries, 0 to 84775\n",
      "Data columns (total 13 columns):\n",
      " #   Column              Non-Null Count  Dtype  \n",
      "---  ------              --------------  -----  \n",
      " 0   ride_id             84776 non-null  object \n",
      " 1   rideable_type       84776 non-null  object \n",
      " 2   started_at          84776 non-null  object \n",
      " 3   ended_at            84776 non-null  object \n",
      " 4   start_station_name  84776 non-null  object \n",
      " 5   start_station_id    84776 non-null  int64  \n",
      " 6   end_station_name    84677 non-null  object \n",
      " 7   end_station_id      84677 non-null  float64\n",
      " 8   start_lat           84776 non-null  float64\n",
      " 9   start_lng           84776 non-null  float64\n",
      " 10  end_lat             84677 non-null  float64\n",
      " 11  end_lng             84677 non-null  float64\n",
      " 12  member_casual       84776 non-null  object \n",
      "dtypes: float64(5), int64(1), object(7)\n",
      "memory usage: 8.4+ MB\n"
     ]
    }
   ],
   "source": [
    "df2.info(verbose=True)"
   ]
  },
  {
   "cell_type": "code",
   "execution_count": 160,
   "metadata": {},
   "outputs": [],
   "source": [
    "df2.rename(columns = {'started_at':'starttime'}, inplace = True)\n",
    "df2.rename(columns = {'ended_at':'stoptime'}, inplace = True)\n",
    "df2.rename(columns = {'start_station_name':'from_station_name'}, inplace = True)\n",
    "df2.rename(columns = {'start_station_id':'from_station_id'}, inplace = True)\n",
    "df2.rename(columns = {'end_station_name':'to_station_name'}, inplace = True)\n",
    "df2.rename(columns = {'end_station_id':'to_station_id'}, inplace = True)\n",
    "df2.rename(columns = {'member_casual':'usertype'}, inplace = True)"
   ]
  },
  {
   "cell_type": "code",
   "execution_count": 161,
   "metadata": {},
   "outputs": [],
   "source": [
    "df2[\"starttime\"] = pd.to_datetime(df2[\"starttime\"])\n",
    "df2[\"stoptime\"] = pd.to_datetime(df2[\"stoptime\"])"
   ]
  },
  {
   "cell_type": "code",
   "execution_count": 162,
   "metadata": {},
   "outputs": [],
   "source": [
    "df2['usertype'].replace({'member':'Subscriber', 'casual':'Customer'}, inplace=True)"
   ]
  },
  {
   "cell_type": "code",
   "execution_count": 163,
   "metadata": {},
   "outputs": [],
   "source": [
    "df2 = df2.dropna()"
   ]
  },
  {
   "cell_type": "code",
   "execution_count": 164,
   "metadata": {},
   "outputs": [],
   "source": [
    "df2['to_station_id'] = df2['to_station_id'].astype(int)"
   ]
  },
  {
   "cell_type": "code",
   "execution_count": 165,
   "metadata": {},
   "outputs": [
    {
     "data": {
      "text/html": [
       "<div>\n",
       "<style scoped>\n",
       "    .dataframe tbody tr th:only-of-type {\n",
       "        vertical-align: middle;\n",
       "    }\n",
       "\n",
       "    .dataframe tbody tr th {\n",
       "        vertical-align: top;\n",
       "    }\n",
       "\n",
       "    .dataframe thead th {\n",
       "        text-align: right;\n",
       "    }\n",
       "</style>\n",
       "<table border=\"1\" class=\"dataframe\">\n",
       "  <thead>\n",
       "    <tr style=\"text-align: right;\">\n",
       "      <th></th>\n",
       "      <th>ride_id</th>\n",
       "      <th>rideable_type</th>\n",
       "      <th>starttime</th>\n",
       "      <th>stoptime</th>\n",
       "      <th>from_station_name</th>\n",
       "      <th>from_station_id</th>\n",
       "      <th>to_station_name</th>\n",
       "      <th>to_station_id</th>\n",
       "      <th>start_lat</th>\n",
       "      <th>start_lng</th>\n",
       "      <th>end_lat</th>\n",
       "      <th>end_lng</th>\n",
       "      <th>usertype</th>\n",
       "    </tr>\n",
       "  </thead>\n",
       "  <tbody>\n",
       "  </tbody>\n",
       "</table>\n",
       "</div>"
      ],
      "text/plain": [
       "Empty DataFrame\n",
       "Columns: [ride_id, rideable_type, starttime, stoptime, from_station_name, from_station_id, to_station_name, to_station_id, start_lat, start_lng, end_lat, end_lng, usertype]\n",
       "Index: []"
      ]
     },
     "execution_count": 165,
     "metadata": {},
     "output_type": "execute_result"
    }
   ],
   "source": [
    "df2.loc[df2['starttime'].dt.year != 2020]"
   ]
  },
  {
   "cell_type": "code",
   "execution_count": 166,
   "metadata": {},
   "outputs": [
    {
     "data": {
      "text/html": [
       "<div>\n",
       "<style scoped>\n",
       "    .dataframe tbody tr th:only-of-type {\n",
       "        vertical-align: middle;\n",
       "    }\n",
       "\n",
       "    .dataframe tbody tr th {\n",
       "        vertical-align: top;\n",
       "    }\n",
       "\n",
       "    .dataframe thead th {\n",
       "        text-align: right;\n",
       "    }\n",
       "</style>\n",
       "<table border=\"1\" class=\"dataframe\">\n",
       "  <thead>\n",
       "    <tr style=\"text-align: right;\">\n",
       "      <th></th>\n",
       "      <th>ride_id</th>\n",
       "      <th>rideable_type</th>\n",
       "      <th>starttime</th>\n",
       "      <th>stoptime</th>\n",
       "      <th>from_station_name</th>\n",
       "      <th>from_station_id</th>\n",
       "      <th>to_station_name</th>\n",
       "      <th>to_station_id</th>\n",
       "      <th>start_lat</th>\n",
       "      <th>start_lng</th>\n",
       "      <th>end_lat</th>\n",
       "      <th>end_lng</th>\n",
       "      <th>usertype</th>\n",
       "    </tr>\n",
       "  </thead>\n",
       "  <tbody>\n",
       "  </tbody>\n",
       "</table>\n",
       "</div>"
      ],
      "text/plain": [
       "Empty DataFrame\n",
       "Columns: [ride_id, rideable_type, starttime, stoptime, from_station_name, from_station_id, to_station_name, to_station_id, start_lat, start_lng, end_lat, end_lng, usertype]\n",
       "Index: []"
      ]
     },
     "execution_count": 166,
     "metadata": {},
     "output_type": "execute_result"
    }
   ],
   "source": [
    "df2.loc[df2['stoptime'].dt.year != 2020]"
   ]
  },
  {
   "cell_type": "code",
   "execution_count": 167,
   "metadata": {},
   "outputs": [
    {
     "name": "stdout",
     "output_type": "stream",
     "text": [
      "<class 'pandas.core.frame.DataFrame'>\n",
      "Int64Index: 84677 entries, 0 to 84775\n",
      "Data columns (total 13 columns):\n",
      " #   Column             Non-Null Count  Dtype         \n",
      "---  ------             --------------  -----         \n",
      " 0   ride_id            84677 non-null  object        \n",
      " 1   rideable_type      84677 non-null  object        \n",
      " 2   starttime          84677 non-null  datetime64[ns]\n",
      " 3   stoptime           84677 non-null  datetime64[ns]\n",
      " 4   from_station_name  84677 non-null  object        \n",
      " 5   from_station_id    84677 non-null  int64         \n",
      " 6   to_station_name    84677 non-null  object        \n",
      " 7   to_station_id      84677 non-null  int64         \n",
      " 8   start_lat          84677 non-null  float64       \n",
      " 9   start_lng          84677 non-null  float64       \n",
      " 10  end_lat            84677 non-null  float64       \n",
      " 11  end_lng            84677 non-null  float64       \n",
      " 12  usertype           84677 non-null  object        \n",
      "dtypes: datetime64[ns](2), float64(4), int64(2), object(5)\n",
      "memory usage: 9.0+ MB\n"
     ]
    }
   ],
   "source": [
    "df2.info(verbose=True)"
   ]
  },
  {
   "cell_type": "code",
   "execution_count": 168,
   "metadata": {},
   "outputs": [
    {
     "name": "stdout",
     "output_type": "stream",
     "text": [
      "<class 'pandas.core.frame.DataFrame'>\n",
      "RangeIndex: 200274 entries, 0 to 200273\n",
      "Data columns (total 13 columns):\n",
      " #   Column              Non-Null Count   Dtype  \n",
      "---  ------              --------------   -----  \n",
      " 0   ride_id             200274 non-null  object \n",
      " 1   rideable_type       200274 non-null  object \n",
      " 2   started_at          200274 non-null  object \n",
      " 3   ended_at            200274 non-null  object \n",
      " 4   start_station_name  200274 non-null  object \n",
      " 5   start_station_id    200274 non-null  int64  \n",
      " 6   end_station_name    199953 non-null  object \n",
      " 7   end_station_id      199953 non-null  float64\n",
      " 8   start_lat           200274 non-null  float64\n",
      " 9   start_lng           200274 non-null  float64\n",
      " 10  end_lat             199953 non-null  float64\n",
      " 11  end_lng             199953 non-null  float64\n",
      " 12  member_casual       200274 non-null  object \n",
      "dtypes: float64(5), int64(1), object(7)\n",
      "memory usage: 19.9+ MB\n"
     ]
    }
   ],
   "source": [
    "df3.info(verbose=True)"
   ]
  },
  {
   "cell_type": "code",
   "execution_count": 169,
   "metadata": {},
   "outputs": [],
   "source": [
    "df3.rename(columns = {'started_at':'starttime'}, inplace = True)\n",
    "df3.rename(columns = {'ended_at':'stoptime'}, inplace = True)\n",
    "df3.rename(columns = {'start_station_name':'from_station_name'}, inplace = True)\n",
    "df3.rename(columns = {'start_station_id':'from_station_id'}, inplace = True)\n",
    "df3.rename(columns = {'end_station_name':'to_station_name'}, inplace = True)\n",
    "df3.rename(columns = {'end_station_id':'to_station_id'}, inplace = True)\n",
    "df3.rename(columns = {'member_casual':'usertype'}, inplace = True)"
   ]
  },
  {
   "cell_type": "code",
   "execution_count": 170,
   "metadata": {},
   "outputs": [],
   "source": [
    "df3[\"starttime\"] = pd.to_datetime(df3[\"starttime\"])\n",
    "df3[\"stoptime\"] = pd.to_datetime(df3[\"stoptime\"])"
   ]
  },
  {
   "cell_type": "code",
   "execution_count": 171,
   "metadata": {},
   "outputs": [],
   "source": [
    "df3['usertype'].replace({'member':'Subscriber', 'casual':'Customer'}, inplace=True)"
   ]
  },
  {
   "cell_type": "code",
   "execution_count": 172,
   "metadata": {},
   "outputs": [
    {
     "data": {
      "text/plain": [
       "1284"
      ]
     },
     "execution_count": 172,
     "metadata": {},
     "output_type": "execute_result"
    }
   ],
   "source": [
    "df3.isnull().sum().sum()"
   ]
  },
  {
   "cell_type": "code",
   "execution_count": 173,
   "metadata": {},
   "outputs": [],
   "source": [
    "df3.loc[df3['to_station_name'].isnull(), 'to_station_name'] = 'Unknown'\n",
    "df3.loc[df3['to_station_id'].isnull(), 'to_station_id'] = 0\n",
    "df3.loc[df3['end_lat'].isnull(), 'end_lat'] = 0\n",
    "df3.loc[df3['end_lng'].isnull(), 'end_lng'] = 0"
   ]
  },
  {
   "cell_type": "code",
   "execution_count": 174,
   "metadata": {},
   "outputs": [],
   "source": [
    "df3['to_station_id'] = df3['to_station_id'].astype(int)"
   ]
  },
  {
   "cell_type": "code",
   "execution_count": 175,
   "metadata": {},
   "outputs": [
    {
     "data": {
      "text/html": [
       "<div>\n",
       "<style scoped>\n",
       "    .dataframe tbody tr th:only-of-type {\n",
       "        vertical-align: middle;\n",
       "    }\n",
       "\n",
       "    .dataframe tbody tr th {\n",
       "        vertical-align: top;\n",
       "    }\n",
       "\n",
       "    .dataframe thead th {\n",
       "        text-align: right;\n",
       "    }\n",
       "</style>\n",
       "<table border=\"1\" class=\"dataframe\">\n",
       "  <thead>\n",
       "    <tr style=\"text-align: right;\">\n",
       "      <th></th>\n",
       "      <th>ride_id</th>\n",
       "      <th>rideable_type</th>\n",
       "      <th>starttime</th>\n",
       "      <th>stoptime</th>\n",
       "      <th>from_station_name</th>\n",
       "      <th>from_station_id</th>\n",
       "      <th>to_station_name</th>\n",
       "      <th>to_station_id</th>\n",
       "      <th>start_lat</th>\n",
       "      <th>start_lng</th>\n",
       "      <th>end_lat</th>\n",
       "      <th>end_lng</th>\n",
       "      <th>usertype</th>\n",
       "    </tr>\n",
       "  </thead>\n",
       "  <tbody>\n",
       "  </tbody>\n",
       "</table>\n",
       "</div>"
      ],
      "text/plain": [
       "Empty DataFrame\n",
       "Columns: [ride_id, rideable_type, starttime, stoptime, from_station_name, from_station_id, to_station_name, to_station_id, start_lat, start_lng, end_lat, end_lng, usertype]\n",
       "Index: []"
      ]
     },
     "execution_count": 175,
     "metadata": {},
     "output_type": "execute_result"
    }
   ],
   "source": [
    "df3.loc[df3['starttime'].dt.year != 2020]"
   ]
  },
  {
   "cell_type": "code",
   "execution_count": 176,
   "metadata": {},
   "outputs": [
    {
     "data": {
      "text/html": [
       "<div>\n",
       "<style scoped>\n",
       "    .dataframe tbody tr th:only-of-type {\n",
       "        vertical-align: middle;\n",
       "    }\n",
       "\n",
       "    .dataframe tbody tr th {\n",
       "        vertical-align: top;\n",
       "    }\n",
       "\n",
       "    .dataframe thead th {\n",
       "        text-align: right;\n",
       "    }\n",
       "</style>\n",
       "<table border=\"1\" class=\"dataframe\">\n",
       "  <thead>\n",
       "    <tr style=\"text-align: right;\">\n",
       "      <th></th>\n",
       "      <th>ride_id</th>\n",
       "      <th>rideable_type</th>\n",
       "      <th>starttime</th>\n",
       "      <th>stoptime</th>\n",
       "      <th>from_station_name</th>\n",
       "      <th>from_station_id</th>\n",
       "      <th>to_station_name</th>\n",
       "      <th>to_station_id</th>\n",
       "      <th>start_lat</th>\n",
       "      <th>start_lng</th>\n",
       "      <th>end_lat</th>\n",
       "      <th>end_lng</th>\n",
       "      <th>usertype</th>\n",
       "    </tr>\n",
       "  </thead>\n",
       "  <tbody>\n",
       "  </tbody>\n",
       "</table>\n",
       "</div>"
      ],
      "text/plain": [
       "Empty DataFrame\n",
       "Columns: [ride_id, rideable_type, starttime, stoptime, from_station_name, from_station_id, to_station_name, to_station_id, start_lat, start_lng, end_lat, end_lng, usertype]\n",
       "Index: []"
      ]
     },
     "execution_count": 176,
     "metadata": {},
     "output_type": "execute_result"
    }
   ],
   "source": [
    "df3.loc[df3['stoptime'].dt.year != 2020]"
   ]
  },
  {
   "cell_type": "code",
   "execution_count": 177,
   "metadata": {},
   "outputs": [
    {
     "name": "stdout",
     "output_type": "stream",
     "text": [
      "<class 'pandas.core.frame.DataFrame'>\n",
      "RangeIndex: 200274 entries, 0 to 200273\n",
      "Data columns (total 13 columns):\n",
      " #   Column             Non-Null Count   Dtype         \n",
      "---  ------             --------------   -----         \n",
      " 0   ride_id            200274 non-null  object        \n",
      " 1   rideable_type      200274 non-null  object        \n",
      " 2   starttime          200274 non-null  datetime64[ns]\n",
      " 3   stoptime           200274 non-null  datetime64[ns]\n",
      " 4   from_station_name  200274 non-null  object        \n",
      " 5   from_station_id    200274 non-null  int64         \n",
      " 6   to_station_name    200274 non-null  object        \n",
      " 7   to_station_id      200274 non-null  int64         \n",
      " 8   start_lat          200274 non-null  float64       \n",
      " 9   start_lng          200274 non-null  float64       \n",
      " 10  end_lat            200274 non-null  float64       \n",
      " 11  end_lng            200274 non-null  float64       \n",
      " 12  usertype           200274 non-null  object        \n",
      "dtypes: datetime64[ns](2), float64(4), int64(2), object(5)\n",
      "memory usage: 19.9+ MB\n"
     ]
    }
   ],
   "source": [
    "df3.info(verbose=True)"
   ]
  },
  {
   "cell_type": "code",
   "execution_count": 178,
   "metadata": {},
   "outputs": [
    {
     "name": "stdout",
     "output_type": "stream",
     "text": [
      "<class 'pandas.core.frame.DataFrame'>\n",
      "RangeIndex: 343005 entries, 0 to 343004\n",
      "Data columns (total 13 columns):\n",
      " #   Column              Non-Null Count   Dtype  \n",
      "---  ------              --------------   -----  \n",
      " 0   ride_id             343005 non-null  object \n",
      " 1   rideable_type       343005 non-null  object \n",
      " 2   started_at          343005 non-null  object \n",
      " 3   ended_at            343005 non-null  object \n",
      " 4   start_station_name  343005 non-null  object \n",
      " 5   start_station_id    343005 non-null  int64  \n",
      " 6   end_station_name    342537 non-null  object \n",
      " 7   end_station_id      342537 non-null  float64\n",
      " 8   start_lat           343005 non-null  float64\n",
      " 9   start_lng           343005 non-null  float64\n",
      " 10  end_lat             342537 non-null  float64\n",
      " 11  end_lng             342537 non-null  float64\n",
      " 12  member_casual       343005 non-null  object \n",
      "dtypes: float64(5), int64(1), object(7)\n",
      "memory usage: 34.0+ MB\n"
     ]
    }
   ],
   "source": [
    "df4.info(verbose=True)"
   ]
  },
  {
   "cell_type": "code",
   "execution_count": 179,
   "metadata": {},
   "outputs": [],
   "source": [
    "df4.rename(columns = {'started_at':'starttime'}, inplace = True)\n",
    "df4.rename(columns = {'ended_at':'stoptime'}, inplace = True)\n",
    "df4.rename(columns = {'start_station_name':'from_station_name'}, inplace = True)\n",
    "df4.rename(columns = {'start_station_id':'from_station_id'}, inplace = True)\n",
    "df4.rename(columns = {'end_station_name':'to_station_name'}, inplace = True)\n",
    "df4.rename(columns = {'end_station_id':'to_station_id'}, inplace = True)\n",
    "df4.rename(columns = {'member_casual':'usertype'}, inplace = True)"
   ]
  },
  {
   "cell_type": "code",
   "execution_count": 180,
   "metadata": {},
   "outputs": [],
   "source": [
    "df4[\"starttime\"] = pd.to_datetime(df4[\"starttime\"])\n",
    "df4[\"stoptime\"] = pd.to_datetime(df4[\"stoptime\"])"
   ]
  },
  {
   "cell_type": "code",
   "execution_count": 181,
   "metadata": {},
   "outputs": [],
   "source": [
    "df4['usertype'].replace({'member':'Subscriber', 'casual':'Customer'}, inplace=True)"
   ]
  },
  {
   "cell_type": "code",
   "execution_count": 182,
   "metadata": {},
   "outputs": [],
   "source": [
    "df4.loc[df4['to_station_name'].isnull(), 'to_station_name'] = 'Unknown'\n",
    "df4.loc[df4['to_station_id'].isnull(), 'to_station_id'] = 0\n",
    "df4.loc[df4['end_lat'].isnull(), 'end_lat'] = 0\n",
    "df4.loc[df4['end_lng'].isnull(), 'end_lng'] = 0"
   ]
  },
  {
   "cell_type": "code",
   "execution_count": 183,
   "metadata": {},
   "outputs": [],
   "source": [
    "df4['to_station_id'] = df4['to_station_id'].astype(int)"
   ]
  },
  {
   "cell_type": "code",
   "execution_count": 184,
   "metadata": {},
   "outputs": [
    {
     "data": {
      "text/html": [
       "<div>\n",
       "<style scoped>\n",
       "    .dataframe tbody tr th:only-of-type {\n",
       "        vertical-align: middle;\n",
       "    }\n",
       "\n",
       "    .dataframe tbody tr th {\n",
       "        vertical-align: top;\n",
       "    }\n",
       "\n",
       "    .dataframe thead th {\n",
       "        text-align: right;\n",
       "    }\n",
       "</style>\n",
       "<table border=\"1\" class=\"dataframe\">\n",
       "  <thead>\n",
       "    <tr style=\"text-align: right;\">\n",
       "      <th></th>\n",
       "      <th>ride_id</th>\n",
       "      <th>rideable_type</th>\n",
       "      <th>starttime</th>\n",
       "      <th>stoptime</th>\n",
       "      <th>from_station_name</th>\n",
       "      <th>from_station_id</th>\n",
       "      <th>to_station_name</th>\n",
       "      <th>to_station_id</th>\n",
       "      <th>start_lat</th>\n",
       "      <th>start_lng</th>\n",
       "      <th>end_lat</th>\n",
       "      <th>end_lng</th>\n",
       "      <th>usertype</th>\n",
       "    </tr>\n",
       "  </thead>\n",
       "  <tbody>\n",
       "  </tbody>\n",
       "</table>\n",
       "</div>"
      ],
      "text/plain": [
       "Empty DataFrame\n",
       "Columns: [ride_id, rideable_type, starttime, stoptime, from_station_name, from_station_id, to_station_name, to_station_id, start_lat, start_lng, end_lat, end_lng, usertype]\n",
       "Index: []"
      ]
     },
     "execution_count": 184,
     "metadata": {},
     "output_type": "execute_result"
    }
   ],
   "source": [
    "df4.loc[df4['starttime'].dt.year != 2020]"
   ]
  },
  {
   "cell_type": "code",
   "execution_count": 185,
   "metadata": {},
   "outputs": [
    {
     "data": {
      "text/html": [
       "<div>\n",
       "<style scoped>\n",
       "    .dataframe tbody tr th:only-of-type {\n",
       "        vertical-align: middle;\n",
       "    }\n",
       "\n",
       "    .dataframe tbody tr th {\n",
       "        vertical-align: top;\n",
       "    }\n",
       "\n",
       "    .dataframe thead th {\n",
       "        text-align: right;\n",
       "    }\n",
       "</style>\n",
       "<table border=\"1\" class=\"dataframe\">\n",
       "  <thead>\n",
       "    <tr style=\"text-align: right;\">\n",
       "      <th></th>\n",
       "      <th>ride_id</th>\n",
       "      <th>rideable_type</th>\n",
       "      <th>starttime</th>\n",
       "      <th>stoptime</th>\n",
       "      <th>from_station_name</th>\n",
       "      <th>from_station_id</th>\n",
       "      <th>to_station_name</th>\n",
       "      <th>to_station_id</th>\n",
       "      <th>start_lat</th>\n",
       "      <th>start_lng</th>\n",
       "      <th>end_lat</th>\n",
       "      <th>end_lng</th>\n",
       "      <th>usertype</th>\n",
       "    </tr>\n",
       "  </thead>\n",
       "  <tbody>\n",
       "  </tbody>\n",
       "</table>\n",
       "</div>"
      ],
      "text/plain": [
       "Empty DataFrame\n",
       "Columns: [ride_id, rideable_type, starttime, stoptime, from_station_name, from_station_id, to_station_name, to_station_id, start_lat, start_lng, end_lat, end_lng, usertype]\n",
       "Index: []"
      ]
     },
     "execution_count": 185,
     "metadata": {},
     "output_type": "execute_result"
    }
   ],
   "source": [
    "df4.loc[df4['stoptime'].dt.year != 2020]"
   ]
  },
  {
   "cell_type": "code",
   "execution_count": 186,
   "metadata": {},
   "outputs": [
    {
     "name": "stdout",
     "output_type": "stream",
     "text": [
      "<class 'pandas.core.frame.DataFrame'>\n",
      "RangeIndex: 343005 entries, 0 to 343004\n",
      "Data columns (total 13 columns):\n",
      " #   Column             Non-Null Count   Dtype         \n",
      "---  ------             --------------   -----         \n",
      " 0   ride_id            343005 non-null  object        \n",
      " 1   rideable_type      343005 non-null  object        \n",
      " 2   starttime          343005 non-null  datetime64[ns]\n",
      " 3   stoptime           343005 non-null  datetime64[ns]\n",
      " 4   from_station_name  343005 non-null  object        \n",
      " 5   from_station_id    343005 non-null  int64         \n",
      " 6   to_station_name    343005 non-null  object        \n",
      " 7   to_station_id      343005 non-null  int64         \n",
      " 8   start_lat          343005 non-null  float64       \n",
      " 9   start_lng          343005 non-null  float64       \n",
      " 10  end_lat            343005 non-null  float64       \n",
      " 11  end_lng            343005 non-null  float64       \n",
      " 12  usertype           343005 non-null  object        \n",
      "dtypes: datetime64[ns](2), float64(4), int64(2), object(5)\n",
      "memory usage: 34.0+ MB\n"
     ]
    }
   ],
   "source": [
    "df4.info(verbose=True)"
   ]
  },
  {
   "cell_type": "code",
   "execution_count": 187,
   "metadata": {},
   "outputs": [
    {
     "name": "stdout",
     "output_type": "stream",
     "text": [
      "<class 'pandas.core.frame.DataFrame'>\n",
      "RangeIndex: 551480 entries, 0 to 551479\n",
      "Data columns (total 13 columns):\n",
      " #   Column              Non-Null Count   Dtype  \n",
      "---  ------              --------------   -----  \n",
      " 0   ride_id             551480 non-null  object \n",
      " 1   rideable_type       551480 non-null  object \n",
      " 2   started_at          551480 non-null  object \n",
      " 3   ended_at            551480 non-null  object \n",
      " 4   start_station_name  551331 non-null  object \n",
      " 5   start_station_id    551328 non-null  float64\n",
      " 6   end_station_name    550513 non-null  object \n",
      " 7   end_station_id      550511 non-null  float64\n",
      " 8   start_lat           551480 non-null  float64\n",
      " 9   start_lng           551480 non-null  float64\n",
      " 10  end_lat             550710 non-null  float64\n",
      " 11  end_lng             550710 non-null  float64\n",
      " 12  member_casual       551480 non-null  object \n",
      "dtypes: float64(6), object(7)\n",
      "memory usage: 54.7+ MB\n"
     ]
    }
   ],
   "source": [
    "df5.info(verbose=True)"
   ]
  },
  {
   "cell_type": "code",
   "execution_count": 188,
   "metadata": {},
   "outputs": [],
   "source": [
    "df5.rename(columns = {'started_at':'starttime'}, inplace = True)\n",
    "df5.rename(columns = {'ended_at':'stoptime'}, inplace = True)\n",
    "df5.rename(columns = {'start_station_name':'from_station_name'}, inplace = True)\n",
    "df5.rename(columns = {'start_station_id':'from_station_id'}, inplace = True)\n",
    "df5.rename(columns = {'end_station_name':'to_station_name'}, inplace = True)\n",
    "df5.rename(columns = {'end_station_id':'to_station_id'}, inplace = True)\n",
    "df5.rename(columns = {'member_casual':'usertype'}, inplace = True)"
   ]
  },
  {
   "cell_type": "code",
   "execution_count": 189,
   "metadata": {},
   "outputs": [],
   "source": [
    "df5[\"starttime\"] = pd.to_datetime(df5[\"starttime\"])\n",
    "df5[\"stoptime\"] = pd.to_datetime(df5[\"stoptime\"])"
   ]
  },
  {
   "cell_type": "code",
   "execution_count": 190,
   "metadata": {},
   "outputs": [],
   "source": [
    "df5['usertype'].replace({'member':'Subscriber', 'casual':'Customer'}, inplace=True)"
   ]
  },
  {
   "cell_type": "code",
   "execution_count": 191,
   "metadata": {},
   "outputs": [],
   "source": [
    "df5.loc[df5['from_station_name'].isnull(), 'from_station_name'] = 'Unknown'\n",
    "df5.loc[df5['from_station_id'].isnull(), 'from_station_id'] = 0\n",
    "df5.loc[df5['to_station_name'].isnull(), 'to_station_name'] = 'Unknown'\n",
    "df5.loc[df5['to_station_id'].isnull(), 'to_station_id'] = 0\n",
    "df5.loc[df5['end_lat'].isnull(), 'end_lat'] = 0\n",
    "df5.loc[df5['end_lng'].isnull(), 'end_lng'] = 0"
   ]
  },
  {
   "cell_type": "code",
   "execution_count": 192,
   "metadata": {},
   "outputs": [],
   "source": [
    "df5['to_station_id'] = df5['to_station_id'].astype(int)\n",
    "df5['from_station_id'] = df5['from_station_id'].astype(int)"
   ]
  },
  {
   "cell_type": "code",
   "execution_count": 193,
   "metadata": {},
   "outputs": [
    {
     "data": {
      "text/html": [
       "<div>\n",
       "<style scoped>\n",
       "    .dataframe tbody tr th:only-of-type {\n",
       "        vertical-align: middle;\n",
       "    }\n",
       "\n",
       "    .dataframe tbody tr th {\n",
       "        vertical-align: top;\n",
       "    }\n",
       "\n",
       "    .dataframe thead th {\n",
       "        text-align: right;\n",
       "    }\n",
       "</style>\n",
       "<table border=\"1\" class=\"dataframe\">\n",
       "  <thead>\n",
       "    <tr style=\"text-align: right;\">\n",
       "      <th></th>\n",
       "      <th>ride_id</th>\n",
       "      <th>rideable_type</th>\n",
       "      <th>starttime</th>\n",
       "      <th>stoptime</th>\n",
       "      <th>from_station_name</th>\n",
       "      <th>from_station_id</th>\n",
       "      <th>to_station_name</th>\n",
       "      <th>to_station_id</th>\n",
       "      <th>start_lat</th>\n",
       "      <th>start_lng</th>\n",
       "      <th>end_lat</th>\n",
       "      <th>end_lng</th>\n",
       "      <th>usertype</th>\n",
       "    </tr>\n",
       "  </thead>\n",
       "  <tbody>\n",
       "  </tbody>\n",
       "</table>\n",
       "</div>"
      ],
      "text/plain": [
       "Empty DataFrame\n",
       "Columns: [ride_id, rideable_type, starttime, stoptime, from_station_name, from_station_id, to_station_name, to_station_id, start_lat, start_lng, end_lat, end_lng, usertype]\n",
       "Index: []"
      ]
     },
     "execution_count": 193,
     "metadata": {},
     "output_type": "execute_result"
    }
   ],
   "source": [
    "df5.loc[df5['starttime'].dt.year != 2020]"
   ]
  },
  {
   "cell_type": "code",
   "execution_count": 194,
   "metadata": {},
   "outputs": [
    {
     "data": {
      "text/html": [
       "<div>\n",
       "<style scoped>\n",
       "    .dataframe tbody tr th:only-of-type {\n",
       "        vertical-align: middle;\n",
       "    }\n",
       "\n",
       "    .dataframe tbody tr th {\n",
       "        vertical-align: top;\n",
       "    }\n",
       "\n",
       "    .dataframe thead th {\n",
       "        text-align: right;\n",
       "    }\n",
       "</style>\n",
       "<table border=\"1\" class=\"dataframe\">\n",
       "  <thead>\n",
       "    <tr style=\"text-align: right;\">\n",
       "      <th></th>\n",
       "      <th>ride_id</th>\n",
       "      <th>rideable_type</th>\n",
       "      <th>starttime</th>\n",
       "      <th>stoptime</th>\n",
       "      <th>from_station_name</th>\n",
       "      <th>from_station_id</th>\n",
       "      <th>to_station_name</th>\n",
       "      <th>to_station_id</th>\n",
       "      <th>start_lat</th>\n",
       "      <th>start_lng</th>\n",
       "      <th>end_lat</th>\n",
       "      <th>end_lng</th>\n",
       "      <th>usertype</th>\n",
       "    </tr>\n",
       "  </thead>\n",
       "  <tbody>\n",
       "  </tbody>\n",
       "</table>\n",
       "</div>"
      ],
      "text/plain": [
       "Empty DataFrame\n",
       "Columns: [ride_id, rideable_type, starttime, stoptime, from_station_name, from_station_id, to_station_name, to_station_id, start_lat, start_lng, end_lat, end_lng, usertype]\n",
       "Index: []"
      ]
     },
     "execution_count": 194,
     "metadata": {},
     "output_type": "execute_result"
    }
   ],
   "source": [
    "df5.loc[df5['stoptime'].dt.year != 2020]"
   ]
  },
  {
   "cell_type": "code",
   "execution_count": 195,
   "metadata": {},
   "outputs": [
    {
     "name": "stdout",
     "output_type": "stream",
     "text": [
      "<class 'pandas.core.frame.DataFrame'>\n",
      "RangeIndex: 551480 entries, 0 to 551479\n",
      "Data columns (total 13 columns):\n",
      " #   Column             Non-Null Count   Dtype         \n",
      "---  ------             --------------   -----         \n",
      " 0   ride_id            551480 non-null  object        \n",
      " 1   rideable_type      551480 non-null  object        \n",
      " 2   starttime          551480 non-null  datetime64[ns]\n",
      " 3   stoptime           551480 non-null  datetime64[ns]\n",
      " 4   from_station_name  551480 non-null  object        \n",
      " 5   from_station_id    551480 non-null  int64         \n",
      " 6   to_station_name    551480 non-null  object        \n",
      " 7   to_station_id      551480 non-null  int64         \n",
      " 8   start_lat          551480 non-null  float64       \n",
      " 9   start_lng          551480 non-null  float64       \n",
      " 10  end_lat            551480 non-null  float64       \n",
      " 11  end_lng            551480 non-null  float64       \n",
      " 12  usertype           551480 non-null  object        \n",
      "dtypes: datetime64[ns](2), float64(4), int64(2), object(5)\n",
      "memory usage: 54.7+ MB\n"
     ]
    }
   ],
   "source": [
    "df5.info(verbose=True)"
   ]
  },
  {
   "cell_type": "code",
   "execution_count": 196,
   "metadata": {},
   "outputs": [
    {
     "name": "stdout",
     "output_type": "stream",
     "text": [
      "<class 'pandas.core.frame.DataFrame'>\n",
      "RangeIndex: 622361 entries, 0 to 622360\n",
      "Data columns (total 13 columns):\n",
      " #   Column              Non-Null Count   Dtype  \n",
      "---  ------              --------------   -----  \n",
      " 0   ride_id             622361 non-null  object \n",
      " 1   rideable_type       622361 non-null  object \n",
      " 2   started_at          622361 non-null  object \n",
      " 3   ended_at            622361 non-null  object \n",
      " 4   start_station_name  614766 non-null  object \n",
      " 5   start_station_id    614670 non-null  float64\n",
      " 6   end_station_name    612326 non-null  object \n",
      " 7   end_station_id      612251 non-null  float64\n",
      " 8   start_lat           622361 non-null  float64\n",
      " 9   start_lng           622361 non-null  float64\n",
      " 10  end_lat             621423 non-null  float64\n",
      " 11  end_lng             621423 non-null  float64\n",
      " 12  member_casual       622361 non-null  object \n",
      "dtypes: float64(6), object(7)\n",
      "memory usage: 61.7+ MB\n"
     ]
    }
   ],
   "source": [
    "df6.info(verbose=True)"
   ]
  },
  {
   "cell_type": "code",
   "execution_count": 197,
   "metadata": {},
   "outputs": [],
   "source": [
    "df6.rename(columns = {'started_at':'starttime'}, inplace = True)\n",
    "df6.rename(columns = {'ended_at':'stoptime'}, inplace = True)\n",
    "df6.rename(columns = {'start_station_name':'from_station_name'}, inplace = True)\n",
    "df6.rename(columns = {'start_station_id':'from_station_id'}, inplace = True)\n",
    "df6.rename(columns = {'end_station_name':'to_station_name'}, inplace = True)\n",
    "df6.rename(columns = {'end_station_id':'to_station_id'}, inplace = True)\n",
    "df6.rename(columns = {'member_casual':'usertype'}, inplace = True)"
   ]
  },
  {
   "cell_type": "code",
   "execution_count": 198,
   "metadata": {},
   "outputs": [],
   "source": [
    "df6[\"starttime\"] = pd.to_datetime(df6[\"starttime\"])\n",
    "df6[\"stoptime\"] = pd.to_datetime(df6[\"stoptime\"])"
   ]
  },
  {
   "cell_type": "code",
   "execution_count": 199,
   "metadata": {},
   "outputs": [],
   "source": [
    "df6['usertype'].replace({'member':'Subscriber', 'casual':'Customer'}, inplace=True)"
   ]
  },
  {
   "cell_type": "code",
   "execution_count": 200,
   "metadata": {},
   "outputs": [],
   "source": [
    "df6.loc[df6['from_station_name'].isnull(), 'from_station_name'] = 'Unknown'\n",
    "df6.loc[df6['from_station_id'].isnull(), 'from_station_id'] = 0\n",
    "df6.loc[df6['to_station_name'].isnull(), 'to_station_name'] = 'Unknown'\n",
    "df6.loc[df6['to_station_id'].isnull(), 'to_station_id'] = 0\n",
    "df6.loc[df6['end_lat'].isnull(), 'end_lat'] = 0\n",
    "df6.loc[df6['end_lng'].isnull(), 'end_lng'] = 0"
   ]
  },
  {
   "cell_type": "code",
   "execution_count": 201,
   "metadata": {},
   "outputs": [],
   "source": [
    "df6['to_station_id'] = df6['to_station_id'].astype(int)\n",
    "df6['from_station_id'] = df6['from_station_id'].astype(int)"
   ]
  },
  {
   "cell_type": "code",
   "execution_count": 202,
   "metadata": {},
   "outputs": [
    {
     "data": {
      "text/html": [
       "<div>\n",
       "<style scoped>\n",
       "    .dataframe tbody tr th:only-of-type {\n",
       "        vertical-align: middle;\n",
       "    }\n",
       "\n",
       "    .dataframe tbody tr th {\n",
       "        vertical-align: top;\n",
       "    }\n",
       "\n",
       "    .dataframe thead th {\n",
       "        text-align: right;\n",
       "    }\n",
       "</style>\n",
       "<table border=\"1\" class=\"dataframe\">\n",
       "  <thead>\n",
       "    <tr style=\"text-align: right;\">\n",
       "      <th></th>\n",
       "      <th>ride_id</th>\n",
       "      <th>rideable_type</th>\n",
       "      <th>starttime</th>\n",
       "      <th>stoptime</th>\n",
       "      <th>from_station_name</th>\n",
       "      <th>from_station_id</th>\n",
       "      <th>to_station_name</th>\n",
       "      <th>to_station_id</th>\n",
       "      <th>start_lat</th>\n",
       "      <th>start_lng</th>\n",
       "      <th>end_lat</th>\n",
       "      <th>end_lng</th>\n",
       "      <th>usertype</th>\n",
       "    </tr>\n",
       "  </thead>\n",
       "  <tbody>\n",
       "  </tbody>\n",
       "</table>\n",
       "</div>"
      ],
      "text/plain": [
       "Empty DataFrame\n",
       "Columns: [ride_id, rideable_type, starttime, stoptime, from_station_name, from_station_id, to_station_name, to_station_id, start_lat, start_lng, end_lat, end_lng, usertype]\n",
       "Index: []"
      ]
     },
     "execution_count": 202,
     "metadata": {},
     "output_type": "execute_result"
    }
   ],
   "source": [
    "df6.loc[df6['starttime'].dt.year != 2020]"
   ]
  },
  {
   "cell_type": "code",
   "execution_count": 203,
   "metadata": {},
   "outputs": [
    {
     "data": {
      "text/html": [
       "<div>\n",
       "<style scoped>\n",
       "    .dataframe tbody tr th:only-of-type {\n",
       "        vertical-align: middle;\n",
       "    }\n",
       "\n",
       "    .dataframe tbody tr th {\n",
       "        vertical-align: top;\n",
       "    }\n",
       "\n",
       "    .dataframe thead th {\n",
       "        text-align: right;\n",
       "    }\n",
       "</style>\n",
       "<table border=\"1\" class=\"dataframe\">\n",
       "  <thead>\n",
       "    <tr style=\"text-align: right;\">\n",
       "      <th></th>\n",
       "      <th>ride_id</th>\n",
       "      <th>rideable_type</th>\n",
       "      <th>starttime</th>\n",
       "      <th>stoptime</th>\n",
       "      <th>from_station_name</th>\n",
       "      <th>from_station_id</th>\n",
       "      <th>to_station_name</th>\n",
       "      <th>to_station_id</th>\n",
       "      <th>start_lat</th>\n",
       "      <th>start_lng</th>\n",
       "      <th>end_lat</th>\n",
       "      <th>end_lng</th>\n",
       "      <th>usertype</th>\n",
       "    </tr>\n",
       "  </thead>\n",
       "  <tbody>\n",
       "  </tbody>\n",
       "</table>\n",
       "</div>"
      ],
      "text/plain": [
       "Empty DataFrame\n",
       "Columns: [ride_id, rideable_type, starttime, stoptime, from_station_name, from_station_id, to_station_name, to_station_id, start_lat, start_lng, end_lat, end_lng, usertype]\n",
       "Index: []"
      ]
     },
     "execution_count": 203,
     "metadata": {},
     "output_type": "execute_result"
    }
   ],
   "source": [
    "df6.loc[df6['stoptime'].dt.year != 2020]"
   ]
  },
  {
   "cell_type": "code",
   "execution_count": 204,
   "metadata": {},
   "outputs": [
    {
     "name": "stdout",
     "output_type": "stream",
     "text": [
      "<class 'pandas.core.frame.DataFrame'>\n",
      "RangeIndex: 622361 entries, 0 to 622360\n",
      "Data columns (total 13 columns):\n",
      " #   Column             Non-Null Count   Dtype         \n",
      "---  ------             --------------   -----         \n",
      " 0   ride_id            622361 non-null  object        \n",
      " 1   rideable_type      622361 non-null  object        \n",
      " 2   starttime          622361 non-null  datetime64[ns]\n",
      " 3   stoptime           622361 non-null  datetime64[ns]\n",
      " 4   from_station_name  622361 non-null  object        \n",
      " 5   from_station_id    622361 non-null  int64         \n",
      " 6   to_station_name    622361 non-null  object        \n",
      " 7   to_station_id      622361 non-null  int64         \n",
      " 8   start_lat          622361 non-null  float64       \n",
      " 9   start_lng          622361 non-null  float64       \n",
      " 10  end_lat            622361 non-null  float64       \n",
      " 11  end_lng            622361 non-null  float64       \n",
      " 12  usertype           622361 non-null  object        \n",
      "dtypes: datetime64[ns](2), float64(4), int64(2), object(5)\n",
      "memory usage: 61.7+ MB\n"
     ]
    }
   ],
   "source": [
    "df6.info(verbose=True)"
   ]
  },
  {
   "cell_type": "code",
   "execution_count": 205,
   "metadata": {},
   "outputs": [
    {
     "name": "stdout",
     "output_type": "stream",
     "text": [
      "<class 'pandas.core.frame.DataFrame'>\n",
      "RangeIndex: 532958 entries, 0 to 532957\n",
      "Data columns (total 13 columns):\n",
      " #   Column              Non-Null Count   Dtype  \n",
      "---  ------              --------------   -----  \n",
      " 0   ride_id             532958 non-null  object \n",
      " 1   rideable_type       532958 non-null  object \n",
      " 2   started_at          532958 non-null  object \n",
      " 3   ended_at            532958 non-null  object \n",
      " 4   start_station_name  513267 non-null  object \n",
      " 5   start_station_id    513057 non-null  float64\n",
      " 6   end_station_name    509585 non-null  object \n",
      " 7   end_station_id      509434 non-null  float64\n",
      " 8   start_lat           532958 non-null  float64\n",
      " 9   start_lng           532958 non-null  float64\n",
      " 10  end_lat             532169 non-null  float64\n",
      " 11  end_lng             532169 non-null  float64\n",
      " 12  member_casual       532958 non-null  object \n",
      "dtypes: float64(6), object(7)\n",
      "memory usage: 52.9+ MB\n"
     ]
    }
   ],
   "source": [
    "df7.info(verbose=True)"
   ]
  },
  {
   "cell_type": "code",
   "execution_count": 206,
   "metadata": {},
   "outputs": [],
   "source": [
    "df7.rename(columns = {'started_at':'starttime'}, inplace = True)\n",
    "df7.rename(columns = {'ended_at':'stoptime'}, inplace = True)\n",
    "df7.rename(columns = {'start_station_name':'from_station_name'}, inplace = True)\n",
    "df7.rename(columns = {'start_station_id':'from_station_id'}, inplace = True)\n",
    "df7.rename(columns = {'end_station_name':'to_station_name'}, inplace = True)\n",
    "df7.rename(columns = {'end_station_id':'to_station_id'}, inplace = True)\n",
    "df7.rename(columns = {'member_casual':'usertype'}, inplace = True)"
   ]
  },
  {
   "cell_type": "code",
   "execution_count": 207,
   "metadata": {},
   "outputs": [],
   "source": [
    "df7[\"starttime\"] = pd.to_datetime(df7[\"starttime\"])\n",
    "df7[\"stoptime\"] = pd.to_datetime(df7[\"stoptime\"])"
   ]
  },
  {
   "cell_type": "code",
   "execution_count": 208,
   "metadata": {},
   "outputs": [],
   "source": [
    "df7['usertype'].replace({'member':'Subscriber', 'casual':'Customer'}, inplace=True)"
   ]
  },
  {
   "cell_type": "code",
   "execution_count": 209,
   "metadata": {},
   "outputs": [],
   "source": [
    "df7.loc[df7['from_station_name'].isnull(), 'from_station_name'] = 'Unknown'\n",
    "df7.loc[df7['from_station_id'].isnull(), 'from_station_id'] = 0\n",
    "df7.loc[df7['to_station_name'].isnull(), 'to_station_name'] = 'Unknown'\n",
    "df7.loc[df7['to_station_id'].isnull(), 'to_station_id'] = 0\n",
    "df7.loc[df7['end_lat'].isnull(), 'end_lat'] = 0\n",
    "df7.loc[df7['end_lng'].isnull(), 'end_lng'] = 0"
   ]
  },
  {
   "cell_type": "code",
   "execution_count": 210,
   "metadata": {},
   "outputs": [],
   "source": [
    "df7['to_station_id'] = df7['to_station_id'].astype(int)\n",
    "df7['from_station_id'] = df7['from_station_id'].astype(int)"
   ]
  },
  {
   "cell_type": "code",
   "execution_count": 211,
   "metadata": {},
   "outputs": [
    {
     "data": {
      "text/html": [
       "<div>\n",
       "<style scoped>\n",
       "    .dataframe tbody tr th:only-of-type {\n",
       "        vertical-align: middle;\n",
       "    }\n",
       "\n",
       "    .dataframe tbody tr th {\n",
       "        vertical-align: top;\n",
       "    }\n",
       "\n",
       "    .dataframe thead th {\n",
       "        text-align: right;\n",
       "    }\n",
       "</style>\n",
       "<table border=\"1\" class=\"dataframe\">\n",
       "  <thead>\n",
       "    <tr style=\"text-align: right;\">\n",
       "      <th></th>\n",
       "      <th>ride_id</th>\n",
       "      <th>rideable_type</th>\n",
       "      <th>starttime</th>\n",
       "      <th>stoptime</th>\n",
       "      <th>from_station_name</th>\n",
       "      <th>from_station_id</th>\n",
       "      <th>to_station_name</th>\n",
       "      <th>to_station_id</th>\n",
       "      <th>start_lat</th>\n",
       "      <th>start_lng</th>\n",
       "      <th>end_lat</th>\n",
       "      <th>end_lng</th>\n",
       "      <th>usertype</th>\n",
       "    </tr>\n",
       "  </thead>\n",
       "  <tbody>\n",
       "  </tbody>\n",
       "</table>\n",
       "</div>"
      ],
      "text/plain": [
       "Empty DataFrame\n",
       "Columns: [ride_id, rideable_type, starttime, stoptime, from_station_name, from_station_id, to_station_name, to_station_id, start_lat, start_lng, end_lat, end_lng, usertype]\n",
       "Index: []"
      ]
     },
     "execution_count": 211,
     "metadata": {},
     "output_type": "execute_result"
    }
   ],
   "source": [
    "df7.loc[df7['starttime'].dt.year != 2020]"
   ]
  },
  {
   "cell_type": "code",
   "execution_count": 212,
   "metadata": {},
   "outputs": [
    {
     "data": {
      "text/html": [
       "<div>\n",
       "<style scoped>\n",
       "    .dataframe tbody tr th:only-of-type {\n",
       "        vertical-align: middle;\n",
       "    }\n",
       "\n",
       "    .dataframe tbody tr th {\n",
       "        vertical-align: top;\n",
       "    }\n",
       "\n",
       "    .dataframe thead th {\n",
       "        text-align: right;\n",
       "    }\n",
       "</style>\n",
       "<table border=\"1\" class=\"dataframe\">\n",
       "  <thead>\n",
       "    <tr style=\"text-align: right;\">\n",
       "      <th></th>\n",
       "      <th>ride_id</th>\n",
       "      <th>rideable_type</th>\n",
       "      <th>starttime</th>\n",
       "      <th>stoptime</th>\n",
       "      <th>from_station_name</th>\n",
       "      <th>from_station_id</th>\n",
       "      <th>to_station_name</th>\n",
       "      <th>to_station_id</th>\n",
       "      <th>start_lat</th>\n",
       "      <th>start_lng</th>\n",
       "      <th>end_lat</th>\n",
       "      <th>end_lng</th>\n",
       "      <th>usertype</th>\n",
       "    </tr>\n",
       "  </thead>\n",
       "  <tbody>\n",
       "  </tbody>\n",
       "</table>\n",
       "</div>"
      ],
      "text/plain": [
       "Empty DataFrame\n",
       "Columns: [ride_id, rideable_type, starttime, stoptime, from_station_name, from_station_id, to_station_name, to_station_id, start_lat, start_lng, end_lat, end_lng, usertype]\n",
       "Index: []"
      ]
     },
     "execution_count": 212,
     "metadata": {},
     "output_type": "execute_result"
    }
   ],
   "source": [
    "df7.loc[df7['stoptime'].dt.year != 2020]"
   ]
  },
  {
   "cell_type": "code",
   "execution_count": 213,
   "metadata": {},
   "outputs": [
    {
     "name": "stdout",
     "output_type": "stream",
     "text": [
      "<class 'pandas.core.frame.DataFrame'>\n",
      "RangeIndex: 532958 entries, 0 to 532957\n",
      "Data columns (total 13 columns):\n",
      " #   Column             Non-Null Count   Dtype         \n",
      "---  ------             --------------   -----         \n",
      " 0   ride_id            532958 non-null  object        \n",
      " 1   rideable_type      532958 non-null  object        \n",
      " 2   starttime          532958 non-null  datetime64[ns]\n",
      " 3   stoptime           532958 non-null  datetime64[ns]\n",
      " 4   from_station_name  532958 non-null  object        \n",
      " 5   from_station_id    532958 non-null  int64         \n",
      " 6   to_station_name    532958 non-null  object        \n",
      " 7   to_station_id      532958 non-null  int64         \n",
      " 8   start_lat          532958 non-null  float64       \n",
      " 9   start_lng          532958 non-null  float64       \n",
      " 10  end_lat            532958 non-null  float64       \n",
      " 11  end_lng            532958 non-null  float64       \n",
      " 12  usertype           532958 non-null  object        \n",
      "dtypes: datetime64[ns](2), float64(4), int64(2), object(5)\n",
      "memory usage: 52.9+ MB\n"
     ]
    }
   ],
   "source": [
    "df7.info(verbose=True)"
   ]
  },
  {
   "cell_type": "code",
   "execution_count": 214,
   "metadata": {},
   "outputs": [
    {
     "name": "stdout",
     "output_type": "stream",
     "text": [
      "<class 'pandas.core.frame.DataFrame'>\n",
      "RangeIndex: 388653 entries, 0 to 388652\n",
      "Data columns (total 13 columns):\n",
      " #   Column              Non-Null Count   Dtype  \n",
      "---  ------              --------------   -----  \n",
      " 0   ride_id             388653 non-null  object \n",
      " 1   rideable_type       388653 non-null  object \n",
      " 2   started_at          388653 non-null  object \n",
      " 3   ended_at            388653 non-null  object \n",
      " 4   start_station_name  357455 non-null  object \n",
      " 5   start_station_id    357248 non-null  float64\n",
      " 6   end_station_name    353022 non-null  object \n",
      " 7   end_station_id      352866 non-null  float64\n",
      " 8   start_lat           388653 non-null  float64\n",
      " 9   start_lng           388653 non-null  float64\n",
      " 10  end_lat             388179 non-null  float64\n",
      " 11  end_lng             388179 non-null  float64\n",
      " 12  member_casual       388653 non-null  object \n",
      "dtypes: float64(6), object(7)\n",
      "memory usage: 38.5+ MB\n"
     ]
    }
   ],
   "source": [
    "df8.info(verbose=True)"
   ]
  },
  {
   "cell_type": "code",
   "execution_count": 215,
   "metadata": {},
   "outputs": [],
   "source": [
    "df8.rename(columns = {'started_at':'starttime'}, inplace = True)\n",
    "df8.rename(columns = {'ended_at':'stoptime'}, inplace = True)\n",
    "df8.rename(columns = {'start_station_name':'from_station_name'}, inplace = True)\n",
    "df8.rename(columns = {'start_station_id':'from_station_id'}, inplace = True)\n",
    "df8.rename(columns = {'end_station_name':'to_station_name'}, inplace = True)\n",
    "df8.rename(columns = {'end_station_id':'to_station_id'}, inplace = True)\n",
    "df8.rename(columns = {'member_casual':'usertype'}, inplace = True)"
   ]
  },
  {
   "cell_type": "code",
   "execution_count": 216,
   "metadata": {},
   "outputs": [],
   "source": [
    "df8[\"starttime\"] = pd.to_datetime(df8[\"starttime\"])\n",
    "df8[\"stoptime\"] = pd.to_datetime(df8[\"stoptime\"])"
   ]
  },
  {
   "cell_type": "code",
   "execution_count": 217,
   "metadata": {},
   "outputs": [],
   "source": [
    "df8['usertype'].replace({'member':'Subscriber', 'casual':'Customer'}, inplace=True)"
   ]
  },
  {
   "cell_type": "code",
   "execution_count": 218,
   "metadata": {},
   "outputs": [],
   "source": [
    "df8.loc[df8['from_station_name'].isnull(), 'from_station_name'] = 'Unknown'\n",
    "df8.loc[df8['from_station_id'].isnull(), 'from_station_id'] = 0\n",
    "df8.loc[df8['to_station_name'].isnull(), 'to_station_name'] = 'Unknown'\n",
    "df8.loc[df8['to_station_id'].isnull(), 'to_station_id'] = 0\n",
    "df8.loc[df8['end_lat'].isnull(), 'end_lat'] = 0\n",
    "df8.loc[df8['end_lng'].isnull(), 'end_lng'] = 0"
   ]
  },
  {
   "cell_type": "code",
   "execution_count": 219,
   "metadata": {},
   "outputs": [],
   "source": [
    "df8['to_station_id'] = df8['to_station_id'].astype(int)\n",
    "df8['from_station_id'] = df8['from_station_id'].astype(int)"
   ]
  },
  {
   "cell_type": "code",
   "execution_count": 220,
   "metadata": {},
   "outputs": [
    {
     "data": {
      "text/html": [
       "<div>\n",
       "<style scoped>\n",
       "    .dataframe tbody tr th:only-of-type {\n",
       "        vertical-align: middle;\n",
       "    }\n",
       "\n",
       "    .dataframe tbody tr th {\n",
       "        vertical-align: top;\n",
       "    }\n",
       "\n",
       "    .dataframe thead th {\n",
       "        text-align: right;\n",
       "    }\n",
       "</style>\n",
       "<table border=\"1\" class=\"dataframe\">\n",
       "  <thead>\n",
       "    <tr style=\"text-align: right;\">\n",
       "      <th></th>\n",
       "      <th>ride_id</th>\n",
       "      <th>rideable_type</th>\n",
       "      <th>starttime</th>\n",
       "      <th>stoptime</th>\n",
       "      <th>from_station_name</th>\n",
       "      <th>from_station_id</th>\n",
       "      <th>to_station_name</th>\n",
       "      <th>to_station_id</th>\n",
       "      <th>start_lat</th>\n",
       "      <th>start_lng</th>\n",
       "      <th>end_lat</th>\n",
       "      <th>end_lng</th>\n",
       "      <th>usertype</th>\n",
       "    </tr>\n",
       "  </thead>\n",
       "  <tbody>\n",
       "  </tbody>\n",
       "</table>\n",
       "</div>"
      ],
      "text/plain": [
       "Empty DataFrame\n",
       "Columns: [ride_id, rideable_type, starttime, stoptime, from_station_name, from_station_id, to_station_name, to_station_id, start_lat, start_lng, end_lat, end_lng, usertype]\n",
       "Index: []"
      ]
     },
     "execution_count": 220,
     "metadata": {},
     "output_type": "execute_result"
    }
   ],
   "source": [
    "df8.loc[df8['starttime'].dt.year != 2020]"
   ]
  },
  {
   "cell_type": "code",
   "execution_count": 221,
   "metadata": {},
   "outputs": [
    {
     "data": {
      "text/html": [
       "<div>\n",
       "<style scoped>\n",
       "    .dataframe tbody tr th:only-of-type {\n",
       "        vertical-align: middle;\n",
       "    }\n",
       "\n",
       "    .dataframe tbody tr th {\n",
       "        vertical-align: top;\n",
       "    }\n",
       "\n",
       "    .dataframe thead th {\n",
       "        text-align: right;\n",
       "    }\n",
       "</style>\n",
       "<table border=\"1\" class=\"dataframe\">\n",
       "  <thead>\n",
       "    <tr style=\"text-align: right;\">\n",
       "      <th></th>\n",
       "      <th>ride_id</th>\n",
       "      <th>rideable_type</th>\n",
       "      <th>starttime</th>\n",
       "      <th>stoptime</th>\n",
       "      <th>from_station_name</th>\n",
       "      <th>from_station_id</th>\n",
       "      <th>to_station_name</th>\n",
       "      <th>to_station_id</th>\n",
       "      <th>start_lat</th>\n",
       "      <th>start_lng</th>\n",
       "      <th>end_lat</th>\n",
       "      <th>end_lng</th>\n",
       "      <th>usertype</th>\n",
       "    </tr>\n",
       "  </thead>\n",
       "  <tbody>\n",
       "  </tbody>\n",
       "</table>\n",
       "</div>"
      ],
      "text/plain": [
       "Empty DataFrame\n",
       "Columns: [ride_id, rideable_type, starttime, stoptime, from_station_name, from_station_id, to_station_name, to_station_id, start_lat, start_lng, end_lat, end_lng, usertype]\n",
       "Index: []"
      ]
     },
     "execution_count": 221,
     "metadata": {},
     "output_type": "execute_result"
    }
   ],
   "source": [
    "df8.loc[df8['stoptime'].dt.year != 2020]"
   ]
  },
  {
   "cell_type": "code",
   "execution_count": 222,
   "metadata": {},
   "outputs": [
    {
     "name": "stdout",
     "output_type": "stream",
     "text": [
      "<class 'pandas.core.frame.DataFrame'>\n",
      "RangeIndex: 388653 entries, 0 to 388652\n",
      "Data columns (total 13 columns):\n",
      " #   Column             Non-Null Count   Dtype         \n",
      "---  ------             --------------   -----         \n",
      " 0   ride_id            388653 non-null  object        \n",
      " 1   rideable_type      388653 non-null  object        \n",
      " 2   starttime          388653 non-null  datetime64[ns]\n",
      " 3   stoptime           388653 non-null  datetime64[ns]\n",
      " 4   from_station_name  388653 non-null  object        \n",
      " 5   from_station_id    388653 non-null  int64         \n",
      " 6   to_station_name    388653 non-null  object        \n",
      " 7   to_station_id      388653 non-null  int64         \n",
      " 8   start_lat          388653 non-null  float64       \n",
      " 9   start_lng          388653 non-null  float64       \n",
      " 10  end_lat            388653 non-null  float64       \n",
      " 11  end_lng            388653 non-null  float64       \n",
      " 12  usertype           388653 non-null  object        \n",
      "dtypes: datetime64[ns](2), float64(4), int64(2), object(5)\n",
      "memory usage: 38.5+ MB\n"
     ]
    }
   ],
   "source": [
    "df8.info(verbose=True)"
   ]
  },
  {
   "cell_type": "code",
   "execution_count": 223,
   "metadata": {},
   "outputs": [
    {
     "name": "stdout",
     "output_type": "stream",
     "text": [
      "<class 'pandas.core.frame.DataFrame'>\n",
      "RangeIndex: 259716 entries, 0 to 259715\n",
      "Data columns (total 13 columns):\n",
      " #   Column              Non-Null Count   Dtype  \n",
      "---  ------              --------------   -----  \n",
      " 0   ride_id             259716 non-null  object \n",
      " 1   rideable_type       259716 non-null  object \n",
      " 2   started_at          259716 non-null  object \n",
      " 3   ended_at            259716 non-null  object \n",
      " 4   start_station_name  235392 non-null  object \n",
      " 5   start_station_id    235282 non-null  float64\n",
      " 6   end_station_name    232967 non-null  object \n",
      " 7   end_station_id      232890 non-null  float64\n",
      " 8   start_lat           259716 non-null  float64\n",
      " 9   start_lng           259716 non-null  float64\n",
      " 10  end_lat             259432 non-null  float64\n",
      " 11  end_lng             259432 non-null  float64\n",
      " 12  member_casual       259716 non-null  object \n",
      "dtypes: float64(6), object(7)\n",
      "memory usage: 25.8+ MB\n"
     ]
    }
   ],
   "source": [
    "df9.info(verbose=True)"
   ]
  },
  {
   "cell_type": "code",
   "execution_count": 224,
   "metadata": {},
   "outputs": [],
   "source": [
    "df9.rename(columns = {'started_at':'starttime'}, inplace = True)\n",
    "df9.rename(columns = {'ended_at':'stoptime'}, inplace = True)\n",
    "df9.rename(columns = {'start_station_name':'from_station_name'}, inplace = True)\n",
    "df9.rename(columns = {'start_station_id':'from_station_id'}, inplace = True)\n",
    "df9.rename(columns = {'end_station_name':'to_station_name'}, inplace = True)\n",
    "df9.rename(columns = {'end_station_id':'to_station_id'}, inplace = True)\n",
    "df9.rename(columns = {'member_casual':'usertype'}, inplace = True)"
   ]
  },
  {
   "cell_type": "code",
   "execution_count": 225,
   "metadata": {},
   "outputs": [],
   "source": [
    "df9[\"starttime\"] = pd.to_datetime(df9[\"starttime\"])\n",
    "df9[\"stoptime\"] = pd.to_datetime(df9[\"stoptime\"])"
   ]
  },
  {
   "cell_type": "code",
   "execution_count": 226,
   "metadata": {},
   "outputs": [],
   "source": [
    "df9['usertype'].replace({'member':'Subscriber', 'casual':'Customer'}, inplace=True)"
   ]
  },
  {
   "cell_type": "code",
   "execution_count": 227,
   "metadata": {},
   "outputs": [],
   "source": [
    "df9.loc[df9['from_station_name'].isnull(), 'from_station_name'] = 'Unknown'\n",
    "df9.loc[df9['from_station_id'].isnull(), 'from_station_id'] = 0\n",
    "df9.loc[df9['to_station_name'].isnull(), 'to_station_name'] = 'Unknown'\n",
    "df9.loc[df9['to_station_id'].isnull(), 'to_station_id'] = 0\n",
    "df9.loc[df9['end_lat'].isnull(), 'end_lat'] = 0\n",
    "df9.loc[df9['end_lng'].isnull(), 'end_lng'] = 0"
   ]
  },
  {
   "cell_type": "code",
   "execution_count": 228,
   "metadata": {},
   "outputs": [],
   "source": [
    "df9['to_station_id'] = df9['to_station_id'].astype(int)\n",
    "df9['from_station_id'] = df9['from_station_id'].astype(int)"
   ]
  },
  {
   "cell_type": "code",
   "execution_count": 229,
   "metadata": {},
   "outputs": [
    {
     "data": {
      "text/html": [
       "<div>\n",
       "<style scoped>\n",
       "    .dataframe tbody tr th:only-of-type {\n",
       "        vertical-align: middle;\n",
       "    }\n",
       "\n",
       "    .dataframe tbody tr th {\n",
       "        vertical-align: top;\n",
       "    }\n",
       "\n",
       "    .dataframe thead th {\n",
       "        text-align: right;\n",
       "    }\n",
       "</style>\n",
       "<table border=\"1\" class=\"dataframe\">\n",
       "  <thead>\n",
       "    <tr style=\"text-align: right;\">\n",
       "      <th></th>\n",
       "      <th>ride_id</th>\n",
       "      <th>rideable_type</th>\n",
       "      <th>starttime</th>\n",
       "      <th>stoptime</th>\n",
       "      <th>from_station_name</th>\n",
       "      <th>from_station_id</th>\n",
       "      <th>to_station_name</th>\n",
       "      <th>to_station_id</th>\n",
       "      <th>start_lat</th>\n",
       "      <th>start_lng</th>\n",
       "      <th>end_lat</th>\n",
       "      <th>end_lng</th>\n",
       "      <th>usertype</th>\n",
       "    </tr>\n",
       "  </thead>\n",
       "  <tbody>\n",
       "  </tbody>\n",
       "</table>\n",
       "</div>"
      ],
      "text/plain": [
       "Empty DataFrame\n",
       "Columns: [ride_id, rideable_type, starttime, stoptime, from_station_name, from_station_id, to_station_name, to_station_id, start_lat, start_lng, end_lat, end_lng, usertype]\n",
       "Index: []"
      ]
     },
     "execution_count": 229,
     "metadata": {},
     "output_type": "execute_result"
    }
   ],
   "source": [
    "df9.loc[df9['starttime'].dt.year != 2020]"
   ]
  },
  {
   "cell_type": "code",
   "execution_count": 230,
   "metadata": {},
   "outputs": [
    {
     "data": {
      "text/html": [
       "<div>\n",
       "<style scoped>\n",
       "    .dataframe tbody tr th:only-of-type {\n",
       "        vertical-align: middle;\n",
       "    }\n",
       "\n",
       "    .dataframe tbody tr th {\n",
       "        vertical-align: top;\n",
       "    }\n",
       "\n",
       "    .dataframe thead th {\n",
       "        text-align: right;\n",
       "    }\n",
       "</style>\n",
       "<table border=\"1\" class=\"dataframe\">\n",
       "  <thead>\n",
       "    <tr style=\"text-align: right;\">\n",
       "      <th></th>\n",
       "      <th>ride_id</th>\n",
       "      <th>rideable_type</th>\n",
       "      <th>starttime</th>\n",
       "      <th>stoptime</th>\n",
       "      <th>from_station_name</th>\n",
       "      <th>from_station_id</th>\n",
       "      <th>to_station_name</th>\n",
       "      <th>to_station_id</th>\n",
       "      <th>start_lat</th>\n",
       "      <th>start_lng</th>\n",
       "      <th>end_lat</th>\n",
       "      <th>end_lng</th>\n",
       "      <th>usertype</th>\n",
       "    </tr>\n",
       "  </thead>\n",
       "  <tbody>\n",
       "  </tbody>\n",
       "</table>\n",
       "</div>"
      ],
      "text/plain": [
       "Empty DataFrame\n",
       "Columns: [ride_id, rideable_type, starttime, stoptime, from_station_name, from_station_id, to_station_name, to_station_id, start_lat, start_lng, end_lat, end_lng, usertype]\n",
       "Index: []"
      ]
     },
     "execution_count": 230,
     "metadata": {},
     "output_type": "execute_result"
    }
   ],
   "source": [
    "df9.loc[df9['stoptime'].dt.year != 2020]"
   ]
  },
  {
   "cell_type": "code",
   "execution_count": 231,
   "metadata": {},
   "outputs": [
    {
     "name": "stdout",
     "output_type": "stream",
     "text": [
      "<class 'pandas.core.frame.DataFrame'>\n",
      "RangeIndex: 259716 entries, 0 to 259715\n",
      "Data columns (total 13 columns):\n",
      " #   Column             Non-Null Count   Dtype         \n",
      "---  ------             --------------   -----         \n",
      " 0   ride_id            259716 non-null  object        \n",
      " 1   rideable_type      259716 non-null  object        \n",
      " 2   starttime          259716 non-null  datetime64[ns]\n",
      " 3   stoptime           259716 non-null  datetime64[ns]\n",
      " 4   from_station_name  259716 non-null  object        \n",
      " 5   from_station_id    259716 non-null  int64         \n",
      " 6   to_station_name    259716 non-null  object        \n",
      " 7   to_station_id      259716 non-null  int64         \n",
      " 8   start_lat          259716 non-null  float64       \n",
      " 9   start_lng          259716 non-null  float64       \n",
      " 10  end_lat            259716 non-null  float64       \n",
      " 11  end_lng            259716 non-null  float64       \n",
      " 12  usertype           259716 non-null  object        \n",
      "dtypes: datetime64[ns](2), float64(4), int64(2), object(5)\n",
      "memory usage: 25.8+ MB\n"
     ]
    }
   ],
   "source": [
    "df9.info(verbose=True)"
   ]
  },
  {
   "cell_type": "code",
   "execution_count": 232,
   "metadata": {},
   "outputs": [
    {
     "name": "stdout",
     "output_type": "stream",
     "text": [
      "<class 'pandas.core.frame.DataFrame'>\n",
      "RangeIndex: 131573 entries, 0 to 131572\n",
      "Data columns (total 13 columns):\n",
      " #   Column              Non-Null Count   Dtype  \n",
      "---  ------              --------------   -----  \n",
      " 0   ride_id             131573 non-null  object \n",
      " 1   rideable_type       131573 non-null  object \n",
      " 2   started_at          131573 non-null  object \n",
      " 3   ended_at            131573 non-null  object \n",
      " 4   start_station_name  119874 non-null  object \n",
      " 5   start_station_id    119874 non-null  object \n",
      " 6   end_station_name    118336 non-null  object \n",
      " 7   end_station_id      118336 non-null  object \n",
      " 8   start_lat           131573 non-null  float64\n",
      " 9   start_lng           131573 non-null  float64\n",
      " 10  end_lat             131462 non-null  float64\n",
      " 11  end_lng             131462 non-null  float64\n",
      " 12  member_casual       131573 non-null  object \n",
      "dtypes: float64(4), object(9)\n",
      "memory usage: 13.0+ MB\n"
     ]
    }
   ],
   "source": [
    "df10.info(verbose=True)"
   ]
  },
  {
   "cell_type": "code",
   "execution_count": 233,
   "metadata": {},
   "outputs": [],
   "source": [
    "df10.rename(columns = {'started_at':'starttime'}, inplace = True)\n",
    "df10.rename(columns = {'ended_at':'stoptime'}, inplace = True)\n",
    "df10.rename(columns = {'start_station_name':'from_station_name'}, inplace = True)\n",
    "df10.rename(columns = {'start_station_id':'from_station_id'}, inplace = True)\n",
    "df10.rename(columns = {'end_station_name':'to_station_name'}, inplace = True)\n",
    "df10.rename(columns = {'end_station_id':'to_station_id'}, inplace = True)\n",
    "df10.rename(columns = {'member_casual':'usertype'}, inplace = True)"
   ]
  },
  {
   "cell_type": "code",
   "execution_count": 234,
   "metadata": {},
   "outputs": [],
   "source": [
    "df10[\"starttime\"] = pd.to_datetime(df10[\"starttime\"])\n",
    "df10[\"stoptime\"] = pd.to_datetime(df10[\"stoptime\"])"
   ]
  },
  {
   "cell_type": "code",
   "execution_count": 235,
   "metadata": {},
   "outputs": [],
   "source": [
    "df10['usertype'].replace({'member':'Subscriber', 'casual':'Customer'}, inplace=True)"
   ]
  },
  {
   "cell_type": "code",
   "execution_count": 236,
   "metadata": {},
   "outputs": [],
   "source": [
    "df10.loc[df10['from_station_name'].isnull(), 'from_station_name'] = 'Unknown'\n",
    "df10.loc[df10['from_station_id'].isnull(), 'from_station_id'] = 0\n",
    "df10.loc[df10['to_station_name'].isnull(), 'to_station_name'] = 'Unknown'\n",
    "df10.loc[df10['to_station_id'].isnull(), 'to_station_id'] = 0\n",
    "df10.loc[df10['end_lat'].isnull(), 'end_lat'] = 0\n",
    "df10.loc[df10['end_lng'].isnull(), 'end_lng'] = 0"
   ]
  },
  {
   "cell_type": "code",
   "execution_count": 237,
   "metadata": {},
   "outputs": [
    {
     "data": {
      "text/plain": [
       "array(['13157', 0, 'TA1309000006', 'KA1503000043', 'TA1309000014',\n",
       "       'TA1305000006', '13042', '604', 'TA1307000127', 'TA1306000003',\n",
       "       'TA1306000006', 'TA1306000011', 'SL-013', '13124', '13137',\n",
       "       '13074', 'TA1309000066', 'TA1307000138', 'TA1307000052', '660',\n",
       "       'TA1309000059', '13268', 'KA1503000002', 'TA1307000140', '639',\n",
       "       '13294', 'TA1307000062', '15655', 'TA1307000064', 'TA1306000010',\n",
       "       '13058', '13179', 'KA1504000076', '13431', 'KA1503000070', '13197',\n",
       "       '13006', 'KA1503000040', 'TA1307000129', 'TA1307000159', '13326',\n",
       "       'SL-009', 'TA1307000120', '13332', 'TA1305000011', 'TA1307000070',\n",
       "       'TA1305000030', 'TA1309000008', '15545', '13162', 'TA1307000039',\n",
       "       '13164', 'KA1504000104', '13353', '13022', '13036', '13139',\n",
       "       'KA1503000064', '16920', '13243', '13017', 'TA1305000001', '13028',\n",
       "       'TA1307000121', 'TA1307000130', 'SL-005', '13165', 'TA1308000019',\n",
       "       'KA1503000041', 'TA1305000009', 'KA1503000072', 'TA1309000004',\n",
       "       'TA1309000035', 'KA1504000129', 'TA1306000007', 'TA1309000043',\n",
       "       'KA1503000034', 'KA1504000140', 'TA1307000126', 'KA1503000012',\n",
       "       'TA1307000166', 'TA1305000041', 'TA1309000019', '15628',\n",
       "       'TA1308000049', 'TA1305000035', 'KA1504000116', '573', '13224',\n",
       "       'KA1504000149', 'TA1307000156', '13276', 'TA1306000032', '13136',\n",
       "       '15664', '15529', '13134', 'TA1307000041', 'KA1503000022',\n",
       "       'KA1504000096', 'TA1308000005', '13409', '13229', '13109', '15578',\n",
       "       '657', '17660', 'TA1309000018', 'KA1504000103', '644',\n",
       "       'KA1504000106', 'TA1309000007', 'TA1309000001', '13389', '13253',\n",
       "       '20252.0', '13292', 'KA1504000159', '20110', '595', 'KA1504000164',\n",
       "       '15491', '13245', '15546', 'TA1307000128', 'TA1309000037', '13258',\n",
       "       'RP-004', '13156', 'TA1305000022', 'TA1307000005', '13263',\n",
       "       '20116', '15640', 'TA1309000049', 'TA1309000039', '20207',\n",
       "       'TA1308000002', '13277', '13241', 'TA1305000010', 'KA1504000135',\n",
       "       '637', '636', '523', '18016', '13303', 'KA1504000082',\n",
       "       'KA1503000047', 'KA1503000033', '583', 'KA1504000148', '527',\n",
       "       '13133', 'TA1309000011', '520', '15692', '15645', 'TA1309000055',\n",
       "       '16940', '20238', '20120', 'TA1307000163', '13071', '13213', '545',\n",
       "       '530', '20205', '16903', '20109', 'TA1307000161', '593', '20236',\n",
       "       '560', '15682', '575', '535', 'KA1503000013', 'KA1503000018',\n",
       "       'SL-011', 'TA1308000050', 'TA1307000131', '13296', '13073',\n",
       "       'TA1308000021', '13146', 'TA1305000029', 'TA1305000014', '13323',\n",
       "       'TA1305000005', '599', '13269', 'TA1309000029', '13008', '576',\n",
       "       'TA1309000063', '15691', 'KA1503000053', '518', '13206',\n",
       "       'TA1305000037', 'KA1503000038', '13290', '16943', '15631', '20231',\n",
       "       '543', '653', 'KA1504000161', 'TA1308000038', '15470', '13091',\n",
       "       '15644', '514', '605', '20233', 'KA1503000054', 'TA1307000119',\n",
       "       '20227', '13341', 'TA1308000001', 'TA1309000061', '18069',\n",
       "       'KA1504000093', '15535', 'TA1305000039', 'TA1307000111', '620',\n",
       "       'TA1308000029', 'KA1503000020', '534', 'KA1503000075', '596',\n",
       "       '587', 'KA1504000167', '18062', '15623', '623', 'KA1503000044',\n",
       "       '15634', '20221', 'KA1504000168', '15654', '20222', '13053',\n",
       "       '15534', '16950', '651', '536',\n",
       "       'Hubbard Bike-checking (LBS-WH-TEST)', 'KA1706005015', '18022',\n",
       "       'TA1309000053', 'KA1706005007', '15550', '15632', '13056', '15689',\n",
       "       '13247', 'TA1306000008', 'KA1504000141', 'KA1503000068',\n",
       "       'KA1503000052', '585', '15667', 'KA1504000156', '15575', '15446',\n",
       "       '540', '20226', 'E007', 'KA1503000045', 'E002', 'KA1503000003',\n",
       "       '13307', '632', '15442', '549', '13045', '577', 'TA1307000001',\n",
       "       '13379', '638', '15642', '15539', 'TA1308000036', '15530',\n",
       "       'TA1305000025', 'TA1309000002', 'KA1504000142', 'TA1308000026',\n",
       "       '16937', 'E008', '15449', '20229', '16913', '15622',\n",
       "       'KA1504000151', 'KA1504000113', '15646', 'TA1308000014',\n",
       "       'TA1309000021', 'TA1308000007', '13345', '546', '13331',\n",
       "       'TA1308000013', '16806', '559', '594', '554', 'KA1504000134',\n",
       "       '15666', 'KA1504000109', 'TA1309000003', '661', 'TA1309000025',\n",
       "       'TA1307000158', '15615', '643', 'TA1309000032', 'KA1504000091',\n",
       "       '13191', '20105', '16010', 'TA1305000004', '600', '646', 'E011',\n",
       "       'KA150400009X', 'KA1504000097', '13285', 'TA1308000006',\n",
       "       'KA1504000155', '574', 'KA1504000130', 'LF-005', '13300',\n",
       "       'KA1504000152', '13193', '13029', 'KA1503000059', '20242',\n",
       "       'KA1503000028', 'TA1308000045', 'TA1309000030', 'KA1503000065',\n",
       "       'KA1504000086', '20244', 'KA1503000025', '517', 'TA1308000035',\n",
       "       '13061', 'TA1309000041', '13143', 'KA1504000175', 'TA1307000149',\n",
       "       'RN-', '537', '13216', 'TA1306000002', 'KA1504000090', '13256',\n",
       "       'TA1307000160', 'WL-008', '13288', 'KA1504000147', 'KA1503000021',\n",
       "       'KA1503000023', 'KA1503000049', '13196', '15445', '13221',\n",
       "       'KA17018068', '15621', '13398', 'TA1307000107', '13128',\n",
       "       'TA1307000048', 'TA1309000010', '13084', '515', 'TA1306000009',\n",
       "       'SL-006', 'KA1504000102', 'TA1305000017', 'KA1504000078', '18025',\n",
       "       'KA1504000110', '16991', 'RP-005', '16994', 'E014', 'KA1503000007',\n",
       "       'TA1308000009', 'TA1309000026', '13257', '15686', '13021',\n",
       "       'KA1503000001', '13235', '20246.0', 'TA1306000026', 'KA1503000019',\n",
       "       '13434', 'TA1307000139', '13194', '20104', 'KA1503000031', '567',\n",
       "       '13108', '13430', '570', '650', 'KA1503000011', '553',\n",
       "       'KA1503000030', '18003', 'KP1705001026', 'KA1504000146', '13016',\n",
       "       'KA1504000079', '13001', 'TA1306000013', 'TA1306000025', '13034',\n",
       "       '13427', 'TA1307000115', 'KA1504000101', 'TA1309000064',\n",
       "       'TA1309000027', 'TA1309000036', '13063', '15542', 'TA1308000012',\n",
       "       'TA1306000015', 'WL-011', 'KA1503000029', 'KA1503000074', '13192',\n",
       "       '13289', 'TA1307000136', 'TA1307000143', '13249', '13432',\n",
       "       'TA1307000142', 'TA1306000014', '13319', 'KA1504000133', '13068',\n",
       "       '15571', 'TA1307000150', 'KA1503000015', '13150', '13135', '13158',\n",
       "       '13265', 'TA1307000151', '13278', '13099', '13037', '13075',\n",
       "       'TA1309000023', 'TA1305000003', 'TA1309000024', '13138', '13160',\n",
       "       'TA1309000015', 'TA1307000144', 'TA1307000006', 'TA1308000031',\n",
       "       'TA1305000020', '658', 'KA1504000127', 'TA1308000047', 'RP-009',\n",
       "       '655', 'RP-002', '13325', '525', 'TA1307000134', 'TA1309000050',\n",
       "       'TA1306000012', 'TA1309000012', 'LP-', 'KA1504000158',\n",
       "       'KA1504000080', 'TA1306000016', 'TA1307000038', '18067', '13085',\n",
       "       '590', '13242', 'RP-001', 'SL-010', '15585', 'KA1504000114',\n",
       "       '13155', 'WL-012', '18058', 'SL-007', '13266', 'KA1504000143',\n",
       "       '13089', 'KA1503000066', '624', '13081', '631', 'TA1308000043',\n",
       "       'KA1504000160', '519', 'KA1503000046', '557', '662', '561',\n",
       "       'KA1503000051', 'KA17018054', '20119', '16906', 'TA1307000124',\n",
       "       '13304', '20243', 'TA1309000042', '598', '20234', '20254.0',\n",
       "       '18017', 'KA1503000073', 'KA1503000027', '13080', 'KA1504000128',\n",
       "       '13033', '13259', 'KA1504000117', '16933', '16948', '564', '16912',\n",
       "       'KA1503000069', '15651', 'TA1309000058', '20239', 'TA1308000023',\n",
       "       '15687', '15597', 'KA1503000055', 'TA1307000066', 'KA1503000071',\n",
       "       'RP-006', '15544', '16921', '13154', 'KA1503000032', '13354',\n",
       "       'KA1503000004', '13050', '20232', '20206', '579', '16932', '13338',\n",
       "       'KA1503000010', '20121', '20107', '20210', 'KA1503000009', '13420',\n",
       "       '13011', '15648', '16953', '13083', '647', '13102', '16905', '642',\n",
       "       '13144', 'RP-008', 'SL-008', '15685', '331', '580', '588', '654',\n",
       "       '20127', '20223', 'TA1307000113', '13217', 'TA1307000117',\n",
       "       'KA1504000139', 'TA1307000153', '20108', 'TA1305000032',\n",
       "       'TA1305000002', '13132', 'KA1503000024', '571', '20235', '20131',\n",
       "       '572', '15541', '15443', 'KA1504000126', '20218', 'RP-007',\n",
       "       'KA1503000005', 'TA1308000046', '15652', '15668', 'SL-012',\n",
       "       '15624', 'E006', 'TA1309000067', '20230', 'TA1309000051', '582',\n",
       "       'TA1305000034', 'TA1307000061', '16918', '20118', '20129',\n",
       "       'TA1307000044', '13215', 'KA1504000171', '13059', '13271',\n",
       "       'TA1308000022', 'TA1309000033', 'TA1307000164', '15653', '15643',\n",
       "       '528', 'TA1306000029', '13163', 'KA1503000014', '13248', '15650',\n",
       "       '13096', 'KA1504000162', '20103', '16907', '584', '592', '20203'],\n",
       "      dtype=object)"
      ]
     },
     "execution_count": 237,
     "metadata": {},
     "output_type": "execute_result"
    }
   ],
   "source": [
    "df10['from_station_id'].unique()"
   ]
  },
  {
   "cell_type": "code",
   "execution_count": 238,
   "metadata": {},
   "outputs": [
    {
     "data": {
      "text/plain": [
       "array(['TA1306000003', 0, 'TA1305000006', 'TA1306000011', 'TA1309000014',\n",
       "       'KA1503000043', 'TA1309000006', '604', '13042', 'TA1307000127',\n",
       "       '13157', 'TA1306000006', 'TA1305000011', 'KA1503000041', '632',\n",
       "       'TA1307000140', '13197', 'TA1309000049', 'TA1307000039', '13294',\n",
       "       'TA1309000039', 'TA1309000043', 'TA1306000032', 'TA1307000156',\n",
       "       '13409', '13137', 'TA1307000166', '523', '15575', 'TA1307000052',\n",
       "       '20242', '527', '15578', '13109', 'TA1309000037', '520', '15646',\n",
       "       'KA1504000151', 'KA1504000129', '13022', '13229', 'KA1503000064',\n",
       "       'TA1309000019', 'TA1307000041', 'TA1305000041', 'TA1305000039',\n",
       "       'KA1503000022', '13276', 'TA1309000004', 'TA1305000014', '13269',\n",
       "       'TA1308000019', 'TA1309000055', '17660', '13071', 'TA1307000163',\n",
       "       'KA1504000148', '13389', 'TA1308000050', 'TA1305000001',\n",
       "       'TA1307000121', '13028', 'TA1307000130', '16915', '13263',\n",
       "       'TA1309000035', '13058', 'KA1504000080', '15442', '13331', '15642',\n",
       "       '638', '15539', 'TA1305000029', 'TA1307000001', '13001',\n",
       "       'KA1504000155', 'TA1307000158', '13253', '13133', '576', 'SL-005',\n",
       "       '637', 'KA1503000053', '15645', '13165', '15691', 'TA1308000002',\n",
       "       '18022', '583', '15529', '13292', 'TA1307000159', '15545', '595',\n",
       "       '15655', '13277', 'KA1504000104', '13136', '13139', 'TA1306000007',\n",
       "       '13134', 'KA1504000149', 'KA1503000072', '13162', 'KA1504000116',\n",
       "       '20207', '15664', '20205', '13278', 'TA1309000024', '13158',\n",
       "       '13265', 'TA1308000047', 'TA1307000151', '655', 'KA1504000156',\n",
       "       'KA1503000052', '15550', 'TA1309000066', '660', '13074',\n",
       "       'TA1307000138', '573', 'TA1308000021', '13243', '13017', '15546',\n",
       "       'KA1504000103', '644', 'KA1504000106', '650', '15692',\n",
       "       'KA1504000130', 'TA1308000036', '549', 'TA1307000126', '13036',\n",
       "       '20236', 'RP-004', '16920', '20120', 'KA1503000033', '13146',\n",
       "       '15624', 'TA1305000030', 'TA1307000120', '639', 'TA1307000070',\n",
       "       'TA1306000010', 'TA1305000035', 'SL-013', 'KA1504000140', '15682',\n",
       "       '13245', 'KA1503000034', '15535', '13053', 'TA1307000111', '13341',\n",
       "       '15470', 'TA1307000062', '13164', '15491', '13353', '20110',\n",
       "       'TA1307000119', 'TA1309000063', 'E007',\n",
       "       'Hubbard Bike-checking (LBS-WH-TEST)', '20246.0', 'TA1307000124',\n",
       "       'TA1306000016', 'KA1504000135', 'TA1305000010', '13241',\n",
       "       'TA1305000022', 'TA1307000128', 'TA1309000029', '657', '13258',\n",
       "       '642', '16905', 'TA1307000115', '13160', '13213', '20252.0',\n",
       "       'TA1307000064', '13179', 'TA1308000005', '13332', 'TA1309000008',\n",
       "       'KA1504000096', '530', '20231', '636', 'TA1309000001',\n",
       "       'TA1309000007', 'KA1504000142', '16940', '13398', 'TA1307000107',\n",
       "       '13128', '13156', '514', '20116', 'TA1308000001', '15446',\n",
       "       'KA1503000038', '596', '13290', '16916', '599', '13124',\n",
       "       'TA1308000049', '15628', 'KA1503000018', '20109', 'TA1307000161',\n",
       "       '20233', 'SL-012', 'LF-005', 'TA1308000035', '20227',\n",
       "       'KA1504000093', 'TA1309000061', 'TA1308000029', '620',\n",
       "       'KA1503000020', '534', '18069', '16903', 'KA1503000075', '605',\n",
       "       '13206', '15667', '585', '13303', '20238', '13091', '20222',\n",
       "       'KA1504000167', '15654', 'TA1307000129', '13006', 'KA1503000070',\n",
       "       'KA1504000076', '16943', '15634', '15623', '13008', 'TA1309000011',\n",
       "       'TA1309000018', 'KA1503000068', 'KA1503000045', 'KA1503000054',\n",
       "       'TA1307000131', '577', '20244', '13296', '587', '15631', '13073',\n",
       "       '536', '20247.0', '518', 'SL-011', '15644', 'TA1307000005',\n",
       "       'KA1504000161', '15534', '15689', '18062', 'KA1706005007', '13247',\n",
       "       '13056', '15632', '571', '623', 'KA1503000044', 'KA1504000141',\n",
       "       '540', '20226', 'TA1307000144', '13319', '13326', 'KA1503000004',\n",
       "       '13338', '15648', 'KA1503000028', '15651', 'TA1309000058', '13011',\n",
       "       '13050', '13307', '594', '546', '600', 'TA1308000007', '20235',\n",
       "       '20251.0', 'TA1306000008', 'E002', '13379', '13135', '16906',\n",
       "       '15599', 'KA1503000012', 'KA1503000047', 'TA1309000021',\n",
       "       'TA1309000002', '13016', 'KA1504000079', 'TA1307000006', '13045',\n",
       "       'E008', '16970', '15622', 'KA1504000113', '15449', '16937',\n",
       "       '16913', 'TA1308000026', 'KA1503000010', '18016', '15530', '16806',\n",
       "       'TA1308000013', 'TA1308000014', 'TA1305000025', '13345', '559',\n",
       "       'KA1503000025', '20229', '554', 'KA1504000134', 'KA1504000097',\n",
       "       '13191', 'KA1504000109', 'TA1305000004', '16010', '15666',\n",
       "       'TA1309000053', 'TA1308000006', 'TA1309000032', 'TA1309000003',\n",
       "       '517', 'KA1504000091', '643', 'TA1309000025', 'KA1503000019',\n",
       "       '661', '20234', 'KA1504000175', '13143', '13196', 'TA1309000041',\n",
       "       '13061', '16991', '20104', 'KA1503000021', '13021', 'TA1308000009',\n",
       "       '13434', '13257', '13285', 'KA150400009X', '15615', '646', 'E011',\n",
       "       'KA1504000152', 'TA1308000045', 'TA1309000030', '13300',\n",
       "       'KA1503000023', '16994', 'TA1305000009', 'KA1503000002', 'SL-009',\n",
       "       '13224', '535', 'KA1503000014', 'KA1504000090', 'TA1306000029',\n",
       "       '13096', '13163', '13248', 'KA1504000162', '592', '584',\n",
       "       'TA1307000149', 'RN-', '13029', 'TA1306000002', '13256',\n",
       "       'KA1503000059', '13193', '13216', '13080', '537', '13268',\n",
       "       'KA1504000146', 'TA1306000013', 'TA1308000043', 'TA1309000059',\n",
       "       '13431', 'KA1504000159', 'KA1503000040', 'KA1504000164', '545',\n",
       "       'TA1307000160', '572', 'KA1504000147', '13288', 'WL-008', 'RP-005',\n",
       "       '15621', '15445', '20254.0', 'SL-007', '662', 'TA1306000025',\n",
       "       'KA1503000049', 'TA1306000009', 'KA1503000065', 'LP-', '13304',\n",
       "       'TA1309000012', 'KA1504000158', '13084', 'KA1504000078', '13221',\n",
       "       'KA17018068', 'SL-006', 'KA1504000102', 'TA1305000017',\n",
       "       'TA1309000026', '515', 'TA1307000048', 'E014', 'TA1309000010',\n",
       "       'KA1504000110', 'KA1503000007', '13194', '15686', '13063',\n",
       "       'TA1309000036', '13235', 'TA1307000139', 'TA1306000026',\n",
       "       'KA1503000031', '15687', 'KA1503000027', '20206', 'KA1706005015',\n",
       "       '16950', '15652', '15597', '15650', '18017', '570', '13108',\n",
       "       '13430', '13034', 'TA1309000015', '13242', '13323', '13259',\n",
       "       '13192', 'TA1308000012', 'TA1306000015', 'KA1503000024',\n",
       "       'KA1503000074', 'WL-011', 'KA1503000055', 'KA1503000029', '567',\n",
       "       '15571', '13150', 'KA1503000011', '13132', '15585', '13325',\n",
       "       'WL-012', 'RP-002', 'TA1307000142', 'TA1306000014', '13249',\n",
       "       'TA1307000150', 'TA1307000136', 'TA1309000027', 'TA1309000067',\n",
       "       'E006', '16918', 'TA1309000042', '13154', '13033', '20243', '580',\n",
       "       'TA1309000050', 'KA1503000005', '13217', 'TA1307000113', '331',\n",
       "       'RP-008', 'SL-008', '654', 'TA1307000153', 'KA1504000139',\n",
       "       'KA1504000117', '525', '20127', 'KA1503000046', '631', '13138',\n",
       "       'KA1504000160', 'KA1504000143', '18067', 'KA1503000030', '564',\n",
       "       'KA1503000051', '543', 'KA1504000101', '598', 'TA1307000134',\n",
       "       'TA1306000012', 'KA1504000114', 'TA1308000023', '18058',\n",
       "       'KA1503000009', '13427', 'KA1503000073', 'TA1308000031',\n",
       "       'TA1305000020', '13089', '590', '519', 'KA1503000066', '20239',\n",
       "       'KA1504000168', '16921', 'TA1307000038', '15544', 'RP-006',\n",
       "       'KA1503000071', '18025', '15640', '658', '624', 'KA1504000127',\n",
       "       '586', '20119', '557', '20232', '561', '575', 'KA1503000013',\n",
       "       '553', 'TA1305000002', 'TA1307000117', 'KA1504000126', '15541',\n",
       "       '15668', '16933', '15685', '15542', 'KA1503000069', '16948',\n",
       "       '20121', '13266', '20113', 'KA1504000133', '13068', 'KA1504000128',\n",
       "       'KA1503000015', '20107', '20210', '649', '16953', 'SL-010',\n",
       "       '13432', '13083', '647', '13085', 'KA17018054', 'RP-001', '593',\n",
       "       '13102', '13144', '13155', 'TA1307000066', 'TA1309000064', '13081',\n",
       "       'KA1503000032', '13289', 'TA1307000143', '579', '13354', '13420',\n",
       "       '652', '560', '556', 'TA1305000032', 'TA1305000005',\n",
       "       'TA1305000037', 'TA1308000038', 'KA1503000003', '15443', '20218',\n",
       "       '13075', 'TA1305000003', 'RP-009', 'TA1309000023', '13099',\n",
       "       '13037', '16932', '18003', 'KP1705001026', '653', 'TA1309000051',\n",
       "       'TA1308000046', '20103', 'RP-007', '20223', '20230', '582',\n",
       "       'TA1307000061', 'TA1305000034', 'KA1504000086', 'TA1307000164',\n",
       "       '13271', '13059', '15643', 'TA1308000022', 'KA1504000171',\n",
       "       'TA1309000033', '13215', '15653', 'TA1307000044', '528', '16907',\n",
       "       '20213'], dtype=object)"
      ]
     },
     "execution_count": 238,
     "metadata": {},
     "output_type": "execute_result"
    }
   ],
   "source": [
    "df10['to_station_id'].unique()"
   ]
  },
  {
   "cell_type": "code",
   "execution_count": 239,
   "metadata": {},
   "outputs": [
    {
     "data": {
      "text/html": [
       "<div>\n",
       "<style scoped>\n",
       "    .dataframe tbody tr th:only-of-type {\n",
       "        vertical-align: middle;\n",
       "    }\n",
       "\n",
       "    .dataframe tbody tr th {\n",
       "        vertical-align: top;\n",
       "    }\n",
       "\n",
       "    .dataframe thead th {\n",
       "        text-align: right;\n",
       "    }\n",
       "</style>\n",
       "<table border=\"1\" class=\"dataframe\">\n",
       "  <thead>\n",
       "    <tr style=\"text-align: right;\">\n",
       "      <th></th>\n",
       "      <th>ride_id</th>\n",
       "      <th>rideable_type</th>\n",
       "      <th>starttime</th>\n",
       "      <th>stoptime</th>\n",
       "      <th>from_station_name</th>\n",
       "      <th>from_station_id</th>\n",
       "      <th>to_station_name</th>\n",
       "      <th>to_station_id</th>\n",
       "      <th>start_lat</th>\n",
       "      <th>start_lng</th>\n",
       "      <th>end_lat</th>\n",
       "      <th>end_lng</th>\n",
       "      <th>usertype</th>\n",
       "    </tr>\n",
       "  </thead>\n",
       "  <tbody>\n",
       "  </tbody>\n",
       "</table>\n",
       "</div>"
      ],
      "text/plain": [
       "Empty DataFrame\n",
       "Columns: [ride_id, rideable_type, starttime, stoptime, from_station_name, from_station_id, to_station_name, to_station_id, start_lat, start_lng, end_lat, end_lng, usertype]\n",
       "Index: []"
      ]
     },
     "execution_count": 239,
     "metadata": {},
     "output_type": "execute_result"
    }
   ],
   "source": [
    "df10.loc[df10['starttime'].dt.year != 2020]"
   ]
  },
  {
   "cell_type": "code",
   "execution_count": 240,
   "metadata": {},
   "outputs": [
    {
     "data": {
      "text/html": [
       "<div>\n",
       "<style scoped>\n",
       "    .dataframe tbody tr th:only-of-type {\n",
       "        vertical-align: middle;\n",
       "    }\n",
       "\n",
       "    .dataframe tbody tr th {\n",
       "        vertical-align: top;\n",
       "    }\n",
       "\n",
       "    .dataframe thead th {\n",
       "        text-align: right;\n",
       "    }\n",
       "</style>\n",
       "<table border=\"1\" class=\"dataframe\">\n",
       "  <thead>\n",
       "    <tr style=\"text-align: right;\">\n",
       "      <th></th>\n",
       "      <th>ride_id</th>\n",
       "      <th>rideable_type</th>\n",
       "      <th>starttime</th>\n",
       "      <th>stoptime</th>\n",
       "      <th>from_station_name</th>\n",
       "      <th>from_station_id</th>\n",
       "      <th>to_station_name</th>\n",
       "      <th>to_station_id</th>\n",
       "      <th>start_lat</th>\n",
       "      <th>start_lng</th>\n",
       "      <th>end_lat</th>\n",
       "      <th>end_lng</th>\n",
       "      <th>usertype</th>\n",
       "    </tr>\n",
       "  </thead>\n",
       "  <tbody>\n",
       "    <tr>\n",
       "      <th>20788</th>\n",
       "      <td>156C48F51D1D6946</td>\n",
       "      <td>docked_bike</td>\n",
       "      <td>2020-12-27 14:33:12</td>\n",
       "      <td>2021-01-03 08:54:11</td>\n",
       "      <td>Kingsbury St &amp; Kinzie St</td>\n",
       "      <td>KA1503000043</td>\n",
       "      <td>Stetson Ave &amp; South Water St</td>\n",
       "      <td>TA1308000029</td>\n",
       "      <td>41.889177</td>\n",
       "      <td>-87.638506</td>\n",
       "      <td>41.886835</td>\n",
       "      <td>-87.622320</td>\n",
       "      <td>Customer</td>\n",
       "    </tr>\n",
       "    <tr>\n",
       "      <th>22990</th>\n",
       "      <td>51A988D6F5627000</td>\n",
       "      <td>classic_bike</td>\n",
       "      <td>2020-12-31 23:58:21</td>\n",
       "      <td>2021-01-01 00:06:33</td>\n",
       "      <td>Clark St &amp; Wrightwood Ave</td>\n",
       "      <td>TA1305000014</td>\n",
       "      <td>Lakeview Ave &amp; Fullerton Pkwy</td>\n",
       "      <td>TA1309000019</td>\n",
       "      <td>41.929546</td>\n",
       "      <td>-87.643118</td>\n",
       "      <td>41.925858</td>\n",
       "      <td>-87.638973</td>\n",
       "      <td>Subscriber</td>\n",
       "    </tr>\n",
       "    <tr>\n",
       "      <th>29997</th>\n",
       "      <td>E5B488CCEBCC1E55</td>\n",
       "      <td>classic_bike</td>\n",
       "      <td>2020-12-31 23:38:09</td>\n",
       "      <td>2021-01-01 01:00:11</td>\n",
       "      <td>Ellis Ave &amp; 53rd St</td>\n",
       "      <td>KA1503000052</td>\n",
       "      <td>Ellis Ave &amp; 53rd St</td>\n",
       "      <td>KA1503000052</td>\n",
       "      <td>41.799336</td>\n",
       "      <td>-87.600958</td>\n",
       "      <td>41.799336</td>\n",
       "      <td>-87.600958</td>\n",
       "      <td>Subscriber</td>\n",
       "    </tr>\n",
       "    <tr>\n",
       "      <th>30026</th>\n",
       "      <td>D22FE17A8E72AD97</td>\n",
       "      <td>classic_bike</td>\n",
       "      <td>2020-12-31 23:38:01</td>\n",
       "      <td>2021-01-01 01:00:14</td>\n",
       "      <td>Ellis Ave &amp; 53rd St</td>\n",
       "      <td>KA1503000052</td>\n",
       "      <td>Ellis Ave &amp; 53rd St</td>\n",
       "      <td>KA1503000052</td>\n",
       "      <td>41.799336</td>\n",
       "      <td>-87.600958</td>\n",
       "      <td>41.799336</td>\n",
       "      <td>-87.600958</td>\n",
       "      <td>Subscriber</td>\n",
       "    </tr>\n",
       "    <tr>\n",
       "      <th>36765</th>\n",
       "      <td>5BFD765E1AA1C8DF</td>\n",
       "      <td>docked_bike</td>\n",
       "      <td>2020-12-31 23:43:28</td>\n",
       "      <td>2021-01-01 05:56:30</td>\n",
       "      <td>Broadway &amp; Sheridan Rd</td>\n",
       "      <td>13323</td>\n",
       "      <td>Wood St &amp; Taylor St (Temp)</td>\n",
       "      <td>13285</td>\n",
       "      <td>41.952833</td>\n",
       "      <td>-87.649993</td>\n",
       "      <td>41.869265</td>\n",
       "      <td>-87.673731</td>\n",
       "      <td>Customer</td>\n",
       "    </tr>\n",
       "    <tr>\n",
       "      <th>39997</th>\n",
       "      <td>E8C2C87AA8F1B32C</td>\n",
       "      <td>docked_bike</td>\n",
       "      <td>2020-12-31 13:38:59</td>\n",
       "      <td>2021-01-02 15:04:25</td>\n",
       "      <td>Michigan Ave &amp; 8th St</td>\n",
       "      <td>623</td>\n",
       "      <td>Millennium Park</td>\n",
       "      <td>13008</td>\n",
       "      <td>41.872773</td>\n",
       "      <td>-87.623981</td>\n",
       "      <td>41.881032</td>\n",
       "      <td>-87.624084</td>\n",
       "      <td>Customer</td>\n",
       "    </tr>\n",
       "    <tr>\n",
       "      <th>50520</th>\n",
       "      <td>3AC62C69F2194654</td>\n",
       "      <td>classic_bike</td>\n",
       "      <td>2020-12-31 23:53:49</td>\n",
       "      <td>2021-01-01 00:11:42</td>\n",
       "      <td>Lakefront Trail &amp; Bryn Mawr Ave</td>\n",
       "      <td>KA1504000152</td>\n",
       "      <td>Montrose Harbor</td>\n",
       "      <td>TA1308000012</td>\n",
       "      <td>41.984037</td>\n",
       "      <td>-87.652310</td>\n",
       "      <td>41.963982</td>\n",
       "      <td>-87.638181</td>\n",
       "      <td>Customer</td>\n",
       "    </tr>\n",
       "    <tr>\n",
       "      <th>50522</th>\n",
       "      <td>499B286D832148C8</td>\n",
       "      <td>classic_bike</td>\n",
       "      <td>2020-12-31 23:53:54</td>\n",
       "      <td>2021-01-01 00:11:41</td>\n",
       "      <td>Lakefront Trail &amp; Bryn Mawr Ave</td>\n",
       "      <td>KA1504000152</td>\n",
       "      <td>Montrose Harbor</td>\n",
       "      <td>TA1308000012</td>\n",
       "      <td>41.984037</td>\n",
       "      <td>-87.652310</td>\n",
       "      <td>41.963982</td>\n",
       "      <td>-87.638181</td>\n",
       "      <td>Subscriber</td>\n",
       "    </tr>\n",
       "    <tr>\n",
       "      <th>69304</th>\n",
       "      <td>C033F58BD41DBD84</td>\n",
       "      <td>docked_bike</td>\n",
       "      <td>2020-12-31 23:35:17</td>\n",
       "      <td>2021-01-01 00:38:51</td>\n",
       "      <td>State St &amp; Van Buren St</td>\n",
       "      <td>TA1305000035</td>\n",
       "      <td>Dearborn St &amp; Van Buren St</td>\n",
       "      <td>624</td>\n",
       "      <td>41.877181</td>\n",
       "      <td>-87.627844</td>\n",
       "      <td>41.876268</td>\n",
       "      <td>-87.629155</td>\n",
       "      <td>Customer</td>\n",
       "    </tr>\n",
       "    <tr>\n",
       "      <th>69308</th>\n",
       "      <td>D7E4A303661822D6</td>\n",
       "      <td>classic_bike</td>\n",
       "      <td>2020-12-31 23:36:00</td>\n",
       "      <td>2021-01-01 00:38:55</td>\n",
       "      <td>State St &amp; Van Buren St</td>\n",
       "      <td>TA1305000035</td>\n",
       "      <td>Dearborn St &amp; Van Buren St</td>\n",
       "      <td>624</td>\n",
       "      <td>41.877181</td>\n",
       "      <td>-87.627844</td>\n",
       "      <td>41.876268</td>\n",
       "      <td>-87.629155</td>\n",
       "      <td>Customer</td>\n",
       "    </tr>\n",
       "    <tr>\n",
       "      <th>71187</th>\n",
       "      <td>EB9A0F2419C8C1D7</td>\n",
       "      <td>docked_bike</td>\n",
       "      <td>2020-12-31 21:20:10</td>\n",
       "      <td>2021-01-01 06:39:04</td>\n",
       "      <td>Michigan Ave &amp; Ida B Wells Dr</td>\n",
       "      <td>TA1305000010</td>\n",
       "      <td>Clark St &amp; Ida B Wells Dr</td>\n",
       "      <td>TA1305000009</td>\n",
       "      <td>41.876243</td>\n",
       "      <td>-87.624426</td>\n",
       "      <td>41.875933</td>\n",
       "      <td>-87.630585</td>\n",
       "      <td>Customer</td>\n",
       "    </tr>\n",
       "    <tr>\n",
       "      <th>71755</th>\n",
       "      <td>E68968968CAD43B4</td>\n",
       "      <td>docked_bike</td>\n",
       "      <td>2020-12-31 19:42:45</td>\n",
       "      <td>2021-01-02 22:03:22</td>\n",
       "      <td>Blue Island Ave &amp; 18th St</td>\n",
       "      <td>13135</td>\n",
       "      <td>Blue Island Ave &amp; 18th St</td>\n",
       "      <td>13135</td>\n",
       "      <td>41.857556</td>\n",
       "      <td>-87.661535</td>\n",
       "      <td>41.857556</td>\n",
       "      <td>-87.661535</td>\n",
       "      <td>Customer</td>\n",
       "    </tr>\n",
       "    <tr>\n",
       "      <th>90312</th>\n",
       "      <td>2E9C38899710A708</td>\n",
       "      <td>classic_bike</td>\n",
       "      <td>2020-12-31 23:59:59</td>\n",
       "      <td>2021-01-01 00:03:32</td>\n",
       "      <td>State St &amp; 33rd St</td>\n",
       "      <td>13216</td>\n",
       "      <td>Calumet Ave &amp; 33rd St</td>\n",
       "      <td>13217</td>\n",
       "      <td>41.834734</td>\n",
       "      <td>-87.625813</td>\n",
       "      <td>41.834900</td>\n",
       "      <td>-87.617930</td>\n",
       "      <td>Subscriber</td>\n",
       "    </tr>\n",
       "    <tr>\n",
       "      <th>97294</th>\n",
       "      <td>C847D44CAD979072</td>\n",
       "      <td>docked_bike</td>\n",
       "      <td>2020-12-27 14:39:01</td>\n",
       "      <td>2021-01-02 13:01:10</td>\n",
       "      <td>2112 W Peterson Ave</td>\n",
       "      <td>KA1504000155</td>\n",
       "      <td>Warren Park East</td>\n",
       "      <td>RP-002</td>\n",
       "      <td>41.991178</td>\n",
       "      <td>-87.683593</td>\n",
       "      <td>42.004550</td>\n",
       "      <td>-87.680666</td>\n",
       "      <td>Customer</td>\n",
       "    </tr>\n",
       "    <tr>\n",
       "      <th>105844</th>\n",
       "      <td>F76CEE3F8C6A6EE3</td>\n",
       "      <td>classic_bike</td>\n",
       "      <td>2020-12-31 13:10:22</td>\n",
       "      <td>2021-01-01 09:40:13</td>\n",
       "      <td>State St &amp; Van Buren St</td>\n",
       "      <td>TA1305000035</td>\n",
       "      <td>Wabash Ave &amp; Roosevelt Rd</td>\n",
       "      <td>TA1305000002</td>\n",
       "      <td>41.877181</td>\n",
       "      <td>-87.627844</td>\n",
       "      <td>41.867227</td>\n",
       "      <td>-87.625961</td>\n",
       "      <td>Customer</td>\n",
       "    </tr>\n",
       "    <tr>\n",
       "      <th>109407</th>\n",
       "      <td>03291D925EEA3A0A</td>\n",
       "      <td>classic_bike</td>\n",
       "      <td>2020-12-31 23:56:14</td>\n",
       "      <td>2021-01-01 00:18:18</td>\n",
       "      <td>Shore Dr &amp; 55th St</td>\n",
       "      <td>TA1308000009</td>\n",
       "      <td>Shore Dr &amp; 55th St</td>\n",
       "      <td>TA1308000009</td>\n",
       "      <td>41.795212</td>\n",
       "      <td>-87.580715</td>\n",
       "      <td>41.795212</td>\n",
       "      <td>-87.580715</td>\n",
       "      <td>Subscriber</td>\n",
       "    </tr>\n",
       "    <tr>\n",
       "      <th>109440</th>\n",
       "      <td>90A6CDA61B711C40</td>\n",
       "      <td>classic_bike</td>\n",
       "      <td>2020-12-31 23:55:51</td>\n",
       "      <td>2021-01-01 00:17:59</td>\n",
       "      <td>Shore Dr &amp; 55th St</td>\n",
       "      <td>TA1308000009</td>\n",
       "      <td>Shore Dr &amp; 55th St</td>\n",
       "      <td>TA1308000009</td>\n",
       "      <td>41.795212</td>\n",
       "      <td>-87.580715</td>\n",
       "      <td>41.795212</td>\n",
       "      <td>-87.580715</td>\n",
       "      <td>Subscriber</td>\n",
       "    </tr>\n",
       "  </tbody>\n",
       "</table>\n",
       "</div>"
      ],
      "text/plain": [
       "                 ride_id rideable_type           starttime  \\\n",
       "20788   156C48F51D1D6946   docked_bike 2020-12-27 14:33:12   \n",
       "22990   51A988D6F5627000  classic_bike 2020-12-31 23:58:21   \n",
       "29997   E5B488CCEBCC1E55  classic_bike 2020-12-31 23:38:09   \n",
       "30026   D22FE17A8E72AD97  classic_bike 2020-12-31 23:38:01   \n",
       "36765   5BFD765E1AA1C8DF   docked_bike 2020-12-31 23:43:28   \n",
       "39997   E8C2C87AA8F1B32C   docked_bike 2020-12-31 13:38:59   \n",
       "50520   3AC62C69F2194654  classic_bike 2020-12-31 23:53:49   \n",
       "50522   499B286D832148C8  classic_bike 2020-12-31 23:53:54   \n",
       "69304   C033F58BD41DBD84   docked_bike 2020-12-31 23:35:17   \n",
       "69308   D7E4A303661822D6  classic_bike 2020-12-31 23:36:00   \n",
       "71187   EB9A0F2419C8C1D7   docked_bike 2020-12-31 21:20:10   \n",
       "71755   E68968968CAD43B4   docked_bike 2020-12-31 19:42:45   \n",
       "90312   2E9C38899710A708  classic_bike 2020-12-31 23:59:59   \n",
       "97294   C847D44CAD979072   docked_bike 2020-12-27 14:39:01   \n",
       "105844  F76CEE3F8C6A6EE3  classic_bike 2020-12-31 13:10:22   \n",
       "109407  03291D925EEA3A0A  classic_bike 2020-12-31 23:56:14   \n",
       "109440  90A6CDA61B711C40  classic_bike 2020-12-31 23:55:51   \n",
       "\n",
       "                  stoptime                from_station_name from_station_id  \\\n",
       "20788  2021-01-03 08:54:11         Kingsbury St & Kinzie St    KA1503000043   \n",
       "22990  2021-01-01 00:06:33        Clark St & Wrightwood Ave    TA1305000014   \n",
       "29997  2021-01-01 01:00:11              Ellis Ave & 53rd St    KA1503000052   \n",
       "30026  2021-01-01 01:00:14              Ellis Ave & 53rd St    KA1503000052   \n",
       "36765  2021-01-01 05:56:30           Broadway & Sheridan Rd           13323   \n",
       "39997  2021-01-02 15:04:25            Michigan Ave & 8th St             623   \n",
       "50520  2021-01-01 00:11:42  Lakefront Trail & Bryn Mawr Ave    KA1504000152   \n",
       "50522  2021-01-01 00:11:41  Lakefront Trail & Bryn Mawr Ave    KA1504000152   \n",
       "69304  2021-01-01 00:38:51          State St & Van Buren St    TA1305000035   \n",
       "69308  2021-01-01 00:38:55          State St & Van Buren St    TA1305000035   \n",
       "71187  2021-01-01 06:39:04    Michigan Ave & Ida B Wells Dr    TA1305000010   \n",
       "71755  2021-01-02 22:03:22        Blue Island Ave & 18th St           13135   \n",
       "90312  2021-01-01 00:03:32               State St & 33rd St           13216   \n",
       "97294  2021-01-02 13:01:10              2112 W Peterson Ave    KA1504000155   \n",
       "105844 2021-01-01 09:40:13          State St & Van Buren St    TA1305000035   \n",
       "109407 2021-01-01 00:18:18               Shore Dr & 55th St    TA1308000009   \n",
       "109440 2021-01-01 00:17:59               Shore Dr & 55th St    TA1308000009   \n",
       "\n",
       "                      to_station_name to_station_id  start_lat  start_lng  \\\n",
       "20788    Stetson Ave & South Water St  TA1308000029  41.889177 -87.638506   \n",
       "22990   Lakeview Ave & Fullerton Pkwy  TA1309000019  41.929546 -87.643118   \n",
       "29997             Ellis Ave & 53rd St  KA1503000052  41.799336 -87.600958   \n",
       "30026             Ellis Ave & 53rd St  KA1503000052  41.799336 -87.600958   \n",
       "36765      Wood St & Taylor St (Temp)         13285  41.952833 -87.649993   \n",
       "39997                 Millennium Park         13008  41.872773 -87.623981   \n",
       "50520                 Montrose Harbor  TA1308000012  41.984037 -87.652310   \n",
       "50522                 Montrose Harbor  TA1308000012  41.984037 -87.652310   \n",
       "69304      Dearborn St & Van Buren St           624  41.877181 -87.627844   \n",
       "69308      Dearborn St & Van Buren St           624  41.877181 -87.627844   \n",
       "71187       Clark St & Ida B Wells Dr  TA1305000009  41.876243 -87.624426   \n",
       "71755       Blue Island Ave & 18th St         13135  41.857556 -87.661535   \n",
       "90312           Calumet Ave & 33rd St         13217  41.834734 -87.625813   \n",
       "97294                Warren Park East        RP-002  41.991178 -87.683593   \n",
       "105844      Wabash Ave & Roosevelt Rd  TA1305000002  41.877181 -87.627844   \n",
       "109407             Shore Dr & 55th St  TA1308000009  41.795212 -87.580715   \n",
       "109440             Shore Dr & 55th St  TA1308000009  41.795212 -87.580715   \n",
       "\n",
       "          end_lat    end_lng    usertype  \n",
       "20788   41.886835 -87.622320    Customer  \n",
       "22990   41.925858 -87.638973  Subscriber  \n",
       "29997   41.799336 -87.600958  Subscriber  \n",
       "30026   41.799336 -87.600958  Subscriber  \n",
       "36765   41.869265 -87.673731    Customer  \n",
       "39997   41.881032 -87.624084    Customer  \n",
       "50520   41.963982 -87.638181    Customer  \n",
       "50522   41.963982 -87.638181  Subscriber  \n",
       "69304   41.876268 -87.629155    Customer  \n",
       "69308   41.876268 -87.629155    Customer  \n",
       "71187   41.875933 -87.630585    Customer  \n",
       "71755   41.857556 -87.661535    Customer  \n",
       "90312   41.834900 -87.617930  Subscriber  \n",
       "97294   42.004550 -87.680666    Customer  \n",
       "105844  41.867227 -87.625961    Customer  \n",
       "109407  41.795212 -87.580715  Subscriber  \n",
       "109440  41.795212 -87.580715  Subscriber  "
      ]
     },
     "execution_count": 240,
     "metadata": {},
     "output_type": "execute_result"
    }
   ],
   "source": [
    "df10.loc[df10['stoptime'].dt.year != 2020]"
   ]
  },
  {
   "cell_type": "code",
   "execution_count": 241,
   "metadata": {},
   "outputs": [],
   "source": [
    "df10.drop([20788, 22990, 29997, 30026, 36765, 39997, 50520, 50522, 69304, 69308, 71187, 71755, 90312, 97294, 105844, 109407, 109440], axis=0, inplace=True)"
   ]
  },
  {
   "cell_type": "code",
   "execution_count": 242,
   "metadata": {},
   "outputs": [
    {
     "name": "stdout",
     "output_type": "stream",
     "text": [
      "<class 'pandas.core.frame.DataFrame'>\n",
      "Int64Index: 131556 entries, 0 to 131572\n",
      "Data columns (total 13 columns):\n",
      " #   Column             Non-Null Count   Dtype         \n",
      "---  ------             --------------   -----         \n",
      " 0   ride_id            131556 non-null  object        \n",
      " 1   rideable_type      131556 non-null  object        \n",
      " 2   starttime          131556 non-null  datetime64[ns]\n",
      " 3   stoptime           131556 non-null  datetime64[ns]\n",
      " 4   from_station_name  131556 non-null  object        \n",
      " 5   from_station_id    131556 non-null  object        \n",
      " 6   to_station_name    131556 non-null  object        \n",
      " 7   to_station_id      131556 non-null  object        \n",
      " 8   start_lat          131556 non-null  float64       \n",
      " 9   start_lng          131556 non-null  float64       \n",
      " 10  end_lat            131556 non-null  float64       \n",
      " 11  end_lng            131556 non-null  float64       \n",
      " 12  usertype           131556 non-null  object        \n",
      "dtypes: datetime64[ns](2), float64(4), object(7)\n",
      "memory usage: 14.1+ MB\n"
     ]
    }
   ],
   "source": [
    "df10.info(verbose=True)"
   ]
  },
  {
   "cell_type": "markdown",
   "metadata": {},
   "source": [
    "* concat and result in 1 cleaned CSVs. Revert from variables back to cleaned CSV. "
   ]
  }
 ],
 "metadata": {
  "kernelspec": {
   "display_name": "Python 3.10.6 64-bit",
   "language": "python",
   "name": "python3"
  },
  "language_info": {
   "codemirror_mode": {
    "name": "ipython",
    "version": 3
   },
   "file_extension": ".py",
   "mimetype": "text/x-python",
   "name": "python",
   "nbconvert_exporter": "python",
   "pygments_lexer": "ipython3",
   "version": "3.10.6"
  },
  "orig_nbformat": 4,
  "vscode": {
   "interpreter": {
    "hash": "aee8b7b246df8f9039afb4144a1f6fd8d2ca17a180786b69acc140d282b71a49"
   }
  }
 },
 "nbformat": 4,
 "nbformat_minor": 2
}

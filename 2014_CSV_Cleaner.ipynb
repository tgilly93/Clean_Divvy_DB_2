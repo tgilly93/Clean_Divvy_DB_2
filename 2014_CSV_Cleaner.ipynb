{
 "cells": [
  {
   "cell_type": "code",
   "execution_count": 1,
   "metadata": {},
   "outputs": [],
   "source": [
    "import pandas as pd\n",
    "import numpy as np"
   ]
  },
  {
   "cell_type": "code",
   "execution_count": 2,
   "metadata": {},
   "outputs": [],
   "source": [
    "df1 = pd.read_csv('/Users/terrygilmore/Desktop/Divvy_DB/Divvy_Stations_Trips_2014/Divvy_Trips_2014_Q1Q2.csv')\n",
    "df2 = pd.read_csv('/Users/terrygilmore/Desktop/Divvy_DB/Divvy_Stations_Trips_2014/Divvy_Trips_2014-Q3-07.csv')\n",
    "df3 = pd.read_csv('/Users/terrygilmore/Desktop/Divvy_DB/Divvy_Stations_Trips_2014/Divvy_Trips_2014-Q3-0809.csv')\n",
    "df4 = pd.read_csv('/Users/terrygilmore/Desktop/Divvy_DB/Divvy_Stations_Trips_2014/Divvy_Trips_2014-Q4.csv')"
   ]
  },
  {
   "cell_type": "code",
   "execution_count": 3,
   "metadata": {},
   "outputs": [
    {
     "name": "stdout",
     "output_type": "stream",
     "text": [
      "<class 'pandas.core.frame.DataFrame'>\n",
      "RangeIndex: 905699 entries, 0 to 905698\n",
      "Data columns (total 12 columns):\n",
      " #   Column             Non-Null Count   Dtype  \n",
      "---  ------             --------------   -----  \n",
      " 0   trip_id            905699 non-null  int64  \n",
      " 1   starttime          905699 non-null  object \n",
      " 2   stoptime           905699 non-null  object \n",
      " 3   bikeid             905699 non-null  int64  \n",
      " 4   tripduration       905699 non-null  int64  \n",
      " 5   from_station_id    905699 non-null  int64  \n",
      " 6   from_station_name  905699 non-null  object \n",
      " 7   to_station_id      905699 non-null  int64  \n",
      " 8   to_station_name    905699 non-null  object \n",
      " 9   usertype           905699 non-null  object \n",
      " 10  gender             591677 non-null  object \n",
      " 11  birthyear          591722 non-null  float64\n",
      "dtypes: float64(1), int64(5), object(6)\n",
      "memory usage: 82.9+ MB\n"
     ]
    }
   ],
   "source": [
    "df1.info(verbose=True)"
   ]
  },
  {
   "cell_type": "code",
   "execution_count": 4,
   "metadata": {},
   "outputs": [],
   "source": [
    "df1[\"starttime\"] = pd.to_datetime(df1[\"starttime\"])\n",
    "df1[\"stoptime\"] = pd.to_datetime(df1[\"stoptime\"])"
   ]
  },
  {
   "cell_type": "code",
   "execution_count": 5,
   "metadata": {},
   "outputs": [],
   "source": [
    "df1.loc[df1['gender'].isnull(), 'gender'] = 'Unknown'\n",
    "df1.loc[df1['birthyear'].isnull(), 'birthyear'] = 0"
   ]
  },
  {
   "cell_type": "code",
   "execution_count": 6,
   "metadata": {},
   "outputs": [
    {
     "name": "stdout",
     "output_type": "stream",
     "text": [
      "<class 'pandas.core.frame.DataFrame'>\n",
      "RangeIndex: 905699 entries, 0 to 905698\n",
      "Data columns (total 12 columns):\n",
      " #   Column             Non-Null Count   Dtype         \n",
      "---  ------             --------------   -----         \n",
      " 0   trip_id            905699 non-null  int64         \n",
      " 1   starttime          905699 non-null  datetime64[ns]\n",
      " 2   stoptime           905699 non-null  datetime64[ns]\n",
      " 3   bikeid             905699 non-null  int64         \n",
      " 4   tripduration       905699 non-null  int64         \n",
      " 5   from_station_id    905699 non-null  int64         \n",
      " 6   from_station_name  905699 non-null  object        \n",
      " 7   to_station_id      905699 non-null  int64         \n",
      " 8   to_station_name    905699 non-null  object        \n",
      " 9   usertype           905699 non-null  object        \n",
      " 10  gender             905699 non-null  object        \n",
      " 11  birthyear          905699 non-null  float64       \n",
      "dtypes: datetime64[ns](2), float64(1), int64(5), object(4)\n",
      "memory usage: 82.9+ MB\n"
     ]
    }
   ],
   "source": [
    "df1.info()"
   ]
  },
  {
   "cell_type": "code",
   "execution_count": 7,
   "metadata": {},
   "outputs": [
    {
     "name": "stdout",
     "output_type": "stream",
     "text": [
      "<class 'pandas.core.frame.DataFrame'>\n",
      "RangeIndex: 410340 entries, 0 to 410339\n",
      "Data columns (total 12 columns):\n",
      " #   Column             Non-Null Count   Dtype  \n",
      "---  ------             --------------   -----  \n",
      " 0   trip_id            410340 non-null  int64  \n",
      " 1   starttime          410340 non-null  object \n",
      " 2   stoptime           410340 non-null  object \n",
      " 3   bikeid             410340 non-null  int64  \n",
      " 4   tripduration       410340 non-null  int64  \n",
      " 5   from_station_id    410340 non-null  int64  \n",
      " 6   from_station_name  410340 non-null  object \n",
      " 7   to_station_id      410340 non-null  int64  \n",
      " 8   to_station_name    410340 non-null  object \n",
      " 9   usertype           410340 non-null  object \n",
      " 10  gender             251774 non-null  object \n",
      " 11  birthyear          251745 non-null  float64\n",
      "dtypes: float64(1), int64(5), object(6)\n",
      "memory usage: 37.6+ MB\n"
     ]
    }
   ],
   "source": [
    "df2.info(verbose=True)"
   ]
  },
  {
   "cell_type": "code",
   "execution_count": 8,
   "metadata": {},
   "outputs": [],
   "source": [
    "df2.loc[df2['gender'].isnull(), 'gender'] = 'Unknown'\n",
    "df2.loc[df2['birthyear'].isnull(), 'birthyear'] = 0"
   ]
  },
  {
   "cell_type": "code",
   "execution_count": 9,
   "metadata": {},
   "outputs": [],
   "source": [
    "df2[\"starttime\"] = pd.to_datetime(df2[\"starttime\"])\n",
    "df2[\"stoptime\"] = pd.to_datetime(df2[\"stoptime\"])"
   ]
  },
  {
   "cell_type": "code",
   "execution_count": 10,
   "metadata": {},
   "outputs": [
    {
     "name": "stdout",
     "output_type": "stream",
     "text": [
      "<class 'pandas.core.frame.DataFrame'>\n",
      "RangeIndex: 410340 entries, 0 to 410339\n",
      "Data columns (total 12 columns):\n",
      " #   Column             Non-Null Count   Dtype         \n",
      "---  ------             --------------   -----         \n",
      " 0   trip_id            410340 non-null  int64         \n",
      " 1   starttime          410340 non-null  datetime64[ns]\n",
      " 2   stoptime           410340 non-null  datetime64[ns]\n",
      " 3   bikeid             410340 non-null  int64         \n",
      " 4   tripduration       410340 non-null  int64         \n",
      " 5   from_station_id    410340 non-null  int64         \n",
      " 6   from_station_name  410340 non-null  object        \n",
      " 7   to_station_id      410340 non-null  int64         \n",
      " 8   to_station_name    410340 non-null  object        \n",
      " 9   usertype           410340 non-null  object        \n",
      " 10  gender             410340 non-null  object        \n",
      " 11  birthyear          410340 non-null  float64       \n",
      "dtypes: datetime64[ns](2), float64(1), int64(5), object(4)\n",
      "memory usage: 37.6+ MB\n"
     ]
    }
   ],
   "source": [
    "df2.info(verbose=True)"
   ]
  },
  {
   "cell_type": "code",
   "execution_count": 11,
   "metadata": {},
   "outputs": [
    {
     "name": "stdout",
     "output_type": "stream",
     "text": [
      "<class 'pandas.core.frame.DataFrame'>\n",
      "RangeIndex: 700630 entries, 0 to 700629\n",
      "Data columns (total 12 columns):\n",
      " #   Column             Non-Null Count   Dtype  \n",
      "---  ------             --------------   -----  \n",
      " 0   trip_id            700630 non-null  int64  \n",
      " 1   starttime          700630 non-null  object \n",
      " 2   stoptime           700630 non-null  object \n",
      " 3   bikeid             700630 non-null  int64  \n",
      " 4   tripduration       700630 non-null  int64  \n",
      " 5   from_station_id    700630 non-null  int64  \n",
      " 6   from_station_name  700630 non-null  object \n",
      " 7   to_station_id      700630 non-null  int64  \n",
      " 8   to_station_name    700630 non-null  object \n",
      " 9   usertype           700630 non-null  object \n",
      " 10  gender             451527 non-null  object \n",
      " 11  birthyear          451540 non-null  float64\n",
      "dtypes: float64(1), int64(5), object(6)\n",
      "memory usage: 64.1+ MB\n"
     ]
    }
   ],
   "source": [
    "df3.info(verbose=True)"
   ]
  },
  {
   "cell_type": "code",
   "execution_count": 12,
   "metadata": {},
   "outputs": [],
   "source": [
    "df3[\"starttime\"] = pd.to_datetime(df3[\"starttime\"])\n",
    "df3[\"stoptime\"] = pd.to_datetime(df3[\"stoptime\"])"
   ]
  },
  {
   "cell_type": "code",
   "execution_count": 13,
   "metadata": {},
   "outputs": [],
   "source": [
    "df3.loc[df3['gender'].isnull(), 'gender'] = 'Unknown'\n",
    "df3.loc[df3['birthyear'].isnull(), 'birthyear'] = 0"
   ]
  },
  {
   "cell_type": "code",
   "execution_count": 14,
   "metadata": {},
   "outputs": [
    {
     "name": "stdout",
     "output_type": "stream",
     "text": [
      "<class 'pandas.core.frame.DataFrame'>\n",
      "RangeIndex: 700630 entries, 0 to 700629\n",
      "Data columns (total 12 columns):\n",
      " #   Column             Non-Null Count   Dtype         \n",
      "---  ------             --------------   -----         \n",
      " 0   trip_id            700630 non-null  int64         \n",
      " 1   starttime          700630 non-null  datetime64[ns]\n",
      " 2   stoptime           700630 non-null  datetime64[ns]\n",
      " 3   bikeid             700630 non-null  int64         \n",
      " 4   tripduration       700630 non-null  int64         \n",
      " 5   from_station_id    700630 non-null  int64         \n",
      " 6   from_station_name  700630 non-null  object        \n",
      " 7   to_station_id      700630 non-null  int64         \n",
      " 8   to_station_name    700630 non-null  object        \n",
      " 9   usertype           700630 non-null  object        \n",
      " 10  gender             700630 non-null  object        \n",
      " 11  birthyear          700630 non-null  float64       \n",
      "dtypes: datetime64[ns](2), float64(1), int64(5), object(4)\n",
      "memory usage: 64.1+ MB\n"
     ]
    }
   ],
   "source": [
    "df3.info(verbose=True)"
   ]
  },
  {
   "cell_type": "code",
   "execution_count": 15,
   "metadata": {},
   "outputs": [
    {
     "name": "stdout",
     "output_type": "stream",
     "text": [
      "<class 'pandas.core.frame.DataFrame'>\n",
      "RangeIndex: 437965 entries, 0 to 437964\n",
      "Data columns (total 12 columns):\n",
      " #   Column             Non-Null Count   Dtype  \n",
      "---  ------             --------------   -----  \n",
      " 0   trip_id            437965 non-null  int64  \n",
      " 1   starttime          437965 non-null  object \n",
      " 2   stoptime           437965 non-null  object \n",
      " 3   bikeid             437965 non-null  int64  \n",
      " 4   tripduration       437965 non-null  int64  \n",
      " 5   from_station_id    437965 non-null  int64  \n",
      " 6   from_station_name  437965 non-null  object \n",
      " 7   to_station_id      437965 non-null  int64  \n",
      " 8   to_station_name    437965 non-null  object \n",
      " 9   usertype           437965 non-null  object \n",
      " 10  gender             368376 non-null  object \n",
      " 11  birthyear          368411 non-null  float64\n",
      "dtypes: float64(1), int64(5), object(6)\n",
      "memory usage: 40.1+ MB\n"
     ]
    }
   ],
   "source": [
    "df4.info(verbose=True)"
   ]
  },
  {
   "cell_type": "code",
   "execution_count": 16,
   "metadata": {},
   "outputs": [
    {
     "data": {
      "text/html": [
       "<div>\n",
       "<style scoped>\n",
       "    .dataframe tbody tr th:only-of-type {\n",
       "        vertical-align: middle;\n",
       "    }\n",
       "\n",
       "    .dataframe tbody tr th {\n",
       "        vertical-align: top;\n",
       "    }\n",
       "\n",
       "    .dataframe thead th {\n",
       "        text-align: right;\n",
       "    }\n",
       "</style>\n",
       "<table border=\"1\" class=\"dataframe\">\n",
       "  <thead>\n",
       "    <tr style=\"text-align: right;\">\n",
       "      <th></th>\n",
       "      <th>trip_id</th>\n",
       "      <th>starttime</th>\n",
       "      <th>stoptime</th>\n",
       "      <th>bikeid</th>\n",
       "      <th>tripduration</th>\n",
       "      <th>from_station_id</th>\n",
       "      <th>from_station_name</th>\n",
       "      <th>to_station_id</th>\n",
       "      <th>to_station_name</th>\n",
       "      <th>usertype</th>\n",
       "      <th>gender</th>\n",
       "      <th>birthyear</th>\n",
       "    </tr>\n",
       "  </thead>\n",
       "  <tbody>\n",
       "    <tr>\n",
       "      <th>0</th>\n",
       "      <td>4413167</td>\n",
       "      <td>12/31/2014 23:54</td>\n",
       "      <td>12/31/2014 23:57</td>\n",
       "      <td>1880</td>\n",
       "      <td>193</td>\n",
       "      <td>296</td>\n",
       "      <td>Broadway &amp; Belmont Ave</td>\n",
       "      <td>334</td>\n",
       "      <td>Lake Shore Dr &amp; Belmont Ave</td>\n",
       "      <td>Subscriber</td>\n",
       "      <td>Male</td>\n",
       "      <td>1989.0</td>\n",
       "    </tr>\n",
       "    <tr>\n",
       "      <th>1</th>\n",
       "      <td>4413166</td>\n",
       "      <td>12/31/2014 23:50</td>\n",
       "      <td>12/31/2014 23:52</td>\n",
       "      <td>1153</td>\n",
       "      <td>161</td>\n",
       "      <td>264</td>\n",
       "      <td>Stetson Ave &amp; South Water St</td>\n",
       "      <td>44</td>\n",
       "      <td>State St &amp; Randolph St</td>\n",
       "      <td>Subscriber</td>\n",
       "      <td>Male</td>\n",
       "      <td>1984.0</td>\n",
       "    </tr>\n",
       "    <tr>\n",
       "      <th>2</th>\n",
       "      <td>4413165</td>\n",
       "      <td>12/31/2014 23:48</td>\n",
       "      <td>1/1/2015 0:38</td>\n",
       "      <td>1946</td>\n",
       "      <td>3002</td>\n",
       "      <td>168</td>\n",
       "      <td>Michigan Ave &amp; 14th St</td>\n",
       "      <td>168</td>\n",
       "      <td>Michigan Ave &amp; 14th St</td>\n",
       "      <td>Customer</td>\n",
       "      <td>NaN</td>\n",
       "      <td>NaN</td>\n",
       "    </tr>\n",
       "    <tr>\n",
       "      <th>3</th>\n",
       "      <td>4413164</td>\n",
       "      <td>12/31/2014 23:46</td>\n",
       "      <td>1/1/2015 0:37</td>\n",
       "      <td>2563</td>\n",
       "      <td>3084</td>\n",
       "      <td>168</td>\n",
       "      <td>Michigan Ave &amp; 14th St</td>\n",
       "      <td>168</td>\n",
       "      <td>Michigan Ave &amp; 14th St</td>\n",
       "      <td>Subscriber</td>\n",
       "      <td>Male</td>\n",
       "      <td>1987.0</td>\n",
       "    </tr>\n",
       "    <tr>\n",
       "      <th>4</th>\n",
       "      <td>4413163</td>\n",
       "      <td>12/31/2014 23:44</td>\n",
       "      <td>1/1/2015 0:10</td>\n",
       "      <td>389</td>\n",
       "      <td>1570</td>\n",
       "      <td>43</td>\n",
       "      <td>Michigan Ave &amp; Washington St</td>\n",
       "      <td>163</td>\n",
       "      <td>Damen Ave &amp; Clybourn Ave</td>\n",
       "      <td>Subscriber</td>\n",
       "      <td>Male</td>\n",
       "      <td>1983.0</td>\n",
       "    </tr>\n",
       "  </tbody>\n",
       "</table>\n",
       "</div>"
      ],
      "text/plain": [
       "   trip_id         starttime          stoptime  bikeid  tripduration  \\\n",
       "0  4413167  12/31/2014 23:54  12/31/2014 23:57    1880           193   \n",
       "1  4413166  12/31/2014 23:50  12/31/2014 23:52    1153           161   \n",
       "2  4413165  12/31/2014 23:48     1/1/2015 0:38    1946          3002   \n",
       "3  4413164  12/31/2014 23:46     1/1/2015 0:37    2563          3084   \n",
       "4  4413163  12/31/2014 23:44     1/1/2015 0:10     389          1570   \n",
       "\n",
       "   from_station_id             from_station_name  to_station_id  \\\n",
       "0              296        Broadway & Belmont Ave            334   \n",
       "1              264  Stetson Ave & South Water St             44   \n",
       "2              168        Michigan Ave & 14th St            168   \n",
       "3              168        Michigan Ave & 14th St            168   \n",
       "4               43  Michigan Ave & Washington St            163   \n",
       "\n",
       "               to_station_name    usertype gender  birthyear  \n",
       "0  Lake Shore Dr & Belmont Ave  Subscriber   Male     1989.0  \n",
       "1       State St & Randolph St  Subscriber   Male     1984.0  \n",
       "2       Michigan Ave & 14th St    Customer    NaN        NaN  \n",
       "3       Michigan Ave & 14th St  Subscriber   Male     1987.0  \n",
       "4     Damen Ave & Clybourn Ave  Subscriber   Male     1983.0  "
      ]
     },
     "execution_count": 16,
     "metadata": {},
     "output_type": "execute_result"
    }
   ],
   "source": [
    "df4.head()"
   ]
  },
  {
   "cell_type": "code",
   "execution_count": 17,
   "metadata": {},
   "outputs": [
    {
     "data": {
      "text/html": [
       "<div>\n",
       "<style scoped>\n",
       "    .dataframe tbody tr th:only-of-type {\n",
       "        vertical-align: middle;\n",
       "    }\n",
       "\n",
       "    .dataframe tbody tr th {\n",
       "        vertical-align: top;\n",
       "    }\n",
       "\n",
       "    .dataframe thead th {\n",
       "        text-align: right;\n",
       "    }\n",
       "</style>\n",
       "<table border=\"1\" class=\"dataframe\">\n",
       "  <thead>\n",
       "    <tr style=\"text-align: right;\">\n",
       "      <th></th>\n",
       "      <th>trip_id</th>\n",
       "      <th>starttime</th>\n",
       "      <th>stoptime</th>\n",
       "      <th>bikeid</th>\n",
       "      <th>tripduration</th>\n",
       "      <th>from_station_id</th>\n",
       "      <th>from_station_name</th>\n",
       "      <th>to_station_id</th>\n",
       "      <th>to_station_name</th>\n",
       "      <th>usertype</th>\n",
       "      <th>gender</th>\n",
       "      <th>birthyear</th>\n",
       "    </tr>\n",
       "  </thead>\n",
       "  <tbody>\n",
       "    <tr>\n",
       "      <th>437960</th>\n",
       "      <td>3810756</td>\n",
       "      <td>10/1/2014 0:01</td>\n",
       "      <td>10/1/2014 0:16</td>\n",
       "      <td>1122</td>\n",
       "      <td>853</td>\n",
       "      <td>253</td>\n",
       "      <td>Clifton Ave &amp; Lawrence Ave</td>\n",
       "      <td>114</td>\n",
       "      <td>Sheffield Ave &amp; Addison St</td>\n",
       "      <td>Subscriber</td>\n",
       "      <td>Male</td>\n",
       "      <td>1980.0</td>\n",
       "    </tr>\n",
       "    <tr>\n",
       "      <th>437961</th>\n",
       "      <td>3810754</td>\n",
       "      <td>10/1/2014 0:02</td>\n",
       "      <td>10/1/2014 0:10</td>\n",
       "      <td>1531</td>\n",
       "      <td>468</td>\n",
       "      <td>113</td>\n",
       "      <td>Bissell St &amp; Armitage Ave</td>\n",
       "      <td>340</td>\n",
       "      <td>Clark St &amp; Wrightwood Ave</td>\n",
       "      <td>Subscriber</td>\n",
       "      <td>Male</td>\n",
       "      <td>1985.0</td>\n",
       "    </tr>\n",
       "    <tr>\n",
       "      <th>437962</th>\n",
       "      <td>3810753</td>\n",
       "      <td>10/1/2014 0:02</td>\n",
       "      <td>10/1/2014 0:16</td>\n",
       "      <td>2707</td>\n",
       "      <td>836</td>\n",
       "      <td>332</td>\n",
       "      <td>Halsted St &amp; Diversey Pkwy</td>\n",
       "      <td>333</td>\n",
       "      <td>Ashland Ave &amp; Blackhawk St</td>\n",
       "      <td>Subscriber</td>\n",
       "      <td>Male</td>\n",
       "      <td>1985.0</td>\n",
       "    </tr>\n",
       "    <tr>\n",
       "      <th>437963</th>\n",
       "      <td>3810752</td>\n",
       "      <td>10/1/2014 0:01</td>\n",
       "      <td>10/1/2014 0:05</td>\n",
       "      <td>2059</td>\n",
       "      <td>238</td>\n",
       "      <td>92</td>\n",
       "      <td>Carpenter St &amp; Huron St</td>\n",
       "      <td>29</td>\n",
       "      <td>Noble St &amp; Milwaukee Ave</td>\n",
       "      <td>Subscriber</td>\n",
       "      <td>Male</td>\n",
       "      <td>1986.0</td>\n",
       "    </tr>\n",
       "    <tr>\n",
       "      <th>437964</th>\n",
       "      <td>3810751</td>\n",
       "      <td>10/1/2014 0:00</td>\n",
       "      <td>10/1/2014 0:09</td>\n",
       "      <td>1316</td>\n",
       "      <td>538</td>\n",
       "      <td>52</td>\n",
       "      <td>Michigan Ave &amp; Lake St</td>\n",
       "      <td>255</td>\n",
       "      <td>Indiana Ave &amp; Roosevelt Rd</td>\n",
       "      <td>Subscriber</td>\n",
       "      <td>Male</td>\n",
       "      <td>1980.0</td>\n",
       "    </tr>\n",
       "  </tbody>\n",
       "</table>\n",
       "</div>"
      ],
      "text/plain": [
       "        trip_id       starttime        stoptime  bikeid  tripduration  \\\n",
       "437960  3810756  10/1/2014 0:01  10/1/2014 0:16    1122           853   \n",
       "437961  3810754  10/1/2014 0:02  10/1/2014 0:10    1531           468   \n",
       "437962  3810753  10/1/2014 0:02  10/1/2014 0:16    2707           836   \n",
       "437963  3810752  10/1/2014 0:01  10/1/2014 0:05    2059           238   \n",
       "437964  3810751  10/1/2014 0:00  10/1/2014 0:09    1316           538   \n",
       "\n",
       "        from_station_id           from_station_name  to_station_id  \\\n",
       "437960              253  Clifton Ave & Lawrence Ave            114   \n",
       "437961              113   Bissell St & Armitage Ave            340   \n",
       "437962              332  Halsted St & Diversey Pkwy            333   \n",
       "437963               92     Carpenter St & Huron St             29   \n",
       "437964               52      Michigan Ave & Lake St            255   \n",
       "\n",
       "                   to_station_name    usertype gender  birthyear  \n",
       "437960  Sheffield Ave & Addison St  Subscriber   Male     1980.0  \n",
       "437961   Clark St & Wrightwood Ave  Subscriber   Male     1985.0  \n",
       "437962  Ashland Ave & Blackhawk St  Subscriber   Male     1985.0  \n",
       "437963    Noble St & Milwaukee Ave  Subscriber   Male     1986.0  \n",
       "437964  Indiana Ave & Roosevelt Rd  Subscriber   Male     1980.0  "
      ]
     },
     "execution_count": 17,
     "metadata": {},
     "output_type": "execute_result"
    }
   ],
   "source": [
    "df4.tail()"
   ]
  },
  {
   "cell_type": "code",
   "execution_count": 18,
   "metadata": {},
   "outputs": [],
   "source": [
    "df4[\"starttime\"] = pd.to_datetime(df4[\"starttime\"])\n",
    "df4[\"stoptime\"] = pd.to_datetime(df4[\"stoptime\"])"
   ]
  },
  {
   "cell_type": "code",
   "execution_count": 19,
   "metadata": {},
   "outputs": [],
   "source": [
    "df4.loc[df4['gender'].isnull(), 'gender'] = 'Unknown'\n",
    "df4.loc[df4['birthyear'].isnull(), 'birthyear'] = 0"
   ]
  },
  {
   "cell_type": "code",
   "execution_count": 20,
   "metadata": {},
   "outputs": [
    {
     "data": {
      "text/html": [
       "<div>\n",
       "<style scoped>\n",
       "    .dataframe tbody tr th:only-of-type {\n",
       "        vertical-align: middle;\n",
       "    }\n",
       "\n",
       "    .dataframe tbody tr th {\n",
       "        vertical-align: top;\n",
       "    }\n",
       "\n",
       "    .dataframe thead th {\n",
       "        text-align: right;\n",
       "    }\n",
       "</style>\n",
       "<table border=\"1\" class=\"dataframe\">\n",
       "  <thead>\n",
       "    <tr style=\"text-align: right;\">\n",
       "      <th></th>\n",
       "      <th>trip_id</th>\n",
       "      <th>starttime</th>\n",
       "      <th>stoptime</th>\n",
       "      <th>bikeid</th>\n",
       "      <th>tripduration</th>\n",
       "      <th>from_station_id</th>\n",
       "      <th>from_station_name</th>\n",
       "      <th>to_station_id</th>\n",
       "      <th>to_station_name</th>\n",
       "      <th>usertype</th>\n",
       "      <th>gender</th>\n",
       "      <th>birthyear</th>\n",
       "    </tr>\n",
       "  </thead>\n",
       "  <tbody>\n",
       "    <tr>\n",
       "      <th>2</th>\n",
       "      <td>4413165</td>\n",
       "      <td>2014-12-31 23:48:00</td>\n",
       "      <td>2015-01-01 00:38:00</td>\n",
       "      <td>1946</td>\n",
       "      <td>3002</td>\n",
       "      <td>168</td>\n",
       "      <td>Michigan Ave &amp; 14th St</td>\n",
       "      <td>168</td>\n",
       "      <td>Michigan Ave &amp; 14th St</td>\n",
       "      <td>Customer</td>\n",
       "      <td>Unknown</td>\n",
       "      <td>0.0</td>\n",
       "    </tr>\n",
       "    <tr>\n",
       "      <th>3</th>\n",
       "      <td>4413164</td>\n",
       "      <td>2014-12-31 23:46:00</td>\n",
       "      <td>2015-01-01 00:37:00</td>\n",
       "      <td>2563</td>\n",
       "      <td>3084</td>\n",
       "      <td>168</td>\n",
       "      <td>Michigan Ave &amp; 14th St</td>\n",
       "      <td>168</td>\n",
       "      <td>Michigan Ave &amp; 14th St</td>\n",
       "      <td>Subscriber</td>\n",
       "      <td>Male</td>\n",
       "      <td>1987.0</td>\n",
       "    </tr>\n",
       "    <tr>\n",
       "      <th>4</th>\n",
       "      <td>4413163</td>\n",
       "      <td>2014-12-31 23:44:00</td>\n",
       "      <td>2015-01-01 00:10:00</td>\n",
       "      <td>389</td>\n",
       "      <td>1570</td>\n",
       "      <td>43</td>\n",
       "      <td>Michigan Ave &amp; Washington St</td>\n",
       "      <td>163</td>\n",
       "      <td>Damen Ave &amp; Clybourn Ave</td>\n",
       "      <td>Subscriber</td>\n",
       "      <td>Male</td>\n",
       "      <td>1983.0</td>\n",
       "    </tr>\n",
       "  </tbody>\n",
       "</table>\n",
       "</div>"
      ],
      "text/plain": [
       "   trip_id           starttime            stoptime  bikeid  tripduration  \\\n",
       "2  4413165 2014-12-31 23:48:00 2015-01-01 00:38:00    1946          3002   \n",
       "3  4413164 2014-12-31 23:46:00 2015-01-01 00:37:00    2563          3084   \n",
       "4  4413163 2014-12-31 23:44:00 2015-01-01 00:10:00     389          1570   \n",
       "\n",
       "   from_station_id             from_station_name  to_station_id  \\\n",
       "2              168        Michigan Ave & 14th St            168   \n",
       "3              168        Michigan Ave & 14th St            168   \n",
       "4               43  Michigan Ave & Washington St            163   \n",
       "\n",
       "            to_station_name    usertype   gender  birthyear  \n",
       "2    Michigan Ave & 14th St    Customer  Unknown        0.0  \n",
       "3    Michigan Ave & 14th St  Subscriber     Male     1987.0  \n",
       "4  Damen Ave & Clybourn Ave  Subscriber     Male     1983.0  "
      ]
     },
     "execution_count": 20,
     "metadata": {},
     "output_type": "execute_result"
    }
   ],
   "source": [
    "df4.loc[df4['stoptime'].dt.year == 2015]"
   ]
  },
  {
   "cell_type": "code",
   "execution_count": 21,
   "metadata": {},
   "outputs": [],
   "source": [
    "df4.drop([2, 3, 4], axis=0, inplace=True)"
   ]
  },
  {
   "cell_type": "code",
   "execution_count": 22,
   "metadata": {},
   "outputs": [
    {
     "name": "stdout",
     "output_type": "stream",
     "text": [
      "<class 'pandas.core.frame.DataFrame'>\n",
      "Int64Index: 437962 entries, 0 to 437964\n",
      "Data columns (total 12 columns):\n",
      " #   Column             Non-Null Count   Dtype         \n",
      "---  ------             --------------   -----         \n",
      " 0   trip_id            437962 non-null  int64         \n",
      " 1   starttime          437962 non-null  datetime64[ns]\n",
      " 2   stoptime           437962 non-null  datetime64[ns]\n",
      " 3   bikeid             437962 non-null  int64         \n",
      " 4   tripduration       437962 non-null  int64         \n",
      " 5   from_station_id    437962 non-null  int64         \n",
      " 6   from_station_name  437962 non-null  object        \n",
      " 7   to_station_id      437962 non-null  int64         \n",
      " 8   to_station_name    437962 non-null  object        \n",
      " 9   usertype           437962 non-null  object        \n",
      " 10  gender             437962 non-null  object        \n",
      " 11  birthyear          437962 non-null  float64       \n",
      "dtypes: datetime64[ns](2), float64(1), int64(5), object(4)\n",
      "memory usage: 43.4+ MB\n"
     ]
    }
   ],
   "source": [
    "df4.info(verbose=True)"
   ]
  },
  {
   "cell_type": "code",
   "execution_count": 23,
   "metadata": {},
   "outputs": [],
   "source": [
    "df_2014 = pd.concat([df1, df2, df3, df4])"
   ]
  },
  {
   "cell_type": "code",
   "execution_count": 24,
   "metadata": {},
   "outputs": [],
   "source": [
    "duplicate = df_2014[df_2014.duplicated()]"
   ]
  },
  {
   "cell_type": "code",
   "execution_count": 25,
   "metadata": {},
   "outputs": [
    {
     "name": "stdout",
     "output_type": "stream",
     "text": [
      "<class 'pandas.core.frame.DataFrame'>\n",
      "Int64Index: 2454631 entries, 0 to 437964\n",
      "Data columns (total 12 columns):\n",
      " #   Column             Dtype         \n",
      "---  ------             -----         \n",
      " 0   trip_id            int64         \n",
      " 1   starttime          datetime64[ns]\n",
      " 2   stoptime           datetime64[ns]\n",
      " 3   bikeid             int64         \n",
      " 4   tripduration       int64         \n",
      " 5   from_station_id    int64         \n",
      " 6   from_station_name  object        \n",
      " 7   to_station_id      int64         \n",
      " 8   to_station_name    object        \n",
      " 9   usertype           object        \n",
      " 10  gender             object        \n",
      " 11  birthyear          float64       \n",
      "dtypes: datetime64[ns](2), float64(1), int64(5), object(4)\n",
      "memory usage: 243.5+ MB\n"
     ]
    }
   ],
   "source": [
    "df_2014.info()"
   ]
  },
  {
   "cell_type": "code",
   "execution_count": 26,
   "metadata": {},
   "outputs": [],
   "source": [
    "df_2014.to_csv('2014_Clean.csv', index=False)"
   ]
  },
  {
   "cell_type": "markdown",
   "metadata": {},
   "source": [
    "* concat and result in 1 cleaned CSVs. Revert from variables back to cleaned CSV."
   ]
  }
 ],
 "metadata": {
  "kernelspec": {
   "display_name": "Python 3.10.6 64-bit",
   "language": "python",
   "name": "python3"
  },
  "language_info": {
   "codemirror_mode": {
    "name": "ipython",
    "version": 3
   },
   "file_extension": ".py",
   "mimetype": "text/x-python",
   "name": "python",
   "nbconvert_exporter": "python",
   "pygments_lexer": "ipython3",
   "version": "3.10.7"
  },
  "orig_nbformat": 4,
  "vscode": {
   "interpreter": {
    "hash": "aee8b7b246df8f9039afb4144a1f6fd8d2ca17a180786b69acc140d282b71a49"
   }
  }
 },
 "nbformat": 4,
 "nbformat_minor": 2
}

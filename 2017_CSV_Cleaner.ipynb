{
 "cells": [
  {
   "cell_type": "code",
   "execution_count": 1,
   "metadata": {},
   "outputs": [],
   "source": [
    "import pandas as pd\n",
    "import numpy as np"
   ]
  },
  {
   "cell_type": "code",
   "execution_count": 2,
   "metadata": {},
   "outputs": [],
   "source": [
    "df1 = pd.read_csv('/Users/terrygilmore/Desktop/Divvy_DB/Divvy_Stations_Trips_2017/Divvy_Trips_2017_Q1.csv')\n",
    "df2 = pd.read_csv('/Users/terrygilmore/Desktop/Divvy_DB/Divvy_Stations_Trips_2017/Divvy_Trips_2017_Q2.csv')\n",
    "df3 = pd.read_csv('/Users/terrygilmore/Desktop/Divvy_DB/Divvy_Stations_Trips_2017/Divvy_Trips_2017_Q3.csv')\n",
    "df4 = pd.read_csv('/Users/terrygilmore/Desktop/Divvy_DB/Divvy_Stations_Trips_2017/Divvy_Trips_2017_Q4.csv')\n",
    "df5 = pd.read_csv('/Users/terrygilmore/Desktop/Divvy_DB/Divvy_Stations_Trips_2017/Divvy_Stations_2017_Q1Q2.csv')\n",
    "df6 = pd.read_csv('/Users/terrygilmore/Desktop/Divvy_DB/Divvy_Stations_Trips_2017/Divvy_Stations_2017_Q3Q4.csv')"
   ]
  },
  {
   "cell_type": "code",
   "execution_count": 3,
   "metadata": {},
   "outputs": [
    {
     "name": "stdout",
     "output_type": "stream",
     "text": [
      "<class 'pandas.core.frame.DataFrame'>\n",
      "RangeIndex: 431691 entries, 0 to 431690\n",
      "Data columns (total 12 columns):\n",
      " #   Column             Non-Null Count   Dtype  \n",
      "---  ------             --------------   -----  \n",
      " 0   trip_id            431691 non-null  int64  \n",
      " 1   start_time         431691 non-null  object \n",
      " 2   end_time           431691 non-null  object \n",
      " 3   bikeid             431691 non-null  int64  \n",
      " 4   tripduration       431691 non-null  int64  \n",
      " 5   from_station_id    431691 non-null  int64  \n",
      " 6   from_station_name  431691 non-null  object \n",
      " 7   to_station_id      431691 non-null  int64  \n",
      " 8   to_station_name    431691 non-null  object \n",
      " 9   usertype           431691 non-null  object \n",
      " 10  gender             390312 non-null  object \n",
      " 11  birthyear          390394 non-null  float64\n",
      "dtypes: float64(1), int64(5), object(6)\n",
      "memory usage: 39.5+ MB\n"
     ]
    }
   ],
   "source": [
    "df1.info(verbose=True)"
   ]
  },
  {
   "cell_type": "code",
   "execution_count": 4,
   "metadata": {},
   "outputs": [],
   "source": [
    "df1.rename(columns = {'start_time':'starttime'}, inplace = True)\n",
    "df1.rename(columns = {'end_time' : 'stoptime'}, inplace = True)"
   ]
  },
  {
   "cell_type": "code",
   "execution_count": 5,
   "metadata": {},
   "outputs": [],
   "source": [
    "df1[\"starttime\"] = pd.to_datetime(df1[\"starttime\"])\n",
    "df1[\"stoptime\"] = pd.to_datetime(df1[\"stoptime\"])"
   ]
  },
  {
   "cell_type": "code",
   "execution_count": 6,
   "metadata": {},
   "outputs": [],
   "source": [
    "df1.loc[df1['gender'].isnull(), 'gender'] = 'Unknown'\n",
    "df1.loc[df1['birthyear'].isnull(), 'birthyear'] = 0"
   ]
  },
  {
   "cell_type": "code",
   "execution_count": 7,
   "metadata": {},
   "outputs": [
    {
     "data": {
      "text/html": [
       "<div>\n",
       "<style scoped>\n",
       "    .dataframe tbody tr th:only-of-type {\n",
       "        vertical-align: middle;\n",
       "    }\n",
       "\n",
       "    .dataframe tbody tr th {\n",
       "        vertical-align: top;\n",
       "    }\n",
       "\n",
       "    .dataframe thead th {\n",
       "        text-align: right;\n",
       "    }\n",
       "</style>\n",
       "<table border=\"1\" class=\"dataframe\">\n",
       "  <thead>\n",
       "    <tr style=\"text-align: right;\">\n",
       "      <th></th>\n",
       "      <th>trip_id</th>\n",
       "      <th>starttime</th>\n",
       "      <th>stoptime</th>\n",
       "      <th>bikeid</th>\n",
       "      <th>tripduration</th>\n",
       "      <th>from_station_id</th>\n",
       "      <th>from_station_name</th>\n",
       "      <th>to_station_id</th>\n",
       "      <th>to_station_name</th>\n",
       "      <th>usertype</th>\n",
       "      <th>gender</th>\n",
       "      <th>birthyear</th>\n",
       "    </tr>\n",
       "  </thead>\n",
       "  <tbody>\n",
       "  </tbody>\n",
       "</table>\n",
       "</div>"
      ],
      "text/plain": [
       "Empty DataFrame\n",
       "Columns: [trip_id, starttime, stoptime, bikeid, tripduration, from_station_id, from_station_name, to_station_id, to_station_name, usertype, gender, birthyear]\n",
       "Index: []"
      ]
     },
     "execution_count": 7,
     "metadata": {},
     "output_type": "execute_result"
    }
   ],
   "source": [
    "df1.loc[df1['stoptime'].dt.year != 2017]"
   ]
  },
  {
   "cell_type": "code",
   "execution_count": 8,
   "metadata": {},
   "outputs": [
    {
     "data": {
      "text/html": [
       "<div>\n",
       "<style scoped>\n",
       "    .dataframe tbody tr th:only-of-type {\n",
       "        vertical-align: middle;\n",
       "    }\n",
       "\n",
       "    .dataframe tbody tr th {\n",
       "        vertical-align: top;\n",
       "    }\n",
       "\n",
       "    .dataframe thead th {\n",
       "        text-align: right;\n",
       "    }\n",
       "</style>\n",
       "<table border=\"1\" class=\"dataframe\">\n",
       "  <thead>\n",
       "    <tr style=\"text-align: right;\">\n",
       "      <th></th>\n",
       "      <th>trip_id</th>\n",
       "      <th>starttime</th>\n",
       "      <th>stoptime</th>\n",
       "      <th>bikeid</th>\n",
       "      <th>tripduration</th>\n",
       "      <th>from_station_id</th>\n",
       "      <th>from_station_name</th>\n",
       "      <th>to_station_id</th>\n",
       "      <th>to_station_name</th>\n",
       "      <th>usertype</th>\n",
       "      <th>gender</th>\n",
       "      <th>birthyear</th>\n",
       "    </tr>\n",
       "  </thead>\n",
       "  <tbody>\n",
       "  </tbody>\n",
       "</table>\n",
       "</div>"
      ],
      "text/plain": [
       "Empty DataFrame\n",
       "Columns: [trip_id, starttime, stoptime, bikeid, tripduration, from_station_id, from_station_name, to_station_id, to_station_name, usertype, gender, birthyear]\n",
       "Index: []"
      ]
     },
     "execution_count": 8,
     "metadata": {},
     "output_type": "execute_result"
    }
   ],
   "source": [
    "df1.loc[df1['starttime'].dt.year != 2017]"
   ]
  },
  {
   "cell_type": "code",
   "execution_count": 9,
   "metadata": {},
   "outputs": [
    {
     "name": "stdout",
     "output_type": "stream",
     "text": [
      "<class 'pandas.core.frame.DataFrame'>\n",
      "RangeIndex: 431691 entries, 0 to 431690\n",
      "Data columns (total 12 columns):\n",
      " #   Column             Non-Null Count   Dtype         \n",
      "---  ------             --------------   -----         \n",
      " 0   trip_id            431691 non-null  int64         \n",
      " 1   starttime          431691 non-null  datetime64[ns]\n",
      " 2   stoptime           431691 non-null  datetime64[ns]\n",
      " 3   bikeid             431691 non-null  int64         \n",
      " 4   tripduration       431691 non-null  int64         \n",
      " 5   from_station_id    431691 non-null  int64         \n",
      " 6   from_station_name  431691 non-null  object        \n",
      " 7   to_station_id      431691 non-null  int64         \n",
      " 8   to_station_name    431691 non-null  object        \n",
      " 9   usertype           431691 non-null  object        \n",
      " 10  gender             431691 non-null  object        \n",
      " 11  birthyear          431691 non-null  float64       \n",
      "dtypes: datetime64[ns](2), float64(1), int64(5), object(4)\n",
      "memory usage: 39.5+ MB\n"
     ]
    }
   ],
   "source": [
    "df1.info(verbose=True)"
   ]
  },
  {
   "cell_type": "code",
   "execution_count": 10,
   "metadata": {},
   "outputs": [
    {
     "name": "stdout",
     "output_type": "stream",
     "text": [
      "<class 'pandas.core.frame.DataFrame'>\n",
      "RangeIndex: 1119814 entries, 0 to 1119813\n",
      "Data columns (total 12 columns):\n",
      " #   Column             Non-Null Count    Dtype  \n",
      "---  ------             --------------    -----  \n",
      " 0   trip_id            1119814 non-null  int64  \n",
      " 1   start_time         1119814 non-null  object \n",
      " 2   end_time           1119814 non-null  object \n",
      " 3   bikeid             1119814 non-null  int64  \n",
      " 4   tripduration       1119814 non-null  int64  \n",
      " 5   from_station_id    1119814 non-null  int64  \n",
      " 6   from_station_name  1119814 non-null  object \n",
      " 7   to_station_id      1119814 non-null  int64  \n",
      " 8   to_station_name    1119814 non-null  object \n",
      " 9   usertype           1119814 non-null  object \n",
      " 10  gender             844326 non-null   object \n",
      " 11  birthyear          844428 non-null   float64\n",
      "dtypes: float64(1), int64(5), object(6)\n",
      "memory usage: 102.5+ MB\n"
     ]
    }
   ],
   "source": [
    "df2.info(verbose=True)"
   ]
  },
  {
   "cell_type": "code",
   "execution_count": 11,
   "metadata": {},
   "outputs": [],
   "source": [
    "df2.rename(columns = {'start_time':'starttime'}, inplace = True)\n",
    "df2.rename(columns = {'end_time' : 'stoptime'}, inplace = True)"
   ]
  },
  {
   "cell_type": "code",
   "execution_count": 12,
   "metadata": {},
   "outputs": [],
   "source": [
    "df2[\"starttime\"] = pd.to_datetime(df2[\"starttime\"])\n",
    "df2[\"stoptime\"] = pd.to_datetime(df2[\"stoptime\"])"
   ]
  },
  {
   "cell_type": "code",
   "execution_count": 13,
   "metadata": {},
   "outputs": [],
   "source": [
    "df2.loc[df2['gender'].isnull(), 'gender'] = 'Unknown'\n",
    "df2.loc[df2['birthyear'].isnull(), 'birthyear'] = 0"
   ]
  },
  {
   "cell_type": "code",
   "execution_count": 14,
   "metadata": {},
   "outputs": [
    {
     "data": {
      "text/html": [
       "<div>\n",
       "<style scoped>\n",
       "    .dataframe tbody tr th:only-of-type {\n",
       "        vertical-align: middle;\n",
       "    }\n",
       "\n",
       "    .dataframe tbody tr th {\n",
       "        vertical-align: top;\n",
       "    }\n",
       "\n",
       "    .dataframe thead th {\n",
       "        text-align: right;\n",
       "    }\n",
       "</style>\n",
       "<table border=\"1\" class=\"dataframe\">\n",
       "  <thead>\n",
       "    <tr style=\"text-align: right;\">\n",
       "      <th></th>\n",
       "      <th>trip_id</th>\n",
       "      <th>starttime</th>\n",
       "      <th>stoptime</th>\n",
       "      <th>bikeid</th>\n",
       "      <th>tripduration</th>\n",
       "      <th>from_station_id</th>\n",
       "      <th>from_station_name</th>\n",
       "      <th>to_station_id</th>\n",
       "      <th>to_station_name</th>\n",
       "      <th>usertype</th>\n",
       "      <th>gender</th>\n",
       "      <th>birthyear</th>\n",
       "    </tr>\n",
       "  </thead>\n",
       "  <tbody>\n",
       "  </tbody>\n",
       "</table>\n",
       "</div>"
      ],
      "text/plain": [
       "Empty DataFrame\n",
       "Columns: [trip_id, starttime, stoptime, bikeid, tripduration, from_station_id, from_station_name, to_station_id, to_station_name, usertype, gender, birthyear]\n",
       "Index: []"
      ]
     },
     "execution_count": 14,
     "metadata": {},
     "output_type": "execute_result"
    }
   ],
   "source": [
    "df2.loc[df2['stoptime'].dt.year != 2017]"
   ]
  },
  {
   "cell_type": "code",
   "execution_count": 15,
   "metadata": {},
   "outputs": [
    {
     "data": {
      "text/html": [
       "<div>\n",
       "<style scoped>\n",
       "    .dataframe tbody tr th:only-of-type {\n",
       "        vertical-align: middle;\n",
       "    }\n",
       "\n",
       "    .dataframe tbody tr th {\n",
       "        vertical-align: top;\n",
       "    }\n",
       "\n",
       "    .dataframe thead th {\n",
       "        text-align: right;\n",
       "    }\n",
       "</style>\n",
       "<table border=\"1\" class=\"dataframe\">\n",
       "  <thead>\n",
       "    <tr style=\"text-align: right;\">\n",
       "      <th></th>\n",
       "      <th>trip_id</th>\n",
       "      <th>starttime</th>\n",
       "      <th>stoptime</th>\n",
       "      <th>bikeid</th>\n",
       "      <th>tripduration</th>\n",
       "      <th>from_station_id</th>\n",
       "      <th>from_station_name</th>\n",
       "      <th>to_station_id</th>\n",
       "      <th>to_station_name</th>\n",
       "      <th>usertype</th>\n",
       "      <th>gender</th>\n",
       "      <th>birthyear</th>\n",
       "    </tr>\n",
       "  </thead>\n",
       "  <tbody>\n",
       "  </tbody>\n",
       "</table>\n",
       "</div>"
      ],
      "text/plain": [
       "Empty DataFrame\n",
       "Columns: [trip_id, starttime, stoptime, bikeid, tripduration, from_station_id, from_station_name, to_station_id, to_station_name, usertype, gender, birthyear]\n",
       "Index: []"
      ]
     },
     "execution_count": 15,
     "metadata": {},
     "output_type": "execute_result"
    }
   ],
   "source": [
    "df2.loc[df2['starttime'].dt.year != 2017]"
   ]
  },
  {
   "cell_type": "code",
   "execution_count": 16,
   "metadata": {},
   "outputs": [
    {
     "name": "stdout",
     "output_type": "stream",
     "text": [
      "<class 'pandas.core.frame.DataFrame'>\n",
      "RangeIndex: 1119814 entries, 0 to 1119813\n",
      "Data columns (total 12 columns):\n",
      " #   Column             Non-Null Count    Dtype         \n",
      "---  ------             --------------    -----         \n",
      " 0   trip_id            1119814 non-null  int64         \n",
      " 1   starttime          1119814 non-null  datetime64[ns]\n",
      " 2   stoptime           1119814 non-null  datetime64[ns]\n",
      " 3   bikeid             1119814 non-null  int64         \n",
      " 4   tripduration       1119814 non-null  int64         \n",
      " 5   from_station_id    1119814 non-null  int64         \n",
      " 6   from_station_name  1119814 non-null  object        \n",
      " 7   to_station_id      1119814 non-null  int64         \n",
      " 8   to_station_name    1119814 non-null  object        \n",
      " 9   usertype           1119814 non-null  object        \n",
      " 10  gender             1119814 non-null  object        \n",
      " 11  birthyear          1119814 non-null  float64       \n",
      "dtypes: datetime64[ns](2), float64(1), int64(5), object(4)\n",
      "memory usage: 102.5+ MB\n"
     ]
    }
   ],
   "source": [
    "df2.info(verbose=True)"
   ]
  },
  {
   "cell_type": "code",
   "execution_count": 17,
   "metadata": {},
   "outputs": [
    {
     "name": "stdout",
     "output_type": "stream",
     "text": [
      "<class 'pandas.core.frame.DataFrame'>\n",
      "RangeIndex: 1608270 entries, 0 to 1608269\n",
      "Data columns (total 12 columns):\n",
      " #   Column             Non-Null Count    Dtype  \n",
      "---  ------             --------------    -----  \n",
      " 0   trip_id            1608270 non-null  int64  \n",
      " 1   start_time         1608270 non-null  object \n",
      " 2   end_time           1608270 non-null  object \n",
      " 3   bikeid             1608270 non-null  int64  \n",
      " 4   tripduration       1608270 non-null  int64  \n",
      " 5   from_station_id    1608270 non-null  int64  \n",
      " 6   from_station_name  1608270 non-null  object \n",
      " 7   to_station_id      1608270 non-null  int64  \n",
      " 8   to_station_name    1608270 non-null  object \n",
      " 9   usertype           1608270 non-null  object \n",
      " 10  gender             1166890 non-null  object \n",
      " 11  birthyear          1167022 non-null  float64\n",
      "dtypes: float64(1), int64(5), object(6)\n",
      "memory usage: 147.2+ MB\n"
     ]
    }
   ],
   "source": [
    "df3.info(verbose=True)"
   ]
  },
  {
   "cell_type": "code",
   "execution_count": 18,
   "metadata": {},
   "outputs": [],
   "source": [
    "df3.rename(columns = {'start_time':'starttime'}, inplace = True)\n",
    "df3.rename(columns = {'end_time' : 'stoptime'}, inplace = True)"
   ]
  },
  {
   "cell_type": "code",
   "execution_count": 19,
   "metadata": {},
   "outputs": [],
   "source": [
    "df3[\"starttime\"] = pd.to_datetime(df3[\"starttime\"])\n",
    "df3[\"stoptime\"] = pd.to_datetime(df3[\"stoptime\"])"
   ]
  },
  {
   "cell_type": "code",
   "execution_count": 20,
   "metadata": {},
   "outputs": [],
   "source": [
    "df3.loc[df3['gender'].isnull(), 'gender'] = 'Unknown'\n",
    "df3.loc[df3['birthyear'].isnull(), 'birthyear'] = 0"
   ]
  },
  {
   "cell_type": "code",
   "execution_count": 21,
   "metadata": {},
   "outputs": [
    {
     "data": {
      "text/html": [
       "<div>\n",
       "<style scoped>\n",
       "    .dataframe tbody tr th:only-of-type {\n",
       "        vertical-align: middle;\n",
       "    }\n",
       "\n",
       "    .dataframe tbody tr th {\n",
       "        vertical-align: top;\n",
       "    }\n",
       "\n",
       "    .dataframe thead th {\n",
       "        text-align: right;\n",
       "    }\n",
       "</style>\n",
       "<table border=\"1\" class=\"dataframe\">\n",
       "  <thead>\n",
       "    <tr style=\"text-align: right;\">\n",
       "      <th></th>\n",
       "      <th>trip_id</th>\n",
       "      <th>starttime</th>\n",
       "      <th>stoptime</th>\n",
       "      <th>bikeid</th>\n",
       "      <th>tripduration</th>\n",
       "      <th>from_station_id</th>\n",
       "      <th>from_station_name</th>\n",
       "      <th>to_station_id</th>\n",
       "      <th>to_station_name</th>\n",
       "      <th>usertype</th>\n",
       "      <th>gender</th>\n",
       "      <th>birthyear</th>\n",
       "    </tr>\n",
       "  </thead>\n",
       "  <tbody>\n",
       "  </tbody>\n",
       "</table>\n",
       "</div>"
      ],
      "text/plain": [
       "Empty DataFrame\n",
       "Columns: [trip_id, starttime, stoptime, bikeid, tripduration, from_station_id, from_station_name, to_station_id, to_station_name, usertype, gender, birthyear]\n",
       "Index: []"
      ]
     },
     "execution_count": 21,
     "metadata": {},
     "output_type": "execute_result"
    }
   ],
   "source": [
    "df3.loc[df3['stoptime'].dt.year != 2017]"
   ]
  },
  {
   "cell_type": "code",
   "execution_count": 22,
   "metadata": {},
   "outputs": [
    {
     "data": {
      "text/html": [
       "<div>\n",
       "<style scoped>\n",
       "    .dataframe tbody tr th:only-of-type {\n",
       "        vertical-align: middle;\n",
       "    }\n",
       "\n",
       "    .dataframe tbody tr th {\n",
       "        vertical-align: top;\n",
       "    }\n",
       "\n",
       "    .dataframe thead th {\n",
       "        text-align: right;\n",
       "    }\n",
       "</style>\n",
       "<table border=\"1\" class=\"dataframe\">\n",
       "  <thead>\n",
       "    <tr style=\"text-align: right;\">\n",
       "      <th></th>\n",
       "      <th>trip_id</th>\n",
       "      <th>starttime</th>\n",
       "      <th>stoptime</th>\n",
       "      <th>bikeid</th>\n",
       "      <th>tripduration</th>\n",
       "      <th>from_station_id</th>\n",
       "      <th>from_station_name</th>\n",
       "      <th>to_station_id</th>\n",
       "      <th>to_station_name</th>\n",
       "      <th>usertype</th>\n",
       "      <th>gender</th>\n",
       "      <th>birthyear</th>\n",
       "    </tr>\n",
       "  </thead>\n",
       "  <tbody>\n",
       "  </tbody>\n",
       "</table>\n",
       "</div>"
      ],
      "text/plain": [
       "Empty DataFrame\n",
       "Columns: [trip_id, starttime, stoptime, bikeid, tripduration, from_station_id, from_station_name, to_station_id, to_station_name, usertype, gender, birthyear]\n",
       "Index: []"
      ]
     },
     "execution_count": 22,
     "metadata": {},
     "output_type": "execute_result"
    }
   ],
   "source": [
    "df3.loc[df3['starttime'].dt.year != 2017]"
   ]
  },
  {
   "cell_type": "code",
   "execution_count": 23,
   "metadata": {},
   "outputs": [
    {
     "name": "stdout",
     "output_type": "stream",
     "text": [
      "<class 'pandas.core.frame.DataFrame'>\n",
      "RangeIndex: 1608270 entries, 0 to 1608269\n",
      "Data columns (total 12 columns):\n",
      " #   Column             Non-Null Count    Dtype         \n",
      "---  ------             --------------    -----         \n",
      " 0   trip_id            1608270 non-null  int64         \n",
      " 1   starttime          1608270 non-null  datetime64[ns]\n",
      " 2   stoptime           1608270 non-null  datetime64[ns]\n",
      " 3   bikeid             1608270 non-null  int64         \n",
      " 4   tripduration       1608270 non-null  int64         \n",
      " 5   from_station_id    1608270 non-null  int64         \n",
      " 6   from_station_name  1608270 non-null  object        \n",
      " 7   to_station_id      1608270 non-null  int64         \n",
      " 8   to_station_name    1608270 non-null  object        \n",
      " 9   usertype           1608270 non-null  object        \n",
      " 10  gender             1608270 non-null  object        \n",
      " 11  birthyear          1608270 non-null  float64       \n",
      "dtypes: datetime64[ns](2), float64(1), int64(5), object(4)\n",
      "memory usage: 147.2+ MB\n"
     ]
    }
   ],
   "source": [
    "df3.info(verbose=True)"
   ]
  },
  {
   "cell_type": "code",
   "execution_count": 24,
   "metadata": {},
   "outputs": [
    {
     "name": "stdout",
     "output_type": "stream",
     "text": [
      "<class 'pandas.core.frame.DataFrame'>\n",
      "RangeIndex: 669239 entries, 0 to 669238\n",
      "Data columns (total 12 columns):\n",
      " #   Column             Non-Null Count   Dtype  \n",
      "---  ------             --------------   -----  \n",
      " 0   trip_id            669239 non-null  int64  \n",
      " 1   start_time         669239 non-null  object \n",
      " 2   end_time           669239 non-null  object \n",
      " 3   bikeid             669239 non-null  int64  \n",
      " 4   tripduration       669239 non-null  int64  \n",
      " 5   from_station_id    669239 non-null  int64  \n",
      " 6   from_station_name  669239 non-null  object \n",
      " 7   to_station_id      669239 non-null  int64  \n",
      " 8   to_station_name    669239 non-null  object \n",
      " 9   usertype           669239 non-null  object \n",
      " 10  gender             590659 non-null  object \n",
      " 11  birthyear          590412 non-null  float64\n",
      "dtypes: float64(1), int64(5), object(6)\n",
      "memory usage: 61.3+ MB\n"
     ]
    }
   ],
   "source": [
    "df4.info(verbose=True)"
   ]
  },
  {
   "cell_type": "code",
   "execution_count": 25,
   "metadata": {},
   "outputs": [],
   "source": [
    "df4.rename(columns = {'start_time':'starttime'}, inplace = True)\n",
    "df4.rename(columns = {'end_time' : 'stoptime'}, inplace = True)"
   ]
  },
  {
   "cell_type": "code",
   "execution_count": 26,
   "metadata": {},
   "outputs": [],
   "source": [
    "df4[\"starttime\"] = pd.to_datetime(df4[\"starttime\"])\n",
    "df4[\"stoptime\"] = pd.to_datetime(df4[\"stoptime\"])"
   ]
  },
  {
   "cell_type": "code",
   "execution_count": 27,
   "metadata": {},
   "outputs": [],
   "source": [
    "df4.loc[df4['gender'].isnull(), 'gender'] = 'Unknown'\n",
    "df4.loc[df4['birthyear'].isnull(), 'birthyear'] = 0"
   ]
  },
  {
   "cell_type": "code",
   "execution_count": 28,
   "metadata": {},
   "outputs": [
    {
     "data": {
      "text/html": [
       "<div>\n",
       "<style scoped>\n",
       "    .dataframe tbody tr th:only-of-type {\n",
       "        vertical-align: middle;\n",
       "    }\n",
       "\n",
       "    .dataframe tbody tr th {\n",
       "        vertical-align: top;\n",
       "    }\n",
       "\n",
       "    .dataframe thead th {\n",
       "        text-align: right;\n",
       "    }\n",
       "</style>\n",
       "<table border=\"1\" class=\"dataframe\">\n",
       "  <thead>\n",
       "    <tr style=\"text-align: right;\">\n",
       "      <th></th>\n",
       "      <th>trip_id</th>\n",
       "      <th>starttime</th>\n",
       "      <th>stoptime</th>\n",
       "      <th>bikeid</th>\n",
       "      <th>tripduration</th>\n",
       "      <th>from_station_id</th>\n",
       "      <th>from_station_name</th>\n",
       "      <th>to_station_id</th>\n",
       "      <th>to_station_name</th>\n",
       "      <th>usertype</th>\n",
       "      <th>gender</th>\n",
       "      <th>birthyear</th>\n",
       "    </tr>\n",
       "  </thead>\n",
       "  <tbody>\n",
       "    <tr>\n",
       "      <th>0</th>\n",
       "      <td>17536701</td>\n",
       "      <td>2017-12-31 23:58:00</td>\n",
       "      <td>2018-01-01 00:03:00</td>\n",
       "      <td>3304</td>\n",
       "      <td>284</td>\n",
       "      <td>159</td>\n",
       "      <td>Claremont Ave &amp; Hirsch St</td>\n",
       "      <td>69</td>\n",
       "      <td>Damen Ave &amp; Pierce Ave</td>\n",
       "      <td>Subscriber</td>\n",
       "      <td>Male</td>\n",
       "      <td>1988.0</td>\n",
       "    </tr>\n",
       "    <tr>\n",
       "      <th>1</th>\n",
       "      <td>17536700</td>\n",
       "      <td>2017-12-31 23:54:00</td>\n",
       "      <td>2018-01-01 00:18:00</td>\n",
       "      <td>5975</td>\n",
       "      <td>1402</td>\n",
       "      <td>145</td>\n",
       "      <td>Mies van der Rohe Way &amp; Chestnut St</td>\n",
       "      <td>145</td>\n",
       "      <td>Mies van der Rohe Way &amp; Chestnut St</td>\n",
       "      <td>Customer</td>\n",
       "      <td>Unknown</td>\n",
       "      <td>0.0</td>\n",
       "    </tr>\n",
       "    <tr>\n",
       "      <th>2</th>\n",
       "      <td>17536699</td>\n",
       "      <td>2017-12-31 23:54:00</td>\n",
       "      <td>2018-01-01 00:18:00</td>\n",
       "      <td>4906</td>\n",
       "      <td>1441</td>\n",
       "      <td>145</td>\n",
       "      <td>Mies van der Rohe Way &amp; Chestnut St</td>\n",
       "      <td>145</td>\n",
       "      <td>Mies van der Rohe Way &amp; Chestnut St</td>\n",
       "      <td>Customer</td>\n",
       "      <td>Unknown</td>\n",
       "      <td>0.0</td>\n",
       "    </tr>\n",
       "  </tbody>\n",
       "</table>\n",
       "</div>"
      ],
      "text/plain": [
       "    trip_id           starttime            stoptime  bikeid  tripduration  \\\n",
       "0  17536701 2017-12-31 23:58:00 2018-01-01 00:03:00    3304           284   \n",
       "1  17536700 2017-12-31 23:54:00 2018-01-01 00:18:00    5975          1402   \n",
       "2  17536699 2017-12-31 23:54:00 2018-01-01 00:18:00    4906          1441   \n",
       "\n",
       "   from_station_id                    from_station_name  to_station_id  \\\n",
       "0              159            Claremont Ave & Hirsch St             69   \n",
       "1              145  Mies van der Rohe Way & Chestnut St            145   \n",
       "2              145  Mies van der Rohe Way & Chestnut St            145   \n",
       "\n",
       "                       to_station_name    usertype   gender  birthyear  \n",
       "0               Damen Ave & Pierce Ave  Subscriber     Male     1988.0  \n",
       "1  Mies van der Rohe Way & Chestnut St    Customer  Unknown        0.0  \n",
       "2  Mies van der Rohe Way & Chestnut St    Customer  Unknown        0.0  "
      ]
     },
     "execution_count": 28,
     "metadata": {},
     "output_type": "execute_result"
    }
   ],
   "source": [
    "df4.loc[df4['stoptime'].dt.year != 2017]"
   ]
  },
  {
   "cell_type": "code",
   "execution_count": 29,
   "metadata": {},
   "outputs": [],
   "source": [
    "df4.drop([0, 1, 2], axis=0, inplace=True)"
   ]
  },
  {
   "cell_type": "code",
   "execution_count": 30,
   "metadata": {},
   "outputs": [
    {
     "data": {
      "text/html": [
       "<div>\n",
       "<style scoped>\n",
       "    .dataframe tbody tr th:only-of-type {\n",
       "        vertical-align: middle;\n",
       "    }\n",
       "\n",
       "    .dataframe tbody tr th {\n",
       "        vertical-align: top;\n",
       "    }\n",
       "\n",
       "    .dataframe thead th {\n",
       "        text-align: right;\n",
       "    }\n",
       "</style>\n",
       "<table border=\"1\" class=\"dataframe\">\n",
       "  <thead>\n",
       "    <tr style=\"text-align: right;\">\n",
       "      <th></th>\n",
       "      <th>trip_id</th>\n",
       "      <th>starttime</th>\n",
       "      <th>stoptime</th>\n",
       "      <th>bikeid</th>\n",
       "      <th>tripduration</th>\n",
       "      <th>from_station_id</th>\n",
       "      <th>from_station_name</th>\n",
       "      <th>to_station_id</th>\n",
       "      <th>to_station_name</th>\n",
       "      <th>usertype</th>\n",
       "      <th>gender</th>\n",
       "      <th>birthyear</th>\n",
       "    </tr>\n",
       "  </thead>\n",
       "  <tbody>\n",
       "  </tbody>\n",
       "</table>\n",
       "</div>"
      ],
      "text/plain": [
       "Empty DataFrame\n",
       "Columns: [trip_id, starttime, stoptime, bikeid, tripduration, from_station_id, from_station_name, to_station_id, to_station_name, usertype, gender, birthyear]\n",
       "Index: []"
      ]
     },
     "execution_count": 30,
     "metadata": {},
     "output_type": "execute_result"
    }
   ],
   "source": [
    "df4.loc[df4['starttime'].dt.year != 2017]"
   ]
  },
  {
   "cell_type": "code",
   "execution_count": 31,
   "metadata": {},
   "outputs": [
    {
     "name": "stdout",
     "output_type": "stream",
     "text": [
      "<class 'pandas.core.frame.DataFrame'>\n",
      "RangeIndex: 669236 entries, 3 to 669238\n",
      "Data columns (total 12 columns):\n",
      " #   Column             Non-Null Count   Dtype         \n",
      "---  ------             --------------   -----         \n",
      " 0   trip_id            669236 non-null  int64         \n",
      " 1   starttime          669236 non-null  datetime64[ns]\n",
      " 2   stoptime           669236 non-null  datetime64[ns]\n",
      " 3   bikeid             669236 non-null  int64         \n",
      " 4   tripduration       669236 non-null  int64         \n",
      " 5   from_station_id    669236 non-null  int64         \n",
      " 6   from_station_name  669236 non-null  object        \n",
      " 7   to_station_id      669236 non-null  int64         \n",
      " 8   to_station_name    669236 non-null  object        \n",
      " 9   usertype           669236 non-null  object        \n",
      " 10  gender             669236 non-null  object        \n",
      " 11  birthyear          669236 non-null  float64       \n",
      "dtypes: datetime64[ns](2), float64(1), int64(5), object(4)\n",
      "memory usage: 61.3+ MB\n"
     ]
    }
   ],
   "source": [
    "df4.info(verbose=True)"
   ]
  },
  {
   "cell_type": "code",
   "execution_count": 32,
   "metadata": {},
   "outputs": [
    {
     "name": "stdout",
     "output_type": "stream",
     "text": [
      "<class 'pandas.core.frame.DataFrame'>\n",
      "RangeIndex: 582 entries, 0 to 581\n",
      "Data columns (total 7 columns):\n",
      " #   Column       Non-Null Count  Dtype  \n",
      "---  ------       --------------  -----  \n",
      " 0   id           582 non-null    int64  \n",
      " 1   name         582 non-null    object \n",
      " 2   city         582 non-null    object \n",
      " 3   latitude     582 non-null    float64\n",
      " 4   longitude    582 non-null    float64\n",
      " 5   dpcapacity   582 non-null    int64  \n",
      " 6   online_date  582 non-null    object \n",
      "dtypes: float64(2), int64(2), object(3)\n",
      "memory usage: 32.0+ KB\n"
     ]
    }
   ],
   "source": [
    "df5.info(verbose=True)"
   ]
  },
  {
   "cell_type": "code",
   "execution_count": 33,
   "metadata": {},
   "outputs": [],
   "source": [
    "df5.rename(columns = {'online_date':'online date'}, inplace = True)"
   ]
  },
  {
   "cell_type": "code",
   "execution_count": 34,
   "metadata": {},
   "outputs": [],
   "source": [
    "df5[\"online date\"] = pd.to_datetime(df5[\"online date\"])"
   ]
  },
  {
   "cell_type": "code",
   "execution_count": 35,
   "metadata": {},
   "outputs": [
    {
     "name": "stdout",
     "output_type": "stream",
     "text": [
      "<class 'pandas.core.frame.DataFrame'>\n",
      "RangeIndex: 582 entries, 0 to 581\n",
      "Data columns (total 7 columns):\n",
      " #   Column       Non-Null Count  Dtype         \n",
      "---  ------       --------------  -----         \n",
      " 0   id           582 non-null    int64         \n",
      " 1   name         582 non-null    object        \n",
      " 2   city         582 non-null    object        \n",
      " 3   latitude     582 non-null    float64       \n",
      " 4   longitude    582 non-null    float64       \n",
      " 5   dpcapacity   582 non-null    int64         \n",
      " 6   online date  582 non-null    datetime64[ns]\n",
      "dtypes: datetime64[ns](1), float64(2), int64(2), object(2)\n",
      "memory usage: 32.0+ KB\n"
     ]
    }
   ],
   "source": [
    "df5.info(verbose=True)"
   ]
  },
  {
   "cell_type": "code",
   "execution_count": 36,
   "metadata": {},
   "outputs": [
    {
     "name": "stdout",
     "output_type": "stream",
     "text": [
      "<class 'pandas.core.frame.DataFrame'>\n",
      "RangeIndex: 585 entries, 0 to 584\n",
      "Data columns (total 8 columns):\n",
      " #   Column       Non-Null Count  Dtype  \n",
      "---  ------       --------------  -----  \n",
      " 0   id           585 non-null    int64  \n",
      " 1   name         585 non-null    object \n",
      " 2   city         585 non-null    object \n",
      " 3   latitude     585 non-null    float64\n",
      " 4   longitude    585 non-null    float64\n",
      " 5   dpcapacity   585 non-null    int64  \n",
      " 6   online_date  585 non-null    object \n",
      " 7   Unnamed: 7   0 non-null      float64\n",
      "dtypes: float64(3), int64(2), object(3)\n",
      "memory usage: 36.7+ KB\n"
     ]
    }
   ],
   "source": [
    "df6.info(verbose=True)"
   ]
  },
  {
   "cell_type": "code",
   "execution_count": 37,
   "metadata": {},
   "outputs": [],
   "source": [
    "df6.drop(['Unnamed: 7'], axis=1, inplace = True)"
   ]
  },
  {
   "cell_type": "code",
   "execution_count": 38,
   "metadata": {},
   "outputs": [],
   "source": [
    "df6.rename(columns = {'online_date':'online date'},  inplace = True)"
   ]
  },
  {
   "cell_type": "code",
   "execution_count": 39,
   "metadata": {},
   "outputs": [],
   "source": [
    "df6['online date'] = pd.to_datetime(df6['online date'])"
   ]
  },
  {
   "cell_type": "code",
   "execution_count": 40,
   "metadata": {},
   "outputs": [
    {
     "name": "stdout",
     "output_type": "stream",
     "text": [
      "<class 'pandas.core.frame.DataFrame'>\n",
      "RangeIndex: 585 entries, 0 to 584\n",
      "Data columns (total 7 columns):\n",
      " #   Column       Non-Null Count  Dtype         \n",
      "---  ------       --------------  -----         \n",
      " 0   id           585 non-null    int64         \n",
      " 1   name         585 non-null    object        \n",
      " 2   city         585 non-null    object        \n",
      " 3   latitude     585 non-null    float64       \n",
      " 4   longitude    585 non-null    float64       \n",
      " 5   dpcapacity   585 non-null    int64         \n",
      " 6   online date  585 non-null    datetime64[ns]\n",
      "dtypes: datetime64[ns](1), float64(2), int64(2), object(2)\n",
      "memory usage: 32.1+ KB\n"
     ]
    }
   ],
   "source": [
    "df6.info(verbose=True)"
   ]
  },
  {
   "cell_type": "code",
   "execution_count": 41,
   "metadata": {},
   "outputs": [],
   "source": [
    "df_2017_2 = pd.concat([df5, df6])"
   ]
  },
  {
   "cell_type": "code",
   "execution_count": 42,
   "metadata": {},
   "outputs": [],
   "source": [
    "df_2017 = pd.concat([df1, df2, df3, df4])"
   ]
  },
  {
   "cell_type": "code",
   "execution_count": 43,
   "metadata": {},
   "outputs": [],
   "source": [
    "df_2017_2.to_csv('2017_Sub_Clean.csv', index=False)"
   ]
  },
  {
   "cell_type": "code",
   "execution_count": null,
   "metadata": {},
   "outputs": [],
   "source": [
    "df_2017.to_csv('2017_Clean.csv', index=False)"
   ]
  },
  {
   "cell_type": "markdown",
   "metadata": {},
   "source": [
    "* concat and result in 2 cleaned CSVs. Revert from variables back to cleaned CSV."
   ]
  }
 ],
 "metadata": {
  "kernelspec": {
   "display_name": "Python 3.10.6 64-bit",
   "language": "python",
   "name": "python3"
  },
  "language_info": {
   "codemirror_mode": {
    "name": "ipython",
    "version": 3
   },
   "file_extension": ".py",
   "mimetype": "text/x-python",
   "name": "python",
   "nbconvert_exporter": "python",
   "pygments_lexer": "ipython3",
   "version": "3.10.7"
  },
  "orig_nbformat": 4,
  "vscode": {
   "interpreter": {
    "hash": "aee8b7b246df8f9039afb4144a1f6fd8d2ca17a180786b69acc140d282b71a49"
   }
  }
 },
 "nbformat": 4,
 "nbformat_minor": 2
}
